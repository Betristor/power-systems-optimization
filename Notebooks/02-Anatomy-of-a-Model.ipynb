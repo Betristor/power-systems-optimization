{
 "cells": [
  {
   "cell_type": "markdown",
   "metadata": {},
   "source": [
    "# The Anatomy of a Model \n",
    "## An Introduction to JuMP for Algebraic Modeling\n",
    "\n",
    "_**[Power Systems Optimization](https://github.com/east-winds/power-systems-optimization)**_\n",
    "\n",
    "_by Jesse D. Jenkins and Michael R. Davidson (last updated: September 16, 2020)_\n",
    "\n",
    "This notebook will provide a basic introduction to [algebraic modeling](https://en.wikipedia.org/wiki/Algebraic_modeling_language) for [constrained optimization](https://en.wikipedia.org/wiki/Constrained_optimization) problems using the [Julia](https://julialang.org/) language and [JuMP](http://jump.dev/). The notebook will walk through the main components of an optimization model (decision variables, constraints, expressions, sets, objective function), show how to interface with a solver to find solutions to the model, and how to read solutions outputs back into Julia [DataFrames](https://juliadata.github.io/DataFrames.jl/stable/) and/or [write outputs to .csv files](https://juliadata.github.io/CSV.jl/stable/) for post-processing.\n",
    "\n",
    "For additional resources, see the collection of notebooks provided at [JuMPTutorials.jl](https://github.com/jump-dev/JuMPTutorials.jl)."
   ]
  },
  {
   "cell_type": "markdown",
   "metadata": {},
   "source": [
    "<img src=\"img/jump_logo.png\" style=\"width: 450px; height: auto\" align=\"left\">"
   ]
  },
  {
   "cell_type": "markdown",
   "metadata": {},
   "source": [
    "### What is JuMP?\n",
    "\n",
    "[JuMP](http://jump.dev/) (\"Julia for Mathematical Programming\") is an open-source modeling language and supporting packages for mathematical optimization/algebraic programming in the [Julia](https://julialang.org/) high performance scientific programming language. \n",
    "\n",
    "JuMP makes it easy to formulate and solve linear programming, semidefinite programming, integer programming, convex optimization, constrained nonlinear optimization, and related classes of optimization problems, using easy-to-read code with syntax that closely matches the mathematical formulation of optimization problems. \n",
    "\n",
    "These problems can then be solved via a variety of open source or commercial optimization solvers, using Julia packages for interfacing with each solver. Thus, the definition of an algebraic model for a constrained optimization problem in JuMP is independent of the choice of solver. \n",
    "\n",
    "In this way, JuMP is similar to [AMPL](https://en.wikipedia.org/wiki/AMPL), [AIIMS](https://en.wikipedia.org/wiki/AIMMS) or [GAMS](https://en.wikipedia.org/wiki/General_Algebraic_Modeling_System) -- all specialized languages built for algebraic modeling. However, JuMP offers the advantage of being embeded within a fully functioning, high-level programming language (Julia). In this way, it is similar to the [Pyomo](http://www.pyomo.org/) package for Python, but offers the higher computational performance of Julia (and less verbose syntax). (For a brief [comparison between Julia and Python](https://devathon.com/blog/julia-vs-python-which-programming-language-is-better/), see here)."
   ]
  },
  {
   "cell_type": "markdown",
   "metadata": {},
   "source": [
    "### Installing JuMP\n",
    "\n",
    "JuMP is a package for Julia. From Julia, JuMP is installed by using the built-in package manager. [See this guide to installing and setting up Julia and JuMP](http://bit.ly/JuliaSetupGuide) if you've not yet done so. But very briefly, one installs JuMP with the following code:"
   ]
  },
  {
   "cell_type": "code",
   "execution_count": 1,
   "metadata": {},
   "outputs": [
    {
     "name": "stderr",
     "output_type": "stream",
     "text": [
      "\u001b[32m\u001b[1m    Updating\u001b[22m\u001b[39m registry at `~/.julia/registries/General`\n",
      "\u001b[32m\u001b[1m    Updating\u001b[22m\u001b[39m git-repo `https://github.com/JuliaRegistries/General.git`\n",
      "\u001b[32m\u001b[1m   Resolving\u001b[22m\u001b[39m package versions...\n",
      "\u001b[32m\u001b[1m  No Changes\u001b[22m\u001b[39m to `~/.julia/environments/v1.6/Project.toml`\n",
      "\u001b[32m\u001b[1m  No Changes\u001b[22m\u001b[39m to `~/.julia/environments/v1.6/Manifest.toml`\n"
     ]
    }
   ],
   "source": [
    "# Note, you don't need to run this block if JuMP is already installed\n",
    "import Pkg\n",
    "Pkg.add(\"JuMP\")"
   ]
  },
  {
   "cell_type": "markdown",
   "metadata": {},
   "source": [
    "### Loading Julia packages\n",
    "\n",
    "You only need to install JuMP once, but each time you start up Julia, you'll need to load the JuMP package and any other supporting packages you want to make use of. Here we'll load JuMP, [Cbc.jl](https://github.com/jump-dev/Clp.jl), the interface for the open source [COIN-OR Linear Programming solver](https://projects.coin-or.org/Clp)."
   ]
  },
  {
   "cell_type": "code",
   "execution_count": 2,
   "metadata": {},
   "outputs": [
    {
     "name": "stderr",
     "output_type": "stream",
     "text": [
      "\u001b[32m\u001b[1m   Resolving\u001b[22m\u001b[39m package versions...\n",
      "\u001b[32m\u001b[1m  No Changes\u001b[22m\u001b[39m to `~/.julia/environments/v1.6/Project.toml`\n",
      "\u001b[32m\u001b[1m  No Changes\u001b[22m\u001b[39m to `~/.julia/environments/v1.6/Manifest.toml`\n"
     ]
    }
   ],
   "source": [
    "# Note, you don't need to run this block if Clp package is already installed\n",
    "import Pkg\n",
    "Pkg.add(\"Clp\")"
   ]
  },
  {
   "cell_type": "code",
   "execution_count": 3,
   "metadata": {},
   "outputs": [],
   "source": [
    "# Load JuMP and Clp packages for use in this notebook\n",
    "using JuMP\n",
    "using Clp"
   ]
  },
  {
   "cell_type": "markdown",
   "metadata": {},
   "source": [
    "## A factory example\n",
    "\n",
    "<img src=\"img/factory.png\" style=\"width: 800px; height: auto\" align=\"left\">"
   ]
  },
  {
   "cell_type": "markdown",
   "metadata": {},
   "source": [
    "Let's start by recalling our simple factory optimization example from the [Constrained Optimization notebook](Notebooks/Constrained-Optimization.ipynb), which seeks to maximize total revenue as a function of how many widgets of type A (decision variable $x$) and type B (decision variable $y$) to produce:\n",
    "\n",
    "\n",
    "\\begin{align}\n",
    "& \\max 150 x + 175 y &\\text{Objective function (revenue)}\\\\ \n",
    "& \\text{s.t.} & \\\\\n",
    "& 10 x + 8 y \\leq \\ 80 &\\text{Time constraint}\\\\\n",
    "& 7 x + 11 y \\leq \\ 77 &\\text{Materials constraint}\\\\\n",
    "& x \\leq 8 &\\text{Capacity constraint}\\\\\n",
    "& x, y \\geq 0 &\\text{Non-negativity constraints}\\\\\n",
    "\\end{align}\n"
   ]
  },
  {
   "cell_type": "code",
   "execution_count": 4,
   "metadata": {},
   "outputs": [
    {
     "name": "stderr",
     "output_type": "stream",
     "text": [
      "┌ Info: For saving to png with the Plotly backend PlotlyBase has to be installed.\n",
      "└ @ Plots /Users/michd/.julia/packages/Plots/4UbNP/src/backends.jl:435\n"
     ]
    },
    {
     "data": {
      "text/plain": [
       "Plots.PlotlyBackend()"
      ]
     },
     "execution_count": 4,
     "metadata": {},
     "output_type": "execute_result"
    }
   ],
   "source": [
    "# import Pkg; Pkg.add(\"Plots\") # Uncomment and run this line if you need to install Plots package\n",
    "using Plots\n",
    "plotly() # use plotly backend: https://docs.juliaplots.org/latest/generated/plotly/"
   ]
  },
  {
   "cell_type": "code",
   "execution_count": 5,
   "metadata": {
    "scrolled": false
   },
   "outputs": [
    {
     "data": {
      "application/vnd.plotly.v1+json": {
       "data": [
        {
         "colorbar": {
          "title": ""
         },
         "colorscale": [
          [
           0,
           "rgba(255, 255, 224, 1.000)"
          ],
          [
           0.5,
           "rgba(255, 165, 0, 1.000)"
          ],
          [
           1,
           "rgba(139, 0, 0, 1.000)"
          ]
         ],
         "contours": {
          "coloring": "lines",
          "showlabels": true
         },
         "hoverinfo": "none",
         "name": "y1",
         "ncontours": 12,
         "showlegend": false,
         "showscale": false,
         "type": "contour",
         "x": [
          0,
          0.5,
          1,
          1.5,
          2,
          2.5,
          3,
          3.5,
          4,
          4.5,
          5,
          5.5,
          6,
          6.5,
          7,
          7.5,
          8,
          8.5,
          9,
          9.5,
          10,
          10.5,
          11,
          11.5,
          12,
          12.5,
          13,
          13.5,
          14,
          14.5,
          15
         ],
         "xaxis": "x",
         "y": [
          0,
          0.5,
          1,
          1.5,
          2,
          2.5,
          3,
          3.5,
          4,
          4.5,
          5,
          5.5,
          6,
          6.5,
          7,
          7.5,
          8,
          8.5,
          9,
          9.5,
          10
         ],
         "yaxis": "y",
         "z": [
          [
           0,
           75,
           150,
           225,
           300,
           375,
           450,
           525,
           600,
           675,
           750,
           825,
           900,
           975,
           1050,
           1125,
           1200,
           1275,
           1350,
           1425,
           1500,
           1575,
           1650,
           1725,
           1800,
           1875,
           1950,
           2025,
           2100,
           2175,
           2250
          ],
          [
           87.5,
           162.5,
           237.5,
           312.5,
           387.5,
           462.5,
           537.5,
           612.5,
           687.5,
           762.5,
           837.5,
           912.5,
           987.5,
           1062.5,
           1137.5,
           1212.5,
           1287.5,
           1362.5,
           1437.5,
           1512.5,
           1587.5,
           1662.5,
           1737.5,
           1812.5,
           1887.5,
           1962.5,
           2037.5,
           2112.5,
           2187.5,
           2262.5,
           2337.5
          ],
          [
           175,
           250,
           325,
           400,
           475,
           550,
           625,
           700,
           775,
           850,
           925,
           1000,
           1075,
           1150,
           1225,
           1300,
           1375,
           1450,
           1525,
           1600,
           1675,
           1750,
           1825,
           1900,
           1975,
           2050,
           2125,
           2200,
           2275,
           2350,
           2425
          ],
          [
           262.5,
           337.5,
           412.5,
           487.5,
           562.5,
           637.5,
           712.5,
           787.5,
           862.5,
           937.5,
           1012.5,
           1087.5,
           1162.5,
           1237.5,
           1312.5,
           1387.5,
           1462.5,
           1537.5,
           1612.5,
           1687.5,
           1762.5,
           1837.5,
           1912.5,
           1987.5,
           2062.5,
           2137.5,
           2212.5,
           2287.5,
           2362.5,
           2437.5,
           2512.5
          ],
          [
           350,
           425,
           500,
           575,
           650,
           725,
           800,
           875,
           950,
           1025,
           1100,
           1175,
           1250,
           1325,
           1400,
           1475,
           1550,
           1625,
           1700,
           1775,
           1850,
           1925,
           2000,
           2075,
           2150,
           2225,
           2300,
           2375,
           2450,
           2525,
           2600
          ],
          [
           437.5,
           512.5,
           587.5,
           662.5,
           737.5,
           812.5,
           887.5,
           962.5,
           1037.5,
           1112.5,
           1187.5,
           1262.5,
           1337.5,
           1412.5,
           1487.5,
           1562.5,
           1637.5,
           1712.5,
           1787.5,
           1862.5,
           1937.5,
           2012.5,
           2087.5,
           2162.5,
           2237.5,
           2312.5,
           2387.5,
           2462.5,
           2537.5,
           2612.5,
           2687.5
          ],
          [
           525,
           600,
           675,
           750,
           825,
           900,
           975,
           1050,
           1125,
           1200,
           1275,
           1350,
           1425,
           1500,
           1575,
           1650,
           1725,
           1800,
           1875,
           1950,
           2025,
           2100,
           2175,
           2250,
           2325,
           2400,
           2475,
           2550,
           2625,
           2700,
           2775
          ],
          [
           612.5,
           687.5,
           762.5,
           837.5,
           912.5,
           987.5,
           1062.5,
           1137.5,
           1212.5,
           1287.5,
           1362.5,
           1437.5,
           1512.5,
           1587.5,
           1662.5,
           1737.5,
           1812.5,
           1887.5,
           1962.5,
           2037.5,
           2112.5,
           2187.5,
           2262.5,
           2337.5,
           2412.5,
           2487.5,
           2562.5,
           2637.5,
           2712.5,
           2787.5,
           2862.5
          ],
          [
           700,
           775,
           850,
           925,
           1000,
           1075,
           1150,
           1225,
           1300,
           1375,
           1450,
           1525,
           1600,
           1675,
           1750,
           1825,
           1900,
           1975,
           2050,
           2125,
           2200,
           2275,
           2350,
           2425,
           2500,
           2575,
           2650,
           2725,
           2800,
           2875,
           2950
          ],
          [
           787.5,
           862.5,
           937.5,
           1012.5,
           1087.5,
           1162.5,
           1237.5,
           1312.5,
           1387.5,
           1462.5,
           1537.5,
           1612.5,
           1687.5,
           1762.5,
           1837.5,
           1912.5,
           1987.5,
           2062.5,
           2137.5,
           2212.5,
           2287.5,
           2362.5,
           2437.5,
           2512.5,
           2587.5,
           2662.5,
           2737.5,
           2812.5,
           2887.5,
           2962.5,
           3037.5
          ],
          [
           875,
           950,
           1025,
           1100,
           1175,
           1250,
           1325,
           1400,
           1475,
           1550,
           1625,
           1700,
           1775,
           1850,
           1925,
           2000,
           2075,
           2150,
           2225,
           2300,
           2375,
           2450,
           2525,
           2600,
           2675,
           2750,
           2825,
           2900,
           2975,
           3050,
           3125
          ],
          [
           962.5,
           1037.5,
           1112.5,
           1187.5,
           1262.5,
           1337.5,
           1412.5,
           1487.5,
           1562.5,
           1637.5,
           1712.5,
           1787.5,
           1862.5,
           1937.5,
           2012.5,
           2087.5,
           2162.5,
           2237.5,
           2312.5,
           2387.5,
           2462.5,
           2537.5,
           2612.5,
           2687.5,
           2762.5,
           2837.5,
           2912.5,
           2987.5,
           3062.5,
           3137.5,
           3212.5
          ],
          [
           1050,
           1125,
           1200,
           1275,
           1350,
           1425,
           1500,
           1575,
           1650,
           1725,
           1800,
           1875,
           1950,
           2025,
           2100,
           2175,
           2250,
           2325,
           2400,
           2475,
           2550,
           2625,
           2700,
           2775,
           2850,
           2925,
           3000,
           3075,
           3150,
           3225,
           3300
          ],
          [
           1137.5,
           1212.5,
           1287.5,
           1362.5,
           1437.5,
           1512.5,
           1587.5,
           1662.5,
           1737.5,
           1812.5,
           1887.5,
           1962.5,
           2037.5,
           2112.5,
           2187.5,
           2262.5,
           2337.5,
           2412.5,
           2487.5,
           2562.5,
           2637.5,
           2712.5,
           2787.5,
           2862.5,
           2937.5,
           3012.5,
           3087.5,
           3162.5,
           3237.5,
           3312.5,
           3387.5
          ],
          [
           1225,
           1300,
           1375,
           1450,
           1525,
           1600,
           1675,
           1750,
           1825,
           1900,
           1975,
           2050,
           2125,
           2200,
           2275,
           2350,
           2425,
           2500,
           2575,
           2650,
           2725,
           2800,
           2875,
           2950,
           3025,
           3100,
           3175,
           3250,
           3325,
           3400,
           3475
          ],
          [
           1312.5,
           1387.5,
           1462.5,
           1537.5,
           1612.5,
           1687.5,
           1762.5,
           1837.5,
           1912.5,
           1987.5,
           2062.5,
           2137.5,
           2212.5,
           2287.5,
           2362.5,
           2437.5,
           2512.5,
           2587.5,
           2662.5,
           2737.5,
           2812.5,
           2887.5,
           2962.5,
           3037.5,
           3112.5,
           3187.5,
           3262.5,
           3337.5,
           3412.5,
           3487.5,
           3562.5
          ],
          [
           1400,
           1475,
           1550,
           1625,
           1700,
           1775,
           1850,
           1925,
           2000,
           2075,
           2150,
           2225,
           2300,
           2375,
           2450,
           2525,
           2600,
           2675,
           2750,
           2825,
           2900,
           2975,
           3050,
           3125,
           3200,
           3275,
           3350,
           3425,
           3500,
           3575,
           3650
          ],
          [
           1487.5,
           1562.5,
           1637.5,
           1712.5,
           1787.5,
           1862.5,
           1937.5,
           2012.5,
           2087.5,
           2162.5,
           2237.5,
           2312.5,
           2387.5,
           2462.5,
           2537.5,
           2612.5,
           2687.5,
           2762.5,
           2837.5,
           2912.5,
           2987.5,
           3062.5,
           3137.5,
           3212.5,
           3287.5,
           3362.5,
           3437.5,
           3512.5,
           3587.5,
           3662.5,
           3737.5
          ],
          [
           1575,
           1650,
           1725,
           1800,
           1875,
           1950,
           2025,
           2100,
           2175,
           2250,
           2325,
           2400,
           2475,
           2550,
           2625,
           2700,
           2775,
           2850,
           2925,
           3000,
           3075,
           3150,
           3225,
           3300,
           3375,
           3450,
           3525,
           3600,
           3675,
           3750,
           3825
          ],
          [
           1662.5,
           1737.5,
           1812.5,
           1887.5,
           1962.5,
           2037.5,
           2112.5,
           2187.5,
           2262.5,
           2337.5,
           2412.5,
           2487.5,
           2562.5,
           2637.5,
           2712.5,
           2787.5,
           2862.5,
           2937.5,
           3012.5,
           3087.5,
           3162.5,
           3237.5,
           3312.5,
           3387.5,
           3462.5,
           3537.5,
           3612.5,
           3687.5,
           3762.5,
           3837.5,
           3912.5
          ],
          [
           1750,
           1825,
           1900,
           1975,
           2050,
           2125,
           2200,
           2275,
           2350,
           2425,
           2500,
           2575,
           2650,
           2725,
           2800,
           2875,
           2950,
           3025,
           3100,
           3175,
           3250,
           3325,
           3400,
           3475,
           3550,
           3625,
           3700,
           3775,
           3850,
           3925,
           4000
          ]
         ],
         "zmax": 4000,
         "zmin": 0
        },
        {
         "colorbar": {
          "title": ""
         },
         "fill": "tozeroy",
         "fillcolor": "rgba(227, 111, 71, 0.300)",
         "legendgroup": "y2",
         "line": {
          "color": "rgba(227, 111, 71, 0.300)",
          "dash": "solid",
          "shape": "linear",
          "width": 1
         },
         "mode": "lines",
         "name": "y2",
         "showlegend": true,
         "type": "scatter",
         "x": [
          0,
          0.5,
          1,
          1.5,
          2,
          2.5,
          3,
          3.5,
          4,
          4.5,
          5,
          5.5,
          6,
          6.5,
          7,
          7.5,
          8,
          8.5,
          9,
          9.5,
          10,
          10.5,
          11
         ],
         "xaxis": "x",
         "y": [
          7,
          6.681818181818182,
          6.363636363636363,
          6.045454545454546,
          5.7272727272727275,
          5.409090909090909,
          5.090909090909091,
          4.7727272727272725,
          4.454545454545454,
          4.136363636363637,
          3.8181818181818183,
          3.5,
          3.1818181818181817,
          2.8636363636363638,
          2.5454545454545454,
          2.227272727272727,
          1.9090909090909092,
          1.5909090909090908,
          1.2727272727272727,
          0.9545454545454546,
          0.6363636363636364,
          0.3181818181818182,
          0
         ],
         "yaxis": "y",
         "zmax": 4000,
         "zmin": 0
        },
        {
         "colorbar": {
          "title": ""
         },
         "fill": "tozeroy",
         "fillcolor": "rgba(62, 164, 78, 0.300)",
         "legendgroup": "y3",
         "line": {
          "color": "rgba(62, 164, 78, 0.300)",
          "dash": "solid",
          "shape": "linear",
          "width": 1
         },
         "mode": "lines",
         "name": "y3",
         "showlegend": true,
         "type": "scatter",
         "x": [
          0,
          0.5,
          1,
          1.5,
          2,
          2.5,
          3,
          3.5,
          4,
          4.5,
          5,
          5.5,
          6,
          6.5,
          7,
          7.5,
          8
         ],
         "xaxis": "x",
         "y": [
          10,
          9.375,
          8.75,
          8.125,
          7.5,
          6.875,
          6.25,
          5.625,
          5,
          4.375,
          3.75,
          3.125,
          2.5,
          1.875,
          1.25,
          0.625,
          0
         ],
         "yaxis": "y",
         "zmax": 4000,
         "zmin": 0
        },
        {
         "colorbar": {
          "title": ""
         },
         "fill": "tozeroy",
         "fillcolor": "rgba(195, 113, 210, 0.150)",
         "legendgroup": "y4",
         "line": {
          "color": "rgba(195, 113, 210, 0.150)",
          "dash": "solid",
          "shape": "linear",
          "width": 1
         },
         "mode": "lines",
         "name": "y4",
         "showlegend": true,
         "type": "scatter",
         "x": [
          0,
          0.5,
          1,
          1.5,
          2,
          2.5,
          3,
          3.5,
          4,
          4.5,
          5,
          5.5,
          6,
          6.5,
          7,
          7.5,
          8
         ],
         "xaxis": "x",
         "y": [
          10,
          10,
          10,
          10,
          10,
          10,
          10,
          10,
          10,
          10,
          10,
          10,
          10,
          10,
          10,
          10,
          10
         ],
         "yaxis": "y",
         "zmax": 4000,
         "zmin": 0
        }
       ],
       "layout": {
        "annotations": [
         {
          "font": {
           "color": "rgba(0, 0, 0, 1.000)",
           "family": "sans-serif",
           "size": 20
          },
          "rotation": 0,
          "showarrow": false,
          "text": "Factory Optimization Problem",
          "x": 0.5275462962962963,
          "xanchor": "center",
          "xref": "paper",
          "y": 1,
          "yanchor": "top",
          "yref": "paper"
         }
        ],
        "height": 400,
        "margin": {
         "b": 20,
         "l": 0,
         "r": 0,
         "t": 20
        },
        "paper_bgcolor": "rgba(255, 255, 255, 1.000)",
        "plot_bgcolor": "rgba(255, 255, 255, 1.000)",
        "showlegend": false,
        "width": 600,
        "xaxis": {
         "anchor": "y",
         "domain": [
          0.061654272382618835,
          0.9934383202099737
         ],
         "gridcolor": "rgba(0, 0, 0, 0.100)",
         "gridwidth": 0.5,
         "linecolor": "rgba(0, 0, 0, 1.000)",
         "mirror": false,
         "range": [
          -0.44999999999999996,
          15.45
         ],
         "showgrid": true,
         "showline": true,
         "showticklabels": true,
         "tickangle": 0,
         "tickcolor": "rgb(0, 0, 0)",
         "tickfont": {
          "color": "rgba(0, 0, 0, 1.000)",
          "family": "sans-serif",
          "size": 11
         },
         "tickmode": "array",
         "ticks": "inside",
         "ticktext": [
          "0",
          "1",
          "2",
          "3",
          "4",
          "5",
          "6",
          "7",
          "8",
          "9",
          "10",
          "11",
          "12",
          "13",
          "14",
          "15"
         ],
         "tickvals": [
          0,
          1,
          2,
          3,
          4,
          5,
          6,
          7,
          8,
          9,
          10,
          11,
          12,
          13,
          14,
          15
         ],
         "title": "x=Widget A",
         "titlefont": {
          "color": "rgba(0, 0, 0, 1.000)",
          "family": "sans-serif",
          "size": 15
         },
         "type": "-",
         "visible": true,
         "zeroline": false,
         "zerolinecolor": "rgba(0, 0, 0, 1.000)"
        },
        "yaxis": {
         "anchor": "x",
         "domain": [
          0.07581474190726165,
          0.9415463692038496
         ],
         "gridcolor": "rgba(0, 0, 0, 0.100)",
         "gridwidth": 0.5,
         "linecolor": "rgba(0, 0, 0, 1.000)",
         "mirror": false,
         "range": [
          -0.3,
          10.3
         ],
         "showgrid": true,
         "showline": true,
         "showticklabels": true,
         "tickangle": 0,
         "tickcolor": "rgb(0, 0, 0)",
         "tickfont": {
          "color": "rgba(0, 0, 0, 1.000)",
          "family": "sans-serif",
          "size": 11
         },
         "tickmode": "array",
         "ticks": "inside",
         "ticktext": [
          "0",
          "1",
          "2",
          "3",
          "4",
          "5",
          "6",
          "7",
          "8",
          "9",
          "10"
         ],
         "tickvals": [
          0,
          1,
          2,
          3,
          4,
          5,
          6,
          7,
          8,
          9,
          10
         ],
         "title": "y=Widget B",
         "titlefont": {
          "color": "rgba(0, 0, 0, 1.000)",
          "family": "sans-serif",
          "size": 15
         },
         "type": "-",
         "visible": true,
         "zeroline": false,
         "zerolinecolor": "rgba(0, 0, 0, 1.000)"
        }
       }
      },
      "text/html": [
       "    <div id=\"6a21eb74-b156-46aa-af85-cc77bc1136d1\" style=\"width:600px;height:400px;\"></div>\n",
       "    <script>\n",
       "        requirejs.config({\n",
       "        paths: {\n",
       "            Plotly: 'https://cdn.plot.ly/plotly-1.57.1.min'\n",
       "        }\n",
       "    });\n",
       "    require(['Plotly'], function (Plotly) {\n",
       "\n",
       "        var PLOT = document.getElementById('6a21eb74-b156-46aa-af85-cc77bc1136d1');\n",
       "    Plotly.plot(PLOT, [\n",
       "    {\n",
       "        \"xaxis\": \"x\",\n",
       "        \"colorbar\": {\n",
       "            \"title\": \"\"\n",
       "        },\n",
       "        \"colorscale\": [\n",
       "            [\n",
       "                0.0,\n",
       "                \"rgba(255, 255, 224, 1.000)\"\n",
       "            ],\n",
       "            [\n",
       "                0.5,\n",
       "                \"rgba(255, 165, 0, 1.000)\"\n",
       "            ],\n",
       "            [\n",
       "                1.0,\n",
       "                \"rgba(139, 0, 0, 1.000)\"\n",
       "            ]\n",
       "        ],\n",
       "        \"yaxis\": \"y\",\n",
       "        \"contours\": {\n",
       "            \"showlabels\": true,\n",
       "            \"coloring\": \"lines\"\n",
       "        },\n",
       "        \"ncontours\": 12,\n",
       "        \"showscale\": false,\n",
       "        \"x\": [\n",
       "            0.0,\n",
       "            0.5,\n",
       "            1.0,\n",
       "            1.5,\n",
       "            2.0,\n",
       "            2.5,\n",
       "            3.0,\n",
       "            3.5,\n",
       "            4.0,\n",
       "            4.5,\n",
       "            5.0,\n",
       "            5.5,\n",
       "            6.0,\n",
       "            6.5,\n",
       "            7.0,\n",
       "            7.5,\n",
       "            8.0,\n",
       "            8.5,\n",
       "            9.0,\n",
       "            9.5,\n",
       "            10.0,\n",
       "            10.5,\n",
       "            11.0,\n",
       "            11.5,\n",
       "            12.0,\n",
       "            12.5,\n",
       "            13.0,\n",
       "            13.5,\n",
       "            14.0,\n",
       "            14.5,\n",
       "            15.0\n",
       "        ],\n",
       "        \"showlegend\": false,\n",
       "        \"name\": \"y1\",\n",
       "        \"zmin\": 0.0,\n",
       "        \"z\": [\n",
       "            [\n",
       "                0.0,\n",
       "                75.0,\n",
       "                150.0,\n",
       "                225.0,\n",
       "                300.0,\n",
       "                375.0,\n",
       "                450.0,\n",
       "                525.0,\n",
       "                600.0,\n",
       "                675.0,\n",
       "                750.0,\n",
       "                825.0,\n",
       "                900.0,\n",
       "                975.0,\n",
       "                1050.0,\n",
       "                1125.0,\n",
       "                1200.0,\n",
       "                1275.0,\n",
       "                1350.0,\n",
       "                1425.0,\n",
       "                1500.0,\n",
       "                1575.0,\n",
       "                1650.0,\n",
       "                1725.0,\n",
       "                1800.0,\n",
       "                1875.0,\n",
       "                1950.0,\n",
       "                2025.0,\n",
       "                2100.0,\n",
       "                2175.0,\n",
       "                2250.0\n",
       "            ],\n",
       "            [\n",
       "                87.5,\n",
       "                162.5,\n",
       "                237.5,\n",
       "                312.5,\n",
       "                387.5,\n",
       "                462.5,\n",
       "                537.5,\n",
       "                612.5,\n",
       "                687.5,\n",
       "                762.5,\n",
       "                837.5,\n",
       "                912.5,\n",
       "                987.5,\n",
       "                1062.5,\n",
       "                1137.5,\n",
       "                1212.5,\n",
       "                1287.5,\n",
       "                1362.5,\n",
       "                1437.5,\n",
       "                1512.5,\n",
       "                1587.5,\n",
       "                1662.5,\n",
       "                1737.5,\n",
       "                1812.5,\n",
       "                1887.5,\n",
       "                1962.5,\n",
       "                2037.5,\n",
       "                2112.5,\n",
       "                2187.5,\n",
       "                2262.5,\n",
       "                2337.5\n",
       "            ],\n",
       "            [\n",
       "                175.0,\n",
       "                250.0,\n",
       "                325.0,\n",
       "                400.0,\n",
       "                475.0,\n",
       "                550.0,\n",
       "                625.0,\n",
       "                700.0,\n",
       "                775.0,\n",
       "                850.0,\n",
       "                925.0,\n",
       "                1000.0,\n",
       "                1075.0,\n",
       "                1150.0,\n",
       "                1225.0,\n",
       "                1300.0,\n",
       "                1375.0,\n",
       "                1450.0,\n",
       "                1525.0,\n",
       "                1600.0,\n",
       "                1675.0,\n",
       "                1750.0,\n",
       "                1825.0,\n",
       "                1900.0,\n",
       "                1975.0,\n",
       "                2050.0,\n",
       "                2125.0,\n",
       "                2200.0,\n",
       "                2275.0,\n",
       "                2350.0,\n",
       "                2425.0\n",
       "            ],\n",
       "            [\n",
       "                262.5,\n",
       "                337.5,\n",
       "                412.5,\n",
       "                487.5,\n",
       "                562.5,\n",
       "                637.5,\n",
       "                712.5,\n",
       "                787.5,\n",
       "                862.5,\n",
       "                937.5,\n",
       "                1012.5,\n",
       "                1087.5,\n",
       "                1162.5,\n",
       "                1237.5,\n",
       "                1312.5,\n",
       "                1387.5,\n",
       "                1462.5,\n",
       "                1537.5,\n",
       "                1612.5,\n",
       "                1687.5,\n",
       "                1762.5,\n",
       "                1837.5,\n",
       "                1912.5,\n",
       "                1987.5,\n",
       "                2062.5,\n",
       "                2137.5,\n",
       "                2212.5,\n",
       "                2287.5,\n",
       "                2362.5,\n",
       "                2437.5,\n",
       "                2512.5\n",
       "            ],\n",
       "            [\n",
       "                350.0,\n",
       "                425.0,\n",
       "                500.0,\n",
       "                575.0,\n",
       "                650.0,\n",
       "                725.0,\n",
       "                800.0,\n",
       "                875.0,\n",
       "                950.0,\n",
       "                1025.0,\n",
       "                1100.0,\n",
       "                1175.0,\n",
       "                1250.0,\n",
       "                1325.0,\n",
       "                1400.0,\n",
       "                1475.0,\n",
       "                1550.0,\n",
       "                1625.0,\n",
       "                1700.0,\n",
       "                1775.0,\n",
       "                1850.0,\n",
       "                1925.0,\n",
       "                2000.0,\n",
       "                2075.0,\n",
       "                2150.0,\n",
       "                2225.0,\n",
       "                2300.0,\n",
       "                2375.0,\n",
       "                2450.0,\n",
       "                2525.0,\n",
       "                2600.0\n",
       "            ],\n",
       "            [\n",
       "                437.5,\n",
       "                512.5,\n",
       "                587.5,\n",
       "                662.5,\n",
       "                737.5,\n",
       "                812.5,\n",
       "                887.5,\n",
       "                962.5,\n",
       "                1037.5,\n",
       "                1112.5,\n",
       "                1187.5,\n",
       "                1262.5,\n",
       "                1337.5,\n",
       "                1412.5,\n",
       "                1487.5,\n",
       "                1562.5,\n",
       "                1637.5,\n",
       "                1712.5,\n",
       "                1787.5,\n",
       "                1862.5,\n",
       "                1937.5,\n",
       "                2012.5,\n",
       "                2087.5,\n",
       "                2162.5,\n",
       "                2237.5,\n",
       "                2312.5,\n",
       "                2387.5,\n",
       "                2462.5,\n",
       "                2537.5,\n",
       "                2612.5,\n",
       "                2687.5\n",
       "            ],\n",
       "            [\n",
       "                525.0,\n",
       "                600.0,\n",
       "                675.0,\n",
       "                750.0,\n",
       "                825.0,\n",
       "                900.0,\n",
       "                975.0,\n",
       "                1050.0,\n",
       "                1125.0,\n",
       "                1200.0,\n",
       "                1275.0,\n",
       "                1350.0,\n",
       "                1425.0,\n",
       "                1500.0,\n",
       "                1575.0,\n",
       "                1650.0,\n",
       "                1725.0,\n",
       "                1800.0,\n",
       "                1875.0,\n",
       "                1950.0,\n",
       "                2025.0,\n",
       "                2100.0,\n",
       "                2175.0,\n",
       "                2250.0,\n",
       "                2325.0,\n",
       "                2400.0,\n",
       "                2475.0,\n",
       "                2550.0,\n",
       "                2625.0,\n",
       "                2700.0,\n",
       "                2775.0\n",
       "            ],\n",
       "            [\n",
       "                612.5,\n",
       "                687.5,\n",
       "                762.5,\n",
       "                837.5,\n",
       "                912.5,\n",
       "                987.5,\n",
       "                1062.5,\n",
       "                1137.5,\n",
       "                1212.5,\n",
       "                1287.5,\n",
       "                1362.5,\n",
       "                1437.5,\n",
       "                1512.5,\n",
       "                1587.5,\n",
       "                1662.5,\n",
       "                1737.5,\n",
       "                1812.5,\n",
       "                1887.5,\n",
       "                1962.5,\n",
       "                2037.5,\n",
       "                2112.5,\n",
       "                2187.5,\n",
       "                2262.5,\n",
       "                2337.5,\n",
       "                2412.5,\n",
       "                2487.5,\n",
       "                2562.5,\n",
       "                2637.5,\n",
       "                2712.5,\n",
       "                2787.5,\n",
       "                2862.5\n",
       "            ],\n",
       "            [\n",
       "                700.0,\n",
       "                775.0,\n",
       "                850.0,\n",
       "                925.0,\n",
       "                1000.0,\n",
       "                1075.0,\n",
       "                1150.0,\n",
       "                1225.0,\n",
       "                1300.0,\n",
       "                1375.0,\n",
       "                1450.0,\n",
       "                1525.0,\n",
       "                1600.0,\n",
       "                1675.0,\n",
       "                1750.0,\n",
       "                1825.0,\n",
       "                1900.0,\n",
       "                1975.0,\n",
       "                2050.0,\n",
       "                2125.0,\n",
       "                2200.0,\n",
       "                2275.0,\n",
       "                2350.0,\n",
       "                2425.0,\n",
       "                2500.0,\n",
       "                2575.0,\n",
       "                2650.0,\n",
       "                2725.0,\n",
       "                2800.0,\n",
       "                2875.0,\n",
       "                2950.0\n",
       "            ],\n",
       "            [\n",
       "                787.5,\n",
       "                862.5,\n",
       "                937.5,\n",
       "                1012.5,\n",
       "                1087.5,\n",
       "                1162.5,\n",
       "                1237.5,\n",
       "                1312.5,\n",
       "                1387.5,\n",
       "                1462.5,\n",
       "                1537.5,\n",
       "                1612.5,\n",
       "                1687.5,\n",
       "                1762.5,\n",
       "                1837.5,\n",
       "                1912.5,\n",
       "                1987.5,\n",
       "                2062.5,\n",
       "                2137.5,\n",
       "                2212.5,\n",
       "                2287.5,\n",
       "                2362.5,\n",
       "                2437.5,\n",
       "                2512.5,\n",
       "                2587.5,\n",
       "                2662.5,\n",
       "                2737.5,\n",
       "                2812.5,\n",
       "                2887.5,\n",
       "                2962.5,\n",
       "                3037.5\n",
       "            ],\n",
       "            [\n",
       "                875.0,\n",
       "                950.0,\n",
       "                1025.0,\n",
       "                1100.0,\n",
       "                1175.0,\n",
       "                1250.0,\n",
       "                1325.0,\n",
       "                1400.0,\n",
       "                1475.0,\n",
       "                1550.0,\n",
       "                1625.0,\n",
       "                1700.0,\n",
       "                1775.0,\n",
       "                1850.0,\n",
       "                1925.0,\n",
       "                2000.0,\n",
       "                2075.0,\n",
       "                2150.0,\n",
       "                2225.0,\n",
       "                2300.0,\n",
       "                2375.0,\n",
       "                2450.0,\n",
       "                2525.0,\n",
       "                2600.0,\n",
       "                2675.0,\n",
       "                2750.0,\n",
       "                2825.0,\n",
       "                2900.0,\n",
       "                2975.0,\n",
       "                3050.0,\n",
       "                3125.0\n",
       "            ],\n",
       "            [\n",
       "                962.5,\n",
       "                1037.5,\n",
       "                1112.5,\n",
       "                1187.5,\n",
       "                1262.5,\n",
       "                1337.5,\n",
       "                1412.5,\n",
       "                1487.5,\n",
       "                1562.5,\n",
       "                1637.5,\n",
       "                1712.5,\n",
       "                1787.5,\n",
       "                1862.5,\n",
       "                1937.5,\n",
       "                2012.5,\n",
       "                2087.5,\n",
       "                2162.5,\n",
       "                2237.5,\n",
       "                2312.5,\n",
       "                2387.5,\n",
       "                2462.5,\n",
       "                2537.5,\n",
       "                2612.5,\n",
       "                2687.5,\n",
       "                2762.5,\n",
       "                2837.5,\n",
       "                2912.5,\n",
       "                2987.5,\n",
       "                3062.5,\n",
       "                3137.5,\n",
       "                3212.5\n",
       "            ],\n",
       "            [\n",
       "                1050.0,\n",
       "                1125.0,\n",
       "                1200.0,\n",
       "                1275.0,\n",
       "                1350.0,\n",
       "                1425.0,\n",
       "                1500.0,\n",
       "                1575.0,\n",
       "                1650.0,\n",
       "                1725.0,\n",
       "                1800.0,\n",
       "                1875.0,\n",
       "                1950.0,\n",
       "                2025.0,\n",
       "                2100.0,\n",
       "                2175.0,\n",
       "                2250.0,\n",
       "                2325.0,\n",
       "                2400.0,\n",
       "                2475.0,\n",
       "                2550.0,\n",
       "                2625.0,\n",
       "                2700.0,\n",
       "                2775.0,\n",
       "                2850.0,\n",
       "                2925.0,\n",
       "                3000.0,\n",
       "                3075.0,\n",
       "                3150.0,\n",
       "                3225.0,\n",
       "                3300.0\n",
       "            ],\n",
       "            [\n",
       "                1137.5,\n",
       "                1212.5,\n",
       "                1287.5,\n",
       "                1362.5,\n",
       "                1437.5,\n",
       "                1512.5,\n",
       "                1587.5,\n",
       "                1662.5,\n",
       "                1737.5,\n",
       "                1812.5,\n",
       "                1887.5,\n",
       "                1962.5,\n",
       "                2037.5,\n",
       "                2112.5,\n",
       "                2187.5,\n",
       "                2262.5,\n",
       "                2337.5,\n",
       "                2412.5,\n",
       "                2487.5,\n",
       "                2562.5,\n",
       "                2637.5,\n",
       "                2712.5,\n",
       "                2787.5,\n",
       "                2862.5,\n",
       "                2937.5,\n",
       "                3012.5,\n",
       "                3087.5,\n",
       "                3162.5,\n",
       "                3237.5,\n",
       "                3312.5,\n",
       "                3387.5\n",
       "            ],\n",
       "            [\n",
       "                1225.0,\n",
       "                1300.0,\n",
       "                1375.0,\n",
       "                1450.0,\n",
       "                1525.0,\n",
       "                1600.0,\n",
       "                1675.0,\n",
       "                1750.0,\n",
       "                1825.0,\n",
       "                1900.0,\n",
       "                1975.0,\n",
       "                2050.0,\n",
       "                2125.0,\n",
       "                2200.0,\n",
       "                2275.0,\n",
       "                2350.0,\n",
       "                2425.0,\n",
       "                2500.0,\n",
       "                2575.0,\n",
       "                2650.0,\n",
       "                2725.0,\n",
       "                2800.0,\n",
       "                2875.0,\n",
       "                2950.0,\n",
       "                3025.0,\n",
       "                3100.0,\n",
       "                3175.0,\n",
       "                3250.0,\n",
       "                3325.0,\n",
       "                3400.0,\n",
       "                3475.0\n",
       "            ],\n",
       "            [\n",
       "                1312.5,\n",
       "                1387.5,\n",
       "                1462.5,\n",
       "                1537.5,\n",
       "                1612.5,\n",
       "                1687.5,\n",
       "                1762.5,\n",
       "                1837.5,\n",
       "                1912.5,\n",
       "                1987.5,\n",
       "                2062.5,\n",
       "                2137.5,\n",
       "                2212.5,\n",
       "                2287.5,\n",
       "                2362.5,\n",
       "                2437.5,\n",
       "                2512.5,\n",
       "                2587.5,\n",
       "                2662.5,\n",
       "                2737.5,\n",
       "                2812.5,\n",
       "                2887.5,\n",
       "                2962.5,\n",
       "                3037.5,\n",
       "                3112.5,\n",
       "                3187.5,\n",
       "                3262.5,\n",
       "                3337.5,\n",
       "                3412.5,\n",
       "                3487.5,\n",
       "                3562.5\n",
       "            ],\n",
       "            [\n",
       "                1400.0,\n",
       "                1475.0,\n",
       "                1550.0,\n",
       "                1625.0,\n",
       "                1700.0,\n",
       "                1775.0,\n",
       "                1850.0,\n",
       "                1925.0,\n",
       "                2000.0,\n",
       "                2075.0,\n",
       "                2150.0,\n",
       "                2225.0,\n",
       "                2300.0,\n",
       "                2375.0,\n",
       "                2450.0,\n",
       "                2525.0,\n",
       "                2600.0,\n",
       "                2675.0,\n",
       "                2750.0,\n",
       "                2825.0,\n",
       "                2900.0,\n",
       "                2975.0,\n",
       "                3050.0,\n",
       "                3125.0,\n",
       "                3200.0,\n",
       "                3275.0,\n",
       "                3350.0,\n",
       "                3425.0,\n",
       "                3500.0,\n",
       "                3575.0,\n",
       "                3650.0\n",
       "            ],\n",
       "            [\n",
       "                1487.5,\n",
       "                1562.5,\n",
       "                1637.5,\n",
       "                1712.5,\n",
       "                1787.5,\n",
       "                1862.5,\n",
       "                1937.5,\n",
       "                2012.5,\n",
       "                2087.5,\n",
       "                2162.5,\n",
       "                2237.5,\n",
       "                2312.5,\n",
       "                2387.5,\n",
       "                2462.5,\n",
       "                2537.5,\n",
       "                2612.5,\n",
       "                2687.5,\n",
       "                2762.5,\n",
       "                2837.5,\n",
       "                2912.5,\n",
       "                2987.5,\n",
       "                3062.5,\n",
       "                3137.5,\n",
       "                3212.5,\n",
       "                3287.5,\n",
       "                3362.5,\n",
       "                3437.5,\n",
       "                3512.5,\n",
       "                3587.5,\n",
       "                3662.5,\n",
       "                3737.5\n",
       "            ],\n",
       "            [\n",
       "                1575.0,\n",
       "                1650.0,\n",
       "                1725.0,\n",
       "                1800.0,\n",
       "                1875.0,\n",
       "                1950.0,\n",
       "                2025.0,\n",
       "                2100.0,\n",
       "                2175.0,\n",
       "                2250.0,\n",
       "                2325.0,\n",
       "                2400.0,\n",
       "                2475.0,\n",
       "                2550.0,\n",
       "                2625.0,\n",
       "                2700.0,\n",
       "                2775.0,\n",
       "                2850.0,\n",
       "                2925.0,\n",
       "                3000.0,\n",
       "                3075.0,\n",
       "                3150.0,\n",
       "                3225.0,\n",
       "                3300.0,\n",
       "                3375.0,\n",
       "                3450.0,\n",
       "                3525.0,\n",
       "                3600.0,\n",
       "                3675.0,\n",
       "                3750.0,\n",
       "                3825.0\n",
       "            ],\n",
       "            [\n",
       "                1662.5,\n",
       "                1737.5,\n",
       "                1812.5,\n",
       "                1887.5,\n",
       "                1962.5,\n",
       "                2037.5,\n",
       "                2112.5,\n",
       "                2187.5,\n",
       "                2262.5,\n",
       "                2337.5,\n",
       "                2412.5,\n",
       "                2487.5,\n",
       "                2562.5,\n",
       "                2637.5,\n",
       "                2712.5,\n",
       "                2787.5,\n",
       "                2862.5,\n",
       "                2937.5,\n",
       "                3012.5,\n",
       "                3087.5,\n",
       "                3162.5,\n",
       "                3237.5,\n",
       "                3312.5,\n",
       "                3387.5,\n",
       "                3462.5,\n",
       "                3537.5,\n",
       "                3612.5,\n",
       "                3687.5,\n",
       "                3762.5,\n",
       "                3837.5,\n",
       "                3912.5\n",
       "            ],\n",
       "            [\n",
       "                1750.0,\n",
       "                1825.0,\n",
       "                1900.0,\n",
       "                1975.0,\n",
       "                2050.0,\n",
       "                2125.0,\n",
       "                2200.0,\n",
       "                2275.0,\n",
       "                2350.0,\n",
       "                2425.0,\n",
       "                2500.0,\n",
       "                2575.0,\n",
       "                2650.0,\n",
       "                2725.0,\n",
       "                2800.0,\n",
       "                2875.0,\n",
       "                2950.0,\n",
       "                3025.0,\n",
       "                3100.0,\n",
       "                3175.0,\n",
       "                3250.0,\n",
       "                3325.0,\n",
       "                3400.0,\n",
       "                3475.0,\n",
       "                3550.0,\n",
       "                3625.0,\n",
       "                3700.0,\n",
       "                3775.0,\n",
       "                3850.0,\n",
       "                3925.0,\n",
       "                4000.0\n",
       "            ]\n",
       "        ],\n",
       "        \"zmax\": 4000.0,\n",
       "        \"y\": [\n",
       "            0.0,\n",
       "            0.5,\n",
       "            1.0,\n",
       "            1.5,\n",
       "            2.0,\n",
       "            2.5,\n",
       "            3.0,\n",
       "            3.5,\n",
       "            4.0,\n",
       "            4.5,\n",
       "            5.0,\n",
       "            5.5,\n",
       "            6.0,\n",
       "            6.5,\n",
       "            7.0,\n",
       "            7.5,\n",
       "            8.0,\n",
       "            8.5,\n",
       "            9.0,\n",
       "            9.5,\n",
       "            10.0\n",
       "        ],\n",
       "        \"type\": \"contour\",\n",
       "        \"hoverinfo\": \"none\"\n",
       "    },\n",
       "    {\n",
       "        \"xaxis\": \"x\",\n",
       "        \"colorbar\": {\n",
       "            \"title\": \"\"\n",
       "        },\n",
       "        \"fill\": \"tozeroy\",\n",
       "        \"yaxis\": \"y\",\n",
       "        \"x\": [\n",
       "            0.0,\n",
       "            0.5,\n",
       "            1.0,\n",
       "            1.5,\n",
       "            2.0,\n",
       "            2.5,\n",
       "            3.0,\n",
       "            3.5,\n",
       "            4.0,\n",
       "            4.5,\n",
       "            5.0,\n",
       "            5.5,\n",
       "            6.0,\n",
       "            6.5,\n",
       "            7.0,\n",
       "            7.5,\n",
       "            8.0,\n",
       "            8.5,\n",
       "            9.0,\n",
       "            9.5,\n",
       "            10.0,\n",
       "            10.5,\n",
       "            11.0\n",
       "        ],\n",
       "        \"showlegend\": true,\n",
       "        \"mode\": \"lines\",\n",
       "        \"fillcolor\": \"rgba(227, 111, 71, 0.300)\",\n",
       "        \"name\": \"y2\",\n",
       "        \"zmin\": 0.0,\n",
       "        \"legendgroup\": \"y2\",\n",
       "        \"zmax\": 4000.0,\n",
       "        \"line\": {\n",
       "            \"color\": \"rgba(227, 111, 71, 0.300)\",\n",
       "            \"shape\": \"linear\",\n",
       "            \"dash\": \"solid\",\n",
       "            \"width\": 1\n",
       "        },\n",
       "        \"y\": [\n",
       "            7.0,\n",
       "            6.681818181818182,\n",
       "            6.363636363636363,\n",
       "            6.045454545454546,\n",
       "            5.7272727272727275,\n",
       "            5.409090909090909,\n",
       "            5.090909090909091,\n",
       "            4.7727272727272725,\n",
       "            4.454545454545454,\n",
       "            4.136363636363637,\n",
       "            3.8181818181818183,\n",
       "            3.5,\n",
       "            3.1818181818181817,\n",
       "            2.8636363636363638,\n",
       "            2.5454545454545454,\n",
       "            2.227272727272727,\n",
       "            1.9090909090909092,\n",
       "            1.5909090909090908,\n",
       "            1.2727272727272727,\n",
       "            0.9545454545454546,\n",
       "            0.6363636363636364,\n",
       "            0.3181818181818182,\n",
       "            0.0\n",
       "        ],\n",
       "        \"type\": \"scatter\"\n",
       "    },\n",
       "    {\n",
       "        \"xaxis\": \"x\",\n",
       "        \"colorbar\": {\n",
       "            \"title\": \"\"\n",
       "        },\n",
       "        \"fill\": \"tozeroy\",\n",
       "        \"yaxis\": \"y\",\n",
       "        \"x\": [\n",
       "            0.0,\n",
       "            0.5,\n",
       "            1.0,\n",
       "            1.5,\n",
       "            2.0,\n",
       "            2.5,\n",
       "            3.0,\n",
       "            3.5,\n",
       "            4.0,\n",
       "            4.5,\n",
       "            5.0,\n",
       "            5.5,\n",
       "            6.0,\n",
       "            6.5,\n",
       "            7.0,\n",
       "            7.5,\n",
       "            8.0\n",
       "        ],\n",
       "        \"showlegend\": true,\n",
       "        \"mode\": \"lines\",\n",
       "        \"fillcolor\": \"rgba(62, 164, 78, 0.300)\",\n",
       "        \"name\": \"y3\",\n",
       "        \"zmin\": 0.0,\n",
       "        \"legendgroup\": \"y3\",\n",
       "        \"zmax\": 4000.0,\n",
       "        \"line\": {\n",
       "            \"color\": \"rgba(62, 164, 78, 0.300)\",\n",
       "            \"shape\": \"linear\",\n",
       "            \"dash\": \"solid\",\n",
       "            \"width\": 1\n",
       "        },\n",
       "        \"y\": [\n",
       "            10.0,\n",
       "            9.375,\n",
       "            8.75,\n",
       "            8.125,\n",
       "            7.5,\n",
       "            6.875,\n",
       "            6.25,\n",
       "            5.625,\n",
       "            5.0,\n",
       "            4.375,\n",
       "            3.75,\n",
       "            3.125,\n",
       "            2.5,\n",
       "            1.875,\n",
       "            1.25,\n",
       "            0.625,\n",
       "            0.0\n",
       "        ],\n",
       "        \"type\": \"scatter\"\n",
       "    },\n",
       "    {\n",
       "        \"xaxis\": \"x\",\n",
       "        \"colorbar\": {\n",
       "            \"title\": \"\"\n",
       "        },\n",
       "        \"fill\": \"tozeroy\",\n",
       "        \"yaxis\": \"y\",\n",
       "        \"x\": [\n",
       "            0.0,\n",
       "            0.5,\n",
       "            1.0,\n",
       "            1.5,\n",
       "            2.0,\n",
       "            2.5,\n",
       "            3.0,\n",
       "            3.5,\n",
       "            4.0,\n",
       "            4.5,\n",
       "            5.0,\n",
       "            5.5,\n",
       "            6.0,\n",
       "            6.5,\n",
       "            7.0,\n",
       "            7.5,\n",
       "            8.0\n",
       "        ],\n",
       "        \"showlegend\": true,\n",
       "        \"mode\": \"lines\",\n",
       "        \"fillcolor\": \"rgba(195, 113, 210, 0.150)\",\n",
       "        \"name\": \"y4\",\n",
       "        \"zmin\": 0.0,\n",
       "        \"legendgroup\": \"y4\",\n",
       "        \"zmax\": 4000.0,\n",
       "        \"line\": {\n",
       "            \"color\": \"rgba(195, 113, 210, 0.150)\",\n",
       "            \"shape\": \"linear\",\n",
       "            \"dash\": \"solid\",\n",
       "            \"width\": 1\n",
       "        },\n",
       "        \"y\": [\n",
       "            10.0,\n",
       "            10.0,\n",
       "            10.0,\n",
       "            10.0,\n",
       "            10.0,\n",
       "            10.0,\n",
       "            10.0,\n",
       "            10.0,\n",
       "            10.0,\n",
       "            10.0,\n",
       "            10.0,\n",
       "            10.0,\n",
       "            10.0,\n",
       "            10.0,\n",
       "            10.0,\n",
       "            10.0,\n",
       "            10.0\n",
       "        ],\n",
       "        \"type\": \"scatter\"\n",
       "    }\n",
       "]\n",
       ", {\n",
       "    \"showlegend\": false,\n",
       "    \"xaxis\": {\n",
       "        \"showticklabels\": true,\n",
       "        \"gridwidth\": 0.5,\n",
       "        \"tickvals\": [\n",
       "            0.0,\n",
       "            1.0,\n",
       "            2.0,\n",
       "            3.0,\n",
       "            4.0,\n",
       "            5.0,\n",
       "            6.0,\n",
       "            7.0,\n",
       "            8.0,\n",
       "            9.0,\n",
       "            10.0,\n",
       "            11.0,\n",
       "            12.0,\n",
       "            13.0,\n",
       "            14.0,\n",
       "            15.0\n",
       "        ],\n",
       "        \"range\": [\n",
       "            -0.44999999999999996,\n",
       "            15.45\n",
       "        ],\n",
       "        \"domain\": [\n",
       "            0.061654272382618835,\n",
       "            0.9934383202099737\n",
       "        ],\n",
       "        \"mirror\": false,\n",
       "        \"tickangle\": 0,\n",
       "        \"showline\": true,\n",
       "        \"ticktext\": [\n",
       "            \"0\",\n",
       "            \"1\",\n",
       "            \"2\",\n",
       "            \"3\",\n",
       "            \"4\",\n",
       "            \"5\",\n",
       "            \"6\",\n",
       "            \"7\",\n",
       "            \"8\",\n",
       "            \"9\",\n",
       "            \"10\",\n",
       "            \"11\",\n",
       "            \"12\",\n",
       "            \"13\",\n",
       "            \"14\",\n",
       "            \"15\"\n",
       "        ],\n",
       "        \"zeroline\": false,\n",
       "        \"tickfont\": {\n",
       "            \"color\": \"rgba(0, 0, 0, 1.000)\",\n",
       "            \"family\": \"sans-serif\",\n",
       "            \"size\": 11\n",
       "        },\n",
       "        \"zerolinecolor\": \"rgba(0, 0, 0, 1.000)\",\n",
       "        \"anchor\": \"y\",\n",
       "        \"visible\": true,\n",
       "        \"ticks\": \"inside\",\n",
       "        \"tickmode\": \"array\",\n",
       "        \"linecolor\": \"rgba(0, 0, 0, 1.000)\",\n",
       "        \"showgrid\": true,\n",
       "        \"title\": \"x=Widget A\",\n",
       "        \"gridcolor\": \"rgba(0, 0, 0, 0.100)\",\n",
       "        \"titlefont\": {\n",
       "            \"color\": \"rgba(0, 0, 0, 1.000)\",\n",
       "            \"family\": \"sans-serif\",\n",
       "            \"size\": 15\n",
       "        },\n",
       "        \"tickcolor\": \"rgb(0, 0, 0)\",\n",
       "        \"type\": \"-\"\n",
       "    },\n",
       "    \"paper_bgcolor\": \"rgba(255, 255, 255, 1.000)\",\n",
       "    \"annotations\": [\n",
       "        {\n",
       "            \"yanchor\": \"top\",\n",
       "            \"xanchor\": \"center\",\n",
       "            \"rotation\": -0.0,\n",
       "            \"y\": 1.0,\n",
       "            \"font\": {\n",
       "                \"color\": \"rgba(0, 0, 0, 1.000)\",\n",
       "                \"family\": \"sans-serif\",\n",
       "                \"size\": 20\n",
       "            },\n",
       "            \"yref\": \"paper\",\n",
       "            \"showarrow\": false,\n",
       "            \"text\": \"Factory Optimization Problem\",\n",
       "            \"xref\": \"paper\",\n",
       "            \"x\": 0.5275462962962963\n",
       "        }\n",
       "    ],\n",
       "    \"height\": 400,\n",
       "    \"margin\": {\n",
       "        \"l\": 0,\n",
       "        \"b\": 20,\n",
       "        \"r\": 0,\n",
       "        \"t\": 20\n",
       "    },\n",
       "    \"plot_bgcolor\": \"rgba(255, 255, 255, 1.000)\",\n",
       "    \"yaxis\": {\n",
       "        \"showticklabels\": true,\n",
       "        \"gridwidth\": 0.5,\n",
       "        \"tickvals\": [\n",
       "            0.0,\n",
       "            1.0,\n",
       "            2.0,\n",
       "            3.0,\n",
       "            4.0,\n",
       "            5.0,\n",
       "            6.0,\n",
       "            7.0,\n",
       "            8.0,\n",
       "            9.0,\n",
       "            10.0\n",
       "        ],\n",
       "        \"range\": [\n",
       "            -0.3,\n",
       "            10.3\n",
       "        ],\n",
       "        \"domain\": [\n",
       "            0.07581474190726165,\n",
       "            0.9415463692038496\n",
       "        ],\n",
       "        \"mirror\": false,\n",
       "        \"tickangle\": 0,\n",
       "        \"showline\": true,\n",
       "        \"ticktext\": [\n",
       "            \"0\",\n",
       "            \"1\",\n",
       "            \"2\",\n",
       "            \"3\",\n",
       "            \"4\",\n",
       "            \"5\",\n",
       "            \"6\",\n",
       "            \"7\",\n",
       "            \"8\",\n",
       "            \"9\",\n",
       "            \"10\"\n",
       "        ],\n",
       "        \"zeroline\": false,\n",
       "        \"tickfont\": {\n",
       "            \"color\": \"rgba(0, 0, 0, 1.000)\",\n",
       "            \"family\": \"sans-serif\",\n",
       "            \"size\": 11\n",
       "        },\n",
       "        \"zerolinecolor\": \"rgba(0, 0, 0, 1.000)\",\n",
       "        \"anchor\": \"x\",\n",
       "        \"visible\": true,\n",
       "        \"ticks\": \"inside\",\n",
       "        \"tickmode\": \"array\",\n",
       "        \"linecolor\": \"rgba(0, 0, 0, 1.000)\",\n",
       "        \"showgrid\": true,\n",
       "        \"title\": \"y=Widget B\",\n",
       "        \"gridcolor\": \"rgba(0, 0, 0, 0.100)\",\n",
       "        \"titlefont\": {\n",
       "            \"color\": \"rgba(0, 0, 0, 1.000)\",\n",
       "            \"family\": \"sans-serif\",\n",
       "            \"size\": 15\n",
       "        },\n",
       "        \"tickcolor\": \"rgb(0, 0, 0)\",\n",
       "        \"type\": \"-\"\n",
       "    },\n",
       "    \"width\": 600\n",
       "}\n",
       ");\n",
       "\n",
       "    });\n",
       "    </script>\n"
      ]
     },
     "execution_count": 5,
     "metadata": {},
     "output_type": "execute_result"
    }
   ],
   "source": [
    "# set up parameters and variables\n",
    "pa = 150\n",
    "pb = 175\n",
    "a = range(0,15,step=0.5)\n",
    "b = range(0,10,step=0.5)\n",
    "\n",
    "# define objective function\n",
    "f(a, b) = begin  (pa*a + pb*b)  end \n",
    "\n",
    "contour(a,b,(a,b)->f(a,b),nlevels=10, c=:heat, linewidth=10, colorbar = false, contour_labels = true)\n",
    "title!(\"Factory Optimization Problem\")\n",
    "xaxis!(\"x=Widget A\")\n",
    "yaxis!(\"y=Widget B\")\n",
    "xticks!(0:maximum(a))\n",
    "yticks!(0:maximum(b))\n",
    "areaplot!(a[a.<=11], (77 .- 7*a[a.<=11])./11, legend=false, opacity=0.3)\n",
    "areaplot!(a[a.<=8], (80 .- 10*a[a.<=8])./8, legend=false, opacity=0.3)\n",
    "areaplot!(a[a.<=8], repeat([maximum(b)],length(a[a.<=8])), legend=false, opacity=0.15)\n",
    "#areaplot!([8;0;4.888], [0;7;3.888], legend=false, opacity=1.0)\n",
    "#scatter!([8 0 4.88],[0 7 3.888])"
   ]
  },
  {
   "cell_type": "markdown",
   "metadata": {},
   "source": [
    "JuMP allows us to define an algebraic model that represents this optimization problem, which we'll do in several steps now...\n",
    "\n",
    "### 1. Define the model\n",
    "\n",
    "First, we **define the model**. A JuMP model object is a container for variables, constraints, solver options, etc. Models are created with the [Model()](https://jump.dev/JuMP.jl/stable/solvers/#JuMP.Model-Tuple{}) function. "
   ]
  },
  {
   "cell_type": "code",
   "execution_count": 6,
   "metadata": {},
   "outputs": [],
   "source": [
    "factory_model = Model();"
   ]
  },
  {
   "cell_type": "markdown",
   "metadata": {},
   "source": [
    "### 2. Specify the optimization solver\n",
    "\n",
    "To solve a model, we need to also specify the [optimization solver](https://jump.dev/JuMP.jl/stable/solvers/#) (or \"optimizer\") for JuMP to use. \n",
    "\n",
    "A solver is a software package that incorporates computanionally efficient algorithms for finding solutions to one or more classes of optimization problems -- e.g. [simplex](https://en.wikipedia.org/wiki/Simplex_algorithm) and [interior-point](https://en.wikipedia.org/wiki/Interior-point_method) algorithms for solving linear programming (LP) problems; [branch-and-bound](https://en.wikipedia.org/wiki/Branch_and_bound) and [branch-and-cut](https://en.wikipedia.org/wiki/Branch_and_cut) algorithms for solving mixed-integer linear programming (MILP) problems.\n",
    "\n",
    "JuMP currently supports a number of open-source and commercial solvers which can be viewed\n",
    "[here](http://www.juliaopt.org/JuMP.jl/v0.19.1/installation/#Getting-Solvers-1).\n",
    "\n",
    "We specify the specific solver to use for this model either by using the [set_optimizer()](https://jump.dev/JuMP.jl/stable/solvers/#JuMP.set_optimizer) function or as an argument for the [Model()](https://jump.dev/JuMP.jl/stable/solvers/#JuMP.Model-Tuple{}) function when initially defining the model, as in the following examples..."
   ]
  },
  {
   "cell_type": "code",
   "execution_count": 7,
   "metadata": {},
   "outputs": [],
   "source": [
    "set_optimizer(factory_model, Clp.Optimizer)\n",
    "factory_model = Model(Clp.Optimizer);"
   ]
  },
  {
   "cell_type": "markdown",
   "metadata": {},
   "source": [
    "Above, we specify the Clp solver interface. The argument `Clp.Optimizer` is an example of a JuMP \"Optimizer Factory\" parameter, a call to create an interface with a specific solver. Other examples include `GLPK.Optimizer`, `CPLEX.Optimizer`, `Gurobi.Optimizer`, etc."
   ]
  },
  {
   "cell_type": "markdown",
   "metadata": {},
   "source": [
    "### 3. Define variables\n",
    "\n",
    "Next, we define our [decision variables](https://jump.dev/JuMP.jl/stable/variables/), using the JuMP [@variable](https://jump.dev/JuMP.jl/stable/variables/#JuMP.@variable) [macro](https://docs.julialang.org/en/v1/manual/metaprogramming/#man-macros). \n",
    "\n",
    "The first argument in the `@variable()` macro is a reference to the model object that this decision variable is associated with, in this case `factory_model`. \n",
    "\n",
    "We can also pass lower and/or upper bounds on the decision variables at the time they are created using `<=` and `>=` notation..."
   ]
  },
  {
   "cell_type": "code",
   "execution_count": 8,
   "metadata": {},
   "outputs": [
    {
     "data": {
      "text/latex": [
       "$$ x $$"
      ],
      "text/plain": [
       "x"
      ]
     },
     "execution_count": 8,
     "metadata": {},
     "output_type": "execute_result"
    }
   ],
   "source": [
    "@variable(factory_model, 8 >= x >= 0) # How many widgets of type A, including capacity constraint as upper bound"
   ]
  },
  {
   "cell_type": "code",
   "execution_count": 9,
   "metadata": {},
   "outputs": [
    {
     "data": {
      "text/latex": [
       "$$ y $$"
      ],
      "text/plain": [
       "y"
      ]
     },
     "execution_count": 9,
     "metadata": {},
     "output_type": "execute_result"
    }
   ],
   "source": [
    "@variable(factory_model, y >= 0) # How many widgets of type B"
   ]
  },
  {
   "cell_type": "markdown",
   "metadata": {},
   "source": [
    "...Here we set a lower bound of 0 for both variables (e.g. ```y >= 0```), to reflect the non-negativity constraints in our decision variables (e.g. that we cannot produce a negative amount of widgets), and an upper bound of 8 for variable $x$, to reflect the capacity constraint on production of widget A (```8 >= x >=0```).\n",
    "\n",
    "You can also specify bounds by using the `lower_bound` and `upper_bound` keyword arguments (as in `@variable(model, x, lower_bound = 0, upper_bound = 8`). \n",
    "\n",
    "A variable without bounds is considered a \"free variable\" and is defined by simply ommitting any bounds (as in `@variable(model, free_x)`).\n",
    "\n",
    "The name provided for the variable in the `@variable` macro is the \"[base name](https://jump.dev/JuMP.jl/stable/variables/#Variable-names-1)\" assigned to this variable (e.g. `x` and `y` for our variables above). \n",
    "\n",
    "You can use the variable's base name as an argument in other JuMP functions to query attributes of this variable (or to recover a variable's value after solving the model). For example, we can check the upper bound on the `x` variable as follows..."
   ]
  },
  {
   "cell_type": "code",
   "execution_count": 10,
   "metadata": {},
   "outputs": [
    {
     "data": {
      "text/plain": [
       "8.0"
      ]
     },
     "execution_count": 10,
     "metadata": {},
     "output_type": "execute_result"
    }
   ],
   "source": [
    "upper_bound(x)"
   ]
  },
  {
   "cell_type": "markdown",
   "metadata": {},
   "source": [
    "Note that JuMP requires unique names for variables, expressions, and constraints. If you try to define the same variable name more than once, JuMP will throw an error to prevent you from accidentally overwriting the same variable (or constraint or expression). "
   ]
  },
  {
   "cell_type": "code",
   "execution_count": 11,
   "metadata": {},
   "outputs": [
    {
     "ename": "LoadError",
     "evalue": "An object of name x is already attached to this model. If this\n    is intended, consider using the anonymous construction syntax, e.g.,\n    `x = @variable(model, [1:N], ...)` where the name of the object does\n    not appear inside the macro.\n\n    Alternatively, use `unregister(model, :x)` to first unregister\n    the existing name from the model. Note that this will not delete the\n    object; it will just remove the reference at `model[:x]`.\n",
     "output_type": "error",
     "traceback": [
      "An object of name x is already attached to this model. If this\n    is intended, consider using the anonymous construction syntax, e.g.,\n    `x = @variable(model, [1:N], ...)` where the name of the object does\n    not appear inside the macro.\n\n    Alternatively, use `unregister(model, :x)` to first unregister\n    the existing name from the model. Note that this will not delete the\n    object; it will just remove the reference at `model[:x]`.\n",
      "",
      "Stacktrace:",
      " [1] error(s::String)",
      "   @ Base ./error.jl:33",
      " [2] _error_if_cannot_register(model::Model, name::Symbol)",
      "   @ JuMP ~/.julia/packages/JuMP/b3hGi/src/macros.jl:100",
      " [3] macro expansion",
      "   @ ~/.julia/packages/JuMP/b3hGi/src/macros.jl:134 [inlined]",
      " [4] top-level scope",
      "   @ In[11]:1",
      " [5] eval",
      "   @ ./boot.jl:360 [inlined]",
      " [6] include_string(mapexpr::typeof(REPL.softscope), mod::Module, code::String, filename::String)",
      "   @ Base ./loading.jl:1116"
     ]
    }
   ],
   "source": [
    "@variable(factory_model, x >= 0) # Try defining x for a second time with different bounds"
   ]
  },
  {
   "cell_type": "markdown",
   "metadata": {},
   "source": [
    "You can see that the $x$ variable still has the old upper bound and has not been modified by the above attempt to define it again. "
   ]
  },
  {
   "cell_type": "code",
   "execution_count": 12,
   "metadata": {},
   "outputs": [
    {
     "data": {
      "text/plain": [
       "8.0"
      ]
     },
     "execution_count": 12,
     "metadata": {},
     "output_type": "execute_result"
    }
   ],
   "source": [
    "upper_bound(x)"
   ]
  },
  {
   "cell_type": "markdown",
   "metadata": {},
   "source": [
    "If we'd really wanted to modify the bounds for an existing JuMP variable, we would use the the `set_lower_bound` and `set_upper_bound` functions, or the ` delete_lower_bound` and `delete_upper_bound` functions to remove a previously established bound."
   ]
  },
  {
   "cell_type": "markdown",
   "metadata": {},
   "source": [
    "You can check if a name has already been assigned to a valid JuMP object (variable, expression, constraint) with the `is_valid(model_reference, JuMP_base_name)` function, and [delete an existing JuMP object](https://jump.dev/JuMP.jl/dev/variables/#Deleting-variables-1) with the `delete(model_reference, JuMP_base_name)` function."
   ]
  },
  {
   "cell_type": "code",
   "execution_count": 13,
   "metadata": {},
   "outputs": [
    {
     "data": {
      "text/plain": [
       "true"
      ]
     },
     "execution_count": 13,
     "metadata": {},
     "output_type": "execute_result"
    }
   ],
   "source": [
    "is_valid(factory_model, x)"
   ]
  },
  {
   "cell_type": "markdown",
   "metadata": {},
   "source": [
    "You can also use JuMP's `all_variables(model_reference)` function to enumerate a vector of references to all defined JuMP variables"
   ]
  },
  {
   "cell_type": "code",
   "execution_count": 14,
   "metadata": {},
   "outputs": [
    {
     "data": {
      "text/plain": [
       "2-element Vector{VariableRef}:\n",
       " x\n",
       " y"
      ]
     },
     "execution_count": 14,
     "metadata": {},
     "output_type": "execute_result"
    }
   ],
   "source": [
    "all_variables(factory_model)"
   ]
  },
  {
   "cell_type": "markdown",
   "metadata": {},
   "source": [
    "### 4. Define constraints\n",
    "\n",
    "Next, we can define our more complicated constraints, which involve multiple variables.\n",
    "\n",
    "We have two constraints to define in this simple example, our time constraint, $10 x + 8 y \\leq \\ 80$ and our material constraint, $7 x + 11 y \\leq \\ 77$.\n",
    "\n",
    "We define constraints with the JuMP [@constraint](https://jump.dev/JuMP.jl/stable/constraints/#The-@constraint-macro-1) macro."
   ]
  },
  {
   "cell_type": "code",
   "execution_count": 15,
   "metadata": {},
   "outputs": [
    {
     "data": {
      "text/latex": [
       "time_constraint : $ 10 x + 8 y \\leq 80.0 $"
      ],
      "text/plain": [
       "time_constraint : 10 x + 8 y ≤ 80.0"
      ]
     },
     "execution_count": 15,
     "metadata": {},
     "output_type": "execute_result"
    }
   ],
   "source": [
    "@constraint(factory_model, time_constraint, 10x + 8y <= 80) # Time constraint"
   ]
  },
  {
   "cell_type": "code",
   "execution_count": 16,
   "metadata": {},
   "outputs": [
    {
     "data": {
      "text/latex": [
       "materials_constraint : $ 7 x + 11 y \\leq 77.0 $"
      ],
      "text/plain": [
       "materials_constraint : 7 x + 11 y ≤ 77.0"
      ]
     },
     "execution_count": 16,
     "metadata": {},
     "output_type": "execute_result"
    }
   ],
   "source": [
    "@constraint(factory_model, materials_constraint, 7x + 11y <= 77) # Materials constraint"
   ]
  },
  {
   "cell_type": "markdown",
   "metadata": {},
   "source": [
    "We can now call the model object we've been building, and JuMP will helpfully print out the mathematical formulation"
   ]
  },
  {
   "cell_type": "code",
   "execution_count": 17,
   "metadata": {},
   "outputs": [
    {
     "data": {
      "text/plain": [
       "A JuMP Model\n",
       "Feasibility problem with:\n",
       "Variables: 2\n",
       "`AffExpr`-in-`MathOptInterface.LessThan{Float64}`: 2 constraints\n",
       "`VariableRef`-in-`MathOptInterface.GreaterThan{Float64}`: 2 constraints\n",
       "`VariableRef`-in-`MathOptInterface.LessThan{Float64}`: 1 constraint\n",
       "Model mode: AUTOMATIC\n",
       "CachingOptimizer state: EMPTY_OPTIMIZER\n",
       "Solver name: Clp\n",
       "Names registered in the model: materials_constraint, time_constraint, x, y"
      ]
     },
     "execution_count": 17,
     "metadata": {},
     "output_type": "execute_result"
    }
   ],
   "source": [
    "factory_model"
   ]
  },
  {
   "cell_type": "markdown",
   "metadata": {},
   "source": [
    "As you can see, we've now defined all of the constraints in our simple factory model. But we're missing one very important thing..."
   ]
  },
  {
   "cell_type": "markdown",
   "metadata": {},
   "source": [
    "### 5. Define objective function\n",
    "\n",
    "Currently, our model only defines a feasible region (e.g. a set of constraints over the domain of our defined decision variables). But we have not specified what our objective function is: what are we trying to maximize or minimize?\n",
    "\n",
    "To define our objective function, we use the [@objective](https://jump.dev/JuMP.jl/dev/objective/#JuMP.@objective) macro. We have three arguments for this macro: (1) the model object we are defining the objective for, (2) specify whether this is a maximization (`Max`) or minimization (`Min`) problem, and (3) define the objective function itself."
   ]
  },
  {
   "cell_type": "code",
   "execution_count": 18,
   "metadata": {},
   "outputs": [
    {
     "data": {
      "text/latex": [
       "$$ 150 x + 175 y $$"
      ],
      "text/plain": [
       "150 x + 175 y"
      ]
     },
     "execution_count": 18,
     "metadata": {},
     "output_type": "execute_result"
    }
   ],
   "source": [
    "@objective(factory_model, Max, 150x + 175y)"
   ]
  },
  {
   "cell_type": "markdown",
   "metadata": {},
   "source": [
    "Now we can see the full model is defined..."
   ]
  },
  {
   "cell_type": "code",
   "execution_count": 19,
   "metadata": {},
   "outputs": [
    {
     "data": {
      "text/plain": [
       "A JuMP Model\n",
       "Maximization problem with:\n",
       "Variables: 2\n",
       "Objective function type: AffExpr\n",
       "`AffExpr`-in-`MathOptInterface.LessThan{Float64}`: 2 constraints\n",
       "`VariableRef`-in-`MathOptInterface.GreaterThan{Float64}`: 2 constraints\n",
       "`VariableRef`-in-`MathOptInterface.LessThan{Float64}`: 1 constraint\n",
       "Model mode: AUTOMATIC\n",
       "CachingOptimizer state: EMPTY_OPTIMIZER\n",
       "Solver name: Clp\n",
       "Names registered in the model: materials_constraint, time_constraint, x, y"
      ]
     },
     "execution_count": 19,
     "metadata": {},
     "output_type": "execute_result"
    }
   ],
   "source": [
    "factory_model"
   ]
  },
  {
   "cell_type": "markdown",
   "metadata": {},
   "source": [
    "### 6. Alternative ways to define our model\n",
    "\n",
    "We can define more than one variable at a time using a more compact syntax by using the [@variables](https://jump.dev/JuMP.jl/stable/variables/#variables-1) macro. Here we'll define both x and y variables at the same time..."
   ]
  },
  {
   "cell_type": "code",
   "execution_count": 20,
   "metadata": {},
   "outputs": [
    {
     "data": {
      "text/latex": [
       "$$ \\begin{aligned}\n",
       "\\text{feasibility}\\\\\n",
       "\\text{Subject to} \\quad & x \\geq 0.0\\\\\n",
       " & y \\geq 0.0\\\\\n",
       " & x \\leq 8.0\\\\\n",
       "\\end{aligned} $$"
      ]
     },
     "metadata": {},
     "output_type": "display_data"
    }
   ],
   "source": [
    "factory_model = Model(Clp.Optimizer);\n",
    "@variables(factory_model, begin\n",
    "    8 >= x >= 0\n",
    "    y >= 0\n",
    "    end)\n",
    "print(factory_model)"
   ]
  },
  {
   "cell_type": "markdown",
   "metadata": {},
   "source": [
    "Note that the @variables macro does not automatically print the variable bounds, so we use the `print(model_name)` function above to print out the newly defined variables and their bounds."
   ]
  },
  {
   "cell_type": "markdown",
   "metadata": {},
   "source": [
    "We can also use the [@constraints](https://jump.dev/JuMP.jl/stable/constraints/#The-@constraints-macro-1) macro in a similar manner to define multiple constraints in a more compact syntax, if preferred..."
   ]
  },
  {
   "cell_type": "code",
   "execution_count": 21,
   "metadata": {},
   "outputs": [
    {
     "data": {
      "text/latex": [
       "$$ \\begin{aligned}\n",
       "\\text{feasibility}\\\\\n",
       "\\text{Subject to} \\quad & 10 x + 8 y \\leq 80.0\\\\\n",
       " & 7 x + 11 y \\leq 77.0\\\\\n",
       " & x \\geq 0.0\\\\\n",
       " & y \\geq 0.0\\\\\n",
       " & x \\leq 8.0\\\\\n",
       "\\end{aligned} $$"
      ]
     },
     "metadata": {},
     "output_type": "display_data"
    }
   ],
   "source": [
    "@constraints(factory_model, begin\n",
    "    time_constraint, 10x + 8y <= 80\n",
    "    materials_constraint, 7x + 11y <= 77    \n",
    "    end)\n",
    "print(factory_model)"
   ]
  },
  {
   "cell_type": "markdown",
   "metadata": {},
   "source": [
    "Sometimes it is useful to define an algebraic [expression](https://jump.dev/JuMP.jl/stable/expressions/#) that may be insert in constraints, objective functions, or other expressions (e.g. to build up more complex expressions or to define an expression used repeatedly in multiple constraints). \n",
    "\n",
    "The recommended way to create an expression is via the [@expression](https://jump.dev/JuMP.jl/stable/expressions/#JuMP.@expression) macro, which is syntactically similar to the definition fo a constraint. The difference is that an expression is not directly part of the optimization problem definition. It only becomes incorporated into the model definition if you subsequently use a defined expression to define part of a constraint or objective function. As an example, let's use an expression here to define our objective function..."
   ]
  },
  {
   "cell_type": "code",
   "execution_count": 22,
   "metadata": {},
   "outputs": [
    {
     "data": {
      "text/latex": [
       "$$ \\begin{aligned}\n",
       "\\max\\quad & 150 x + 175 y\\\\\n",
       "\\text{Subject to} \\quad & 10 x + 8 y \\leq 80.0\\\\\n",
       " & 7 x + 11 y \\leq 77.0\\\\\n",
       " & x \\geq 0.0\\\\\n",
       " & y \\geq 0.0\\\\\n",
       " & x \\leq 8.0\\\\\n",
       "\\end{aligned} $$"
      ]
     },
     "metadata": {},
     "output_type": "display_data"
    }
   ],
   "source": [
    "@expression(factory_model, objective, 150x + 175y)\n",
    "@objective(factory_model, Max, objective)\n",
    "print(factory_model)"
   ]
  },
  {
   "cell_type": "markdown",
   "metadata": {},
   "source": [
    "### 7. Solve the model\n",
    "\n",
    "Now that we've defined our factory model, let's solve it to find the optimal values $(x^*, y^*)$ that maximizes our objective function. \n",
    "\n",
    "To optimize a defined JuMP model for which a solver has been previously specified, use the [optimize!](https://jump.dev/JuMP.jl/stable/solvers/#JuMP.optimize!) function, supplying the model name as an argument..."
   ]
  },
  {
   "cell_type": "code",
   "execution_count": null,
   "metadata": {},
   "outputs": [],
   "source": [
    "optimize!(factory_model)"
   ]
  },
  {
   "cell_type": "markdown",
   "metadata": {},
   "source": [
    "We see that the solver (Clp) solved our optimization problem and found the optimal objective function value of 1413.888889. "
   ]
  },
  {
   "cell_type": "markdown",
   "metadata": {},
   "source": [
    "### 8. Query the optimal solution\n",
    "\n",
    "But what are the optimal decision variable values $(x^*, y^*)$? Now that the model has been solved to optimality, we can query the values of JuMP variables by using JuMP's [value()](https://jump.dev/JuMP.jl/stable/solutions/#JuMP.value) function"
   ]
  },
  {
   "cell_type": "code",
   "execution_count": null,
   "metadata": {},
   "outputs": [],
   "source": [
    "value(x)"
   ]
  },
  {
   "cell_type": "code",
   "execution_count": null,
   "metadata": {},
   "outputs": [],
   "source": [
    "value(y)"
   ]
  },
  {
   "cell_type": "markdown",
   "metadata": {},
   "source": [
    "Quick note: because JuMP uses [different containers](https://jump.dev/JuMP.jl/dev/containers/) depending on whether we've defined a single variable, a vector or square array of variables, or an array of variables with differing dimension lengths, they [recommend](https://jump.dev/JuMP.jl/dev/solutions/#Obtaining-solutions-1) using the [vectorized syntax or \"dot syntax\"](https://docs.julialang.org/en/v1/manual/functions/#man-vectorized) for the `value()` function, `value.(ref)`, rather than the `value(ref)` syntax used above. \n",
    "\n",
    "The `value.(ref)` syntax will work with any vector or array of variables and also with single variables (which can be treated as a vector of length 1), while the `value(ref)` syntax will only work when called for single variables. In this case, since we have a single variable only, we can use either syntax. We'll see an example of a vector of variables in the next section of this notebook..."
   ]
  },
  {
   "cell_type": "code",
   "execution_count": null,
   "metadata": {},
   "outputs": [],
   "source": [
    "value.(x)"
   ]
  },
  {
   "cell_type": "code",
   "execution_count": null,
   "metadata": {},
   "outputs": [],
   "source": [
    "value.(y)"
   ]
  },
  {
   "cell_type": "markdown",
   "metadata": {},
   "source": [
    "We can now see the optimal solution to our simple factory optimization model is $(x^*, y^*) = (4.8889, 3.8889)$, just as we determined in the [Constrained Optimization notebook](Notebooks/Constrained-Optimization.ipynb) via linear algebra."
   ]
  },
  {
   "cell_type": "code",
   "execution_count": null,
   "metadata": {},
   "outputs": [],
   "source": [
    "contour(a,b,(a,b)->f(a,b),nlevels=10, c=:heat, linewidth=10, colorbar = false, contour_labels = true)\n",
    "title!(\"Factory Optimization Problem\")\n",
    "xaxis!(\"x=Widget A\")\n",
    "yaxis!(\"y=Widget B\")\n",
    "xticks!(0:maximum(a))\n",
    "yticks!(0:maximum(b))\n",
    "areaplot!(a[a.<=11], (77 .- 7*a[a.<=11])./11, legend=false, opacity=0.3)\n",
    "areaplot!(a[a.<=8], (80 .- 10*a[a.<=8])./8, legend=false, opacity=0.3)\n",
    "areaplot!(a[a.<=8], repeat([maximum(b)],length(a[a.<=8])), legend=false, opacity=0.15)\n",
    "scatter!([value.(x)],[value.(y)], markercolor=\"blue\")"
   ]
  },
  {
   "cell_type": "markdown",
   "metadata": {},
   "source": [
    "We can also use the `value()` function to evaluate the value of named expressions and constraints we've previously defined and associated with the solved model. (Again, vectorized dot syntax is recommended, but both forms work for single constraints)."
   ]
  },
  {
   "cell_type": "code",
   "execution_count": null,
   "metadata": {},
   "outputs": [],
   "source": [
    "value.(time_constraint)"
   ]
  },
  {
   "cell_type": "markdown",
   "metadata": {},
   "source": [
    "We can see that this is the same value as we'd get by evaluating the time constraint at the optimal values $(x^*, y^*)$"
   ]
  },
  {
   "cell_type": "code",
   "execution_count": null,
   "metadata": {},
   "outputs": [],
   "source": [
    "10*value.(x) + 8*value.(y)"
   ]
  },
  {
   "cell_type": "markdown",
   "metadata": {},
   "source": [
    "We can also evaluate the `objective` expression we defined previously, $150x + 175y$, and save this to a variable names `optimal_revenue` (e.g. for use later)."
   ]
  },
  {
   "cell_type": "code",
   "execution_count": null,
   "metadata": {},
   "outputs": [],
   "source": [
    "optimal_revenue = value(objective)"
   ]
  },
  {
   "cell_type": "markdown",
   "metadata": {},
   "source": [
    "Or we can directly query the objective function value associated with our `factory_model` JuMP model object by using JuMP's `objective_value()` function and passing a reference to the model as follows. Since we don't always define an expression for our objective function, this is the typical way to access the objective function value for our optimal solution."
   ]
  },
  {
   "cell_type": "code",
   "execution_count": null,
   "metadata": {},
   "outputs": [],
   "source": [
    "optimal_revenue = objective_value(factory_model)"
   ]
  },
  {
   "cell_type": "markdown",
   "metadata": {},
   "source": [
    "Note that if there are certain expressions that you want to be able to quickly extract from the model's results, it can make sense to define an expression prior to solving the model, even if you do not use the expression to build a constraint or define the objective function that makes up the actual constrained optimization problem. \n",
    "\n",
    "For example, if we wanted to quickly extract the sum of widgets produced $(x+y)$ without individually querying each decision variable value, we could define an expression `@expression(factory_model, total_widgets, x+y)`, and then simply use `value(total_widgets)` to get this sum. \n",
    "\n",
    "Obviously, this is a pretty simple expression, but for more complex models, this can be a handy approach to make it easy to extract results of interest."
   ]
  },
  {
   "cell_type": "code",
   "execution_count": null,
   "metadata": {},
   "outputs": [],
   "source": [
    "@expression(factory_model, total_widgets, x+y)"
   ]
  },
  {
   "cell_type": "code",
   "execution_count": null,
   "metadata": {},
   "outputs": [],
   "source": [
    "value.(total_widgets)"
   ]
  },
  {
   "cell_type": "markdown",
   "metadata": {},
   "source": [
    "## A More Complex Model: Optimal Solar + Battery Storage Operations\n",
    "\n",
    "The factory example above is a pretty simple problem. Useful for introducing the basic anatomy of a JuMP model, but hardly worth relying on algebraic programming to find the solution (as it can be obtained analytically without much trouble). So let's now turn to a more complex example..."
   ]
  },
  {
   "cell_type": "markdown",
   "metadata": {},
   "source": [
    "<img src=\"img/solar.png\" style=\"width: 800px; height: auto\" align=\"left\">"
   ]
  },
  {
   "cell_type": "markdown",
   "metadata": {},
   "source": [
    "Assume you are a renewable energy company and you own a 50 megawatt (MW) utility-scale solar PV system and recently installed a 10 MW / 40 megawatt-hours (MWh) Lithium-ion battery system at the same site. Both solar and battery systems take advantage of the same DC-AC inverters (solar PV and batteries are both direct current devices) and transmission grid connection (substation).\n",
    "\n",
    "Given a series of electricity prices, how should you operate your solar PV and storage system to maximize revenue? When do you charge, and when do you discharge? Should you buy extra power from the grid when it's cheap and store it for later when prices are high, or just make use of your solar PV system to charge the battery? What's the best operational plan to maximize revenue over the next 24 hours?\n",
    "\n",
    "Sounds like a good optimization problem!"
   ]
  },
  {
   "cell_type": "markdown",
   "metadata": {},
   "source": [
    "### 1. Load data and define parameters\n",
    "\n",
    "Before we get started defining our model, we need to load some useful data and define a set of **parameters** or constant values used in our optimization problem.\n",
    "\n",
    "For purposes of this example, we will use **time series data** for a single day of 15-minute [real-time electricity market prices](http://mis.ercot.com/misapp/GetReports.do?reportTypeId=13061&reportTitle=Historical%20RTM%20Load%20Zone%20and%20Hub%20Prices&showHTMLView=&mimicKey) from the Western Hub of the Electricity Reliability Council of Texas (ERCOT) electricity market, along with simulated solar PV output from [Renewables.Ninja](https://www.renewables.ninja/), which we'll load in from a .csv file with help from Julia's [CSV](https://juliadata.github.io/CSV.jl/stable/) and [DataFrames](https://juliadata.github.io/DataFrames.jl/stable/) packages."
   ]
  },
  {
   "cell_type": "code",
   "execution_count": null,
   "metadata": {},
   "outputs": [],
   "source": [
    "# Note, you don't need to run this block if CSV and DataFrames packages are already installed\n",
    "import Pkg\n",
    "Pkg.add(\"CSV\")\n",
    "Pkg.add(\"DataFrames\")"
   ]
  },
  {
   "cell_type": "code",
   "execution_count": null,
   "metadata": {},
   "outputs": [],
   "source": [
    "using CSV\n",
    "using DataFrames\n",
    "time_series = DataFrame(CSV.File(\"anatomy_data/solar_battery_data.csv\"))"
   ]
  },
  {
   "cell_type": "code",
   "execution_count": null,
   "metadata": {},
   "outputs": [],
   "source": [
    "using Plots\n",
    "plotly() # use plotly backend: https://docs.juliaplots.org/latest/generated/plotly/"
   ]
  },
  {
   "cell_type": "code",
   "execution_count": null,
   "metadata": {},
   "outputs": [],
   "source": [
    "plot(time_series.Price, label=\"Price (\\$/MWh)\")\n",
    "plot!(time_series.Solar, label=\"Solar PV (MW-dc)\")\n",
    "title!(\"Price and Solar PV time series\")\n",
    "xaxis!(\"Time Interval (15 mins)\")\n",
    "yaxis!(\"\")"
   ]
  },
  {
   "cell_type": "markdown",
   "metadata": {},
   "source": [
    "Additionally, we'll define the following **capacity parameters** for each of the major subcomponents of our solar + battery system..."
   ]
  },
  {
   "cell_type": "code",
   "execution_count": null,
   "metadata": {},
   "outputs": [],
   "source": [
    "solar_cap   = 50      # Solar PV capacity in DC MW\n",
    "battery_cap = 10      # Lithium ion battery power (charge/discharge) capacity in DC MW\n",
    "energy_cap  = 40      # Lithium ion battery energy capacity (in MWh)\n",
    "grid_cap    = 40      # DC-AC inverter and grid connection capacity (rated in AC MW)\n",
    "@show solar_cap\n",
    "@show battery_cap\n",
    "@show energy_cap\n",
    "@show grid_cap"
   ]
  },
  {
   "cell_type": "markdown",
   "metadata": {},
   "source": [
    "Next, we will define a set of **efficiency parameters**, which help govern the flow of electricity through our solar + storage system."
   ]
  },
  {
   "cell_type": "code",
   "execution_count": null,
   "metadata": {},
   "outputs": [],
   "source": [
    "battery_eff = 0.95    # 'Single-trip' charge or discharge efficiency for the Lithium ion battery\n",
    "inverter_eff = 0.9    # Efficiency of DC-AC or AC-DC conversion at inverter\n",
    "@show battery_eff\n",
    "@show inverter_eff"
   ]
  },
  {
   "cell_type": "markdown",
   "metadata": {},
   "source": [
    "Finally, we set the **starting state of charge** of the battery at the beginning of the simulation day, which we'll assume is half full."
   ]
  },
  {
   "cell_type": "code",
   "execution_count": null,
   "metadata": {},
   "outputs": [],
   "source": [
    "start_charge = 0.5*energy_cap"
   ]
  },
  {
   "cell_type": "markdown",
   "metadata": {},
   "source": [
    "### 2. Define the model\n",
    "\n",
    "Now that we have our parameters set, let's define a new optimization model, a linear programming problem using the Clp open source solver."
   ]
  },
  {
   "cell_type": "code",
   "execution_count": null,
   "metadata": {},
   "outputs": [],
   "source": [
    "PV_model = Model(Clp.Optimizer)"
   ]
  },
  {
   "cell_type": "markdown",
   "metadata": {},
   "source": [
    "### 3. Define decision variables\n",
    "\n",
    "Now we have to define our decision variables. For each of our time intervals, we have five important **operating decisions** to make:\n",
    "\n",
    "1. How much DC power to produce (or curtail) from our solar PV system\n",
    "2. How much DC power to charge the battery\n",
    "3. How much DC power to discharge from the battery\n",
    "4. How much AC power to export to the grid\n",
    "5. How much AC power to import from the grid (e.g. to charge the battery)\n",
    "\n",
    "For the purposes of this optimization problem, we will consider these discrete time decisions taken every 15 minutes. \n",
    "\n",
    "Additionally, we will define a final variable:\n",
    "\n",
    "6. How much energy is stored in the battery (storage state of charge)\n",
    "\n",
    "While this state of charge variable is technically defined as a decision variable, it is actually completely constrained by the other variables, as we'll see below. This is an example of a [state variable](https://en.wikipedia.org/wiki/State_variable). We'll come back to state variables in dynamical systems when we introduce time coupling constraints in more depth in the Economic Dispatch notebook... \n",
    "\n",
    "Since we take the same kinds of decisions in each 15 minute time interval, we will thus define **an array of decision variables** for each type of decision, indexed across all time periods `t` in the set `T` as defined by our time series data `time_series.T`. \n",
    "\n",
    "This is our first example of creating an array of variables and **indexing across sets**. In practice, you'll frequently define arrays of variables and constraints that repeat across various sets or dimensions of your data (e.g. time periods, generators, regions, transmission lines). Note that variables can be indexed across multiple dimensions in N-dimensional containers (although here we will only index across the single dimension: time periods). [Read more on variable containers here](https://jump.dev/JuMP.jl/dev/variables/#Variable-containers-1).\n",
    "\n",
    "Additionally, we will define bounds for each decision variable based on the capacity parameters set previously. We'll set solar's upper bounds later, as these vary by time interval depending on the availability of solar insolation at the time.\n",
    "\n",
    "Note: by convention, and to make it easy to spot a decision variable in future expressions, we'll use the convention that all decision variable names will follow the format `UPPERCASE`. (This is an optional convention, and you can feel free to adopt your own, but we recommend adopting a consistent convention for naming variables, constraints, expressions, parameters, etc.)"
   ]
  },
  {
   "cell_type": "code",
   "execution_count": null,
   "metadata": {},
   "outputs": [],
   "source": [
    "# Decision variables and bounds:\n",
    "\n",
    "@variables(PV_model, begin\n",
    "                          SOLAR[t in time_series.T]      >= 0\n",
    "        battery_cap    >= CHARGE[t in time_series.T]     >= 0\n",
    "        battery_cap    >= DISCHARGE[t in time_series.T]  >= 0\n",
    "        grid_cap       >= GRIDEXPORT[t in time_series.T] >= 0\n",
    "        grid_cap       >= GRIDIMPORT[t in time_series.T] >= 0\n",
    "        energy_cap     >= SOC[t in time_series.T]        >= 0\n",
    "                          \n",
    "end)\n",
    "PV_model"
   ]
  },
  {
   "cell_type": "markdown",
   "metadata": {},
   "source": [
    "### 4. Define expressions\n",
    "\n",
    "Now we define an  expressions that relate the flow of electricity within our solar + storage system. \n",
    "\n",
    "Note that by convention, and to distinguish expression names from decision variable names and constraint names, we will use the convention that all expression names take the format `eExpressionName`. (This is an optional convention, and you can feel free to adopt your own, but we recommend adopting a consistent convention for naming variables, constraints, expressions, parameters, etc.)\n",
    "\n",
    "1. First, the net solar + storage DC power production or consumption can be expressed by the sum of solar PV and battery discharge less battery charging in each time period `t`. \n",
    "\n",
    "$\\begin{align*} \n",
    "eNetSolarStorage_t = SOLAR_t + DISCHARGE_t - CHARGE_t \\quad \\forall t \\in T\n",
    "\\end{align*}$\n",
    "\n",
    "We next combine grid exports, $GRIDEXPORT$, and grid imports, $GRIDIMPORT$, to form a \"net grid export\" expression representing the net interchange of power with the grid in DC terms, after accounting for conversion losses from DC to AC power for exports and AC to DC power for imports.\n",
    "\n",
    "$\\begin{align*} \n",
    "eNetExport_t = \\frac{GRIDEXPORT_t}{inverter\\_eff} - GRIDIMPORT_t \\times inverter\\_eff \\quad \\forall t \\in T\n",
    "\\end{align*}$\n",
    "\n",
    "\n",
    "As with our variables, we will define this expression as an array indexed across the set of time periods `t` in the time series `T`, since this holds for all time periods..."
   ]
  },
  {
   "cell_type": "code",
   "execution_count": null,
   "metadata": {},
   "outputs": [],
   "source": [
    "# System production and grid export/import flow\n",
    "@expression(PV_model, eNetSolarStorage[t in time_series.T], \n",
    "    SOLAR[t] + DISCHARGE[t] - CHARGE[t])\n",
    "@expression(PV_model, eNetExport[t in time_series.T], \n",
    "    GRIDEXPORT[t]/inverter_eff - GRIDIMPORT[t]*inverter_eff);"
   ]
  },
  {
   "cell_type": "markdown",
   "metadata": {},
   "source": [
    "You can view the full expressions, constraints, etc., of a JuMP model by using Julia's **@show** command. Note: for larger models, this is not recommended as it may crash your notebook. Here, we just output the first five elements:"
   ]
  },
  {
   "cell_type": "code",
   "execution_count": null,
   "metadata": {},
   "outputs": [],
   "source": [
    "@show(eNetSolarStorage[1:5]);\n",
    "@show(eNetExport[1:5]);"
   ]
  },
  {
   "cell_type": "markdown",
   "metadata": {},
   "source": [
    "2. Second, the **total revenue** from sale or purchase of electricity in each time period is expressed by the sum product of prices in each interval times the net AC energy exported (or imported) to (or from) the grid (using the $GRIDEXPORT$ and $GRIDIMPORT$ decision variables). Since prices are expressed per whole MWh and our time intervals are 15 minutes, we multiply the net flow of AC power by 0.25 to determine the total energy sold/purchased.\n",
    "\n",
    "$\\begin{align*} \n",
    "&eRevenue = \\sum_{t \\in T} (GRIDEXPORT_t - GRIDIMPORT_t) \\times Price_t \\times 0.25\n",
    "\\end{align*}$\n",
    "\n",
    "Here we see our first example of the syntax for a sum expression."
   ]
  },
  {
   "cell_type": "code",
   "execution_count": null,
   "metadata": {},
   "outputs": [],
   "source": [
    "@expression(PV_model, eRevenue, sum((GRIDEXPORT[t]-GRIDIMPORT[t])*time_series.Price[t]*0.25 \n",
    "        for t in time_series.T));"
   ]
  },
  {
   "cell_type": "code",
   "execution_count": null,
   "metadata": {},
   "outputs": [],
   "source": [
    "@show(eRevenue);"
   ]
  },
  {
   "cell_type": "markdown",
   "metadata": {},
   "source": [
    "Note that JuMP automatically interprets our expression definitions by converting the parameter references to constants and distributing terms into [linear combination](https://en.wikipedia.org/wiki/Linear_combination) of coefficients and decision variabes, as per the displayed text above. So feel free to define these expressions however you'd like, and JuMP will take care of the math..."
   ]
  },
  {
   "cell_type": "markdown",
   "metadata": {},
   "source": [
    "### 5. Constraints\n",
    "\n",
    "Now we define a set of constraints that define the feasible region for our decision variables, based on the engineering constraints for our solar and storage system.\n",
    "\n",
    "Note that by convention, and to distinguish constraint names from decision variable names and expression names, we will use the convention that all constraint names take the format `cExpressionName`. (This is an optional convention, and you can feel free to adopt your own, but we recommend adopting a consistent convention for naming variables, constraints, expressions, parameters, etc.)\n",
    "\n",
    "1. First, we must conserve energy in each time interval. Power produced in the system over each 15 minute interval must match the net power injected into the grid, accounting for losses from converting DC to AC power and vice versa at the inverter ($inverter\\_eff$). This is what is known as an **energy balance constraint**. We'll make use of our previously defined expression for net DC power produced/consumed by our solar+storage system ($eNetSolarStorage$) and our expression for net DC exports/imports ($eNetExports$) here, and ensure that the two expressions always always equal -- no free energy here! \n",
    "\n",
    "$\\begin{align*} \n",
    "\\quad eNetSolarStorage = eNetExport \\quad \\forall t \\in T\n",
    "\\end{align*}$"
   ]
  },
  {
   "cell_type": "code",
   "execution_count": null,
   "metadata": {},
   "outputs": [],
   "source": [
    "@constraint(PV_model, \n",
    "    cEnergyBalance[t in time_series.T], # Named array of constraints indexed across all times t in T\n",
    "    eNetSolarStorage[t] == eNetExport[t]  # Constraint definition\n",
    ");"
   ]
  },
  {
   "cell_type": "code",
   "execution_count": null,
   "metadata": {},
   "outputs": [],
   "source": [
    "@show(cEnergyBalance[1:5]);"
   ]
  },
  {
   "cell_type": "markdown",
   "metadata": {},
   "source": [
    "You can see that JuMP automatically interprets the expressions here to construct constraints that are [linear combinations](https://en.wikipedia.org/wiki/Linear_combination) of parameters and decision variables only, and moves to the right hand side a single constant (in this case $0$.) That is, JuMP automatically converts all constraint expressions to the form:\n",
    "\n",
    "$\\begin{align*}\n",
    "&a_1 \\times x_1 + a_2 \\times x_2 + ... + a_N \\times x_N == b\\\\\n",
    "&\\text{or: } \\sum_{i=1:N} a_i x_i == b\n",
    "\\end{align*}$  \n",
    "\n",
    "...or the equivalent with inequalities ($\\geq$ or $\\leq)$ replacing the equality constraint. \n",
    "\n",
    "So feel free to express constraint definitions in whatever way is most intuitive to you, and JuMP will figure out the rest."
   ]
  },
  {
   "cell_type": "markdown",
   "metadata": {},
   "source": [
    "2. The **state of charge** of the battery is constrainted to be equal to the state of charge in the prior time period `t-1` plus the energy charged during this time period less the energy discharged during this time period, accounting for storage efficiency losses. \n",
    "\n",
    "$\\begin{align*} \n",
    "SOC_t = SOC_{t-1} + 0.25\\big(CHARGE_t * battery\\_eff - \\frac{DISCHARGE_t}{battery\\_eff}\\big)  \\quad \\forall t \\in T\n",
    "\\end{align*}$\n",
    "\n",
    "Note that as we model 15 minute time steps here, we multiply the charge and discharge power (in MW) by 0.25 to determine the change in storage energy (in MWh). \n",
    "\n",
    "This is an example of a recursive constraint: the state of charge in each period depends on the state of charge in the prior period. So we have to define a special case for the first time period, with the starting state of charge as the simulation defined by a parameter earlier. As each expression refers to the expression in the previous time step, we will proceed through a `for` loop to define each expression..."
   ]
  },
  {
   "cell_type": "code",
   "execution_count": null,
   "metadata": {},
   "outputs": [],
   "source": [
    "# First define an Array of length equal to our time series to contain references to each expression\n",
    "cStateOfCharge = Array{Any}(undef, length(time_series.T))\n",
    "\n",
    "# First period state of charge:\n",
    "cStateOfCharge[1] = @constraint(PV_model, \n",
    "    SOC[1] == start_charge + (CHARGE[1]*battery_eff - DISCHARGE[1]/battery_eff)*0.25\n",
    ") \n",
    "\n",
    "# All other time periods, defined recursively based on prior state of charge\n",
    "for t in time_series.T[(time_series.T .> 1)]\n",
    "    cStateOfCharge[t] = @constraint(PV_model, \n",
    "        SOC[t] == SOC[t-1] + CHARGE[t]*battery_eff*0.25 - DISCHARGE[t]/battery_eff*0.25\n",
    "    )\n",
    "end\n",
    "\n",
    "# cStateOfCharge # display constraints"
   ]
  },
  {
   "cell_type": "markdown",
   "metadata": {},
   "source": [
    "Because of this special definition, we use a generic array of type \"Any\", but JuMP still recognizes this the same as our constraints above."
   ]
  },
  {
   "cell_type": "code",
   "execution_count": null,
   "metadata": {},
   "outputs": [],
   "source": [
    "@show(cStateOfCharge[1:5]);"
   ]
  },
  {
   "cell_type": "markdown",
   "metadata": {},
   "source": [
    "3. Finally, we must constrain the **maximum solar PV output** to reflect the weather-dependent variation in solar insolation in each time period. The maximum available solar power output in each time interval is provided by the parameters in the Solar time series input data. Thus, the constraint is of the form:\n",
    "\n",
    "$\\begin{align*} \n",
    "SOLAR \\leq time\\_series.Solar_t \\quad \\forall t \\in T\n",
    "\\end{align*}$"
   ]
  },
  {
   "cell_type": "code",
   "execution_count": null,
   "metadata": {},
   "outputs": [],
   "source": [
    "@constraint(PV_model, cMaxSolar[t in time_series.T], \n",
    "    SOLAR[t] <= time_series.Solar[t]\n",
    ");"
   ]
  },
  {
   "cell_type": "code",
   "execution_count": null,
   "metadata": {},
   "outputs": [],
   "source": [
    "@show(cMaxSolar[1:5]);"
   ]
  },
  {
   "cell_type": "markdown",
   "metadata": {},
   "source": [
    "### 6. Set Objective Function\n",
    "\n",
    "Finally, we set our objective function, which is to maximize the revenue from our solar and storage system across the time series (one day). We can make use of the revenue expression we defined previous:\n",
    "\n",
    "$\\begin{align*} \n",
    "\\max eRevenue &=\\\\\n",
    "&\\sum_{t \\in T} (GRIDEXPORT_t - GRIDIMPORT_t) \\times Price_t \\times 0.25\n",
    "\\end{align*}$"
   ]
  },
  {
   "cell_type": "code",
   "execution_count": null,
   "metadata": {},
   "outputs": [],
   "source": [
    "@objective(PV_model, Max, eRevenue);"
   ]
  },
  {
   "cell_type": "markdown",
   "metadata": {},
   "source": [
    "\n",
    "\n",
    "\n",
    "Let's take a look at our full model...\n"
   ]
  },
  {
   "cell_type": "code",
   "execution_count": null,
   "metadata": {},
   "outputs": [],
   "source": [
    "PV_model"
   ]
  },
  {
   "cell_type": "markdown",
   "metadata": {},
   "source": [
    "\n",
    "A little more complicated, eh? Now you can see why it is useful to have an algebraic programming language to define more complex models and then hand over to a solver to do the hard math. \n",
    "\n",
    "As JuMP enumerates each individual variable when printing the model, here's a more compact algebraic definition of the solar and storage optimal dispatch problem:\n",
    "\n",
    "\n",
    "$\n",
    "{\\scriptstyle\\begin{align*}\n",
    "& \\max \\sum_{t \\in T} (GRIDEXPORT_t - GRIDIMPORT_t) \\times Price_t \\times 0.25 && \\text{Objective function (revenue)}\\\\[6pt] \n",
    "& \\text{s.t.} && \\\\[6pt]\n",
    "& eNetSolarStorage_t = SOLAR_t + DISCHARGE_t - CHARGE_t & \\forall t \\in T &\\quad \\text{Net solar and storage production (DC MW)} \\\\[6pt]\n",
    "& eNetExport_t = \\frac{GRIDEXPORT_t}{inverter\\_eff} - GRIDIMPORT_t \\times inverter\\_eff & \\forall t \\in T &\\quad \\text{Net grid interchange (DC MW)} \\\\[6pt]\n",
    "& eNetSolarStorage_t = eNetExport_t  & \\forall t \\in T &\\quad \\text{Energy balance constraint} \\\\[6pt]\n",
    "& SOC_1 = start\\_charge + 0.25 \\big(CHARGE_1 * battery\\_eff - \\frac{DISCHARGE_1}{battery\\_eff}\\big)  & &\\\\[6pt]\n",
    "& SOC_t = SOC_{t-1} + 0.25 \\big(CHARGE_t * battery\\_eff - \\frac{DISCHARGE_t}{battery\\_eff}\\big)  & \\forall t \\in T \\text{ & } t > 1 &\\quad \\text{State of charge constraints}\\\\[6pt]\n",
    "& SOLAR_t  \\leq time\\_series.Solar_t     &\\forall t \\in T & \\quad \\text{Solar PV capacity constraints}\\\\[6pt]\n",
    "& CHARGE_t     \\leq battery\\_cap         &\\forall t \\in T & \\quad \\text{Charge capacity constraints}\\\\[6pt]\n",
    "& DISCHARGE_t    \\leq battery\\_cap      &\\forall t \\in T & \\quad \\text{Discharge capacity constraints}\\\\[6pt]\n",
    "& SOC_t    \\leq energy\\_cap             &\\forall t \\in T & \\quad \\text{State of charge capacity constraints}\\\\[6pt]\n",
    "& GRIDEXPORT_t    \\leq grid\\_cap      &\\forall t \\in T & \\quad \\text{Grid capacity constraint (exports)}\\\\[6pt]\n",
    "& GRIDIMPORT_t    \\leq grid\\_cap             &\\forall t \\in T & \\quad \\text{Grid capacity constraint (imports)}\\\\[6pt]\n",
    "& SOLAR_t, CHARGE_t, DISCHARGE_t, &&\\\\\n",
    "& SOC_t, GRIDEXPORT_t, GRIDIMPORT_t, \\geq 0 &\\forall t \\in T & \\quad \\text{Non-negativity constraints}\\\\[6pt]\n",
    "\\end{align*}}\n",
    "$\n"
   ]
  },
  {
   "cell_type": "markdown",
   "metadata": {},
   "source": [
    "\n",
    "\n",
    "Let's optimize this problem!"
   ]
  },
  {
   "cell_type": "code",
   "execution_count": null,
   "metadata": {},
   "outputs": [],
   "source": [
    "optimize!(PV_model)"
   ]
  },
  {
   "cell_type": "markdown",
   "metadata": {},
   "source": [
    "### Results!\n",
    "\n",
    "We can see from the solver that the optimal revenue is \\$7290. \n",
    "\n",
    "We can now access the optimal decision variables as well. As these are now arrays of variables, we must use the [vectorized syntax](https://docs.julialang.org/en/v1/manual/functions/#man-vectorized) version of JuMP's `value()` function: `value.(ArrayOfVariablesReference)` \n",
    "\n",
    "Similarly, for or arrays of expressions or constraints, use: `value.(ArrayOfExpressionsReference)` or `value.(ArrayOfConstraintsReference)`.\n",
    "\n",
    "For example, here's the optimal state of charge for the battery across the day:"
   ]
  },
  {
   "cell_type": "code",
   "execution_count": null,
   "metadata": {},
   "outputs": [],
   "source": [
    "value.(SOC)"
   ]
  },
  {
   "cell_type": "markdown",
   "metadata": {},
   "source": [
    "Additionally, we can compile all of the results into a DataFrame and write to a csv to save our outputs for further analysis.\n",
    "\n",
    "Note however that `value.(Reference)` will return a JuMP [DenseAxisArray](https://jump.dev/JuMP.jl/dev/variables/#variable_jump_arrays-1) which is not a data format that is compatible with DataFrames. To access the numerical values for an array of JuMP variables or expressions in a DenseAxisArray, you use the syntax `value.(Reference).data`."
   ]
  },
  {
   "cell_type": "code",
   "execution_count": null,
   "metadata": {},
   "outputs": [],
   "source": [
    "typeof(value.(SOC))"
   ]
  },
  {
   "cell_type": "code",
   "execution_count": null,
   "metadata": {},
   "outputs": [],
   "source": [
    "typeof(value.(SOC).data)"
   ]
  },
  {
   "cell_type": "markdown",
   "metadata": {},
   "source": [
    "Below we compile the DataFrame and write it to .csv file. Note that we copy in the time intervals and price in each time period from the input time series as well for context."
   ]
  },
  {
   "cell_type": "code",
   "execution_count": null,
   "metadata": {},
   "outputs": [],
   "source": [
    "results = DataFrame(\n",
    "    T = time_series.T,\n",
    "    Price = time_series.Price,\n",
    "    Solar_Output = value.(SOLAR).data, \n",
    "    Storage_Discharge = value.(DISCHARGE).data,\n",
    "    Storage_Charge = value.(CHARGE).data,\n",
    "    Storage_SOC = value.(SOC).data,\n",
    "    Export = value.(GRIDEXPORT).data,\n",
    "    Import = value.(GRIDIMPORT).data,\n",
    "    Interval_Revenue = (value.(GRIDEXPORT).data-value.(GRIDIMPORT).data) .* time_series.Price *0.25\n",
    "    )"
   ]
  },
  {
   "cell_type": "code",
   "execution_count": null,
   "metadata": {},
   "outputs": [],
   "source": [
    "# Let's create a folder for our results\n",
    "path = \"results\" # Replace this with a different path if you prefer to write to another location\n",
    "if !ispath(path) \n",
    "    mkdir(path)\n",
    "end\n",
    "write_path = joinpath(path, \"solar_storage_results.csv\") \n",
    "CSV.write(write_path, results)"
   ]
  },
  {
   "cell_type": "markdown",
   "metadata": {},
   "source": [
    "Finally, let's plot the optimal operational decisions for our solar and storage system...."
   ]
  },
  {
   "cell_type": "code",
   "execution_count": null,
   "metadata": {},
   "outputs": [],
   "source": [
    "plot(results.Solar_Output, label=\"Solar (MW-dc)\")\n",
    "plot!(results.Storage_Discharge, label=\"Discharge (MW-dc)\")\n",
    "plot!(-1*results.Storage_Charge, label=\"Charge (MW-dc)\")\n",
    "plot!(results.Storage_SOC, label=\"State Of Charge (MWh)\")\n",
    "title!(\"Solar and Storage Operations\")\n",
    "xaxis!(\"Time Interval (15 mins)\")\n",
    "yaxis!(\"\")"
   ]
  },
  {
   "cell_type": "code",
   "execution_count": null,
   "metadata": {},
   "outputs": [],
   "source": [
    "plot(results.Price, label=\"Price (\\$/MWh)\")\n",
    "plot!(results.Export- results.Import, label=\"Net Grid Export (MW-ac)\")\n",
    "title!(\"Net Grid Export and Price\")\n",
    "xaxis!(\"Time Interval (15 mins)\")\n",
    "yaxis!(\"\")"
   ]
  },
  {
   "cell_type": "markdown",
   "metadata": {},
   "source": [
    "You can see that the storage system charges during the morning hours by importing power from the grid when energy prices are zero or slightly negative (which means the storage system gets paid to charge!) and discharges a bit during the morning as solar comes on and prices go positive. Later, the system charges storage from a portion of the solar PV output during the middle of the day to avoid curtailing solar output that peaks at 50 MW-dc and exceeds the grid connection capacity (40 MW-ac or 44.444 MW-dc accounting for inverter losses prior to export). This energy is then discharged and exported during the evening when solar output is gone and electricity prices spike to their highest level of the day."
   ]
  },
  {
   "cell_type": "code",
   "execution_count": null,
   "metadata": {},
   "outputs": [],
   "source": []
  }
 ],
 "metadata": {
  "@webio": {
   "lastCommId": null,
   "lastKernelId": null
  },
  "kernelspec": {
   "display_name": "Julia 1.6.2",
   "language": "julia",
   "name": "julia-1.6"
  },
  "language_info": {
   "file_extension": ".jl",
   "mimetype": "application/julia",
   "name": "julia",
   "version": "1.6.2"
  }
 },
 "nbformat": 4,
 "nbformat_minor": 4
}
