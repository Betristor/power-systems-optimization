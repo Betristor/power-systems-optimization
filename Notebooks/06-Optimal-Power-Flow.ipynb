{
 "cells": [
  {
   "cell_type": "markdown",
   "metadata": {},
   "source": [
    "## Optimal Power Flow\n",
    "**Power Systems Optimization**\n",
    "\n",
    "by Michael R. Davidson, Jesse D. Jenkins and Sambuddha Chakrabarti (last updated: October 6, 2020)\n",
    "\n",
    "This notebook provides an introduction to the Optimal Power Flow (OPF) problem in electric power systems&mdash;which minimizes the short-run production costs of meeting electricity demand at a number of connected locations from a given set of generators subject to various technical and transmission network flow limit constraints. This will be our first treatment of a *network*, which is critical to all power systems.\n",
    "\n",
    "We will first introduce a model of transmission flows that assumes we can control the flow along each path, in what is called a \"**transport model**.\" This is a straightforward extension to [Economic Dispatch](04-Economic-Dispatch.ipynb) (ED), where we have multiple supply and demand balance constraints, and a new set of flow constraints. This is also similar to other common optimization problems such as fleet routing of shipments.\n",
    "\n",
    "We will then introduce a linear approximation to the optimal power flow problem known as \"**DC-OPF**\", where we begin to incorporate some of the physics involved in how electricity flows along transmission lines. With this formulation, we recognize that given \"injections\" (i.e., generation) and \"withdrawals\" (i.e., demand) of power at each node in the network, flows along lines are not independently controllable. Instead, electrical power flows across transmission lines in relation to their physical properties, namely power flows across parallel circuits or paths in inverse proportion to the [electrical impedance](https://en.wikipedia.org/wiki/Electrical_impedance) of the lines. This can (very frequently) result in hitting flow constraints before we would if could control power flows across all lines as in the transport problem.\n",
    "\n",
    "Our model does not explore the full functionality of DC-OPF, which can include inter-temporal constraints, additional generation constraints (e.g., on voltage), security constraints to ensure stability in the case of contingencies, and network losses.\n",
    "\n",
    "Full \"AC optimal power flow\" models are also beyond the scope of this notebook, as the full set of physics associated with the interactions of AC flows introduces non-convexities that make this problem much harder to solve. Due to the non-convex nature of the AC power flow problem, simplified formulations that linearize and approximate these complex constraints are frequently employed in power systems operations, including by electricity system operators, which use a linearized \"security-constrained\" optimal power flow (which ensures power flows would remain simulatenously feasible across a range of possible contingencies) to clear real-time electricity markets.\n",
    "\n",
    "We will start off with some simple systems, whose solutions can be worked out manually without resorting to any mathematical optimization model and software. But, eventually we will be solving larger system, thereby emphasizing the importance of such software and mathematical models."
   ]
  },
  {
   "cell_type": "markdown",
   "metadata": {},
   "source": [
    "## Introduction to OPF\n",
    "\n",
    "\n",
    "Optimal Power Flow (OPF) problem is a power system optimal scheduling problem which captures the physics of electricity flows, adding a layer of complexity and more realism to the Economic Dispatch (ED) problem. OPF usually attempts to capture the entire network topology by representing the transmission line interconnections between different nodes (also known as buses, or locations where generators or demand inject or withdraw power into/from the network) including various electrical parameters, such as resistance, series reactance, shunt admittance, etc. The full alternating current or \"AC\" OPF turns out to be an extremely hard problem to solve (usually NP-hard). Hence, system operators and power marketers usually go about solving a linearized version of it, called the \"DC-OPF.\" The DC-OPF approximation works satisfactorily for bulk power transmission networks as long as such networks are not operated at the brink of instability or under heavily loaded conditions."
   ]
  },
  {
   "cell_type": "markdown",
   "metadata": {},
   "source": [
    "## \"Transport\" model\n",
    "We will first examine the case where we allow for transmission but ignore the physics of electricity flows, and instead treat it like transporting an ordinary commodity.\n",
    "\n",
    "$$\n",
    "\\begin{align}\n",
    "\\min \\ & \\sum_{g \\in G} VarCost_g \\times GEN_g & \\\\\n",
    "\\text{s.t.} & \\\\\n",
    " & \\sum_{g \\in G_i} GEN_g - Demand_i = \\sum_{j \\in J_i} FLOW_{ij} & \\forall \\quad i \\in \\mathcal{N}\\\\\n",
    " & FLOW_{ij} \\leq MaxFlow_{ij} & \\forall \\quad i \\in \\mathcal{N}, \\forall j \\in J_i \\\\\n",
    " & FLOW_{ij} = - FLOW_{ji} & \\forall \\quad i, j \\in \\mathcal{N} \\\\\n",
    " & GEN_g \\leq Pmax_g & \\forall \\quad g \\in G \\\\\n",
    " & GEN_g \\geq Pmin_g & \\forall \\quad g \\in G  \n",
    "\\end{align}\n",
    "$$\n",
    "\n",
    "We introduce a few new **sets** in the above:\n",
    "- $\\mathcal{N}$, the set of all nodes (or buses) in the network where generation, storage, or demand (load) are located\n",
    "- $J_i \\subset \\mathcal{N}$, the subset of nodes that are connected to node $i$\n",
    "- $G_i \\subset G$, the subset of generators located at node $i$\n",
    " \n",
    "The **decision variables** in the above problem are:\n",
    "\n",
    "- $GEN_{g}$, the generation (in MW) produced by each generator, $g$\n",
    "- $FLOW_{ij}$, the flow (in MW) along the line from $i$ to $j$\n",
    "\n",
    "The **parameters** are:\n",
    "\n",
    "- $Pmin_g$, the minimum operating bounds for the generator (based on engineering or natural resource constraints)\n",
    "- $Pmax_g$, the maximum operating bounds for the generator (based on engineering or natural resource constraints)\n",
    "- $Demand_i$, the demand (in MW) at bus $i$\n",
    "- $MaxFlow_{ij}$, the maximum allowable flow along the line from $i$ to $j$\n",
    "- $VarCost_g$, the variable cost of generator $g$\n",
    "\n",
    "Notice how the problem above is equivalent to producing a single type of good at a set of factories and shipping them along capacity-limited corridors (roads, rail lines, etc.) to meet a set of demands in other locations. "
   ]
  },
  {
   "cell_type": "markdown",
   "metadata": {},
   "source": [
    "### 1. Load packages"
   ]
  },
  {
   "cell_type": "code",
   "execution_count": 1,
   "metadata": {},
   "outputs": [
    {
     "name": "stderr",
     "output_type": "stream",
     "text": [
      "┌ Info: For saving to png with the Plotly backend ORCA has to be installed.\n",
      "└ @ Plots /Users/michd/.julia/packages/Plots/ViMfq/src/backends.jl:373\n"
     ]
    }
   ],
   "source": [
    "using JuMP, GLPK\n",
    "using Plots; plotly();\n",
    "using VegaLite  # to make some nice plots\n",
    "using DataFrames, CSV, PrettyTables\n",
    "ENV[\"COLUMNS\"]=120; # Set so all columns of DataFrames and Matrices are displayed"
   ]
  },
  {
   "cell_type": "markdown",
   "metadata": {},
   "source": [
    "### 2. Load and format data\n",
    "\n",
    "We will load a modified 3-bus case stored in the [MATPOWER case format](https://matpower.org/docs/ref/matpower5.0/caseformat.html). It consists of:\n",
    "\n",
    "- two generator buses where 1000 MW generators are located, one with variable cost of 50/MWh and another with variable cost of 100/MWh\n",
    "- one load bus where 600 MW of demand is located\n",
    "- three lines connecting the buses, each with a maximum flow of 500 MW\n",
    "\n",
    "The location and numbering of the components:\n",
    "\n",
    "<img src=\"img/opf_network.png\" style=\"width: 450px; height: auto\" align=\"left\">"
   ]
  },
  {
   "cell_type": "code",
   "execution_count": 2,
   "metadata": {},
   "outputs": [
    {
     "data": {
      "text/html": [
       "<table class=\"data-frame\"><thead><tr><th></th><th>bus_i</th><th>type</th><th>pd</th><th>qd</th><th>gs</th><th>bs</th><th>area</th><th>vm</th><th>va</th><th>basekv</th><th>zone</th><th>vmax</th><th>vmin</th></tr><tr><th></th><th>Int64</th><th>Int64</th><th>Int64</th><th>Float64</th><th>Int64</th><th>Int64</th><th>Int64</th><th>Int64</th><th>Int64</th><th>Int64</th><th>Int64</th><th>Float64</th><th>Float64</th></tr></thead><tbody><p>3 rows × 13 columns</p><tr><th>1</th><td>1</td><td>2</td><td>0</td><td>0.0</td><td>0</td><td>0</td><td>1</td><td>1</td><td>0</td><td>230</td><td>1</td><td>1.1</td><td>0.9</td></tr><tr><th>2</th><td>2</td><td>2</td><td>0</td><td>0.0</td><td>0</td><td>0</td><td>1</td><td>1</td><td>0</td><td>230</td><td>1</td><td>1.1</td><td>0.9</td></tr><tr><th>3</th><td>3</td><td>1</td><td>600</td><td>98.61</td><td>0</td><td>0</td><td>1</td><td>1</td><td>0</td><td>230</td><td>1</td><td>1.1</td><td>0.9</td></tr></tbody></table>"
      ],
      "text/latex": [
       "\\begin{tabular}{r|ccccccccccccc}\n",
       "\t& bus\\_i & type & pd & qd & gs & bs & area & vm & va & basekv & zone & vmax & vmin\\\\\n",
       "\t\\hline\n",
       "\t& Int64 & Int64 & Int64 & Float64 & Int64 & Int64 & Int64 & Int64 & Int64 & Int64 & Int64 & Float64 & Float64\\\\\n",
       "\t\\hline\n",
       "\t1 & 1 & 2 & 0 & 0.0 & 0 & 0 & 1 & 1 & 0 & 230 & 1 & 1.1 & 0.9 \\\\\n",
       "\t2 & 2 & 2 & 0 & 0.0 & 0 & 0 & 1 & 1 & 0 & 230 & 1 & 1.1 & 0.9 \\\\\n",
       "\t3 & 3 & 1 & 600 & 98.61 & 0 & 0 & 1 & 1 & 0 & 230 & 1 & 1.1 & 0.9 \\\\\n",
       "\\end{tabular}\n"
      ],
      "text/plain": [
       "3×13 DataFrame\n",
       "│ Row │ bus_i │ type  │ pd    │ qd      │ gs    │ bs    │ area  │ vm    │ va    │ basekv │ zone  │ vmax    │ vmin    │\n",
       "│     │ \u001b[90mInt64\u001b[39m │ \u001b[90mInt64\u001b[39m │ \u001b[90mInt64\u001b[39m │ \u001b[90mFloat64\u001b[39m │ \u001b[90mInt64\u001b[39m │ \u001b[90mInt64\u001b[39m │ \u001b[90mInt64\u001b[39m │ \u001b[90mInt64\u001b[39m │ \u001b[90mInt64\u001b[39m │ \u001b[90mInt64\u001b[39m  │ \u001b[90mInt64\u001b[39m │ \u001b[90mFloat64\u001b[39m │ \u001b[90mFloat64\u001b[39m │\n",
       "├─────┼───────┼───────┼───────┼─────────┼───────┼───────┼───────┼───────┼───────┼────────┼───────┼─────────┼─────────┤\n",
       "│ 1   │ 1     │ 2     │ 0     │ 0.0     │ 0     │ 0     │ 1     │ 1     │ 0     │ 230    │ 1     │ 1.1     │ 0.9     │\n",
       "│ 2   │ 2     │ 2     │ 0     │ 0.0     │ 0     │ 0     │ 1     │ 1     │ 0     │ 230    │ 1     │ 1.1     │ 0.9     │\n",
       "│ 3   │ 3     │ 1     │ 600   │ 98.61   │ 0     │ 0     │ 1     │ 1     │ 0     │ 230    │ 1     │ 1.1     │ 0.9     │"
      ]
     },
     "execution_count": 2,
     "metadata": {},
     "output_type": "execute_result"
    }
   ],
   "source": [
    "datadir = joinpath(\"opf_data\") \n",
    "gen = CSV.read(joinpath(datadir,\"gen.csv\"), DataFrame);\n",
    "gencost = CSV.read(joinpath(datadir,\"gencost.csv\"), DataFrame);\n",
    "branch = CSV.read(joinpath(datadir,\"branch.csv\"), DataFrame);\n",
    "bus = CSV.read(joinpath(datadir,\"bus.csv\"), DataFrame);\n",
    "\n",
    "# Rename all columns to lowercase (by convention)\n",
    "for f in [gen, gencost, branch, bus]\n",
    "    rename!(f,lowercase.(names(f)))\n",
    "end\n",
    "\n",
    "# create generator ids \n",
    "gen.id = 1:nrow(gen);\n",
    "gencost.id = 1:nrow(gencost);\n",
    "\n",
    "# create line ids \n",
    "branch.id = 1:nrow(branch);\n",
    "# add set of rows for reverse direction with same parameters\n",
    "branch2 = copy(branch)\n",
    "branch2.f = branch2.fbus\n",
    "branch2.fbus = branch.tbus\n",
    "branch2.tbus = branch2.f\n",
    "branch2 = branch2[:,names(branch)]\n",
    "append!(branch,branch2)\n",
    "\n",
    "# Here are the buses:\n",
    "bus"
   ]
  },
  {
   "cell_type": "markdown",
   "metadata": {},
   "source": [
    "Columns pd and qd indicate the [active and reactive power](https://en.wikipedia.org/wiki/AC_power#Active,_reactive,_and_apparent_power) withdrawal at the bus. (We will ignore qd for this notebook, since we are not considering full AC power flows.) We do not need any of other columns for our purposes."
   ]
  },
  {
   "cell_type": "code",
   "execution_count": 3,
   "metadata": {},
   "outputs": [
    {
     "data": {
      "text/html": [
       "<table class=\"data-frame\"><thead><tr><th></th><th>bus</th><th>pg</th><th>qg</th><th>qmax</th><th>qmin</th><th>vg</th><th>mbase</th><th>status</th><th>pmax</th><th>pmin</th><th>pc1</th><th>pc2</th><th>qc1min</th><th>qc1max</th><th>qc2min</th><th>qc2max</th></tr><tr><th></th><th>Int64</th><th>Int64</th><th>Int64</th><th>Float64</th><th>Float64</th><th>Int64</th><th>Int64</th><th>Int64</th><th>Int64</th><th>Int64</th><th>Int64</th><th>Int64</th><th>Int64</th><th>Int64</th><th>Int64</th><th>Int64</th></tr></thead><tbody><p>2 rows × 22 columns (omitted printing of 6 columns)</p><tr><th>1</th><td>1</td><td>40</td><td>0</td><td>30.0</td><td>-30.0</td><td>1</td><td>100</td><td>1</td><td>1000</td><td>0</td><td>0</td><td>0</td><td>0</td><td>0</td><td>0</td><td>0</td></tr><tr><th>2</th><td>2</td><td>170</td><td>0</td><td>127.5</td><td>-127.5</td><td>1</td><td>100</td><td>1</td><td>1000</td><td>0</td><td>0</td><td>0</td><td>0</td><td>0</td><td>0</td><td>0</td></tr></tbody></table>"
      ],
      "text/latex": [
       "\\begin{tabular}{r|ccccccccccccccccc}\n",
       "\t& bus & pg & qg & qmax & qmin & vg & mbase & status & pmax & pmin & pc1 & pc2 & qc1min & qc1max & qc2min & qc2max & \\\\\n",
       "\t\\hline\n",
       "\t& Int64 & Int64 & Int64 & Float64 & Float64 & Int64 & Int64 & Int64 & Int64 & Int64 & Int64 & Int64 & Int64 & Int64 & Int64 & Int64 & \\\\\n",
       "\t\\hline\n",
       "\t1 & 1 & 40 & 0 & 30.0 & -30.0 & 1 & 100 & 1 & 1000 & 0 & 0 & 0 & 0 & 0 & 0 & 0 & $\\dots$ \\\\\n",
       "\t2 & 2 & 170 & 0 & 127.5 & -127.5 & 1 & 100 & 1 & 1000 & 0 & 0 & 0 & 0 & 0 & 0 & 0 & $\\dots$ \\\\\n",
       "\\end{tabular}\n"
      ],
      "text/plain": [
       "2×22 DataFrame. Omitted printing of 9 columns\n",
       "│ Row │ bus   │ pg    │ qg    │ qmax    │ qmin    │ vg    │ mbase │ status │ pmax  │ pmin  │ pc1   │ pc2   │ qc1min │\n",
       "│     │ \u001b[90mInt64\u001b[39m │ \u001b[90mInt64\u001b[39m │ \u001b[90mInt64\u001b[39m │ \u001b[90mFloat64\u001b[39m │ \u001b[90mFloat64\u001b[39m │ \u001b[90mInt64\u001b[39m │ \u001b[90mInt64\u001b[39m │ \u001b[90mInt64\u001b[39m  │ \u001b[90mInt64\u001b[39m │ \u001b[90mInt64\u001b[39m │ \u001b[90mInt64\u001b[39m │ \u001b[90mInt64\u001b[39m │ \u001b[90mInt64\u001b[39m  │\n",
       "├─────┼───────┼───────┼───────┼─────────┼─────────┼───────┼───────┼────────┼───────┼───────┼───────┼───────┼────────┤\n",
       "│ 1   │ 1     │ 40    │ 0     │ 30.0    │ -30.0   │ 1     │ 100   │ 1      │ 1000  │ 0     │ 0     │ 0     │ 0      │\n",
       "│ 2   │ 2     │ 170   │ 0     │ 127.5   │ -127.5  │ 1     │ 100   │ 1      │ 1000  │ 0     │ 0     │ 0     │ 0      │"
      ]
     },
     "execution_count": 3,
     "metadata": {},
     "output_type": "execute_result"
    }
   ],
   "source": [
    "# This is what the generator dataset looks like:\n",
    "gen"
   ]
  },
  {
   "cell_type": "code",
   "execution_count": 4,
   "metadata": {},
   "outputs": [
    {
     "data": {
      "text/html": [
       "<table class=\"data-frame\"><thead><tr><th></th><th>model</th><th>startup</th><th>shutdown</th><th>n</th><th>x1</th><th>y1</th><th>id</th></tr><tr><th></th><th>Int64</th><th>Int64</th><th>Int64</th><th>Int64</th><th>Int64</th><th>Int64</th><th>Int64</th></tr></thead><tbody><p>2 rows × 7 columns</p><tr><th>1</th><td>2</td><td>0</td><td>0</td><td>2</td><td>50</td><td>0</td><td>1</td></tr><tr><th>2</th><td>2</td><td>0</td><td>0</td><td>2</td><td>100</td><td>0</td><td>2</td></tr></tbody></table>"
      ],
      "text/latex": [
       "\\begin{tabular}{r|ccccccc}\n",
       "\t& model & startup & shutdown & n & x1 & y1 & id\\\\\n",
       "\t\\hline\n",
       "\t& Int64 & Int64 & Int64 & Int64 & Int64 & Int64 & Int64\\\\\n",
       "\t\\hline\n",
       "\t1 & 2 & 0 & 0 & 2 & 50 & 0 & 1 \\\\\n",
       "\t2 & 2 & 0 & 0 & 2 & 100 & 0 & 2 \\\\\n",
       "\\end{tabular}\n"
      ],
      "text/plain": [
       "2×7 DataFrame\n",
       "│ Row │ model │ startup │ shutdown │ n     │ x1    │ y1    │ id    │\n",
       "│     │ \u001b[90mInt64\u001b[39m │ \u001b[90mInt64\u001b[39m   │ \u001b[90mInt64\u001b[39m    │ \u001b[90mInt64\u001b[39m │ \u001b[90mInt64\u001b[39m │ \u001b[90mInt64\u001b[39m │ \u001b[90mInt64\u001b[39m │\n",
       "├─────┼───────┼─────────┼──────────┼───────┼───────┼───────┼───────┤\n",
       "│ 1   │ 2     │ 0       │ 0        │ 2     │ 50    │ 0     │ 1     │\n",
       "│ 2   │ 2     │ 0       │ 0        │ 2     │ 100   │ 0     │ 2     │"
      ]
     },
     "execution_count": 4,
     "metadata": {},
     "output_type": "execute_result"
    }
   ],
   "source": [
    "# and generator cost dataset:\n",
    "gencost"
   ]
  },
  {
   "cell_type": "markdown",
   "metadata": {},
   "source": [
    "In the above, model=2 indicates a polynomial variable cost formulation and the column n=2 indicates that there are two terms. Thus, we have a linear cost (in the x1 column) without any quadratic terms (and a zero constant term):\n",
    "\n",
    "$$\n",
    "VarCost_g = x1_g\n",
    "$$"
   ]
  },
  {
   "cell_type": "code",
   "execution_count": 5,
   "metadata": {},
   "outputs": [
    {
     "data": {
      "text/html": [
       "<table class=\"data-frame\"><thead><tr><th></th><th>fbus</th><th>tbus</th><th>r</th><th>x</th><th>b</th><th>ratea</th><th>rateb</th><th>ratec</th><th>ratio</th><th>angle</th><th>status</th><th>angmin</th><th>angmax</th><th>id</th></tr><tr><th></th><th>Int64</th><th>Int64</th><th>Float64</th><th>Float64</th><th>Float64</th><th>Int64</th><th>Int64</th><th>Int64</th><th>Int64</th><th>Int64</th><th>Int64</th><th>Int64</th><th>Int64</th><th>Int64</th></tr></thead><tbody><p>6 rows × 14 columns</p><tr><th>1</th><td>1</td><td>3</td><td>0.00281</td><td>0.0281</td><td>0.00712</td><td>500</td><td>500</td><td>500</td><td>0</td><td>0</td><td>1</td><td>-360</td><td>360</td><td>1</td></tr><tr><th>2</th><td>1</td><td>2</td><td>0.00281</td><td>0.0281</td><td>0.00712</td><td>500</td><td>500</td><td>500</td><td>0</td><td>0</td><td>1</td><td>-360</td><td>360</td><td>2</td></tr><tr><th>3</th><td>2</td><td>3</td><td>0.00281</td><td>0.0281</td><td>0.00712</td><td>500</td><td>500</td><td>500</td><td>0</td><td>0</td><td>1</td><td>-360</td><td>360</td><td>3</td></tr><tr><th>4</th><td>3</td><td>1</td><td>0.00281</td><td>0.0281</td><td>0.00712</td><td>500</td><td>500</td><td>500</td><td>0</td><td>0</td><td>1</td><td>-360</td><td>360</td><td>1</td></tr><tr><th>5</th><td>2</td><td>1</td><td>0.00281</td><td>0.0281</td><td>0.00712</td><td>500</td><td>500</td><td>500</td><td>0</td><td>0</td><td>1</td><td>-360</td><td>360</td><td>2</td></tr><tr><th>6</th><td>3</td><td>2</td><td>0.00281</td><td>0.0281</td><td>0.00712</td><td>500</td><td>500</td><td>500</td><td>0</td><td>0</td><td>1</td><td>-360</td><td>360</td><td>3</td></tr></tbody></table>"
      ],
      "text/latex": [
       "\\begin{tabular}{r|cccccccccccccc}\n",
       "\t& fbus & tbus & r & x & b & ratea & rateb & ratec & ratio & angle & status & angmin & angmax & id\\\\\n",
       "\t\\hline\n",
       "\t& Int64 & Int64 & Float64 & Float64 & Float64 & Int64 & Int64 & Int64 & Int64 & Int64 & Int64 & Int64 & Int64 & Int64\\\\\n",
       "\t\\hline\n",
       "\t1 & 1 & 3 & 0.00281 & 0.0281 & 0.00712 & 500 & 500 & 500 & 0 & 0 & 1 & -360 & 360 & 1 \\\\\n",
       "\t2 & 1 & 2 & 0.00281 & 0.0281 & 0.00712 & 500 & 500 & 500 & 0 & 0 & 1 & -360 & 360 & 2 \\\\\n",
       "\t3 & 2 & 3 & 0.00281 & 0.0281 & 0.00712 & 500 & 500 & 500 & 0 & 0 & 1 & -360 & 360 & 3 \\\\\n",
       "\t4 & 3 & 1 & 0.00281 & 0.0281 & 0.00712 & 500 & 500 & 500 & 0 & 0 & 1 & -360 & 360 & 1 \\\\\n",
       "\t5 & 2 & 1 & 0.00281 & 0.0281 & 0.00712 & 500 & 500 & 500 & 0 & 0 & 1 & -360 & 360 & 2 \\\\\n",
       "\t6 & 3 & 2 & 0.00281 & 0.0281 & 0.00712 & 500 & 500 & 500 & 0 & 0 & 1 & -360 & 360 & 3 \\\\\n",
       "\\end{tabular}\n"
      ],
      "text/plain": [
       "6×14 DataFrame. Omitted printing of 1 columns\n",
       "│ Row │ fbus  │ tbus  │ r       │ x       │ b       │ ratea │ rateb │ ratec │ ratio │ angle │ status │ angmin │ angmax │\n",
       "│     │ \u001b[90mInt64\u001b[39m │ \u001b[90mInt64\u001b[39m │ \u001b[90mFloat64\u001b[39m │ \u001b[90mFloat64\u001b[39m │ \u001b[90mFloat64\u001b[39m │ \u001b[90mInt64\u001b[39m │ \u001b[90mInt64\u001b[39m │ \u001b[90mInt64\u001b[39m │ \u001b[90mInt64\u001b[39m │ \u001b[90mInt64\u001b[39m │ \u001b[90mInt64\u001b[39m  │ \u001b[90mInt64\u001b[39m  │ \u001b[90mInt64\u001b[39m  │\n",
       "├─────┼───────┼───────┼─────────┼─────────┼─────────┼───────┼───────┼───────┼───────┼───────┼────────┼────────┼────────┤\n",
       "│ 1   │ 1     │ 3     │ 0.00281 │ 0.0281  │ 0.00712 │ 500   │ 500   │ 500   │ 0     │ 0     │ 1      │ -360   │ 360    │\n",
       "│ 2   │ 1     │ 2     │ 0.00281 │ 0.0281  │ 0.00712 │ 500   │ 500   │ 500   │ 0     │ 0     │ 1      │ -360   │ 360    │\n",
       "│ 3   │ 2     │ 3     │ 0.00281 │ 0.0281  │ 0.00712 │ 500   │ 500   │ 500   │ 0     │ 0     │ 1      │ -360   │ 360    │\n",
       "│ 4   │ 3     │ 1     │ 0.00281 │ 0.0281  │ 0.00712 │ 500   │ 500   │ 500   │ 0     │ 0     │ 1      │ -360   │ 360    │\n",
       "│ 5   │ 2     │ 1     │ 0.00281 │ 0.0281  │ 0.00712 │ 500   │ 500   │ 500   │ 0     │ 0     │ 1      │ -360   │ 360    │\n",
       "│ 6   │ 3     │ 2     │ 0.00281 │ 0.0281  │ 0.00712 │ 500   │ 500   │ 500   │ 0     │ 0     │ 1      │ -360   │ 360    │"
      ]
     },
     "execution_count": 5,
     "metadata": {},
     "output_type": "execute_result"
    }
   ],
   "source": [
    "# Here are the transmission lines:\n",
    "branch"
   ]
  },
  {
   "cell_type": "markdown",
   "metadata": {},
   "source": [
    "Note that while there are three lines, there are six entries here. There is an entry for each 'direction' of flow the lines can accomodate, hence six entries for three lines. The column `fbus` denotes the ID of the \"from bus\" or origin bus and the column `tbus` denotes the ID of the \"to bus\" or destination bus (e.g. `fbus`=1, `tbus`=3 is the flow in the direction from bus 1 to bus 3). \n",
    "\n",
    "For this transport model formulation, we are only using transmission line capacity (known as \"ratings\"), given in `ratea`, `rateb`, and `ratec`. These correspond to different ratings based on how long the line might be overloaded, with `ratec` known as an \"emergency rating\", which could exceed the long-term rating, `ratea`. We will use `ratea` for this model. The dataset also contains resistance and reactance."
   ]
  },
  {
   "cell_type": "markdown",
   "metadata": {},
   "source": [
    "### 3. Create solver function (transport)"
   ]
  },
  {
   "cell_type": "code",
   "execution_count": 6,
   "metadata": {},
   "outputs": [
    {
     "data": {
      "text/plain": [
       "transport (generic function with 1 method)"
      ]
     },
     "execution_count": 6,
     "metadata": {},
     "output_type": "execute_result"
    }
   ],
   "source": [
    "#=\n",
    "Function to solve transport flow problem \n",
    "Inputs:\n",
    "    gen -- dataframe with generator info\n",
    "    branch -- dataframe with transmission lines info\n",
    "    gencost -- dataframe with generator info\n",
    "    bus -- dataframe with bus types and loads\n",
    "Note: it is always a good idea to include a comment blog describing your\n",
    "function's inputs clearly!\n",
    "=#\n",
    "function transport(gen, branch, gencost, bus)\n",
    "    Transport = Model(GLPK.Optimizer) # You could use Clp as well, with Clp.Optimizer\n",
    "    \n",
    "    # Define sets\n",
    "      # Set of all generators\n",
    "    G = gen.id\n",
    "      # Set of all nodes\n",
    "    N = bus.bus_i\n",
    "      # Note: sets J_i and G_i will be described using dataframe indexing below\n",
    "\n",
    "    # Decision variables   \n",
    "    @variables(Transport, begin\n",
    "        GEN[G]  >= 0     # generation        \n",
    "        # Note: we assume Pmin = 0 for all resources for simplicty here\n",
    "        FLOW[N,N]        # flow\n",
    "        # Note: flow is not constrained to be positive\n",
    "        # By convention, positive values will indicate flow from the first to second node\n",
    "        # in the tuple, and a negative flow will indicate flow from the second to the first\n",
    "        # This matrix is thus \"anti-symmetric\", which we will ensure with an appropriate\n",
    "        # constraint.\n",
    "    end)\n",
    "                \n",
    "    # Objective function: minimize sum of generation variable costs for all generators\n",
    "    @objective(Transport, Min, \n",
    "        sum( gencost[g,:x1] * GEN[g] \n",
    "                        for g in G)\n",
    "    )\n",
    "\n",
    "    # Supply/demand balance constraints, accounting for power flows in/out of each node\n",
    "    @constraint(Transport, cBalance[i in N], \n",
    "        sum(GEN[g] for g in gen[gen.bus .== i,:id]) \n",
    "                - bus[bus.bus_i .== i,:pd][1] ==\n",
    "        sum(FLOW[i,j] for j in branch[branch.tbus .== i,:fbus]))\n",
    "\n",
    "    # Max generation constraints\n",
    "    @constraint(Transport, cMaxGen[g in G],\n",
    "                    GEN[g] <= gen[g,:pmax])\n",
    "\n",
    "    # Flow constraints on each branch\n",
    "    for l in 1:nrow(branch)\n",
    "        @constraint(Transport, \n",
    "            FLOW[branch[l,:fbus][1],branch[l,:tbus][1]] <= \n",
    "                        branch[l,:ratea])\n",
    "    end\n",
    "    \n",
    "    # Anti-symmetric flow constraints\n",
    "    @constraint(Transport, cFlowSymmetric[i in N, j in N],\n",
    "                    FLOW[i,j] == -FLOW[j,i])\n",
    "\n",
    "    # Solve statement (! indicates runs in place)\n",
    "    optimize!(Transport)\n",
    "\n",
    "    # Dataframe of optimal decision variables\n",
    "    generation = DataFrame(\n",
    "        id = gen.id,\n",
    "        node = gen.bus,\n",
    "        gen = value.(GEN).data\n",
    "        )\n",
    "    \n",
    "    flows = value.(FLOW).data\n",
    "\n",
    "    # Return the solution and objective as named tuple\n",
    "    return (\n",
    "        generation = generation, \n",
    "        flows,\n",
    "        cost = objective_value(Transport)\n",
    "    )\n",
    "end"
   ]
  },
  {
   "cell_type": "markdown",
   "metadata": {},
   "source": [
    "### 4. Solve"
   ]
  },
  {
   "cell_type": "code",
   "execution_count": 7,
   "metadata": {},
   "outputs": [
    {
     "data": {
      "text/html": [
       "<table class=\"data-frame\"><thead><tr><th></th><th>id</th><th>node</th><th>gen</th></tr><tr><th></th><th>Int64</th><th>Int64</th><th>Float64</th></tr></thead><tbody><p>2 rows × 3 columns</p><tr><th>1</th><td>1</td><td>1</td><td>600.0</td></tr><tr><th>2</th><td>2</td><td>2</td><td>0.0</td></tr></tbody></table>"
      ],
      "text/latex": [
       "\\begin{tabular}{r|ccc}\n",
       "\t& id & node & gen\\\\\n",
       "\t\\hline\n",
       "\t& Int64 & Int64 & Float64\\\\\n",
       "\t\\hline\n",
       "\t1 & 1 & 1 & 600.0 \\\\\n",
       "\t2 & 2 & 2 & 0.0 \\\\\n",
       "\\end{tabular}\n"
      ],
      "text/plain": [
       "2×3 DataFrame\n",
       "│ Row │ id    │ node  │ gen     │\n",
       "│     │ \u001b[90mInt64\u001b[39m │ \u001b[90mInt64\u001b[39m │ \u001b[90mFloat64\u001b[39m │\n",
       "├─────┼───────┼───────┼─────────┤\n",
       "│ 1   │ 1     │ 1     │ 600.0   │\n",
       "│ 2   │ 2     │ 2     │ 0.0     │"
      ]
     },
     "execution_count": 7,
     "metadata": {},
     "output_type": "execute_result"
    }
   ],
   "source": [
    "solution = transport(gen, branch, gencost, bus)\n",
    "solution.generation"
   ]
  },
  {
   "cell_type": "markdown",
   "metadata": {},
   "source": [
    "We generate all 600 MW from Gen A at Bus 1."
   ]
  },
  {
   "cell_type": "code",
   "execution_count": 8,
   "metadata": {},
   "outputs": [
    {
     "data": {
      "text/html": [
       "<table class=\"data-frame\"><thead><tr><th></th><th>x1</th><th>x2</th><th>x3</th></tr><tr><th></th><th>Float64</th><th>Float64</th><th>Float64</th></tr></thead><tbody><p>3 rows × 3 columns</p><tr><th>1</th><td>0.0</td><td>100.0</td><td>500.0</td></tr><tr><th>2</th><td>-100.0</td><td>0.0</td><td>100.0</td></tr><tr><th>3</th><td>-500.0</td><td>-100.0</td><td>0.0</td></tr></tbody></table>"
      ],
      "text/latex": [
       "\\begin{tabular}{r|ccc}\n",
       "\t& x1 & x2 & x3\\\\\n",
       "\t\\hline\n",
       "\t& Float64 & Float64 & Float64\\\\\n",
       "\t\\hline\n",
       "\t1 & 0.0 & 100.0 & 500.0 \\\\\n",
       "\t2 & -100.0 & 0.0 & 100.0 \\\\\n",
       "\t3 & -500.0 & -100.0 & 0.0 \\\\\n",
       "\\end{tabular}\n"
      ],
      "text/plain": [
       "3×3 DataFrame\n",
       "│ Row │ x1      │ x2      │ x3      │\n",
       "│     │ \u001b[90mFloat64\u001b[39m │ \u001b[90mFloat64\u001b[39m │ \u001b[90mFloat64\u001b[39m │\n",
       "├─────┼─────────┼─────────┼─────────┤\n",
       "│ 1   │ 0.0     │ 100.0   │ 500.0   │\n",
       "│ 2   │ -100.0  │ 0.0     │ 100.0   │\n",
       "│ 3   │ -500.0  │ -100.0  │ 0.0     │"
      ]
     },
     "execution_count": 8,
     "metadata": {},
     "output_type": "execute_result"
    }
   ],
   "source": [
    "DataFrame(solution.flows)"
   ]
  },
  {
   "cell_type": "markdown",
   "metadata": {},
   "source": [
    "In turn, the following flows are created: \n",
    "\n",
    "- $l_{13}$ = 500 MW\n",
    "- $l_{12}$ = 100 MW\n",
    "- $l_{23}$ = 100 MW\n",
    "\n",
    "Hence, we are able to maximize the capacity of the line from 1 to 3 ($l_{13}$), and then route the remaining power through Bus 2."
   ]
  },
  {
   "cell_type": "markdown",
   "metadata": {},
   "source": [
    "## The \"DC\" Optimal Power Flow problem\n",
    "\n",
    "The above model is not physically correct as we cannot arbitrarily route power through lines. We will now introduce a linear approximation to the optimal power flow problem that incorporates this limitation and is tractable and reasonably accurate. This is commonly called the \"DC\" optimal power flow problem, but in reality (as we'll see below), it is a linearization that still relates to the physics of AC power flows, it just simplifies (and ignores) certain non-convexities to produce a tractable linear programming problem that remains a valid approximation under certain circumstances.\n",
    "\n",
    "In the \"DC\" or linear approximation of the AC optimal power flow problem, power flows along a line from bus $i$ to bus $j$ are driven by voltage [phase angle](https://en.wikipedia.org/wiki/Phasor) differences, denoted by $\\theta_i$ and $\\theta_j$:\n",
    "\n",
    "$$\n",
    "FLOW_{ij} = B_{ij}(\\theta_j-\\theta_i)\n",
    "$$\n",
    "\n",
    "Where $B_{ij}$ is the [susceptance](https://en.wikipedia.org/wiki/Susceptance) for the line connecting buses $i$ and $j$. Susceptance is the imaginary part of the [admittance](https://en.wikipedia.org/wiki/Admittance) of a line, where [admittance](https://en.wikipedia.org/wiki/Admittance) is a complex number that describes how easy it is for AC current to flow across a given conductor. Power flows in parallel circuits in an AC network in proportion to their admittance (or inverse proportion to [impedance](https://en.wikipedia.org/wiki/Electrical_impedance), which describes how hard it is a measure of the opposition that a circuit presents to a current when a voltage is applied).\n",
    "\n",
    "Voltage [phase](https://www.allaboutcircuits.com/textbook/alternating-current/chpt-1/ac-phase/) angles describe the displacement of the AC voltage waveform at each node, relative to a reference bus. A difference in voltage angles between buses $i$ and $j$ indicates that the peaks and troughs in the sinusoidal voltage waveform at bus $i$ is shifted in time relative to the voltage waveform at bus $j$, as in the image below.\n",
    "\n",
    "<img src=\"img/phase_shift.png\" style=\"width: 450px; height: auto\"> (*Image source: [allaboutcircuits.com](https://www.allaboutcircuits.com/textbook/alternating-current/chpt-1/ac-phase/)*)\n",
    "\n",
    "What causes the shift in voltage phase angle? An AC current flowing across a conductor encountering either [inductive reactance](https://en.wikipedia.org/wiki/Electrical_impedance#Inductive_reactance) (which relates to the quantity of energy required to continually induce or establish magnetic fields around a conductor as AC current polarity flips each cycle) or [capacitive reactance](https://en.wikipedia.org/wiki/Electrical_impedance#Capacitive_reactance) (which relates to the quantity of energy required to sustain capacitive charges between two conductors separated by an insulator) will experience a shift in the voltage waveform, relative to the current wave form. Inductive reactance causes the voltage waveform to shift forward relative to the current, while capacitive reactive cases the voltage to shift backwards relative to the current. In transmission lines, the primary source of voltage phase angle shifts is the inductance of the transmission lines themselves.\n",
    "\n",
    "The reason this approximation is known as the \"DC OPF\" is because we ignore reactive power flows and focus only on flows of real power as in a DC network. But you can see why \"DC\" OPF is actually a misnomer: we're still dealing with AC voltages and susceptance terms here, we're just linearizing the problem through some simplifying assumptions. In particular, the three basic assumptions used to derive a linearized or OPF approximation from the underlying AC OPF problem are as follows:\n",
    "\n",
    "1. The resistance for each branch is negligible relative to the reactance, and can therefore be approximated as ~0.\n",
    "2. The voltage magnitude at each bus is equal to the base voltage.\n",
    "3. The voltage angle difference $(\\theta_j-\\theta_i)$ across any branch from bus $i$ to $j$ is sufficiently small such that $cos(\\theta_j-\\theta_i) \\approx 1$ and $sin(\\theta_j-\\theta_i) \\approx (\\theta_j-\\theta_i)$\n",
    "\n",
    "Fortunately, under normal operating conditions, these conditions hold for electricity transmission networks (although note they are not generally acceptable simplifying assumptions for lower voltage distribution networks). "
   ]
  },
  {
   "cell_type": "markdown",
   "metadata": {},
   "source": [
    "We can now modify the above transport model to incorporate these new power flow-related decision variables and constraints:\n",
    "\n",
    "$$\n",
    "\\begin{align}\n",
    "\\min \\ & \\sum_{g \\in G} VarCost_g \\times GEN_g & \\\\\n",
    "\\text{s.t.} & \\\\\n",
    " & \\sum_{g \\in G_i} GEN_g - Demand_i = \\sum_{j\\in J(i)}B_{ij}(\\theta_j-\\theta_i) & \\forall \\quad i \\in \\mathcal{N}\\\\\n",
    " & B_{ij}(\\theta_j-\\theta_i) \\leq MaxFlow_{ij} & \\forall \\quad i \\in \\mathcal{N}, \\forall j \\in J_i \\\\\n",
    " & GEN_g \\leq Pmax_g & \\forall \\quad g \\in G \\\\\n",
    " & GEN_g \\geq Pmin_g & \\forall \\quad g \\in G \\\\\n",
    " & \\theta_1 = \\theta_{slack} \n",
    "\\end{align}\n",
    "$$\n",
    "\n",
    "Note that we no longer require a constraint to enforce anti-symmetric flows.\n",
    "\n",
    "We have the following **sets**:\n",
    "- $\\mathcal{N}$, the set of all nodes (or buses) in the network\n",
    "- $J_i \\subset \\mathcal{N}$, the subset of nodes that are connected to node $i$\n",
    "- $G_i \\subset G$, the subset of generators located at node $i$\n",
    " \n",
    "The **decision variables** in the above problem are:\n",
    "\n",
    "- $GEN_{g}$, the generation (in MW) produced by each generator, $g$\n",
    "- $\\theta_i$, the voltage phase angle at bus $i$ relative to the reference bus (THETA_i in the function below)\n",
    "\n",
    "Note that unlike the transport flow problem, in the OPF problem we *do not* directly choose the flows across lines, but rather choose the real power injections at generator buses via $GEN_{g}$ and the voltage angles $\\theta_i$, which collectively determine the power flows across lines via the collection of constraints above.\n",
    "\n",
    "The **parameters** are:\n",
    "\n",
    "- $Pmin_g$, the minimum operating bounds for the generator (based on engineering or natural resource constraints)\n",
    "- $Pmax_g$, the maximum operating bounds for the generator (based on engineering or natural resource constraints)\n",
    "- $Demand_i$, the demand (in MW) at bus $i$\n",
    "- $MaxFlow_{ij}$, the maximum allowable flow along the line from $i$ to $j$\n",
    "- $VarCost_g$, the variable cost of generator $g$\n",
    "- $B_{ij}$, susceptance for line connecting buses $i$ and $j$\n",
    "- $\\theta_{slack}$, the \"slack\" bus or reference bus from which relative voltage angles at all other buses are calcluated. Thus $\\theta_{slack}=0$."
   ]
  },
  {
   "cell_type": "markdown",
   "metadata": {},
   "source": [
    "### 3. Create solver function (dcopf)"
   ]
  },
  {
   "cell_type": "code",
   "execution_count": 9,
   "metadata": {},
   "outputs": [
    {
     "data": {
      "text/plain": [
       "dcopf (generic function with 1 method)"
      ]
     },
     "execution_count": 9,
     "metadata": {},
     "output_type": "execute_result"
    }
   ],
   "source": [
    "#=\n",
    "Function to solve DC OPF problem \n",
    "Inputs:\n",
    "    gen -- dataframe with generator info\n",
    "    branch -- dataframe with transmission lines info\n",
    "    gencost -- dataframe with generator info\n",
    "    bus -- dataframe with bus types and loads\n",
    "Note: it is always a good idea to include a comment blog describing your\n",
    "function's inputs clearly!\n",
    "=#\n",
    "function dcopf(gen, branch, gencost, bus)\n",
    "    DCOPF = Model(GLPK.Optimizer) # You could use Clp as well, with Clp.Optimizer\n",
    "    \n",
    "    # Define sets\n",
    "      # Set of all generators\n",
    "    G = gen.id\n",
    "      # Set of all nodes\n",
    "    N = bus.bus_i\n",
    "    \n",
    "    # Define conversion of impendance from p.u. (as provided in inputs) to SI units\n",
    "    # It is common for power systems data to be in \"per units\" (p.u.) units,\n",
    "    #  with respect to some given base voltage level (which could vary by line).\n",
    "    # In the current problem, the whole network is assumed to be at the same voltage,\n",
    "    #  given in bus.basekv . Power is given in MW (i.e., 10^6 W).\n",
    "    # To convert impedance, we use the formula: Z = V^2 / P\n",
    "    pu_base = (bus.basekv[1]*1e3)^2 / 1e6\n",
    "    \n",
    "      # sets J_i and G_i will be described using dataframe indexing below\n",
    "\n",
    "    # Decision variables   \n",
    "    @variables(DCOPF, begin\n",
    "        GEN[G]  >= 0     # generation        \n",
    "        # Note: we assume Pmin = 0 for all resources for simplicty here\n",
    "        THETA[N]         # voltage phase angle of bus\n",
    "    end)\n",
    "    \n",
    "    # Create slack bus with reference angle = 0\n",
    "    # Note: by convention this is a generator bus. Hence, we will select bus 1\n",
    "    fix(THETA[1],0)\n",
    "                \n",
    "    # Objective function\n",
    "    @objective(DCOPF, Min, \n",
    "        sum( gencost[g,:x1] * GEN[g] \n",
    "                        for g in G)\n",
    "    )\n",
    "    \n",
    "    # Supply demand balances\n",
    "    #  Note: we multiply here by pu_base to get values in MWs\n",
    "    @constraint(DCOPF, cBalance[i in N], \n",
    "        sum(GEN[g] for g in gen[gen.bus .== i,:id]) \n",
    "                - bus[bus.bus_i .== i,:pd][1] ==\n",
    "        sum(branch[(branch.fbus .== i) .& (branch.tbus .== j),:b][1] *\n",
    "            pu_base * \n",
    "            (THETA[j] - THETA[i])\n",
    "            for j in branch[branch.fbus .== i,:tbus]))\n",
    "\n",
    "    # Max generation constraint\n",
    "    @constraint(DCOPF, cMaxGen[g in G],\n",
    "                    GEN[g] <= gen[g,:pmax])\n",
    "\n",
    "    # Flow constraints\n",
    "    #  Note: we multiply here by pu_base to get values in MWs   \n",
    "    for l in 1:nrow(branch)\n",
    "        @constraint(DCOPF,\n",
    "            branch[l,:b] * pu_base *   \n",
    "            (THETA[branch[l,:tbus][1]] - THETA[branch[l,:fbus][1]]) <= \n",
    "                        branch[l,:ratea])\n",
    "    end\n",
    "\n",
    "    # Solve statement (! indicates runs in place)\n",
    "    optimize!(DCOPF)\n",
    "\n",
    "    # Output variables\n",
    "    generation = DataFrame(\n",
    "        id = gen.id,\n",
    "        node = gen.bus,\n",
    "        gen = value.(GEN).data\n",
    "        )\n",
    "    \n",
    "    angles = value.(THETA).data\n",
    "    \n",
    "    flows = DataFrame(\n",
    "        fbus = branch.fbus,\n",
    "        tbus = branch.tbus,\n",
    "        flow = pu_base .* branch.b .* (angles[branch.tbus] .- \n",
    "                        angles[branch.fbus]))\n",
    "    \n",
    "    # We output the marginal values of the demand constraints, \n",
    "    # which will in fact be the prices to deliver power at a given bus.\n",
    "    prices = DataFrame(\n",
    "        node = bus.bus_i,\n",
    "        value = dual.(cBalance).data)\n",
    "    \n",
    "    # Return the solution and objective as named tuple\n",
    "    return (\n",
    "        generation = generation, \n",
    "        angles,\n",
    "        flows,\n",
    "        prices,\n",
    "        cost = objective_value(DCOPF)\n",
    "    )\n",
    "end"
   ]
  },
  {
   "cell_type": "markdown",
   "metadata": {},
   "source": [
    "### 4. Solve"
   ]
  },
  {
   "cell_type": "code",
   "execution_count": 10,
   "metadata": {},
   "outputs": [
    {
     "data": {
      "text/html": [
       "<table class=\"data-frame\"><thead><tr><th></th><th>id</th><th>node</th><th>gen</th></tr><tr><th></th><th>Int64</th><th>Int64</th><th>Float64</th></tr></thead><tbody><p>2 rows × 3 columns</p><tr><th>1</th><td>1</td><td>1</td><td>600.0</td></tr><tr><th>2</th><td>2</td><td>2</td><td>0.0</td></tr></tbody></table>"
      ],
      "text/latex": [
       "\\begin{tabular}{r|ccc}\n",
       "\t& id & node & gen\\\\\n",
       "\t\\hline\n",
       "\t& Int64 & Int64 & Float64\\\\\n",
       "\t\\hline\n",
       "\t1 & 1 & 1 & 600.0 \\\\\n",
       "\t2 & 2 & 2 & 0.0 \\\\\n",
       "\\end{tabular}\n"
      ],
      "text/plain": [
       "2×3 DataFrame\n",
       "│ Row │ id    │ node  │ gen     │\n",
       "│     │ \u001b[90mInt64\u001b[39m │ \u001b[90mInt64\u001b[39m │ \u001b[90mFloat64\u001b[39m │\n",
       "├─────┼───────┼───────┼─────────┤\n",
       "│ 1   │ 1     │ 1     │ 600.0   │\n",
       "│ 2   │ 2     │ 2     │ 0.0     │"
      ]
     },
     "execution_count": 10,
     "metadata": {},
     "output_type": "execute_result"
    }
   ],
   "source": [
    "solution = dcopf(gen, branch, gencost, bus)\n",
    "solution.generation"
   ]
  },
  {
   "cell_type": "markdown",
   "metadata": {},
   "source": [
    "Hence, we generate all 600 MW from Gen A at Bus 1."
   ]
  },
  {
   "cell_type": "code",
   "execution_count": 11,
   "metadata": {},
   "outputs": [
    {
     "data": {
      "text/plain": [
       "3-element Array{Float64,1}:\n",
       " 0.0\n",
       " 0.5309997663601028\n",
       " 1.0619995327202056"
      ]
     },
     "execution_count": 11,
     "metadata": {},
     "output_type": "execute_result"
    }
   ],
   "source": [
    "# These are the voltage phase angles of the buses relative to Bus 1.\n",
    "solution.angles"
   ]
  },
  {
   "cell_type": "code",
   "execution_count": 12,
   "metadata": {},
   "outputs": [
    {
     "data": {
      "text/html": [
       "<table class=\"data-frame\"><thead><tr><th></th><th>fbus</th><th>tbus</th><th>flow</th></tr><tr><th></th><th>Int64</th><th>Int64</th><th>Float64</th></tr></thead><tbody><p>6 rows × 3 columns</p><tr><th>1</th><td>1</td><td>3</td><td>400.0</td></tr><tr><th>2</th><td>1</td><td>2</td><td>200.0</td></tr><tr><th>3</th><td>2</td><td>3</td><td>200.0</td></tr><tr><th>4</th><td>3</td><td>1</td><td>-400.0</td></tr><tr><th>5</th><td>2</td><td>1</td><td>-200.0</td></tr><tr><th>6</th><td>3</td><td>2</td><td>-200.0</td></tr></tbody></table>"
      ],
      "text/latex": [
       "\\begin{tabular}{r|ccc}\n",
       "\t& fbus & tbus & flow\\\\\n",
       "\t\\hline\n",
       "\t& Int64 & Int64 & Float64\\\\\n",
       "\t\\hline\n",
       "\t1 & 1 & 3 & 400.0 \\\\\n",
       "\t2 & 1 & 2 & 200.0 \\\\\n",
       "\t3 & 2 & 3 & 200.0 \\\\\n",
       "\t4 & 3 & 1 & -400.0 \\\\\n",
       "\t5 & 2 & 1 & -200.0 \\\\\n",
       "\t6 & 3 & 2 & -200.0 \\\\\n",
       "\\end{tabular}\n"
      ],
      "text/plain": [
       "6×3 DataFrame\n",
       "│ Row │ fbus  │ tbus  │ flow    │\n",
       "│     │ \u001b[90mInt64\u001b[39m │ \u001b[90mInt64\u001b[39m │ \u001b[90mFloat64\u001b[39m │\n",
       "├─────┼───────┼───────┼─────────┤\n",
       "│ 1   │ 1     │ 3     │ 400.0   │\n",
       "│ 2   │ 1     │ 2     │ 200.0   │\n",
       "│ 3   │ 2     │ 3     │ 200.0   │\n",
       "│ 4   │ 3     │ 1     │ -400.0  │\n",
       "│ 5   │ 2     │ 1     │ -200.0  │\n",
       "│ 6   │ 3     │ 2     │ -200.0  │"
      ]
     },
     "execution_count": 12,
     "metadata": {},
     "output_type": "execute_result"
    }
   ],
   "source": [
    "solution.flows"
   ]
  },
  {
   "cell_type": "markdown",
   "metadata": {},
   "source": [
    "Thus, we notice that, in contrast to the transport model, we do not max out the capacity of $l_{13}$. The following flows are created: \n",
    "\n",
    "- $l_{1,3}$ = 400 MW\n",
    "- $l_{1,2}$ = 200 MW\n",
    "- $l_{2,3}$ = 200 MW\n",
    "\n",
    "The reason we can't make maximum use of line $l_{1,3}$ is because power flows split across parallel circuits in inverse proportion to the impedance of the circuit paths. Here, all three branches have equal susceptance, and thus equal impedance (since we are assuming resistance is ~0). Thus, the path $l_{1,2} \\rightarrow l_{2,3}$ has twice the impedance as the path $l_{1,3}$ and thus takes half as much power flow coming from Gen A at Bus 1."
   ]
  },
  {
   "cell_type": "markdown",
   "metadata": {},
   "source": [
    "### 5. Solve high demand case\n",
    "\n",
    "Now, let's increase demand at Bus 3 to 800 MW. Despite spare capacity at Gen A, it turns out we will no longer be able to generate all of our power from Gen A alone."
   ]
  },
  {
   "cell_type": "code",
   "execution_count": 13,
   "metadata": {},
   "outputs": [
    {
     "data": {
      "text/html": [
       "<table class=\"data-frame\"><thead><tr><th></th><th>id</th><th>node</th><th>gen</th></tr><tr><th></th><th>Int64</th><th>Int64</th><th>Float64</th></tr></thead><tbody><p>2 rows × 3 columns</p><tr><th>1</th><td>1</td><td>1</td><td>700.0</td></tr><tr><th>2</th><td>2</td><td>2</td><td>100.0</td></tr></tbody></table>"
      ],
      "text/latex": [
       "\\begin{tabular}{r|ccc}\n",
       "\t& id & node & gen\\\\\n",
       "\t\\hline\n",
       "\t& Int64 & Int64 & Float64\\\\\n",
       "\t\\hline\n",
       "\t1 & 1 & 1 & 700.0 \\\\\n",
       "\t2 & 2 & 2 & 100.0 \\\\\n",
       "\\end{tabular}\n"
      ],
      "text/plain": [
       "2×3 DataFrame\n",
       "│ Row │ id    │ node  │ gen     │\n",
       "│     │ \u001b[90mInt64\u001b[39m │ \u001b[90mInt64\u001b[39m │ \u001b[90mFloat64\u001b[39m │\n",
       "├─────┼───────┼───────┼─────────┤\n",
       "│ 1   │ 1     │ 1     │ 700.0   │\n",
       "│ 2   │ 2     │ 2     │ 100.0   │"
      ]
     },
     "execution_count": 13,
     "metadata": {},
     "output_type": "execute_result"
    }
   ],
   "source": [
    "bus_high = copy(bus)\n",
    "bus_high[3,:pd] = 800\n",
    "\n",
    "sol_high = dcopf(gen, branch, gencost, bus_high)\n",
    "sol_high.generation"
   ]
  },
  {
   "cell_type": "markdown",
   "metadata": {},
   "source": [
    "This situation is explained by flow patterns, where the capacity of $l_{13}$ is at its maximum, but in order to meet demand at Bus 3, more power needs to be injected in Bus 2, requiring the more costly generator at Bus 2 to dispatch, despite spare capacity at the generator at Bus 1."
   ]
  },
  {
   "cell_type": "code",
   "execution_count": 14,
   "metadata": {},
   "outputs": [
    {
     "data": {
      "text/html": [
       "<table class=\"data-frame\"><thead><tr><th></th><th>fbus</th><th>tbus</th><th>flow</th></tr><tr><th></th><th>Int64</th><th>Int64</th><th>Float64</th></tr></thead><tbody><p>6 rows × 3 columns</p><tr><th>1</th><td>1</td><td>3</td><td>500.0</td></tr><tr><th>2</th><td>1</td><td>2</td><td>200.0</td></tr><tr><th>3</th><td>2</td><td>3</td><td>300.0</td></tr><tr><th>4</th><td>3</td><td>1</td><td>-500.0</td></tr><tr><th>5</th><td>2</td><td>1</td><td>-200.0</td></tr><tr><th>6</th><td>3</td><td>2</td><td>-300.0</td></tr></tbody></table>"
      ],
      "text/latex": [
       "\\begin{tabular}{r|ccc}\n",
       "\t& fbus & tbus & flow\\\\\n",
       "\t\\hline\n",
       "\t& Int64 & Int64 & Float64\\\\\n",
       "\t\\hline\n",
       "\t1 & 1 & 3 & 500.0 \\\\\n",
       "\t2 & 1 & 2 & 200.0 \\\\\n",
       "\t3 & 2 & 3 & 300.0 \\\\\n",
       "\t4 & 3 & 1 & -500.0 \\\\\n",
       "\t5 & 2 & 1 & -200.0 \\\\\n",
       "\t6 & 3 & 2 & -300.0 \\\\\n",
       "\\end{tabular}\n"
      ],
      "text/plain": [
       "6×3 DataFrame\n",
       "│ Row │ fbus  │ tbus  │ flow    │\n",
       "│     │ \u001b[90mInt64\u001b[39m │ \u001b[90mInt64\u001b[39m │ \u001b[90mFloat64\u001b[39m │\n",
       "├─────┼───────┼───────┼─────────┤\n",
       "│ 1   │ 1     │ 3     │ 500.0   │\n",
       "│ 2   │ 1     │ 2     │ 200.0   │\n",
       "│ 3   │ 2     │ 3     │ 300.0   │\n",
       "│ 4   │ 3     │ 1     │ -500.0  │\n",
       "│ 5   │ 2     │ 1     │ -200.0  │\n",
       "│ 6   │ 3     │ 2     │ -300.0  │"
      ]
     },
     "execution_count": 14,
     "metadata": {},
     "output_type": "execute_result"
    }
   ],
   "source": [
    "sol_high.flows"
   ]
  },
  {
   "cell_type": "markdown",
   "metadata": {},
   "source": [
    "The following flows are created: \n",
    "\n",
    "- $l_{1,3}$ = 500 MW\n",
    "- $l_{1,2}$ = 200 MW\n",
    "- $l_{2,3}$ = 300 MW"
   ]
  },
  {
   "cell_type": "markdown",
   "metadata": {},
   "source": [
    "### 6. Compare prices\n",
    "\n",
    "The marginal values of the demand constraints at a given bus represent the change in the objective that results from increasing demand at the bus by one unit. This is the natural definition of a \"value\" of power at that location, and is the basis for **[locational marginal prices](https://www.iso-ne.com/participate/support/faq/lmp)** (LMPs) found in electricity markets.\n",
    "\n",
    "We examine first the regular case of demand = 600 MW, then the high demand case = 800 MW."
   ]
  },
  {
   "cell_type": "code",
   "execution_count": 15,
   "metadata": {},
   "outputs": [
    {
     "data": {
      "text/html": [
       "<table class=\"data-frame\"><thead><tr><th></th><th>node</th><th>value</th></tr><tr><th></th><th>Int64</th><th>Float64</th></tr></thead><tbody><p>3 rows × 2 columns</p><tr><th>1</th><td>1</td><td>50.0</td></tr><tr><th>2</th><td>2</td><td>50.0</td></tr><tr><th>3</th><td>3</td><td>50.0</td></tr></tbody></table>"
      ],
      "text/latex": [
       "\\begin{tabular}{r|cc}\n",
       "\t& node & value\\\\\n",
       "\t\\hline\n",
       "\t& Int64 & Float64\\\\\n",
       "\t\\hline\n",
       "\t1 & 1 & 50.0 \\\\\n",
       "\t2 & 2 & 50.0 \\\\\n",
       "\t3 & 3 & 50.0 \\\\\n",
       "\\end{tabular}\n"
      ],
      "text/plain": [
       "3×2 DataFrame\n",
       "│ Row │ node  │ value   │\n",
       "│     │ \u001b[90mInt64\u001b[39m │ \u001b[90mFloat64\u001b[39m │\n",
       "├─────┼───────┼─────────┤\n",
       "│ 1   │ 1     │ 50.0    │\n",
       "│ 2   │ 2     │ 50.0    │\n",
       "│ 3   │ 3     │ 50.0    │"
      ]
     },
     "execution_count": 15,
     "metadata": {},
     "output_type": "execute_result"
    }
   ],
   "source": [
    "solution.prices"
   ]
  },
  {
   "cell_type": "markdown",
   "metadata": {},
   "source": [
    "All prices are the same in this case. The interpretation: if we were to add an incremental load at any of the buses, we could meet it from additional production from Gen A which has marginal cost of \\$50 / MWh. We are not going to hit any transmission limits."
   ]
  },
  {
   "cell_type": "code",
   "execution_count": 16,
   "metadata": {},
   "outputs": [
    {
     "data": {
      "text/html": [
       "<table class=\"data-frame\"><thead><tr><th></th><th>node</th><th>value</th></tr><tr><th></th><th>Int64</th><th>Float64</th></tr></thead><tbody><p>3 rows × 2 columns</p><tr><th>1</th><td>1</td><td>50.0</td></tr><tr><th>2</th><td>2</td><td>100.0</td></tr><tr><th>3</th><td>3</td><td>150.0</td></tr></tbody></table>"
      ],
      "text/latex": [
       "\\begin{tabular}{r|cc}\n",
       "\t& node & value\\\\\n",
       "\t\\hline\n",
       "\t& Int64 & Float64\\\\\n",
       "\t\\hline\n",
       "\t1 & 1 & 50.0 \\\\\n",
       "\t2 & 2 & 100.0 \\\\\n",
       "\t3 & 3 & 150.0 \\\\\n",
       "\\end{tabular}\n"
      ],
      "text/plain": [
       "3×2 DataFrame\n",
       "│ Row │ node  │ value   │\n",
       "│     │ \u001b[90mInt64\u001b[39m │ \u001b[90mFloat64\u001b[39m │\n",
       "├─────┼───────┼─────────┤\n",
       "│ 1   │ 1     │ 50.0    │\n",
       "│ 2   │ 2     │ 100.0   │\n",
       "│ 3   │ 3     │ 150.0   │"
      ]
     },
     "execution_count": 16,
     "metadata": {},
     "output_type": "execute_result"
    }
   ],
   "source": [
    "sol_high.prices"
   ]
  },
  {
   "cell_type": "markdown",
   "metadata": {},
   "source": [
    "Something interesting has happened! \n",
    "\n",
    "First, note that the prices are different. Hence, we will not be able to meet incremental load from production by Gen A (except if we add load right at Gen A located at Bus 1). Similarly, load at Bus 2 can be met by increasing production from Gen B with marginal cost = \\$100 / MWh.\n",
    "\n",
    "However, why does Bus 3 have a marginal price of \\$150 / MWh?! That's higher than the marginal cost of either of our two generators?\n",
    "\n",
    "The answer lies in what must happen to meet an incremental load at Bus 3 while respecting transmission constraints. We must increase from Gen B, but in doing so, part of the power from Gen B will go through $l_{2,1} \\rightarrow l_{1,3}$ in addition to $l_{2,3}$, since power flows split across parallel paths in proportion to admittance (or inverse proportion to impedance). However, without adjusting Gen A's output, an increase in production from Gen B will cause us to exceed the transmission constraint on line $l_{1,3}$, requiring us to throttle back power from Gen A to keep power flows feasible.\n",
    "\n",
    "The exact change in generation for an incremental 1 MW load at Bus 3 is thus:\n",
    "- Gen B $\\uparrow$ 2 MW\n",
    "- Gen A $\\downarrow$ 1 MW\n",
    "\n",
    "Hence:\n",
    "\n",
    "$$\n",
    "Price_3 = 2 \\times VarCost_B - VarCost_A = \\$150 \\text{ / MWh}\n",
    "$$\n",
    "\n",
    "In a network with thousands of nodes and many parallel paths and loop flows, one can see quite quickly how prices may vary in unexpected ways; hence, the need for detailed mathematical models to compute locational marginal prices."
   ]
  }
 ],
 "metadata": {
  "@webio": {
   "lastCommId": null,
   "lastKernelId": null
  },
  "kernelspec": {
   "display_name": "Julia 1.5.1",
   "language": "julia",
   "name": "julia-1.5"
  },
  "language_info": {
   "file_extension": ".jl",
   "mimetype": "application/julia",
   "name": "julia",
   "version": "1.5.1"
  }
 },
 "nbformat": 4,
 "nbformat_minor": 4
}
