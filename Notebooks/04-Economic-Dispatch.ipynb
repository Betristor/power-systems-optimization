{
 "cells": [
  {
   "cell_type": "markdown",
   "metadata": {},
   "source": [
    "# Economic Dispatch\n",
    "\n",
    "_**[Power Systems Optimization](https://github.com/east-winds/power-systems-optimization)**_\n",
    "\n",
    "_by Michael R. Davidson and Jesse D. Jenkins (last updated: October 4, 2022)_\n",
    "\n",
    "This notebook will introduce a key operational model&mdash;economic dispatch (ED)&mdash;which minimizes the short-run production costs of meeting electricity demand from a given set of generators subject to various technical constraints.\n",
    "\n",
    "We build up the model in several stages. We begin with a single-time period and simple generator constraints just related to allowable output ranges. This allows us to compare the model with the intuition provided by the merit order supply curve (also known as the \"dispatch stack\"). \n",
    "\n",
    "We then add multiple time periods by considering the economic dispatch over an entire day. Due to the simple generator constraints, this simple model does not introduce any coupling across time.\n",
    "\n",
    "More realism is added by considering engineering constraints that introduce time coupling&mdash;namely, ramp rates, which are an important limitation of many generators.\n",
    "\n",
    "Finally, we examine the famous \"duck curve\" by adding more solar onto the system and explore the role that ramp rates play in the solution."
   ]
  },
  {
   "cell_type": "markdown",
   "metadata": {},
   "source": [
    "## Introduction to economic dispatch\n",
    "\n",
    "Every day, system operators need to decide how to meet demand from a large variety of generators with different costs and engineering requirements. Prior to large-scale computational capabilities, this was accomplished by \"priority lists\" or similar heuristics to determine the ordering of plants. However, with modern optimization algorithms, operators can find the global minimum of production costs&mdash;and even incorporate coupling of engineering processes across time periods.\n",
    "\n",
    "**Economic dispatch** (ED) is the problem of minimizing short-run costs of production in order to meet a given demand, considering relevant engineering constraints of the generators. It *does not* fully capture the physics of electricity flows, which will further constrain the feasible space and which we will come back to in later notebooks on optimal power flow, nor does it account for decisions and constraints related to turning on or \"committing\" large thermal generators, which we'll discuss in our next notebook on unit commitment. Typically, *it does* incorporate some type of network representation, which we have ignored here by considering only a single bus. More on the networks in the notebook on optimal power flow."
   ]
  },
  {
   "cell_type": "markdown",
   "metadata": {},
   "source": [
    "## Single-time period, simple generator constraints\n",
    "\n",
    "We will first examine the case where we are optimizing dispatch for a single snapshot in time, with only very simple constraints on the generators.\n",
    "    \n",
    "$$\n",
    "\\begin{align}\n",
    "\\min \\ & \\sum_{g \\in G} VarCost_g \\times GEN_g & \\\\\n",
    "\\text{s.t.} & \\\\\n",
    " & \\sum_{g} GEN_g = Demand & \\\\\n",
    " & GEN_g \\leq Pmax_g & \\forall \\quad g \\in G \\\\\n",
    " & GEN_g \\geq Pmin_g & \\forall \\quad g \\in G \\\\\n",
    "\\end{align}\n",
    "$$\n",
    "\n",
    "The **decision variable** in the above problem is:\n",
    "\n",
    "- $GEN_{g}$, the generation (in MW) produced by each generator, $g$\n",
    "\n",
    "The **parameters** are:\n",
    "\n",
    "- $Pmin_g$, the minimum operating bounds for the generator (based on engineering or natural resource constraints)\n",
    "- $Pmax_g$, the maximum operating bounds for the generator (based on engineering or natural resource constraints)\n",
    "- $Demand$, the demand (in MW)\n",
    "\n",
    "(For this simple problem, we will let $Pmin_g=0$ and revisit this later in the unit commitment notebook.)\n",
    "\n",
    "In addition, we have:\n",
    "\n",
    "$$\n",
    "VarCost_g = VarOM_g + HeatRate_g \\times FuelCost_g\n",
    "$$\n",
    "\n",
    "Note that, in contrast with the basic capacity expansion problem, we are not concerned with fixed costs. Why not?\n",
    "\n",
    "The simplest response is that these costs have already been incurred and regardless of how much a generator produces, its fixed costs will not change. These costs are thus \"[sunk costs](https://en.wikipedia.org/wiki/Sunk_cost)\" and are constant in the objective function. Our optimal decision variables would not change by adjusting this constant up or down.\n",
    "\n",
    "Therefore, we can safely ignore fixed costs for the purposes of finding optimal dispatch. (We will still have to consider them to calculate producer profits, however.)\n",
    "\n",
    "[A famous electricity regulator](https://en.wikipedia.org/wiki/Ignacio_J._P%C3%A9rez_Arriaga), noting that it is frequently misunderstood and ignored even by experienced market participants, has called the application of the \"[sunk cost fallacy](https://en.wikipedia.org/wiki/Sunk_cost#Fallacy_effect)\" to electricity systems \"[Grandma's Inheritance Theorem](http://link.springer.com/content/pdf/bbm%3A978-1-4471-5034-3%2F1.pdf).\" In this hypothetical scenario, if you were to inherit a diamond ring or perhaps a financial contract-for-differences that pays out relative to cleared market prices (you have a very sophisticated grandma in this scenario!), you should not be tempted to change your production strategy.\n",
    "\n",
    "Now, let's implement ED."
   ]
  },
  {
   "cell_type": "markdown",
   "metadata": {},
   "source": [
    "### 1. Load packages"
   ]
  },
  {
   "cell_type": "code",
   "execution_count": 1,
   "metadata": {},
   "outputs": [
    {
     "name": "stderr",
     "output_type": "stream",
     "text": [
      "\u001b[32m\u001b[1m    Updating\u001b[22m\u001b[39m registry at `~/.julia/registries/General.toml`\n",
      "\u001b[32m\u001b[1m   Resolving\u001b[22m\u001b[39m package versions...\n",
      "\u001b[32m\u001b[1m  No Changes\u001b[22m\u001b[39m to `~/.julia/environments/v1.8/Project.toml`\n",
      "\u001b[32m\u001b[1m  No Changes\u001b[22m\u001b[39m to `~/.julia/environments/v1.8/Manifest.toml`\n",
      "\u001b[32m\u001b[1m   Resolving\u001b[22m\u001b[39m package versions...\n",
      "\u001b[32m\u001b[1m  No Changes\u001b[22m\u001b[39m to `~/.julia/environments/v1.8/Project.toml`\n",
      "\u001b[32m\u001b[1m  No Changes\u001b[22m\u001b[39m to `~/.julia/environments/v1.8/Manifest.toml`\n",
      "\u001b[32m\u001b[1m   Resolving\u001b[22m\u001b[39m package versions...\n",
      "\u001b[32m\u001b[1m  No Changes\u001b[22m\u001b[39m to `~/.julia/environments/v1.8/Project.toml`\n",
      "\u001b[32m\u001b[1m  No Changes\u001b[22m\u001b[39m to `~/.julia/environments/v1.8/Manifest.toml`\n"
     ]
    }
   ],
   "source": [
    "# New packages introduced in this tutorial (run this if you need to install these)\n",
    "import Pkg; Pkg.add(\"PrettyTables\"); Pkg.add(\"VegaLite\"); Pkg.add(\"FileIO\")"
   ]
  },
  {
   "cell_type": "code",
   "execution_count": 2,
   "metadata": {},
   "outputs": [
    {
     "name": "stderr",
     "output_type": "stream",
     "text": [
      "┌ Info: For saving to png with the Plotly backend PlotlyBase and PlotlyKaleido need to be installed.\n",
      "└ @ Plots /Users/jdj2/.julia/packages/Plots/W75kY/src/backends.jl:319\n"
     ]
    }
   ],
   "source": [
    "using JuMP, HiGHS\n",
    "using Plots; plotly();\n",
    "using VegaLite  # to make some nice plots\n",
    "using DataFrames, CSV, PrettyTables\n",
    "using FileIO\n",
    "ENV[\"COLUMNS\"]=120; # Set so all columns of DataFrames and Matrices are displayed"
   ]
  },
  {
   "cell_type": "markdown",
   "metadata": {},
   "source": [
    "### 2. Load and format data\n",
    "\n",
    "We will use data based on San Diego Gas and Electric (SDG&E, via the [PowerGenome](https://github.com/gschivley/PowerGenome) data platform) plus a few neighboring generators, consisting of:\n",
    "\n",
    "- 25 generators (including some clustering of smaller generators, and excluding behind-the-meter solar)\n",
    "- estimated hourly demand for 2020 (net load at the transmission substation level after subtracting 600MW of behind-the-meter solar from original demand)\n",
    "- variable generation capacity factors\n",
    "- estimated natural gas fuel costs"
   ]
  },
  {
   "cell_type": "code",
   "execution_count": 3,
   "metadata": {},
   "outputs": [],
   "source": [
    "datadir = joinpath(\"ed_data\") \n",
    "# Note: joinpath is a good way to create path reference that is agnostic\n",
    "# to what file system you are using (e.g. whether directories are denoted \n",
    "# with a forward or backwards slash).\n",
    "gen_info = CSV.read(joinpath(datadir,\"Generators_data.csv\"), DataFrame);\n",
    "fuels = CSV.read(joinpath(datadir,\"Fuels_data.csv\"), DataFrame);\n",
    "loads = CSV.read(joinpath(datadir,\"Demand.csv\"), DataFrame);\n",
    "gen_variable = CSV.read(joinpath(datadir,\"Generators_variability.csv\"), DataFrame);\n",
    "\n",
    "# Rename all columns to lowercase (by convention)\n",
    "for f in [gen_info, fuels, loads, gen_variable]\n",
    "    rename!(f,lowercase.(names(f)))\n",
    "end"
   ]
  },
  {
   "cell_type": "markdown",
   "metadata": {},
   "source": [
    "**Construct generator dataframe**"
   ]
  },
  {
   "cell_type": "code",
   "execution_count": 4,
   "metadata": {},
   "outputs": [],
   "source": [
    "# Keep only the columns relevant to our ED model \n",
    "# (We'll come back to other columns in our unit commitment notebooks)\n",
    "select!(gen_info, 1:26, :stor) \n",
    "gen_df = outerjoin(gen_info,  fuels, on = :fuel) # load in fuel costs and add to data frame\n",
    "rename!(gen_df, :cost_per_mmbtu => :fuel_cost)   # rename column for fuel cost\n",
    "gen_df[ismissing.(gen_df[:,:fuel_cost]), :fuel_cost] .= 0\n",
    "\n",
    "# create \"is_variable\" column to indicate if this is a variable generation source (e.g. wind, solar)\n",
    "# Note: Julia's strict vectorization syntax requires us to create a new variable using the '!' indexing operator\n",
    "# and the '.=' broadcasting assignment. See: https://julia.guide/broadcasting\n",
    "gen_df[!, :is_variable] .= false\n",
    "gen_df[in([\"onshore_wind_turbine\",\"small_hydroelectric\",\"solar_photovoltaic\"]).(gen_df.resource),\n",
    "    :is_variable] .= true;\n",
    "\n",
    "# create full name of generator (including geographic location and cluster number)\n",
    "#  for use with variable generation dataframe\n",
    "gen_df.gen_full = lowercase.(gen_df.region .* \"_\" .* gen_df.resource .* \"_\" .* string.(gen_df.cluster) .* \".0\");\n",
    "\n",
    "# remove generators with no capacity (e.g. new build options that we'd use if this was capacity expansion problem)\n",
    "gen_df = gen_df[gen_df.existing_cap_mw .> 0,:];\n"
   ]
  },
  {
   "cell_type": "markdown",
   "metadata": {},
   "source": [
    "### Long and wide data format example"
   ]
  },
  {
   "cell_type": "code",
   "execution_count": 5,
   "metadata": {},
   "outputs": [
    {
     "data": {
      "text/html": [
       "<div class=\"data-frame\"><p>5 rows × 5 columns</p><table class=\"data-frame\"><thead><tr><th></th><th>r_id</th><th>resource</th><th>region</th><th>existing_cap_mw</th><th>num_units</th></tr><tr><th></th><th title=\"Union{Missing, Int64}\">Int64?</th><th title=\"Union{Missing, String}\">String?</th><th title=\"Union{Missing, String15}\">String15?</th><th title=\"Union{Missing, Float64}\">Float64?</th><th title=\"Union{Missing, Int64}\">Int64?</th></tr></thead><tbody><tr><th>1</th><td>1</td><td>biomass</td><td>WEC_SDGE</td><td>21.4</td><td>20</td></tr><tr><th>2</th><td>2</td><td>hydroelectric_pumped_storage</td><td>WEC_SDGE</td><td>42.0</td><td>2</td></tr><tr><th>3</th><td>3</td><td>natural_gas_fired_combined_cycle</td><td>WEC_SDGE</td><td>607.1</td><td>1</td></tr><tr><th>4</th><td>4</td><td>natural_gas_fired_combined_cycle</td><td>WEC_SDGE</td><td>30.0</td><td>1</td></tr><tr><th>5</th><td>5</td><td>natural_gas_fired_combined_cycle</td><td>WEC_SDGE</td><td>49.4</td><td>1</td></tr></tbody></table></div>"
      ],
      "text/latex": [
       "\\begin{tabular}{r|ccccc}\n",
       "\t& r\\_id & resource & region & existing\\_cap\\_mw & num\\_units\\\\\n",
       "\t\\hline\n",
       "\t& Int64? & String? & String15? & Float64? & Int64?\\\\\n",
       "\t\\hline\n",
       "\t1 & 1 & biomass & WEC\\_SDGE & 21.4 & 20 \\\\\n",
       "\t2 & 2 & hydroelectric\\_pumped\\_storage & WEC\\_SDGE & 42.0 & 2 \\\\\n",
       "\t3 & 3 & natural\\_gas\\_fired\\_combined\\_cycle & WEC\\_SDGE & 607.1 & 1 \\\\\n",
       "\t4 & 4 & natural\\_gas\\_fired\\_combined\\_cycle & WEC\\_SDGE & 30.0 & 1 \\\\\n",
       "\t5 & 5 & natural\\_gas\\_fired\\_combined\\_cycle & WEC\\_SDGE & 49.4 & 1 \\\\\n",
       "\\end{tabular}\n"
      ],
      "text/plain": [
       "\u001b[1m5×5 DataFrame\u001b[0m\n",
       "\u001b[1m Row \u001b[0m│\u001b[1m r_id   \u001b[0m\u001b[1m resource                         \u001b[0m\u001b[1m region    \u001b[0m\u001b[1m existing_cap_mw \u001b[0m\u001b[1m num_units \u001b[0m\n",
       "\u001b[1m     \u001b[0m│\u001b[90m Int64? \u001b[0m\u001b[90m String?                          \u001b[0m\u001b[90m String15? \u001b[0m\u001b[90m Float64?        \u001b[0m\u001b[90m Int64?    \u001b[0m\n",
       "─────┼─────────────────────────────────────────────────────────────────────────────────\n",
       "   1 │      1  biomass                           WEC_SDGE              21.4         20\n",
       "   2 │      2  hydroelectric_pumped_storage      WEC_SDGE              42.0          2\n",
       "   3 │      3  natural_gas_fired_combined_cycle  WEC_SDGE             607.1          1\n",
       "   4 │      4  natural_gas_fired_combined_cycle  WEC_SDGE              30.0          1\n",
       "   5 │      5  natural_gas_fired_combined_cycle  WEC_SDGE              49.4          1"
      ]
     },
     "execution_count": 5,
     "metadata": {},
     "output_type": "execute_result"
    }
   ],
   "source": [
    "df = gen_df[1:5,1:5]"
   ]
  },
  {
   "cell_type": "code",
   "execution_count": 6,
   "metadata": {},
   "outputs": [
    {
     "data": {
      "text/html": [
       "<div class=\"data-frame\"><p>5 rows × 5 columns</p><table class=\"data-frame\"><thead><tr><th></th><th>r_id</th><th>resource</th><th>region</th><th>existing_cap_mw</th><th>num_units</th></tr><tr><th></th><th title=\"Union{Missing, Int64}\">Int64?</th><th title=\"Union{Missing, String}\">String?</th><th title=\"Union{Missing, String15}\">String15?</th><th title=\"Union{Missing, Float64}\">Float64?</th><th title=\"Union{Missing, Int64}\">Int64?</th></tr></thead><tbody><tr><th>1</th><td>1</td><td>biomass</td><td>WEC_SDGE</td><td>21.4</td><td>20</td></tr><tr><th>2</th><td>2</td><td>hydroelectric_pumped_storage</td><td>WEC_SDGE</td><td>42.0</td><td>2</td></tr><tr><th>3</th><td>3</td><td>natural_gas_fired_combined_cycle</td><td>WEC_SDGE</td><td>607.1</td><td>1</td></tr><tr><th>4</th><td>4</td><td>natural_gas_fired_combined_cycle</td><td>WEC_SDGE</td><td>30.0</td><td>1</td></tr><tr><th>5</th><td>5</td><td>natural_gas_fired_combined_cycle</td><td>WEC_SDGE</td><td>49.4</td><td>1</td></tr></tbody></table></div>"
      ],
      "text/latex": [
       "\\begin{tabular}{r|ccccc}\n",
       "\t& r\\_id & resource & region & existing\\_cap\\_mw & num\\_units\\\\\n",
       "\t\\hline\n",
       "\t& Int64? & String? & String15? & Float64? & Int64?\\\\\n",
       "\t\\hline\n",
       "\t1 & 1 & biomass & WEC\\_SDGE & 21.4 & 20 \\\\\n",
       "\t2 & 2 & hydroelectric\\_pumped\\_storage & WEC\\_SDGE & 42.0 & 2 \\\\\n",
       "\t3 & 3 & natural\\_gas\\_fired\\_combined\\_cycle & WEC\\_SDGE & 607.1 & 1 \\\\\n",
       "\t4 & 4 & natural\\_gas\\_fired\\_combined\\_cycle & WEC\\_SDGE & 30.0 & 1 \\\\\n",
       "\t5 & 5 & natural\\_gas\\_fired\\_combined\\_cycle & WEC\\_SDGE & 49.4 & 1 \\\\\n",
       "\\end{tabular}\n"
      ],
      "text/plain": [
       "\u001b[1m5×5 DataFrame\u001b[0m\n",
       "\u001b[1m Row \u001b[0m│\u001b[1m r_id   \u001b[0m\u001b[1m resource                         \u001b[0m\u001b[1m region    \u001b[0m\u001b[1m existing_cap_mw \u001b[0m\u001b[1m num_units \u001b[0m\n",
       "\u001b[1m     \u001b[0m│\u001b[90m Int64? \u001b[0m\u001b[90m String?                          \u001b[0m\u001b[90m String15? \u001b[0m\u001b[90m Float64?        \u001b[0m\u001b[90m Int64?    \u001b[0m\n",
       "─────┼─────────────────────────────────────────────────────────────────────────────────\n",
       "   1 │      1  biomass                           WEC_SDGE              21.4         20\n",
       "   2 │      2  hydroelectric_pumped_storage      WEC_SDGE              42.0          2\n",
       "   3 │      3  natural_gas_fired_combined_cycle  WEC_SDGE             607.1          1\n",
       "   4 │      4  natural_gas_fired_combined_cycle  WEC_SDGE              30.0          1\n",
       "   5 │      5  natural_gas_fired_combined_cycle  WEC_SDGE              49.4          1"
      ]
     },
     "execution_count": 6,
     "metadata": {},
     "output_type": "execute_result"
    }
   ],
   "source": [
    "df = copy(gen_df)\n",
    "select!(df, 1:5)\n",
    "df = df[1:5,:]"
   ]
  },
  {
   "cell_type": "code",
   "execution_count": 7,
   "metadata": {},
   "outputs": [
    {
     "data": {
      "text/html": [
       "<div class=\"data-frame\"><p>10 rows × 5 columns</p><table class=\"data-frame\"><thead><tr><th></th><th>r_id</th><th>resource</th><th>region</th><th>var</th><th>val</th></tr><tr><th></th><th title=\"Union{Missing, Int64}\">Int64?</th><th title=\"Union{Missing, String}\">String?</th><th title=\"Union{Missing, String15}\">String15?</th><th title=\"String\">String</th><th title=\"Union{Missing, Float64}\">Float64?</th></tr></thead><tbody><tr><th>1</th><td>1</td><td>biomass</td><td>WEC_SDGE</td><td>existing_cap_mw</td><td>21.4</td></tr><tr><th>2</th><td>2</td><td>hydroelectric_pumped_storage</td><td>WEC_SDGE</td><td>existing_cap_mw</td><td>42.0</td></tr><tr><th>3</th><td>3</td><td>natural_gas_fired_combined_cycle</td><td>WEC_SDGE</td><td>existing_cap_mw</td><td>607.1</td></tr><tr><th>4</th><td>4</td><td>natural_gas_fired_combined_cycle</td><td>WEC_SDGE</td><td>existing_cap_mw</td><td>30.0</td></tr><tr><th>5</th><td>5</td><td>natural_gas_fired_combined_cycle</td><td>WEC_SDGE</td><td>existing_cap_mw</td><td>49.4</td></tr><tr><th>6</th><td>1</td><td>biomass</td><td>WEC_SDGE</td><td>num_units</td><td>20.0</td></tr><tr><th>7</th><td>2</td><td>hydroelectric_pumped_storage</td><td>WEC_SDGE</td><td>num_units</td><td>2.0</td></tr><tr><th>8</th><td>3</td><td>natural_gas_fired_combined_cycle</td><td>WEC_SDGE</td><td>num_units</td><td>1.0</td></tr><tr><th>9</th><td>4</td><td>natural_gas_fired_combined_cycle</td><td>WEC_SDGE</td><td>num_units</td><td>1.0</td></tr><tr><th>10</th><td>5</td><td>natural_gas_fired_combined_cycle</td><td>WEC_SDGE</td><td>num_units</td><td>1.0</td></tr></tbody></table></div>"
      ],
      "text/latex": [
       "\\begin{tabular}{r|ccccc}\n",
       "\t& r\\_id & resource & region & var & val\\\\\n",
       "\t\\hline\n",
       "\t& Int64? & String? & String15? & String & Float64?\\\\\n",
       "\t\\hline\n",
       "\t1 & 1 & biomass & WEC\\_SDGE & existing\\_cap\\_mw & 21.4 \\\\\n",
       "\t2 & 2 & hydroelectric\\_pumped\\_storage & WEC\\_SDGE & existing\\_cap\\_mw & 42.0 \\\\\n",
       "\t3 & 3 & natural\\_gas\\_fired\\_combined\\_cycle & WEC\\_SDGE & existing\\_cap\\_mw & 607.1 \\\\\n",
       "\t4 & 4 & natural\\_gas\\_fired\\_combined\\_cycle & WEC\\_SDGE & existing\\_cap\\_mw & 30.0 \\\\\n",
       "\t5 & 5 & natural\\_gas\\_fired\\_combined\\_cycle & WEC\\_SDGE & existing\\_cap\\_mw & 49.4 \\\\\n",
       "\t6 & 1 & biomass & WEC\\_SDGE & num\\_units & 20.0 \\\\\n",
       "\t7 & 2 & hydroelectric\\_pumped\\_storage & WEC\\_SDGE & num\\_units & 2.0 \\\\\n",
       "\t8 & 3 & natural\\_gas\\_fired\\_combined\\_cycle & WEC\\_SDGE & num\\_units & 1.0 \\\\\n",
       "\t9 & 4 & natural\\_gas\\_fired\\_combined\\_cycle & WEC\\_SDGE & num\\_units & 1.0 \\\\\n",
       "\t10 & 5 & natural\\_gas\\_fired\\_combined\\_cycle & WEC\\_SDGE & num\\_units & 1.0 \\\\\n",
       "\\end{tabular}\n"
      ],
      "text/plain": [
       "\u001b[1m10×5 DataFrame\u001b[0m\n",
       "\u001b[1m Row \u001b[0m│\u001b[1m r_id   \u001b[0m\u001b[1m resource                         \u001b[0m\u001b[1m region    \u001b[0m\u001b[1m var             \u001b[0m\u001b[1m val      \u001b[0m\n",
       "\u001b[1m     \u001b[0m│\u001b[90m Int64? \u001b[0m\u001b[90m String?                          \u001b[0m\u001b[90m String15? \u001b[0m\u001b[90m String          \u001b[0m\u001b[90m Float64? \u001b[0m\n",
       "─────┼────────────────────────────────────────────────────────────────────────────────\n",
       "   1 │      1  biomass                           WEC_SDGE   existing_cap_mw      21.4\n",
       "   2 │      2  hydroelectric_pumped_storage      WEC_SDGE   existing_cap_mw      42.0\n",
       "   3 │      3  natural_gas_fired_combined_cycle  WEC_SDGE   existing_cap_mw     607.1\n",
       "   4 │      4  natural_gas_fired_combined_cycle  WEC_SDGE   existing_cap_mw      30.0\n",
       "   5 │      5  natural_gas_fired_combined_cycle  WEC_SDGE   existing_cap_mw      49.4\n",
       "   6 │      1  biomass                           WEC_SDGE   num_units            20.0\n",
       "   7 │      2  hydroelectric_pumped_storage      WEC_SDGE   num_units             2.0\n",
       "   8 │      3  natural_gas_fired_combined_cycle  WEC_SDGE   num_units             1.0\n",
       "   9 │      4  natural_gas_fired_combined_cycle  WEC_SDGE   num_units             1.0\n",
       "  10 │      5  natural_gas_fired_combined_cycle  WEC_SDGE   num_units             1.0"
      ]
     },
     "execution_count": 7,
     "metadata": {},
     "output_type": "execute_result"
    }
   ],
   "source": [
    "stack(df, \n",
    "    [:existing_cap_mw, :num_units], \n",
    "    variable_name=:var,\n",
    "    value_name=:val)"
   ]
  },
  {
   "cell_type": "markdown",
   "metadata": {},
   "source": [
    "**Modify load and variable generation dataframes**\n",
    "\n",
    "1. Convert from GMT to GMT-8\n",
    "\n",
    "The load and variable generation files are in GMT. We want to convert to local California time. Here, we will ignore daylight savings and simply subtract 8 hours. (A more proper solution would involve the use of the [TimeZones](https://github.com/JuliaTime/TimeZones.jl/) package.)\n",
    "\n",
    "To accomplish this, we 'wrap' the last 8 hours of the data series (i.e., the last 8 hours of the year) around to the front of the series."
   ]
  },
  {
   "cell_type": "code",
   "execution_count": 8,
   "metadata": {},
   "outputs": [],
   "source": [
    "gen_variable.hour = mod.(gen_variable.hour .- 9, 8760) .+ 1 \n",
    "sort!(gen_variable, :hour)\n",
    "loads.hour = mod.(loads.hour .- 9, 8760) .+ 1\n",
    "sort!(loads, :hour);"
   ]
  },
  {
   "cell_type": "markdown",
   "metadata": {},
   "source": [
    "2. Convert from \"wide\" to \"long\" format:\n",
    "\n",
    "The file is in \"wide\" format, which has separate columns for values from different types of generators. This has more human readability, but often we want to have it in \"long\" format for computation.\n",
    "\n",
    "\"Long\" format refers to a dataframe with a separate row entry for every value. The rest of the columns are \"indexes\" that uniquely identify the row. In Julia, we use the DataFrame package's [`stack`](https://juliadata.github.io/DataFrames.jl/stable/man/reshaping_and_pivoting/) function to accomplish this. (This is similar to the [`melt`](https://www.rdocumentation.org/packages/reshape2/versions/1.4.4/topics/melt) function for those familiar with DataFrames in R)"
   ]
  },
  {
   "cell_type": "code",
   "execution_count": 9,
   "metadata": {},
   "outputs": [
    {
     "data": {
      "text/html": [
       "<div class=\"data-frame\"><p>31 rows × 7 columns</p><table class=\"data-frame\"><thead><tr><th></th><th>variable</th><th>mean</th><th>min</th><th>median</th><th>max</th><th>nmissing</th><th>eltype</th></tr><tr><th></th><th title=\"Symbol\">Symbol</th><th title=\"Float64\">Float64</th><th title=\"Real\">Real</th><th title=\"Float64\">Float64</th><th title=\"Real\">Real</th><th title=\"Int64\">Int64</th><th title=\"DataType\">DataType</th></tr></thead><tbody><tr><th>1</th><td>hour</td><td>4380.5</td><td>1</td><td>4380.5</td><td>8760</td><td>0</td><td>Int64</td></tr><tr><th>2</th><td>wec_sdge_biomass_1.0</td><td>1.0</td><td>1</td><td>1.0</td><td>1</td><td>0</td><td>Int64</td></tr><tr><th>3</th><td>wec_sdge_hydroelectric_pumped_storage_1.0</td><td>1.0</td><td>1</td><td>1.0</td><td>1</td><td>0</td><td>Int64</td></tr><tr><th>4</th><td>wec_sdge_natural_gas_fired_combined_cycle_1.0</td><td>1.0</td><td>1</td><td>1.0</td><td>1</td><td>0</td><td>Int64</td></tr><tr><th>5</th><td>wec_sdge_natural_gas_fired_combined_cycle_2.0</td><td>1.0</td><td>1</td><td>1.0</td><td>1</td><td>0</td><td>Int64</td></tr><tr><th>6</th><td>wec_sdge_natural_gas_fired_combined_cycle_3.0</td><td>1.0</td><td>1</td><td>1.0</td><td>1</td><td>0</td><td>Int64</td></tr><tr><th>7</th><td>wec_sdge_natural_gas_fired_combined_cycle_4.0</td><td>1.0</td><td>1</td><td>1.0</td><td>1</td><td>0</td><td>Int64</td></tr><tr><th>8</th><td>wec_sdge_natural_gas_fired_combustion_turbine_1.0</td><td>1.0</td><td>1</td><td>1.0</td><td>1</td><td>0</td><td>Int64</td></tr><tr><th>9</th><td>wec_sdge_natural_gas_fired_combustion_turbine_2.0</td><td>1.0</td><td>1</td><td>1.0</td><td>1</td><td>0</td><td>Int64</td></tr><tr><th>10</th><td>wec_sdge_natural_gas_fired_combustion_turbine_3.0</td><td>1.0</td><td>1</td><td>1.0</td><td>1</td><td>0</td><td>Int64</td></tr><tr><th>11</th><td>wec_sdge_natural_gas_fired_combustion_turbine_4.0</td><td>1.0</td><td>1</td><td>1.0</td><td>1</td><td>0</td><td>Int64</td></tr><tr><th>12</th><td>wec_sdge_natural_gas_fired_combustion_turbine_5.0</td><td>1.0</td><td>1</td><td>1.0</td><td>1</td><td>0</td><td>Int64</td></tr><tr><th>13</th><td>wec_sdge_natural_gas_fired_combustion_turbine_6.0</td><td>1.0</td><td>1</td><td>1.0</td><td>1</td><td>0</td><td>Int64</td></tr><tr><th>14</th><td>wec_sdge_natural_gas_fired_combustion_turbine_7.0</td><td>1.0</td><td>1</td><td>1.0</td><td>1</td><td>0</td><td>Int64</td></tr><tr><th>15</th><td>wec_sdge_natural_gas_fired_combustion_turbine_8.0</td><td>1.0</td><td>1</td><td>1.0</td><td>1</td><td>0</td><td>Int64</td></tr><tr><th>16</th><td>wec_sdge_natural_gas_fired_combustion_turbine_9.0</td><td>1.0</td><td>1</td><td>1.0</td><td>1</td><td>0</td><td>Int64</td></tr><tr><th>17</th><td>wec_sdge_natural_gas_fired_combustion_turbine_10.0</td><td>1.0</td><td>1</td><td>1.0</td><td>1</td><td>0</td><td>Int64</td></tr><tr><th>18</th><td>wec_sdge_natural_gas_fired_combustion_turbine_11.0</td><td>1.0</td><td>1</td><td>1.0</td><td>1</td><td>0</td><td>Int64</td></tr><tr><th>19</th><td>wec_sdge_natural_gas_fired_combustion_turbine_12.0</td><td>1.0</td><td>1</td><td>1.0</td><td>1</td><td>0</td><td>Int64</td></tr><tr><th>20</th><td>wec_sdge_onshore_wind_turbine_1.0</td><td>0.253519</td><td>0.0</td><td>0.19465</td><td>0.9089</td><td>0</td><td>Float64</td></tr><tr><th>21</th><td>wec_sdge_small_hydroelectric_1.0</td><td>0.41567</td><td>0.2167</td><td>0.38475</td><td>0.6337</td><td>0</td><td>Float64</td></tr><tr><th>22</th><td>wec_sdge_solar_photovoltaic_1.0</td><td>0.247288</td><td>0.0</td><td>0.0</td><td>0.7959</td><td>0</td><td>Float64</td></tr><tr><th>23</th><td>wec_sdge_naturalgas_ccccsavgcf_0.0</td><td>1.0</td><td>1</td><td>1.0</td><td>1</td><td>0</td><td>Int64</td></tr><tr><th>24</th><td>wec_sdge_naturalgas_ccavgcf_0.0</td><td>1.0</td><td>1</td><td>1.0</td><td>1</td><td>0</td><td>Int64</td></tr><tr><th>25</th><td>wec_sdge_naturalgas_ctavgcf_0.0</td><td>1.0</td><td>1</td><td>1.0</td><td>1</td><td>0</td><td>Int64</td></tr><tr><th>26</th><td>wec_sdge_battery_0.0</td><td>1.0</td><td>1</td><td>1.0</td><td>1</td><td>0</td><td>Int64</td></tr><tr><th>27</th><td>wec_sdge_naturalgas_ccs100_0.0</td><td>1.0</td><td>1</td><td>1.0</td><td>1</td><td>0</td><td>Int64</td></tr><tr><th>28</th><td>wec_sdge_landbasedwind_ltrg1_1.0</td><td>0.341167</td><td>0.0</td><td>0.249565</td><td>0.93217</td><td>0</td><td>Float64</td></tr><tr><th>29</th><td>wec_sdge_landbasedwind_ltrg1_2.0</td><td>0.257347</td><td>0.0</td><td>0.194376</td><td>0.912162</td><td>0</td><td>Float64</td></tr><tr><th>30</th><td>wec_sdge_utilitypv_losangeles_1.0</td><td>0.346479</td><td>0.0</td><td>0.0</td><td>1.0</td><td>0</td><td>Float64</td></tr><tr><th>&vellip;</th><td>&vellip;</td><td>&vellip;</td><td>&vellip;</td><td>&vellip;</td><td>&vellip;</td><td>&vellip;</td><td>&vellip;</td></tr></tbody></table></div>"
      ],
      "text/latex": [
       "\\begin{tabular}{r|ccccccc}\n",
       "\t& variable & mean & min & median & max & nmissing & eltype\\\\\n",
       "\t\\hline\n",
       "\t& Symbol & Float64 & Real & Float64 & Real & Int64 & DataType\\\\\n",
       "\t\\hline\n",
       "\t1 & hour & 4380.5 & 1 & 4380.5 & 8760 & 0 & Int64 \\\\\n",
       "\t2 & wec\\_sdge\\_biomass\\_1.0 & 1.0 & 1 & 1.0 & 1 & 0 & Int64 \\\\\n",
       "\t3 & wec\\_sdge\\_hydroelectric\\_pumped\\_storage\\_1.0 & 1.0 & 1 & 1.0 & 1 & 0 & Int64 \\\\\n",
       "\t4 & wec\\_sdge\\_natural\\_gas\\_fired\\_combined\\_cycle\\_1.0 & 1.0 & 1 & 1.0 & 1 & 0 & Int64 \\\\\n",
       "\t5 & wec\\_sdge\\_natural\\_gas\\_fired\\_combined\\_cycle\\_2.0 & 1.0 & 1 & 1.0 & 1 & 0 & Int64 \\\\\n",
       "\t6 & wec\\_sdge\\_natural\\_gas\\_fired\\_combined\\_cycle\\_3.0 & 1.0 & 1 & 1.0 & 1 & 0 & Int64 \\\\\n",
       "\t7 & wec\\_sdge\\_natural\\_gas\\_fired\\_combined\\_cycle\\_4.0 & 1.0 & 1 & 1.0 & 1 & 0 & Int64 \\\\\n",
       "\t8 & wec\\_sdge\\_natural\\_gas\\_fired\\_combustion\\_turbine\\_1.0 & 1.0 & 1 & 1.0 & 1 & 0 & Int64 \\\\\n",
       "\t9 & wec\\_sdge\\_natural\\_gas\\_fired\\_combustion\\_turbine\\_2.0 & 1.0 & 1 & 1.0 & 1 & 0 & Int64 \\\\\n",
       "\t10 & wec\\_sdge\\_natural\\_gas\\_fired\\_combustion\\_turbine\\_3.0 & 1.0 & 1 & 1.0 & 1 & 0 & Int64 \\\\\n",
       "\t11 & wec\\_sdge\\_natural\\_gas\\_fired\\_combustion\\_turbine\\_4.0 & 1.0 & 1 & 1.0 & 1 & 0 & Int64 \\\\\n",
       "\t12 & wec\\_sdge\\_natural\\_gas\\_fired\\_combustion\\_turbine\\_5.0 & 1.0 & 1 & 1.0 & 1 & 0 & Int64 \\\\\n",
       "\t13 & wec\\_sdge\\_natural\\_gas\\_fired\\_combustion\\_turbine\\_6.0 & 1.0 & 1 & 1.0 & 1 & 0 & Int64 \\\\\n",
       "\t14 & wec\\_sdge\\_natural\\_gas\\_fired\\_combustion\\_turbine\\_7.0 & 1.0 & 1 & 1.0 & 1 & 0 & Int64 \\\\\n",
       "\t15 & wec\\_sdge\\_natural\\_gas\\_fired\\_combustion\\_turbine\\_8.0 & 1.0 & 1 & 1.0 & 1 & 0 & Int64 \\\\\n",
       "\t16 & wec\\_sdge\\_natural\\_gas\\_fired\\_combustion\\_turbine\\_9.0 & 1.0 & 1 & 1.0 & 1 & 0 & Int64 \\\\\n",
       "\t17 & wec\\_sdge\\_natural\\_gas\\_fired\\_combustion\\_turbine\\_10.0 & 1.0 & 1 & 1.0 & 1 & 0 & Int64 \\\\\n",
       "\t18 & wec\\_sdge\\_natural\\_gas\\_fired\\_combustion\\_turbine\\_11.0 & 1.0 & 1 & 1.0 & 1 & 0 & Int64 \\\\\n",
       "\t19 & wec\\_sdge\\_natural\\_gas\\_fired\\_combustion\\_turbine\\_12.0 & 1.0 & 1 & 1.0 & 1 & 0 & Int64 \\\\\n",
       "\t20 & wec\\_sdge\\_onshore\\_wind\\_turbine\\_1.0 & 0.253519 & 0.0 & 0.19465 & 0.9089 & 0 & Float64 \\\\\n",
       "\t21 & wec\\_sdge\\_small\\_hydroelectric\\_1.0 & 0.41567 & 0.2167 & 0.38475 & 0.6337 & 0 & Float64 \\\\\n",
       "\t22 & wec\\_sdge\\_solar\\_photovoltaic\\_1.0 & 0.247288 & 0.0 & 0.0 & 0.7959 & 0 & Float64 \\\\\n",
       "\t23 & wec\\_sdge\\_naturalgas\\_ccccsavgcf\\_0.0 & 1.0 & 1 & 1.0 & 1 & 0 & Int64 \\\\\n",
       "\t24 & wec\\_sdge\\_naturalgas\\_ccavgcf\\_0.0 & 1.0 & 1 & 1.0 & 1 & 0 & Int64 \\\\\n",
       "\t25 & wec\\_sdge\\_naturalgas\\_ctavgcf\\_0.0 & 1.0 & 1 & 1.0 & 1 & 0 & Int64 \\\\\n",
       "\t26 & wec\\_sdge\\_battery\\_0.0 & 1.0 & 1 & 1.0 & 1 & 0 & Int64 \\\\\n",
       "\t27 & wec\\_sdge\\_naturalgas\\_ccs100\\_0.0 & 1.0 & 1 & 1.0 & 1 & 0 & Int64 \\\\\n",
       "\t28 & wec\\_sdge\\_landbasedwind\\_ltrg1\\_1.0 & 0.341167 & 0.0 & 0.249565 & 0.93217 & 0 & Float64 \\\\\n",
       "\t29 & wec\\_sdge\\_landbasedwind\\_ltrg1\\_2.0 & 0.257347 & 0.0 & 0.194376 & 0.912162 & 0 & Float64 \\\\\n",
       "\t30 & wec\\_sdge\\_utilitypv\\_losangeles\\_1.0 & 0.346479 & 0.0 & 0.0 & 1.0 & 0 & Float64 \\\\\n",
       "\t$\\dots$ & $\\dots$ & $\\dots$ & $\\dots$ & $\\dots$ & $\\dots$ & $\\dots$ & $\\dots$ \\\\\n",
       "\\end{tabular}\n"
      ],
      "text/plain": [
       "\u001b[1m31×7 DataFrame\u001b[0m\n",
       "\u001b[1m Row \u001b[0m│\u001b[1m variable                          \u001b[0m\u001b[1m mean        \u001b[0m\u001b[1m min    \u001b[0m\u001b[1m median      \u001b[0m\u001b[1m max         \u001b[0m\u001b[1m nmissing \u001b[0m\u001b[1m eltype   \u001b[0m\n",
       "\u001b[1m     \u001b[0m│\u001b[90m Symbol                            \u001b[0m\u001b[90m Float64     \u001b[0m\u001b[90m Real   \u001b[0m\u001b[90m Float64     \u001b[0m\u001b[90m Real        \u001b[0m\u001b[90m Int64    \u001b[0m\u001b[90m DataType \u001b[0m\n",
       "─────┼──────────────────────────────────────────────────────────────────────────────────────────────────────\n",
       "   1 │ hour                               4380.5       1       4380.5       8760                0  Int64\n",
       "   2 │ wec_sdge_biomass_1.0                  1.0       1          1.0          1                0  Int64\n",
       "   3 │ wec_sdge_hydroelectric_pumped_st…     1.0       1          1.0          1                0  Int64\n",
       "   4 │ wec_sdge_natural_gas_fired_combi…     1.0       1          1.0          1                0  Int64\n",
       "   5 │ wec_sdge_natural_gas_fired_combi…     1.0       1          1.0          1                0  Int64\n",
       "   6 │ wec_sdge_natural_gas_fired_combi…     1.0       1          1.0          1                0  Int64\n",
       "   7 │ wec_sdge_natural_gas_fired_combi…     1.0       1          1.0          1                0  Int64\n",
       "   8 │ wec_sdge_natural_gas_fired_combu…     1.0       1          1.0          1                0  Int64\n",
       "   9 │ wec_sdge_natural_gas_fired_combu…     1.0       1          1.0          1                0  Int64\n",
       "  10 │ wec_sdge_natural_gas_fired_combu…     1.0       1          1.0          1                0  Int64\n",
       "  11 │ wec_sdge_natural_gas_fired_combu…     1.0       1          1.0          1                0  Int64\n",
       "  ⋮  │                 ⋮                       ⋮         ⋮          ⋮            ⋮          ⋮         ⋮\n",
       "  22 │ wec_sdge_solar_photovoltaic_1.0       0.247288  0.0        0.0          0.7959           0  Float64\n",
       "  23 │ wec_sdge_naturalgas_ccccsavgcf_0…     1.0       1          1.0          1                0  Int64\n",
       "  24 │ wec_sdge_naturalgas_ccavgcf_0.0       1.0       1          1.0          1                0  Int64\n",
       "  25 │ wec_sdge_naturalgas_ctavgcf_0.0       1.0       1          1.0          1                0  Int64\n",
       "  26 │ wec_sdge_battery_0.0                  1.0       1          1.0          1                0  Int64\n",
       "  27 │ wec_sdge_naturalgas_ccs100_0.0        1.0       1          1.0          1                0  Int64\n",
       "  28 │ wec_sdge_landbasedwind_ltrg1_1.0      0.341167  0.0        0.249565     0.93217          0  Float64\n",
       "  29 │ wec_sdge_landbasedwind_ltrg1_2.0      0.257347  0.0        0.194376     0.912162         0  Float64\n",
       "  30 │ wec_sdge_utilitypv_losangeles_1.0     0.346479  0.0        0.0          1.0              0  Float64\n",
       "  31 │ wec_sdge_utilitypv_losangeles_2.0     0.344724  0.0        0.0          1.0              0  Float64\n",
       "\u001b[36m                                                                                             10 rows omitted\u001b[0m"
      ]
     },
     "execution_count": 9,
     "metadata": {},
     "output_type": "execute_result"
    }
   ],
   "source": [
    "describe(gen_variable)"
   ]
  },
  {
   "cell_type": "code",
   "execution_count": 10,
   "metadata": {},
   "outputs": [
    {
     "data": {
      "text/html": [
       "<div class=\"data-frame\"><p>6 rows × 3 columns</p><table class=\"data-frame\"><thead><tr><th></th><th>hour</th><th>gen_full</th><th>cf</th></tr><tr><th></th><th title=\"Int64\">Int64</th><th title=\"String\">String</th><th title=\"Float64\">Float64</th></tr></thead><tbody><tr><th>1</th><td>1</td><td>wec_sdge_onshore_wind_turbine_1.0</td><td>0.1694</td></tr><tr><th>2</th><td>2</td><td>wec_sdge_onshore_wind_turbine_1.0</td><td>0.1658</td></tr><tr><th>3</th><td>3</td><td>wec_sdge_onshore_wind_turbine_1.0</td><td>0.1502</td></tr><tr><th>4</th><td>4</td><td>wec_sdge_onshore_wind_turbine_1.0</td><td>0.1455</td></tr><tr><th>5</th><td>5</td><td>wec_sdge_onshore_wind_turbine_1.0</td><td>0.0932</td></tr><tr><th>6</th><td>6</td><td>wec_sdge_onshore_wind_turbine_1.0</td><td>0.0717</td></tr></tbody></table></div>"
      ],
      "text/latex": [
       "\\begin{tabular}{r|ccc}\n",
       "\t& hour & gen\\_full & cf\\\\\n",
       "\t\\hline\n",
       "\t& Int64 & String & Float64\\\\\n",
       "\t\\hline\n",
       "\t1 & 1 & wec\\_sdge\\_onshore\\_wind\\_turbine\\_1.0 & 0.1694 \\\\\n",
       "\t2 & 2 & wec\\_sdge\\_onshore\\_wind\\_turbine\\_1.0 & 0.1658 \\\\\n",
       "\t3 & 3 & wec\\_sdge\\_onshore\\_wind\\_turbine\\_1.0 & 0.1502 \\\\\n",
       "\t4 & 4 & wec\\_sdge\\_onshore\\_wind\\_turbine\\_1.0 & 0.1455 \\\\\n",
       "\t5 & 5 & wec\\_sdge\\_onshore\\_wind\\_turbine\\_1.0 & 0.0932 \\\\\n",
       "\t6 & 6 & wec\\_sdge\\_onshore\\_wind\\_turbine\\_1.0 & 0.0717 \\\\\n",
       "\\end{tabular}\n"
      ],
      "text/plain": [
       "\u001b[1m6×3 DataFrame\u001b[0m\n",
       "\u001b[1m Row \u001b[0m│\u001b[1m hour  \u001b[0m\u001b[1m gen_full                          \u001b[0m\u001b[1m cf      \u001b[0m\n",
       "\u001b[1m     \u001b[0m│\u001b[90m Int64 \u001b[0m\u001b[90m String                            \u001b[0m\u001b[90m Float64 \u001b[0m\n",
       "─────┼───────────────────────────────────────────────────\n",
       "   1 │     1  wec_sdge_onshore_wind_turbine_1.0   0.1694\n",
       "   2 │     2  wec_sdge_onshore_wind_turbine_1.0   0.1658\n",
       "   3 │     3  wec_sdge_onshore_wind_turbine_1.0   0.1502\n",
       "   4 │     4  wec_sdge_onshore_wind_turbine_1.0   0.1455\n",
       "   5 │     5  wec_sdge_onshore_wind_turbine_1.0   0.0932\n",
       "   6 │     6  wec_sdge_onshore_wind_turbine_1.0   0.0717"
      ]
     },
     "execution_count": 10,
     "metadata": {},
     "output_type": "execute_result"
    }
   ],
   "source": [
    "gen_variable_long = stack(gen_variable, \n",
    "                        Not(:hour), \n",
    "                        variable_name=:gen_full,\n",
    "                        value_name=:cf);\n",
    "# Now we have a \"long\" dataframe; \n",
    "# let's look at the first 6 entries of a wind resource for example\n",
    "first(gen_variable_long[gen_variable_long.gen_full.==\"wec_sdge_onshore_wind_turbine_1.0\",:],6)"
   ]
  },
  {
   "cell_type": "markdown",
   "metadata": {},
   "source": [
    "**Extract single time from the data**\n",
    "(we will get to the full set later)\n",
    "\n",
    "- demand\n",
    "- variable generation\n",
    "\n",
    "Note: variable generation profiles are often encoded in terms of hourly maximum capacity factor, expressed as a per unit value or percentage of installed capacity. Hourly capacity factor is then later multiplied by installed capacity to yield a maximum hourly generation for each resource."
   ]
  },
  {
   "cell_type": "code",
   "execution_count": 11,
   "metadata": {},
   "outputs": [
    {
     "data": {
      "text/html": [
       "<div class=\"data-frame\"><p>30 rows × 2 columns</p><table class=\"data-frame\"><thead><tr><th></th><th>gen_full</th><th>cf</th></tr><tr><th></th><th title=\"String\">String</th><th title=\"Float64\">Float64</th></tr></thead><tbody><tr><th>1</th><td>wec_sdge_biomass_1.0</td><td>1.0</td></tr><tr><th>2</th><td>wec_sdge_hydroelectric_pumped_storage_1.0</td><td>1.0</td></tr><tr><th>3</th><td>wec_sdge_natural_gas_fired_combined_cycle_1.0</td><td>1.0</td></tr><tr><th>4</th><td>wec_sdge_natural_gas_fired_combined_cycle_2.0</td><td>1.0</td></tr><tr><th>5</th><td>wec_sdge_natural_gas_fired_combined_cycle_3.0</td><td>1.0</td></tr><tr><th>6</th><td>wec_sdge_natural_gas_fired_combined_cycle_4.0</td><td>1.0</td></tr><tr><th>7</th><td>wec_sdge_natural_gas_fired_combustion_turbine_1.0</td><td>1.0</td></tr><tr><th>8</th><td>wec_sdge_natural_gas_fired_combustion_turbine_2.0</td><td>1.0</td></tr><tr><th>9</th><td>wec_sdge_natural_gas_fired_combustion_turbine_3.0</td><td>1.0</td></tr><tr><th>10</th><td>wec_sdge_natural_gas_fired_combustion_turbine_4.0</td><td>1.0</td></tr><tr><th>11</th><td>wec_sdge_natural_gas_fired_combustion_turbine_5.0</td><td>1.0</td></tr><tr><th>12</th><td>wec_sdge_natural_gas_fired_combustion_turbine_6.0</td><td>1.0</td></tr><tr><th>13</th><td>wec_sdge_natural_gas_fired_combustion_turbine_7.0</td><td>1.0</td></tr><tr><th>14</th><td>wec_sdge_natural_gas_fired_combustion_turbine_8.0</td><td>1.0</td></tr><tr><th>15</th><td>wec_sdge_natural_gas_fired_combustion_turbine_9.0</td><td>1.0</td></tr><tr><th>16</th><td>wec_sdge_natural_gas_fired_combustion_turbine_10.0</td><td>1.0</td></tr><tr><th>17</th><td>wec_sdge_natural_gas_fired_combustion_turbine_11.0</td><td>1.0</td></tr><tr><th>18</th><td>wec_sdge_natural_gas_fired_combustion_turbine_12.0</td><td>1.0</td></tr><tr><th>19</th><td>wec_sdge_onshore_wind_turbine_1.0</td><td>0.3006</td></tr><tr><th>20</th><td>wec_sdge_small_hydroelectric_1.0</td><td>0.4351</td></tr><tr><th>21</th><td>wec_sdge_solar_photovoltaic_1.0</td><td>0.5695</td></tr><tr><th>22</th><td>wec_sdge_naturalgas_ccccsavgcf_0.0</td><td>1.0</td></tr><tr><th>23</th><td>wec_sdge_naturalgas_ccavgcf_0.0</td><td>1.0</td></tr><tr><th>24</th><td>wec_sdge_naturalgas_ctavgcf_0.0</td><td>1.0</td></tr><tr><th>25</th><td>wec_sdge_battery_0.0</td><td>1.0</td></tr><tr><th>26</th><td>wec_sdge_naturalgas_ccs100_0.0</td><td>1.0</td></tr><tr><th>27</th><td>wec_sdge_landbasedwind_ltrg1_1.0</td><td>0.482802</td></tr><tr><th>28</th><td>wec_sdge_landbasedwind_ltrg1_2.0</td><td>0.302244</td></tr><tr><th>29</th><td>wec_sdge_utilitypv_losangeles_1.0</td><td>0.690915</td></tr><tr><th>30</th><td>wec_sdge_utilitypv_losangeles_2.0</td><td>0.743176</td></tr></tbody></table></div>"
      ],
      "text/latex": [
       "\\begin{tabular}{r|cc}\n",
       "\t& gen\\_full & cf\\\\\n",
       "\t\\hline\n",
       "\t& String & Float64\\\\\n",
       "\t\\hline\n",
       "\t1 & wec\\_sdge\\_biomass\\_1.0 & 1.0 \\\\\n",
       "\t2 & wec\\_sdge\\_hydroelectric\\_pumped\\_storage\\_1.0 & 1.0 \\\\\n",
       "\t3 & wec\\_sdge\\_natural\\_gas\\_fired\\_combined\\_cycle\\_1.0 & 1.0 \\\\\n",
       "\t4 & wec\\_sdge\\_natural\\_gas\\_fired\\_combined\\_cycle\\_2.0 & 1.0 \\\\\n",
       "\t5 & wec\\_sdge\\_natural\\_gas\\_fired\\_combined\\_cycle\\_3.0 & 1.0 \\\\\n",
       "\t6 & wec\\_sdge\\_natural\\_gas\\_fired\\_combined\\_cycle\\_4.0 & 1.0 \\\\\n",
       "\t7 & wec\\_sdge\\_natural\\_gas\\_fired\\_combustion\\_turbine\\_1.0 & 1.0 \\\\\n",
       "\t8 & wec\\_sdge\\_natural\\_gas\\_fired\\_combustion\\_turbine\\_2.0 & 1.0 \\\\\n",
       "\t9 & wec\\_sdge\\_natural\\_gas\\_fired\\_combustion\\_turbine\\_3.0 & 1.0 \\\\\n",
       "\t10 & wec\\_sdge\\_natural\\_gas\\_fired\\_combustion\\_turbine\\_4.0 & 1.0 \\\\\n",
       "\t11 & wec\\_sdge\\_natural\\_gas\\_fired\\_combustion\\_turbine\\_5.0 & 1.0 \\\\\n",
       "\t12 & wec\\_sdge\\_natural\\_gas\\_fired\\_combustion\\_turbine\\_6.0 & 1.0 \\\\\n",
       "\t13 & wec\\_sdge\\_natural\\_gas\\_fired\\_combustion\\_turbine\\_7.0 & 1.0 \\\\\n",
       "\t14 & wec\\_sdge\\_natural\\_gas\\_fired\\_combustion\\_turbine\\_8.0 & 1.0 \\\\\n",
       "\t15 & wec\\_sdge\\_natural\\_gas\\_fired\\_combustion\\_turbine\\_9.0 & 1.0 \\\\\n",
       "\t16 & wec\\_sdge\\_natural\\_gas\\_fired\\_combustion\\_turbine\\_10.0 & 1.0 \\\\\n",
       "\t17 & wec\\_sdge\\_natural\\_gas\\_fired\\_combustion\\_turbine\\_11.0 & 1.0 \\\\\n",
       "\t18 & wec\\_sdge\\_natural\\_gas\\_fired\\_combustion\\_turbine\\_12.0 & 1.0 \\\\\n",
       "\t19 & wec\\_sdge\\_onshore\\_wind\\_turbine\\_1.0 & 0.3006 \\\\\n",
       "\t20 & wec\\_sdge\\_small\\_hydroelectric\\_1.0 & 0.4351 \\\\\n",
       "\t21 & wec\\_sdge\\_solar\\_photovoltaic\\_1.0 & 0.5695 \\\\\n",
       "\t22 & wec\\_sdge\\_naturalgas\\_ccccsavgcf\\_0.0 & 1.0 \\\\\n",
       "\t23 & wec\\_sdge\\_naturalgas\\_ccavgcf\\_0.0 & 1.0 \\\\\n",
       "\t24 & wec\\_sdge\\_naturalgas\\_ctavgcf\\_0.0 & 1.0 \\\\\n",
       "\t25 & wec\\_sdge\\_battery\\_0.0 & 1.0 \\\\\n",
       "\t26 & wec\\_sdge\\_naturalgas\\_ccs100\\_0.0 & 1.0 \\\\\n",
       "\t27 & wec\\_sdge\\_landbasedwind\\_ltrg1\\_1.0 & 0.482802 \\\\\n",
       "\t28 & wec\\_sdge\\_landbasedwind\\_ltrg1\\_2.0 & 0.302244 \\\\\n",
       "\t29 & wec\\_sdge\\_utilitypv\\_losangeles\\_1.0 & 0.690915 \\\\\n",
       "\t30 & wec\\_sdge\\_utilitypv\\_losangeles\\_2.0 & 0.743176 \\\\\n",
       "\\end{tabular}\n"
      ],
      "text/plain": [
       "\u001b[1m30×2 DataFrame\u001b[0m\n",
       "\u001b[1m Row \u001b[0m│\u001b[1m gen_full                          \u001b[0m\u001b[1m cf       \u001b[0m\n",
       "\u001b[1m     \u001b[0m│\u001b[90m String                            \u001b[0m\u001b[90m Float64  \u001b[0m\n",
       "─────┼─────────────────────────────────────────────\n",
       "   1 │ wec_sdge_biomass_1.0               1.0\n",
       "   2 │ wec_sdge_hydroelectric_pumped_st…  1.0\n",
       "   3 │ wec_sdge_natural_gas_fired_combi…  1.0\n",
       "   4 │ wec_sdge_natural_gas_fired_combi…  1.0\n",
       "   5 │ wec_sdge_natural_gas_fired_combi…  1.0\n",
       "   6 │ wec_sdge_natural_gas_fired_combi…  1.0\n",
       "   7 │ wec_sdge_natural_gas_fired_combu…  1.0\n",
       "   8 │ wec_sdge_natural_gas_fired_combu…  1.0\n",
       "   9 │ wec_sdge_natural_gas_fired_combu…  1.0\n",
       "  10 │ wec_sdge_natural_gas_fired_combu…  1.0\n",
       "  11 │ wec_sdge_natural_gas_fired_combu…  1.0\n",
       "  ⋮  │                 ⋮                     ⋮\n",
       "  21 │ wec_sdge_solar_photovoltaic_1.0    0.5695\n",
       "  22 │ wec_sdge_naturalgas_ccccsavgcf_0…  1.0\n",
       "  23 │ wec_sdge_naturalgas_ccavgcf_0.0    1.0\n",
       "  24 │ wec_sdge_naturalgas_ctavgcf_0.0    1.0\n",
       "  25 │ wec_sdge_battery_0.0               1.0\n",
       "  26 │ wec_sdge_naturalgas_ccs100_0.0     1.0\n",
       "  27 │ wec_sdge_landbasedwind_ltrg1_1.0   0.482802\n",
       "  28 │ wec_sdge_landbasedwind_ltrg1_2.0   0.302244\n",
       "  29 │ wec_sdge_utilitypv_losangeles_1.0  0.690915\n",
       "  30 │ wec_sdge_utilitypv_losangeles_2.0  0.743176\n",
       "\u001b[36m                                     9 rows omitted\u001b[0m"
      ]
     },
     "execution_count": 11,
     "metadata": {},
     "output_type": "execute_result"
    }
   ],
   "source": [
    "hr = 2416  # pick 4pm on a spring day\n",
    "loads_single = loads[loads[:,:hour] .== hr, Not(:hour)];\n",
    "var_cf_single = gen_variable_long[\n",
    "    gen_variable_long.hour .== hr, \n",
    "    Not(:hour)]"
   ]
  },
  {
   "cell_type": "markdown",
   "metadata": {},
   "source": [
    "### 3. Create solver function\n",
    "\n",
    "Here, we introduce a functionalized version of the optimization problem. We pass the problem parameters to the function, and it constructs and solves the model, returning the result. This will be useful when we wish to call the same basic model multiple times, e.g. for conducting sensitivities on parameters (among other things)."
   ]
  },
  {
   "cell_type": "code",
   "execution_count": 12,
   "metadata": {},
   "outputs": [
    {
     "data": {
      "text/plain": [
       "economic_dispatch_single (generic function with 1 method)"
      ]
     },
     "execution_count": 12,
     "metadata": {},
     "output_type": "execute_result"
    }
   ],
   "source": [
    "#=\n",
    "Function to solve economic dispatch problem (single-time period, single-zone)\n",
    "Inputs:\n",
    "    gen_df -- dataframe with generator info\n",
    "    loads  -- dataframe with load info\n",
    "    gen_variable -- capacity factors of variable generators (in \"long\" format)\n",
    "Note: it is always a good idea to include a comment blog describing your\n",
    "function's inputs clearly!\n",
    "=#\n",
    "function economic_dispatch_single(gen_df, loads, gen_variable)\n",
    "    ED = Model(HiGHS.Optimizer) # You could use Clp as well, with Clp.Optimizer\n",
    "    \n",
    "    # Define sets based on data\n",
    "      # A set of all variable generators\n",
    "    G_var = gen_df[gen_df[!,:is_variable] .== 1,:r_id] \n",
    "      # A set of all non-variable generators\n",
    "    G_nonvar = gen_df[gen_df[!,:is_variable] .== 0,:r_id]\n",
    "      # Set of all generators\n",
    "    G = gen_df.r_id\n",
    "    # Extract some parameters given the input data\n",
    "      # Generator capacity factor time series for variable generators\n",
    "    gen_var_cf = innerjoin(gen_variable, \n",
    "                    gen_df[gen_df.is_variable .== 1 , \n",
    "                        [:r_id, :gen_full, :existing_cap_mw]], \n",
    "                    on = :gen_full)\n",
    "        \n",
    "    # Decision variables   \n",
    "    @variables(ED, begin\n",
    "        GEN[G]  >= 0     # generation\n",
    "        # Note: we assume Pmin = 0 for all resources for simplicty here\n",
    "    end)\n",
    "                \n",
    "    # Objective function\n",
    "    @objective(ED, Min, \n",
    "        sum( (gen_df[i,:heat_rate_mmbtu_per_mwh] * gen_df[i,:fuel_cost] +\n",
    "            gen_df[i,:var_om_cost_per_mwh]) * GEN[i] \n",
    "                        for i in G_nonvar) + \n",
    "        sum(gen_df[i,:var_om_cost_per_mwh] * GEN[i] \n",
    "                        for i in G_var)\n",
    "    )\n",
    "\n",
    "    # Demand constraint\n",
    "    @constraint(ED, cDemand, \n",
    "        sum(GEN[i] for i in G) == loads[1,:demand])\n",
    "\n",
    "    # Capacity constraint (non-variable generation)\n",
    "    for i in G_nonvar\n",
    "        @constraint(ED, GEN[i] <= gen_df[i,:existing_cap_mw])\n",
    "    end\n",
    "\n",
    "    # Variable generation capacity constraint\n",
    "    for i in 1:nrow(gen_var_cf)\n",
    "        @constraint(ED, GEN[gen_var_cf[i,:r_id] ] <= \n",
    "                        gen_var_cf[i,:cf] *\n",
    "                        gen_var_cf[i,:existing_cap_mw])\n",
    "    end\n",
    "\n",
    "    # Solve statement (! indicates runs in place)\n",
    "    optimize!(ED)\n",
    "\n",
    "    # Dataframe of optimal decision variables\n",
    "    solution = DataFrame(\n",
    "        r_id = gen_df.r_id,\n",
    "        resource = gen_df.resource,\n",
    "        gen = value.(GEN).data\n",
    "        )\n",
    "\n",
    "    # Return the solution and objective as named tuple\n",
    "    return (\n",
    "        solution = solution, \n",
    "        cost = objective_value(ED),\n",
    "    )\n",
    "end"
   ]
  },
  {
   "cell_type": "markdown",
   "metadata": {},
   "source": [
    "### 4. Solve and print data"
   ]
  },
  {
   "cell_type": "code",
   "execution_count": 13,
   "metadata": {},
   "outputs": [
    {
     "name": "stdout",
     "output_type": "stream",
     "text": [
      "Presolving model\n",
      "1 rows, 25 cols, 25 nonzeros\n",
      "1 rows, 22 cols, 22 nonzeros\n",
      "Presolve : Reductions: rows 1(-25); columns 22(-3); elements 22(-28)\n",
      "Solving the presolved LP\n",
      "Using EKK dual simplex solver - serial\n",
      "  Iteration        Objective     Infeasibilities num(sum)\n",
      "          0     0.0000000000e+00 Pr: 1(2482) 0s\n",
      "          1     5.8477778205e+04 Pr: 0(0) 0s\n",
      "Solving the original LP from the solution after postsolve\n",
      "Model   status      : Optimal\n",
      "Simplex   iterations: 1\n",
      "Objective value     :  5.8477778205e+04\n",
      "HiGHS run time      :          0.00\n"
     ]
    },
    {
     "data": {
      "text/html": [
       "<div class=\"data-frame\"><p>25 rows × 3 columns</p><table class=\"data-frame\"><thead><tr><th></th><th>r_id</th><th>resource</th><th>gen</th></tr><tr><th></th><th title=\"Union{Missing, Int64}\">Int64?</th><th title=\"Union{Missing, String}\">String?</th><th title=\"Float64\">Float64</th></tr></thead><tbody><tr><th>1</th><td>1</td><td>biomass</td><td>21.4</td></tr><tr><th>2</th><td>2</td><td>hydroelectric_pumped_storage</td><td>42.0</td></tr><tr><th>3</th><td>3</td><td>natural_gas_fired_combined_cycle</td><td>607.1</td></tr><tr><th>4</th><td>4</td><td>natural_gas_fired_combined_cycle</td><td>30.0</td></tr><tr><th>5</th><td>5</td><td>natural_gas_fired_combined_cycle</td><td>49.4</td></tr><tr><th>6</th><td>6</td><td>natural_gas_fired_combined_cycle</td><td>570.0</td></tr><tr><th>7</th><td>7</td><td>natural_gas_fired_combined_cycle</td><td>336.0</td></tr><tr><th>8</th><td>8</td><td>natural_gas_fired_combined_cycle</td><td>336.0</td></tr><tr><th>9</th><td>9</td><td>natural_gas_fired_combustion_turbine</td><td>0.0</td></tr><tr><th>10</th><td>10</td><td>natural_gas_fired_combustion_turbine</td><td>49.9</td></tr><tr><th>11</th><td>11</td><td>natural_gas_fired_combustion_turbine</td><td>0.0</td></tr><tr><th>12</th><td>12</td><td>natural_gas_fired_combustion_turbine</td><td>0.0</td></tr><tr><th>13</th><td>13</td><td>natural_gas_fired_combustion_turbine</td><td>86.8545</td></tr><tr><th>14</th><td>14</td><td>natural_gas_fired_combustion_turbine</td><td>0.0</td></tr><tr><th>15</th><td>15</td><td>natural_gas_fired_combustion_turbine</td><td>0.0</td></tr><tr><th>16</th><td>16</td><td>natural_gas_fired_combustion_turbine</td><td>0.0</td></tr><tr><th>17</th><td>17</td><td>natural_gas_fired_combustion_turbine</td><td>0.0</td></tr><tr><th>18</th><td>18</td><td>natural_gas_fired_combustion_turbine</td><td>0.0</td></tr><tr><th>19</th><td>19</td><td>natural_gas_fired_combustion_turbine</td><td>0.0</td></tr><tr><th>20</th><td>20</td><td>natural_gas_fired_combustion_turbine</td><td>0.0</td></tr><tr><th>21</th><td>21</td><td>natural_gas_fired_combustion_turbine</td><td>0.0</td></tr><tr><th>22</th><td>22</td><td>natural_gas_fired_combustion_turbine</td><td>0.0</td></tr><tr><th>23</th><td>23</td><td>onshore_wind_turbine</td><td>65.4106</td></tr><tr><th>24</th><td>24</td><td>small_hydroelectric</td><td>3.18493</td></tr><tr><th>25</th><td>25</td><td>solar_photovoltaic</td><td>284.75</td></tr></tbody></table></div>"
      ],
      "text/latex": [
       "\\begin{tabular}{r|ccc}\n",
       "\t& r\\_id & resource & gen\\\\\n",
       "\t\\hline\n",
       "\t& Int64? & String? & Float64\\\\\n",
       "\t\\hline\n",
       "\t1 & 1 & biomass & 21.4 \\\\\n",
       "\t2 & 2 & hydroelectric\\_pumped\\_storage & 42.0 \\\\\n",
       "\t3 & 3 & natural\\_gas\\_fired\\_combined\\_cycle & 607.1 \\\\\n",
       "\t4 & 4 & natural\\_gas\\_fired\\_combined\\_cycle & 30.0 \\\\\n",
       "\t5 & 5 & natural\\_gas\\_fired\\_combined\\_cycle & 49.4 \\\\\n",
       "\t6 & 6 & natural\\_gas\\_fired\\_combined\\_cycle & 570.0 \\\\\n",
       "\t7 & 7 & natural\\_gas\\_fired\\_combined\\_cycle & 336.0 \\\\\n",
       "\t8 & 8 & natural\\_gas\\_fired\\_combined\\_cycle & 336.0 \\\\\n",
       "\t9 & 9 & natural\\_gas\\_fired\\_combustion\\_turbine & 0.0 \\\\\n",
       "\t10 & 10 & natural\\_gas\\_fired\\_combustion\\_turbine & 49.9 \\\\\n",
       "\t11 & 11 & natural\\_gas\\_fired\\_combustion\\_turbine & 0.0 \\\\\n",
       "\t12 & 12 & natural\\_gas\\_fired\\_combustion\\_turbine & 0.0 \\\\\n",
       "\t13 & 13 & natural\\_gas\\_fired\\_combustion\\_turbine & 86.8545 \\\\\n",
       "\t14 & 14 & natural\\_gas\\_fired\\_combustion\\_turbine & 0.0 \\\\\n",
       "\t15 & 15 & natural\\_gas\\_fired\\_combustion\\_turbine & 0.0 \\\\\n",
       "\t16 & 16 & natural\\_gas\\_fired\\_combustion\\_turbine & 0.0 \\\\\n",
       "\t17 & 17 & natural\\_gas\\_fired\\_combustion\\_turbine & 0.0 \\\\\n",
       "\t18 & 18 & natural\\_gas\\_fired\\_combustion\\_turbine & 0.0 \\\\\n",
       "\t19 & 19 & natural\\_gas\\_fired\\_combustion\\_turbine & 0.0 \\\\\n",
       "\t20 & 20 & natural\\_gas\\_fired\\_combustion\\_turbine & 0.0 \\\\\n",
       "\t21 & 21 & natural\\_gas\\_fired\\_combustion\\_turbine & 0.0 \\\\\n",
       "\t22 & 22 & natural\\_gas\\_fired\\_combustion\\_turbine & 0.0 \\\\\n",
       "\t23 & 23 & onshore\\_wind\\_turbine & 65.4106 \\\\\n",
       "\t24 & 24 & small\\_hydroelectric & 3.18493 \\\\\n",
       "\t25 & 25 & solar\\_photovoltaic & 284.75 \\\\\n",
       "\\end{tabular}\n"
      ],
      "text/plain": [
       "\u001b[1m25×3 DataFrame\u001b[0m\n",
       "\u001b[1m Row \u001b[0m│\u001b[1m r_id   \u001b[0m\u001b[1m resource                          \u001b[0m\u001b[1m gen       \u001b[0m\n",
       "\u001b[1m     \u001b[0m│\u001b[90m Int64? \u001b[0m\u001b[90m String?                           \u001b[0m\u001b[90m Float64   \u001b[0m\n",
       "─────┼──────────────────────────────────────────────────────\n",
       "   1 │      1  biomass                             21.4\n",
       "   2 │      2  hydroelectric_pumped_storage        42.0\n",
       "   3 │      3  natural_gas_fired_combined_cycle   607.1\n",
       "   4 │      4  natural_gas_fired_combined_cycle    30.0\n",
       "   5 │      5  natural_gas_fired_combined_cycle    49.4\n",
       "   6 │      6  natural_gas_fired_combined_cycle   570.0\n",
       "   7 │      7  natural_gas_fired_combined_cycle   336.0\n",
       "   8 │      8  natural_gas_fired_combined_cycle   336.0\n",
       "   9 │      9  natural_gas_fired_combustion_tur…    0.0\n",
       "  10 │     10  natural_gas_fired_combustion_tur…   49.9\n",
       "  11 │     11  natural_gas_fired_combustion_tur…    0.0\n",
       "  ⋮  │   ⋮                     ⋮                      ⋮\n",
       "  16 │     16  natural_gas_fired_combustion_tur…    0.0\n",
       "  17 │     17  natural_gas_fired_combustion_tur…    0.0\n",
       "  18 │     18  natural_gas_fired_combustion_tur…    0.0\n",
       "  19 │     19  natural_gas_fired_combustion_tur…    0.0\n",
       "  20 │     20  natural_gas_fired_combustion_tur…    0.0\n",
       "  21 │     21  natural_gas_fired_combustion_tur…    0.0\n",
       "  22 │     22  natural_gas_fired_combustion_tur…    0.0\n",
       "  23 │     23  onshore_wind_turbine                65.4106\n",
       "  24 │     24  small_hydroelectric                  3.18493\n",
       "  25 │     25  solar_photovoltaic                 284.75\n",
       "\u001b[36m                                              4 rows omitted\u001b[0m"
      ]
     },
     "execution_count": 13,
     "metadata": {},
     "output_type": "execute_result"
    }
   ],
   "source": [
    "solution = economic_dispatch_single(gen_df, loads_single, var_cf_single);\n",
    "solution.solution"
   ]
  },
  {
   "cell_type": "markdown",
   "metadata": {},
   "source": [
    "We will now plot the **supply curve** (also known as the **dispatch stack**) for this single period to illustrate the concept of **merit order**. First, let's create a dataframe with the variable cost as a column, and then sort on it from lowest to highest."
   ]
  },
  {
   "cell_type": "code",
   "execution_count": 16,
   "metadata": {},
   "outputs": [],
   "source": [
    "supply_curve = leftjoin(gen_df,\n",
    "                var_cf_single, \n",
    "                on = :gen_full)\n",
    "supply_curve[!, :varcost] .= 0.0\n",
    "supply_curve[!, :cap] .= 0.0\n",
    "\n",
    "# Store varcost of non-variable generators:\n",
    "I = supply_curve[!,:is_variable] .== 0  # `I` contains indexes to the non-variable generators\n",
    "supply_curve[I,:varcost] .= \n",
    "    supply_curve[I,:heat_rate_mmbtu_per_mwh] .* \n",
    "        supply_curve[I,:fuel_cost] .+\n",
    "    supply_curve[I,:var_om_cost_per_mwh]\n",
    "\n",
    "# Calculate available capacity for each generator\n",
    "supply_curve[I,:cap] = supply_curve[I,:existing_cap_mw]\n",
    "\n",
    "# Store varcost of variable generators (in this case, 0)\n",
    "I = (supply_curve[:,:is_variable] .== 1) # `I` contains indexes to the variable generators\n",
    "supply_curve[I,:varcost] = supply_curve[I,:var_om_cost_per_mwh]\n",
    "\n",
    "# Calculate available capacity for each generator\n",
    "# (adjusted for variable generation)\n",
    "supply_curve[I,:cap] = supply_curve[I,:existing_cap_mw] .* supply_curve[I,:cf]\n",
    "\n",
    "sort!(supply_curve, :varcost);"
   ]
  },
  {
   "cell_type": "markdown",
   "metadata": {},
   "source": [
    "Now, let's plot this as a supply curve where:\n",
    "\n",
    "- width = capacity of the generator (i.e., $Pmax$)\n",
    "- height = variable cost of the generator ($VarCost$)"
   ]
  },
  {
   "cell_type": "code",
   "execution_count": 17,
   "metadata": {
    "scrolled": false
   },
   "outputs": [
    {
     "data": {
      "application/vnd.plotly.v1+json": {
       "data": [
        {
         "fill": "tozeroy",
         "fillcolor": "rgba(142, 151, 30, 0.500)",
         "legendgroup": "",
         "line": {
          "color": "rgba(0, 0, 0, 0.500)",
          "dash": "solid",
          "width": 1
         },
         "mode": "lines",
         "name": "",
         "showlegend": false,
         "type": "scatter",
         "x": [
          0,
          42,
          42,
          0,
          0
         ],
         "xaxis": "x1",
         "y": [
          0,
          0,
          0,
          0,
          0
         ],
         "yaxis": "y1"
        },
        {
         "fill": "tozeroy",
         "fillcolor": "rgba(0, 169, 204, 0.500)",
         "legendgroup": "",
         "line": {
          "color": "rgba(0, 0, 0, 0.500)",
          "dash": "solid",
          "width": 1
         },
         "mode": "lines",
         "name": "",
         "showlegend": false,
         "type": "scatter",
         "x": [
          42,
          107.41055999999999,
          107.41055999999999,
          42,
          42
         ],
         "xaxis": "x1",
         "y": [
          0,
          0,
          0,
          0,
          0
         ],
         "yaxis": "y1"
        },
        {
         "fill": "tozeroy",
         "fillcolor": "rgba(155, 127, 233, 0.500)",
         "legendgroup": "",
         "line": {
          "color": "rgba(0, 0, 0, 0.500)",
          "dash": "solid",
          "width": 1
         },
         "mode": "lines",
         "name": "",
         "showlegend": false,
         "type": "scatter",
         "x": [
          107.41055999999999,
          110.595492,
          110.595492,
          107.41055999999999,
          107.41055999999999
         ],
         "xaxis": "x1",
         "y": [
          0,
          0,
          0,
          0,
          0
         ],
         "yaxis": "y1"
        },
        {
         "fill": "tozeroy",
         "fillcolor": "rgba(97, 141, 246, 0.500)",
         "legendgroup": "",
         "line": {
          "color": "rgba(0, 0, 0, 0.500)",
          "dash": "solid",
          "width": 1
         },
         "mode": "lines",
         "name": "",
         "showlegend": false,
         "type": "scatter",
         "x": [
          110.595492,
          395.345492,
          395.345492,
          110.595492,
          110.595492
         ],
         "xaxis": "x1",
         "y": [
          0,
          0,
          0,
          0,
          0
         ],
         "yaxis": "y1"
        },
        {
         "fill": "tozeroy",
         "fillcolor": "rgba(240, 96, 115, 0.500)",
         "legendgroup": "",
         "line": {
          "color": "rgba(0, 0, 0, 0.500)",
          "dash": "solid",
          "width": 1
         },
         "mode": "lines",
         "name": "",
         "showlegend": false,
         "type": "scatter",
         "x": [
          395.345492,
          416.74549199999996,
          416.74549199999996,
          395.345492,
          395.345492
         ],
         "xaxis": "x1",
         "y": [
          0,
          0,
          5.234,
          5.234,
          0
         ],
         "yaxis": "y1"
        },
        {
         "fill": "tozeroy",
         "fillcolor": "rgba(221, 101, 182, 0.500)",
         "legendgroup": "",
         "line": {
          "color": "rgba(0, 0, 0, 0.500)",
          "dash": "solid",
          "width": 1
         },
         "mode": "lines",
         "name": "",
         "showlegend": false,
         "type": "scatter",
         "x": [
          416.74549199999996,
          986.745492,
          986.745492,
          416.74549199999996,
          416.74549199999996
         ],
         "xaxis": "x1",
         "y": [
          0,
          0,
          21.775499999999997,
          21.775499999999997,
          0
         ],
         "yaxis": "y1"
        },
        {
         "fill": "tozeroy",
         "fillcolor": "rgba(108, 159, 51, 0.500)",
         "legendgroup": "",
         "line": {
          "color": "rgba(0, 0, 0, 0.500)",
          "dash": "solid",
          "width": 1
         },
         "mode": "lines",
         "name": "",
         "showlegend": false,
         "type": "scatter",
         "x": [
          986.745492,
          1593.845492,
          1593.845492,
          986.745492,
          986.745492
         ],
         "xaxis": "x1",
         "y": [
          0,
          0,
          22.726399999999995,
          22.726399999999995,
          0
         ],
         "yaxis": "y1"
        },
        {
         "fill": "tozeroy",
         "fillcolor": "rgba(0, 154, 250, 0.500)",
         "legendgroup": "",
         "line": {
          "color": "rgba(0, 0, 0, 0.500)",
          "dash": "solid",
          "width": 1
         },
         "mode": "lines",
         "name": "",
         "showlegend": false,
         "type": "scatter",
         "x": [
          1593.845492,
          1643.245492,
          1643.245492,
          1593.845492,
          1593.845492
         ],
         "xaxis": "x1",
         "y": [
          0,
          0,
          29.3061,
          29.3061,
          0
         ],
         "yaxis": "y1"
        },
        {
         "fill": "tozeroy",
         "fillcolor": "rgba(227, 111, 71, 0.500)",
         "legendgroup": "",
         "line": {
          "color": "rgba(0, 0, 0, 0.500)",
          "dash": "solid",
          "width": 1
         },
         "mode": "lines",
         "name": "",
         "showlegend": false,
         "type": "scatter",
         "x": [
          1643.245492,
          1673.245492,
          1673.245492,
          1643.245492,
          1643.245492
         ],
         "xaxis": "x1",
         "y": [
          0,
          0,
          30.128500000000003,
          30.128500000000003,
          0
         ],
         "yaxis": "y1"
        },
        {
         "fill": "tozeroy",
         "fillcolor": "rgba(62, 164, 78, 0.500)",
         "legendgroup": "",
         "line": {
          "color": "rgba(0, 0, 0, 0.500)",
          "dash": "solid",
          "width": 1
         },
         "mode": "lines",
         "name": "",
         "showlegend": false,
         "type": "scatter",
         "x": [
          1673.245492,
          2009.245492,
          2009.245492,
          1673.245492,
          1673.245492
         ],
         "xaxis": "x1",
         "y": [
          0,
          0,
          36.5771,
          36.5771,
          0
         ],
         "yaxis": "y1"
        },
        {
         "fill": "tozeroy",
         "fillcolor": "rgba(195, 113, 210, 0.500)",
         "legendgroup": "",
         "line": {
          "color": "rgba(0, 0, 0, 0.500)",
          "dash": "solid",
          "width": 1
         },
         "mode": "lines",
         "name": "",
         "showlegend": false,
         "type": "scatter",
         "x": [
          2009.245492,
          2345.245492,
          2345.245492,
          2009.245492,
          2009.245492
         ],
         "xaxis": "x1",
         "y": [
          0,
          0,
          36.757,
          36.757,
          0
         ],
         "yaxis": "y1"
        },
        {
         "fill": "tozeroy",
         "fillcolor": "rgba(172, 142, 24, 0.500)",
         "legendgroup": "",
         "line": {
          "color": "rgba(0, 0, 0, 0.500)",
          "dash": "solid",
          "width": 1
         },
         "mode": "lines",
         "name": "",
         "showlegend": false,
         "type": "scatter",
         "x": [
          2345.245492,
          2395.145492,
          2395.145492,
          2345.245492,
          2345.245492
         ],
         "xaxis": "x1",
         "y": [
          0,
          0,
          37.733599999999996,
          37.733599999999996,
          0
         ],
         "yaxis": "y1"
        },
        {
         "fill": "tozeroy",
         "fillcolor": "rgba(0, 170, 174, 0.500)",
         "legendgroup": "",
         "line": {
          "color": "rgba(0, 0, 0, 0.500)",
          "dash": "solid",
          "width": 1
         },
         "mode": "lines",
         "name": "",
         "showlegend": false,
         "type": "scatter",
         "x": [
          2395.145492,
          2491.745492,
          2491.745492,
          2395.145492,
          2395.145492
         ],
         "xaxis": "x1",
         "y": [
          0,
          0,
          37.785,
          37.785,
          0
         ],
         "yaxis": "y1"
        },
        {
         "fill": "tozeroy",
         "fillcolor": "rgba(237, 94, 147, 0.500)",
         "legendgroup": "",
         "line": {
          "color": "rgba(0, 0, 0, 0.500)",
          "dash": "solid",
          "width": 1
         },
         "mode": "lines",
         "name": "",
         "showlegend": false,
         "type": "scatter",
         "x": [
          2491.745492,
          2583.345492,
          2583.345492,
          2491.745492,
          2491.745492
         ],
         "xaxis": "x1",
         "y": [
          0,
          0,
          38.2733,
          38.2733,
          0
         ],
         "yaxis": "y1"
        },
        {
         "fill": "tozeroy",
         "fillcolor": "rgba(198, 130, 37, 0.500)",
         "legendgroup": "",
         "line": {
          "color": "rgba(0, 0, 0, 0.500)",
          "dash": "solid",
          "width": 1
         },
         "mode": "lines",
         "name": "",
         "showlegend": false,
         "type": "scatter",
         "x": [
          2583.345492,
          2631.445492,
          2631.445492,
          2583.345492,
          2583.345492
         ],
         "xaxis": "x1",
         "y": [
          0,
          0,
          39.172799999999995,
          39.172799999999995,
          0
         ],
         "yaxis": "y1"
        },
        {
         "fill": "tozeroy",
         "fillcolor": "rgba(0, 169, 141, 0.500)",
         "legendgroup": "",
         "line": {
          "color": "rgba(0, 0, 0, 0.500)",
          "dash": "solid",
          "width": 1
         },
         "mode": "lines",
         "name": "",
         "showlegend": false,
         "type": "scatter",
         "x": [
          2631.445492,
          2682.745492,
          2682.745492,
          2631.445492,
          2631.445492
         ],
         "xaxis": "x1",
         "y": [
          0,
          0,
          39.2756,
          39.2756,
          0
         ],
         "yaxis": "y1"
        },
        {
         "fill": "tozeroy",
         "fillcolor": "rgba(142, 151, 30, 0.500)",
         "legendgroup": "",
         "line": {
          "color": "rgba(0, 0, 0, 0.500)",
          "dash": "solid",
          "width": 1
         },
         "mode": "lines",
         "name": "",
         "showlegend": false,
         "type": "scatter",
         "x": [
          2682.745492,
          2734.045492,
          2734.045492,
          2682.745492,
          2682.745492
         ],
         "xaxis": "x1",
         "y": [
          0,
          0,
          39.3784,
          39.3784,
          0
         ],
         "yaxis": "y1"
        },
        {
         "fill": "tozeroy",
         "fillcolor": "rgba(0, 169, 204, 0.500)",
         "legendgroup": "",
         "line": {
          "color": "rgba(0, 0, 0, 0.500)",
          "dash": "solid",
          "width": 1
         },
         "mode": "lines",
         "name": "",
         "showlegend": false,
         "type": "scatter",
         "x": [
          2734.045492,
          2832.245492,
          2832.245492,
          2734.045492,
          2734.045492
         ],
         "xaxis": "x1",
         "y": [
          0,
          0,
          39.4555,
          39.4555,
          0
         ],
         "yaxis": "y1"
        },
        {
         "fill": "tozeroy",
         "fillcolor": "rgba(155, 127, 233, 0.500)",
         "legendgroup": "",
         "line": {
          "color": "rgba(0, 0, 0, 0.500)",
          "dash": "solid",
          "width": 1
         },
         "mode": "lines",
         "name": "",
         "showlegend": false,
         "type": "scatter",
         "x": [
          2832.245492,
          2930.445492,
          2930.445492,
          2832.245492,
          2832.245492
         ],
         "xaxis": "x1",
         "y": [
          0,
          0,
          39.583999999999996,
          39.583999999999996,
          0
         ],
         "yaxis": "y1"
        },
        {
         "fill": "tozeroy",
         "fillcolor": "rgba(97, 141, 246, 0.500)",
         "legendgroup": "",
         "line": {
          "color": "rgba(0, 0, 0, 0.500)",
          "dash": "solid",
          "width": 1
         },
         "mode": "lines",
         "name": "",
         "showlegend": false,
         "type": "scatter",
         "x": [
          2930.445492,
          2979.345492,
          2979.345492,
          2930.445492,
          2930.445492
         ],
         "xaxis": "x1",
         "y": [
          0,
          0,
          39.635400000000004,
          39.635400000000004,
          0
         ],
         "yaxis": "y1"
        },
        {
         "fill": "tozeroy",
         "fillcolor": "rgba(240, 96, 115, 0.500)",
         "legendgroup": "",
         "line": {
          "color": "rgba(0, 0, 0, 0.500)",
          "dash": "solid",
          "width": 1
         },
         "mode": "lines",
         "name": "",
         "showlegend": false,
         "type": "scatter",
         "x": [
          2979.345492,
          3028.245492,
          3028.245492,
          2979.345492,
          2979.345492
         ],
         "xaxis": "x1",
         "y": [
          0,
          0,
          39.841,
          39.841,
          0
         ],
         "yaxis": "y1"
        },
        {
         "fill": "tozeroy",
         "fillcolor": "rgba(221, 101, 182, 0.500)",
         "legendgroup": "",
         "line": {
          "color": "rgba(0, 0, 0, 0.500)",
          "dash": "solid",
          "width": 1
         },
         "mode": "lines",
         "name": "",
         "showlegend": false,
         "type": "scatter",
         "x": [
          3028.245492,
          3076.945492,
          3076.945492,
          3028.245492,
          3028.245492
         ],
         "xaxis": "x1",
         "y": [
          0,
          0,
          40.2522,
          40.2522,
          0
         ],
         "yaxis": "y1"
        },
        {
         "fill": "tozeroy",
         "fillcolor": "rgba(108, 159, 51, 0.500)",
         "legendgroup": "",
         "line": {
          "color": "rgba(0, 0, 0, 0.500)",
          "dash": "solid",
          "width": 1
         },
         "mode": "lines",
         "name": "",
         "showlegend": false,
         "type": "scatter",
         "x": [
          3076.945492,
          3081.745492,
          3081.745492,
          3076.945492,
          3076.945492
         ],
         "xaxis": "x1",
         "y": [
          0,
          0,
          41.9741,
          41.9741,
          0
         ],
         "yaxis": "y1"
        },
        {
         "fill": "tozeroy",
         "fillcolor": "rgba(0, 154, 250, 0.500)",
         "legendgroup": "",
         "line": {
          "color": "rgba(0, 0, 0, 0.500)",
          "dash": "solid",
          "width": 1
         },
         "mode": "lines",
         "name": "",
         "showlegend": false,
         "type": "scatter",
         "x": [
          3081.745492,
          3099.045492,
          3099.045492,
          3081.745492,
          3081.745492
         ],
         "xaxis": "x1",
         "y": [
          0,
          0,
          45.674899999999994,
          45.674899999999994,
          0
         ],
         "yaxis": "y1"
        },
        {
         "fill": "tozeroy",
         "fillcolor": "rgba(227, 111, 71, 0.500)",
         "legendgroup": "",
         "line": {
          "color": "rgba(0, 0, 0, 0.500)",
          "dash": "solid",
          "width": 1
         },
         "mode": "lines",
         "name": "",
         "showlegend": false,
         "type": "scatter",
         "x": [
          3099.045492,
          3133.645492,
          3133.645492,
          3099.045492,
          3099.045492
         ],
         "xaxis": "x1",
         "y": [
          0,
          0,
          54.1302,
          54.1302,
          0
         ],
         "yaxis": "y1"
        },
        {
         "colorbar": {
          "title": ""
         },
         "legendgroup": "demand",
         "line": {
          "color": "rgba(0, 0, 0, 1.000)",
          "dash": "solid",
          "shape": "linear",
          "width": 5
         },
         "mode": "lines",
         "name": "demand",
         "showlegend": true,
         "type": "scatter",
         "x": [
          2482,
          2482
         ],
         "xaxis": "x",
         "y": [
          -5739.425106,
          5793.555306
         ],
         "yaxis": "y",
         "zmax": null,
         "zmin": null
        },
        {
         "colorbar": {
          "title": ""
         },
         "legendgroup": "SRMC",
         "line": {
          "color": "rgba(0, 0, 255, 1.000)",
          "dash": "solid",
          "shape": "linear",
          "width": 5
         },
         "mode": "lines",
         "name": "SRMC",
         "showlegend": true,
         "type": "scatter",
         "x": [
          -332260.43151676,
          335394.07700876
         ],
         "xaxis": "x",
         "y": [
          37.785,
          37.785
         ],
         "yaxis": "y",
         "zmax": null,
         "zmin": null
        }
       ],
       "layout": {
        "annotations": [
         {
          "font": {
           "color": "rgba(0, 0, 0, 1.000)",
           "family": "sans-serif",
           "size": 20
          },
          "rotation": 0,
          "showarrow": false,
          "text": "Supply and demand curves",
          "x": 0.5275462962962963,
          "xanchor": "center",
          "xref": "paper",
          "y": 1,
          "yanchor": "top",
          "yref": "paper"
         }
        ],
        "height": 400,
        "legend": {
         "bgcolor": "rgba(255, 255, 255, 1.000)",
         "bordercolor": "rgba(0, 0, 0, 1.000)",
         "borderwidth": 1,
         "font": {
          "color": "rgba(0, 0, 0, 1.000)",
          "family": "sans-serif",
          "size": 11
         },
         "title": {
          "font": {
           "color": "rgba(0, 0, 0, 1.000)",
           "family": "sans-serif",
           "size": 15
          },
          "text": ""
         },
         "tracegroupgap": 0,
         "traceorder": "normal",
         "x": 1,
         "xanchor": "auto",
         "y": 1,
         "yanchor": "auto"
        },
        "margin": {
         "b": 20,
         "l": 0,
         "r": 0,
         "t": 20
        },
        "paper_bgcolor": "rgba(255, 255, 255, 1.000)",
        "plot_bgcolor": "rgba(255, 255, 255, 1.000)",
        "showlegend": true,
        "width": 600,
        "xaxis": {
         "anchor": "y",
         "domain": [
          0.061654272382618835,
          0.9934383202099737
         ],
         "gridcolor": "rgba(0, 0, 0, 0.100)",
         "gridwidth": 0.5,
         "linecolor": "rgba(0, 0, 0, 1.000)",
         "mirror": false,
         "range": [
          -94.00936476,
          3227.6548567600003
         ],
         "showgrid": true,
         "showline": true,
         "showticklabels": true,
         "tickangle": 0,
         "tickcolor": "rgb(0, 0, 0)",
         "tickfont": {
          "color": "rgba(0, 0, 0, 1.000)",
          "family": "sans-serif",
          "size": 11
         },
         "tickmode": "array",
         "ticks": "inside",
         "ticktext": [
          "0",
          "1000",
          "2000",
          "3000"
         ],
         "tickvals": [
          0,
          1000,
          2000,
          3000
         ],
         "title": "Capacity",
         "titlefont": {
          "color": "rgba(0, 0, 0, 1.000)",
          "family": "sans-serif",
          "size": 15
         },
         "type": "-",
         "visible": true,
         "zeroline": false,
         "zerolinecolor": "rgba(0, 0, 0, 1.000)"
        },
        "yaxis": {
         "anchor": "x",
         "domain": [
          0.07581474190726165,
          0.9415463692038496
         ],
         "gridcolor": "rgba(0, 0, 0, 0.100)",
         "gridwidth": 0.5,
         "linecolor": "rgba(0, 0, 0, 1.000)",
         "mirror": false,
         "range": [
          -1.623906,
          55.754106
         ],
         "showgrid": true,
         "showline": true,
         "showticklabels": true,
         "tickangle": 0,
         "tickcolor": "rgb(0, 0, 0)",
         "tickfont": {
          "color": "rgba(0, 0, 0, 1.000)",
          "family": "sans-serif",
          "size": 11
         },
         "tickmode": "array",
         "ticks": "inside",
         "ticktext": [
          "0",
          "10",
          "20",
          "30",
          "40",
          "50"
         ],
         "tickvals": [
          0,
          10,
          20,
          30,
          40,
          50
         ],
         "title": "Marginal cost",
         "titlefont": {
          "color": "rgba(0, 0, 0, 1.000)",
          "family": "sans-serif",
          "size": 15
         },
         "type": "-",
         "visible": true,
         "zeroline": false,
         "zerolinecolor": "rgba(0, 0, 0, 1.000)"
        }
       }
      },
      "text/html": [
       "    <div id=\"c97033d8-3ec7-4d91-ba28-02c7f6d49bab\" style=\"width:600px;height:400px;\"></div>\n",
       "    <script>\n",
       "        requirejs.config({\n",
       "        paths: {\n",
       "            Plotly: 'https://cdn.plot.ly/plotly-2.6.3.min'\n",
       "        }\n",
       "    });\n",
       "    require(['Plotly'], function (Plotly) {\n",
       "\n",
       "        Plotly.newPlot('c97033d8-3ec7-4d91-ba28-02c7f6d49bab', [\n",
       "    {\n",
       "        \"xaxis\": \"x1\",\n",
       "        \"fill\": \"tozeroy\",\n",
       "        \"yaxis\": \"y1\",\n",
       "        \"x\": [\n",
       "            0.0,\n",
       "            42.0,\n",
       "            42.0,\n",
       "            0.0,\n",
       "            0.0\n",
       "        ],\n",
       "        \"showlegend\": false,\n",
       "        \"mode\": \"lines\",\n",
       "        \"fillcolor\": \"rgba(142, 151, 30, 0.500)\",\n",
       "        \"name\": \"\",\n",
       "        \"legendgroup\": \"\",\n",
       "        \"line\": {\n",
       "            \"color\": \"rgba(0, 0, 0, 0.500)\",\n",
       "            \"dash\": \"solid\",\n",
       "            \"width\": 1\n",
       "        },\n",
       "        \"y\": [\n",
       "            0.0,\n",
       "            0.0,\n",
       "            0.0,\n",
       "            0.0,\n",
       "            0.0\n",
       "        ],\n",
       "        \"type\": \"scatter\"\n",
       "    },\n",
       "    {\n",
       "        \"xaxis\": \"x1\",\n",
       "        \"fill\": \"tozeroy\",\n",
       "        \"yaxis\": \"y1\",\n",
       "        \"x\": [\n",
       "            42.0,\n",
       "            107.41055999999999,\n",
       "            107.41055999999999,\n",
       "            42.0,\n",
       "            42.0\n",
       "        ],\n",
       "        \"showlegend\": false,\n",
       "        \"mode\": \"lines\",\n",
       "        \"fillcolor\": \"rgba(0, 169, 204, 0.500)\",\n",
       "        \"name\": \"\",\n",
       "        \"legendgroup\": \"\",\n",
       "        \"line\": {\n",
       "            \"color\": \"rgba(0, 0, 0, 0.500)\",\n",
       "            \"dash\": \"solid\",\n",
       "            \"width\": 1\n",
       "        },\n",
       "        \"y\": [\n",
       "            0.0,\n",
       "            0.0,\n",
       "            0.0,\n",
       "            0.0,\n",
       "            0.0\n",
       "        ],\n",
       "        \"type\": \"scatter\"\n",
       "    },\n",
       "    {\n",
       "        \"xaxis\": \"x1\",\n",
       "        \"fill\": \"tozeroy\",\n",
       "        \"yaxis\": \"y1\",\n",
       "        \"x\": [\n",
       "            107.41055999999999,\n",
       "            110.595492,\n",
       "            110.595492,\n",
       "            107.41055999999999,\n",
       "            107.41055999999999\n",
       "        ],\n",
       "        \"showlegend\": false,\n",
       "        \"mode\": \"lines\",\n",
       "        \"fillcolor\": \"rgba(155, 127, 233, 0.500)\",\n",
       "        \"name\": \"\",\n",
       "        \"legendgroup\": \"\",\n",
       "        \"line\": {\n",
       "            \"color\": \"rgba(0, 0, 0, 0.500)\",\n",
       "            \"dash\": \"solid\",\n",
       "            \"width\": 1\n",
       "        },\n",
       "        \"y\": [\n",
       "            0.0,\n",
       "            0.0,\n",
       "            0.0,\n",
       "            0.0,\n",
       "            0.0\n",
       "        ],\n",
       "        \"type\": \"scatter\"\n",
       "    },\n",
       "    {\n",
       "        \"xaxis\": \"x1\",\n",
       "        \"fill\": \"tozeroy\",\n",
       "        \"yaxis\": \"y1\",\n",
       "        \"x\": [\n",
       "            110.595492,\n",
       "            395.345492,\n",
       "            395.345492,\n",
       "            110.595492,\n",
       "            110.595492\n",
       "        ],\n",
       "        \"showlegend\": false,\n",
       "        \"mode\": \"lines\",\n",
       "        \"fillcolor\": \"rgba(97, 141, 246, 0.500)\",\n",
       "        \"name\": \"\",\n",
       "        \"legendgroup\": \"\",\n",
       "        \"line\": {\n",
       "            \"color\": \"rgba(0, 0, 0, 0.500)\",\n",
       "            \"dash\": \"solid\",\n",
       "            \"width\": 1\n",
       "        },\n",
       "        \"y\": [\n",
       "            0.0,\n",
       "            0.0,\n",
       "            0.0,\n",
       "            0.0,\n",
       "            0.0\n",
       "        ],\n",
       "        \"type\": \"scatter\"\n",
       "    },\n",
       "    {\n",
       "        \"xaxis\": \"x1\",\n",
       "        \"fill\": \"tozeroy\",\n",
       "        \"yaxis\": \"y1\",\n",
       "        \"x\": [\n",
       "            395.345492,\n",
       "            416.74549199999996,\n",
       "            416.74549199999996,\n",
       "            395.345492,\n",
       "            395.345492\n",
       "        ],\n",
       "        \"showlegend\": false,\n",
       "        \"mode\": \"lines\",\n",
       "        \"fillcolor\": \"rgba(240, 96, 115, 0.500)\",\n",
       "        \"name\": \"\",\n",
       "        \"legendgroup\": \"\",\n",
       "        \"line\": {\n",
       "            \"color\": \"rgba(0, 0, 0, 0.500)\",\n",
       "            \"dash\": \"solid\",\n",
       "            \"width\": 1\n",
       "        },\n",
       "        \"y\": [\n",
       "            0.0,\n",
       "            0.0,\n",
       "            5.234,\n",
       "            5.234,\n",
       "            0.0\n",
       "        ],\n",
       "        \"type\": \"scatter\"\n",
       "    },\n",
       "    {\n",
       "        \"xaxis\": \"x1\",\n",
       "        \"fill\": \"tozeroy\",\n",
       "        \"yaxis\": \"y1\",\n",
       "        \"x\": [\n",
       "            416.74549199999996,\n",
       "            986.745492,\n",
       "            986.745492,\n",
       "            416.74549199999996,\n",
       "            416.74549199999996\n",
       "        ],\n",
       "        \"showlegend\": false,\n",
       "        \"mode\": \"lines\",\n",
       "        \"fillcolor\": \"rgba(221, 101, 182, 0.500)\",\n",
       "        \"name\": \"\",\n",
       "        \"legendgroup\": \"\",\n",
       "        \"line\": {\n",
       "            \"color\": \"rgba(0, 0, 0, 0.500)\",\n",
       "            \"dash\": \"solid\",\n",
       "            \"width\": 1\n",
       "        },\n",
       "        \"y\": [\n",
       "            0.0,\n",
       "            0.0,\n",
       "            21.775499999999997,\n",
       "            21.775499999999997,\n",
       "            0.0\n",
       "        ],\n",
       "        \"type\": \"scatter\"\n",
       "    },\n",
       "    {\n",
       "        \"xaxis\": \"x1\",\n",
       "        \"fill\": \"tozeroy\",\n",
       "        \"yaxis\": \"y1\",\n",
       "        \"x\": [\n",
       "            986.745492,\n",
       "            1593.845492,\n",
       "            1593.845492,\n",
       "            986.745492,\n",
       "            986.745492\n",
       "        ],\n",
       "        \"showlegend\": false,\n",
       "        \"mode\": \"lines\",\n",
       "        \"fillcolor\": \"rgba(108, 159, 51, 0.500)\",\n",
       "        \"name\": \"\",\n",
       "        \"legendgroup\": \"\",\n",
       "        \"line\": {\n",
       "            \"color\": \"rgba(0, 0, 0, 0.500)\",\n",
       "            \"dash\": \"solid\",\n",
       "            \"width\": 1\n",
       "        },\n",
       "        \"y\": [\n",
       "            0.0,\n",
       "            0.0,\n",
       "            22.726399999999995,\n",
       "            22.726399999999995,\n",
       "            0.0\n",
       "        ],\n",
       "        \"type\": \"scatter\"\n",
       "    },\n",
       "    {\n",
       "        \"xaxis\": \"x1\",\n",
       "        \"fill\": \"tozeroy\",\n",
       "        \"yaxis\": \"y1\",\n",
       "        \"x\": [\n",
       "            1593.845492,\n",
       "            1643.245492,\n",
       "            1643.245492,\n",
       "            1593.845492,\n",
       "            1593.845492\n",
       "        ],\n",
       "        \"showlegend\": false,\n",
       "        \"mode\": \"lines\",\n",
       "        \"fillcolor\": \"rgba(0, 154, 250, 0.500)\",\n",
       "        \"name\": \"\",\n",
       "        \"legendgroup\": \"\",\n",
       "        \"line\": {\n",
       "            \"color\": \"rgba(0, 0, 0, 0.500)\",\n",
       "            \"dash\": \"solid\",\n",
       "            \"width\": 1\n",
       "        },\n",
       "        \"y\": [\n",
       "            0.0,\n",
       "            0.0,\n",
       "            29.3061,\n",
       "            29.3061,\n",
       "            0.0\n",
       "        ],\n",
       "        \"type\": \"scatter\"\n",
       "    },\n",
       "    {\n",
       "        \"xaxis\": \"x1\",\n",
       "        \"fill\": \"tozeroy\",\n",
       "        \"yaxis\": \"y1\",\n",
       "        \"x\": [\n",
       "            1643.245492,\n",
       "            1673.245492,\n",
       "            1673.245492,\n",
       "            1643.245492,\n",
       "            1643.245492\n",
       "        ],\n",
       "        \"showlegend\": false,\n",
       "        \"mode\": \"lines\",\n",
       "        \"fillcolor\": \"rgba(227, 111, 71, 0.500)\",\n",
       "        \"name\": \"\",\n",
       "        \"legendgroup\": \"\",\n",
       "        \"line\": {\n",
       "            \"color\": \"rgba(0, 0, 0, 0.500)\",\n",
       "            \"dash\": \"solid\",\n",
       "            \"width\": 1\n",
       "        },\n",
       "        \"y\": [\n",
       "            0.0,\n",
       "            0.0,\n",
       "            30.128500000000003,\n",
       "            30.128500000000003,\n",
       "            0.0\n",
       "        ],\n",
       "        \"type\": \"scatter\"\n",
       "    },\n",
       "    {\n",
       "        \"xaxis\": \"x1\",\n",
       "        \"fill\": \"tozeroy\",\n",
       "        \"yaxis\": \"y1\",\n",
       "        \"x\": [\n",
       "            1673.245492,\n",
       "            2009.245492,\n",
       "            2009.245492,\n",
       "            1673.245492,\n",
       "            1673.245492\n",
       "        ],\n",
       "        \"showlegend\": false,\n",
       "        \"mode\": \"lines\",\n",
       "        \"fillcolor\": \"rgba(62, 164, 78, 0.500)\",\n",
       "        \"name\": \"\",\n",
       "        \"legendgroup\": \"\",\n",
       "        \"line\": {\n",
       "            \"color\": \"rgba(0, 0, 0, 0.500)\",\n",
       "            \"dash\": \"solid\",\n",
       "            \"width\": 1\n",
       "        },\n",
       "        \"y\": [\n",
       "            0.0,\n",
       "            0.0,\n",
       "            36.5771,\n",
       "            36.5771,\n",
       "            0.0\n",
       "        ],\n",
       "        \"type\": \"scatter\"\n",
       "    },\n",
       "    {\n",
       "        \"xaxis\": \"x1\",\n",
       "        \"fill\": \"tozeroy\",\n",
       "        \"yaxis\": \"y1\",\n",
       "        \"x\": [\n",
       "            2009.245492,\n",
       "            2345.245492,\n",
       "            2345.245492,\n",
       "            2009.245492,\n",
       "            2009.245492\n",
       "        ],\n",
       "        \"showlegend\": false,\n",
       "        \"mode\": \"lines\",\n",
       "        \"fillcolor\": \"rgba(195, 113, 210, 0.500)\",\n",
       "        \"name\": \"\",\n",
       "        \"legendgroup\": \"\",\n",
       "        \"line\": {\n",
       "            \"color\": \"rgba(0, 0, 0, 0.500)\",\n",
       "            \"dash\": \"solid\",\n",
       "            \"width\": 1\n",
       "        },\n",
       "        \"y\": [\n",
       "            0.0,\n",
       "            0.0,\n",
       "            36.757,\n",
       "            36.757,\n",
       "            0.0\n",
       "        ],\n",
       "        \"type\": \"scatter\"\n",
       "    },\n",
       "    {\n",
       "        \"xaxis\": \"x1\",\n",
       "        \"fill\": \"tozeroy\",\n",
       "        \"yaxis\": \"y1\",\n",
       "        \"x\": [\n",
       "            2345.245492,\n",
       "            2395.145492,\n",
       "            2395.145492,\n",
       "            2345.245492,\n",
       "            2345.245492\n",
       "        ],\n",
       "        \"showlegend\": false,\n",
       "        \"mode\": \"lines\",\n",
       "        \"fillcolor\": \"rgba(172, 142, 24, 0.500)\",\n",
       "        \"name\": \"\",\n",
       "        \"legendgroup\": \"\",\n",
       "        \"line\": {\n",
       "            \"color\": \"rgba(0, 0, 0, 0.500)\",\n",
       "            \"dash\": \"solid\",\n",
       "            \"width\": 1\n",
       "        },\n",
       "        \"y\": [\n",
       "            0.0,\n",
       "            0.0,\n",
       "            37.733599999999996,\n",
       "            37.733599999999996,\n",
       "            0.0\n",
       "        ],\n",
       "        \"type\": \"scatter\"\n",
       "    },\n",
       "    {\n",
       "        \"xaxis\": \"x1\",\n",
       "        \"fill\": \"tozeroy\",\n",
       "        \"yaxis\": \"y1\",\n",
       "        \"x\": [\n",
       "            2395.145492,\n",
       "            2491.745492,\n",
       "            2491.745492,\n",
       "            2395.145492,\n",
       "            2395.145492\n",
       "        ],\n",
       "        \"showlegend\": false,\n",
       "        \"mode\": \"lines\",\n",
       "        \"fillcolor\": \"rgba(0, 170, 174, 0.500)\",\n",
       "        \"name\": \"\",\n",
       "        \"legendgroup\": \"\",\n",
       "        \"line\": {\n",
       "            \"color\": \"rgba(0, 0, 0, 0.500)\",\n",
       "            \"dash\": \"solid\",\n",
       "            \"width\": 1\n",
       "        },\n",
       "        \"y\": [\n",
       "            0.0,\n",
       "            0.0,\n",
       "            37.785,\n",
       "            37.785,\n",
       "            0.0\n",
       "        ],\n",
       "        \"type\": \"scatter\"\n",
       "    },\n",
       "    {\n",
       "        \"xaxis\": \"x1\",\n",
       "        \"fill\": \"tozeroy\",\n",
       "        \"yaxis\": \"y1\",\n",
       "        \"x\": [\n",
       "            2491.745492,\n",
       "            2583.345492,\n",
       "            2583.345492,\n",
       "            2491.745492,\n",
       "            2491.745492\n",
       "        ],\n",
       "        \"showlegend\": false,\n",
       "        \"mode\": \"lines\",\n",
       "        \"fillcolor\": \"rgba(237, 94, 147, 0.500)\",\n",
       "        \"name\": \"\",\n",
       "        \"legendgroup\": \"\",\n",
       "        \"line\": {\n",
       "            \"color\": \"rgba(0, 0, 0, 0.500)\",\n",
       "            \"dash\": \"solid\",\n",
       "            \"width\": 1\n",
       "        },\n",
       "        \"y\": [\n",
       "            0.0,\n",
       "            0.0,\n",
       "            38.2733,\n",
       "            38.2733,\n",
       "            0.0\n",
       "        ],\n",
       "        \"type\": \"scatter\"\n",
       "    },\n",
       "    {\n",
       "        \"xaxis\": \"x1\",\n",
       "        \"fill\": \"tozeroy\",\n",
       "        \"yaxis\": \"y1\",\n",
       "        \"x\": [\n",
       "            2583.345492,\n",
       "            2631.445492,\n",
       "            2631.445492,\n",
       "            2583.345492,\n",
       "            2583.345492\n",
       "        ],\n",
       "        \"showlegend\": false,\n",
       "        \"mode\": \"lines\",\n",
       "        \"fillcolor\": \"rgba(198, 130, 37, 0.500)\",\n",
       "        \"name\": \"\",\n",
       "        \"legendgroup\": \"\",\n",
       "        \"line\": {\n",
       "            \"color\": \"rgba(0, 0, 0, 0.500)\",\n",
       "            \"dash\": \"solid\",\n",
       "            \"width\": 1\n",
       "        },\n",
       "        \"y\": [\n",
       "            0.0,\n",
       "            0.0,\n",
       "            39.172799999999995,\n",
       "            39.172799999999995,\n",
       "            0.0\n",
       "        ],\n",
       "        \"type\": \"scatter\"\n",
       "    },\n",
       "    {\n",
       "        \"xaxis\": \"x1\",\n",
       "        \"fill\": \"tozeroy\",\n",
       "        \"yaxis\": \"y1\",\n",
       "        \"x\": [\n",
       "            2631.445492,\n",
       "            2682.745492,\n",
       "            2682.745492,\n",
       "            2631.445492,\n",
       "            2631.445492\n",
       "        ],\n",
       "        \"showlegend\": false,\n",
       "        \"mode\": \"lines\",\n",
       "        \"fillcolor\": \"rgba(0, 169, 141, 0.500)\",\n",
       "        \"name\": \"\",\n",
       "        \"legendgroup\": \"\",\n",
       "        \"line\": {\n",
       "            \"color\": \"rgba(0, 0, 0, 0.500)\",\n",
       "            \"dash\": \"solid\",\n",
       "            \"width\": 1\n",
       "        },\n",
       "        \"y\": [\n",
       "            0.0,\n",
       "            0.0,\n",
       "            39.2756,\n",
       "            39.2756,\n",
       "            0.0\n",
       "        ],\n",
       "        \"type\": \"scatter\"\n",
       "    },\n",
       "    {\n",
       "        \"xaxis\": \"x1\",\n",
       "        \"fill\": \"tozeroy\",\n",
       "        \"yaxis\": \"y1\",\n",
       "        \"x\": [\n",
       "            2682.745492,\n",
       "            2734.045492,\n",
       "            2734.045492,\n",
       "            2682.745492,\n",
       "            2682.745492\n",
       "        ],\n",
       "        \"showlegend\": false,\n",
       "        \"mode\": \"lines\",\n",
       "        \"fillcolor\": \"rgba(142, 151, 30, 0.500)\",\n",
       "        \"name\": \"\",\n",
       "        \"legendgroup\": \"\",\n",
       "        \"line\": {\n",
       "            \"color\": \"rgba(0, 0, 0, 0.500)\",\n",
       "            \"dash\": \"solid\",\n",
       "            \"width\": 1\n",
       "        },\n",
       "        \"y\": [\n",
       "            0.0,\n",
       "            0.0,\n",
       "            39.3784,\n",
       "            39.3784,\n",
       "            0.0\n",
       "        ],\n",
       "        \"type\": \"scatter\"\n",
       "    },\n",
       "    {\n",
       "        \"xaxis\": \"x1\",\n",
       "        \"fill\": \"tozeroy\",\n",
       "        \"yaxis\": \"y1\",\n",
       "        \"x\": [\n",
       "            2734.045492,\n",
       "            2832.245492,\n",
       "            2832.245492,\n",
       "            2734.045492,\n",
       "            2734.045492\n",
       "        ],\n",
       "        \"showlegend\": false,\n",
       "        \"mode\": \"lines\",\n",
       "        \"fillcolor\": \"rgba(0, 169, 204, 0.500)\",\n",
       "        \"name\": \"\",\n",
       "        \"legendgroup\": \"\",\n",
       "        \"line\": {\n",
       "            \"color\": \"rgba(0, 0, 0, 0.500)\",\n",
       "            \"dash\": \"solid\",\n",
       "            \"width\": 1\n",
       "        },\n",
       "        \"y\": [\n",
       "            0.0,\n",
       "            0.0,\n",
       "            39.4555,\n",
       "            39.4555,\n",
       "            0.0\n",
       "        ],\n",
       "        \"type\": \"scatter\"\n",
       "    },\n",
       "    {\n",
       "        \"xaxis\": \"x1\",\n",
       "        \"fill\": \"tozeroy\",\n",
       "        \"yaxis\": \"y1\",\n",
       "        \"x\": [\n",
       "            2832.245492,\n",
       "            2930.445492,\n",
       "            2930.445492,\n",
       "            2832.245492,\n",
       "            2832.245492\n",
       "        ],\n",
       "        \"showlegend\": false,\n",
       "        \"mode\": \"lines\",\n",
       "        \"fillcolor\": \"rgba(155, 127, 233, 0.500)\",\n",
       "        \"name\": \"\",\n",
       "        \"legendgroup\": \"\",\n",
       "        \"line\": {\n",
       "            \"color\": \"rgba(0, 0, 0, 0.500)\",\n",
       "            \"dash\": \"solid\",\n",
       "            \"width\": 1\n",
       "        },\n",
       "        \"y\": [\n",
       "            0.0,\n",
       "            0.0,\n",
       "            39.583999999999996,\n",
       "            39.583999999999996,\n",
       "            0.0\n",
       "        ],\n",
       "        \"type\": \"scatter\"\n",
       "    },\n",
       "    {\n",
       "        \"xaxis\": \"x1\",\n",
       "        \"fill\": \"tozeroy\",\n",
       "        \"yaxis\": \"y1\",\n",
       "        \"x\": [\n",
       "            2930.445492,\n",
       "            2979.345492,\n",
       "            2979.345492,\n",
       "            2930.445492,\n",
       "            2930.445492\n",
       "        ],\n",
       "        \"showlegend\": false,\n",
       "        \"mode\": \"lines\",\n",
       "        \"fillcolor\": \"rgba(97, 141, 246, 0.500)\",\n",
       "        \"name\": \"\",\n",
       "        \"legendgroup\": \"\",\n",
       "        \"line\": {\n",
       "            \"color\": \"rgba(0, 0, 0, 0.500)\",\n",
       "            \"dash\": \"solid\",\n",
       "            \"width\": 1\n",
       "        },\n",
       "        \"y\": [\n",
       "            0.0,\n",
       "            0.0,\n",
       "            39.635400000000004,\n",
       "            39.635400000000004,\n",
       "            0.0\n",
       "        ],\n",
       "        \"type\": \"scatter\"\n",
       "    },\n",
       "    {\n",
       "        \"xaxis\": \"x1\",\n",
       "        \"fill\": \"tozeroy\",\n",
       "        \"yaxis\": \"y1\",\n",
       "        \"x\": [\n",
       "            2979.345492,\n",
       "            3028.245492,\n",
       "            3028.245492,\n",
       "            2979.345492,\n",
       "            2979.345492\n",
       "        ],\n",
       "        \"showlegend\": false,\n",
       "        \"mode\": \"lines\",\n",
       "        \"fillcolor\": \"rgba(240, 96, 115, 0.500)\",\n",
       "        \"name\": \"\",\n",
       "        \"legendgroup\": \"\",\n",
       "        \"line\": {\n",
       "            \"color\": \"rgba(0, 0, 0, 0.500)\",\n",
       "            \"dash\": \"solid\",\n",
       "            \"width\": 1\n",
       "        },\n",
       "        \"y\": [\n",
       "            0.0,\n",
       "            0.0,\n",
       "            39.841,\n",
       "            39.841,\n",
       "            0.0\n",
       "        ],\n",
       "        \"type\": \"scatter\"\n",
       "    },\n",
       "    {\n",
       "        \"xaxis\": \"x1\",\n",
       "        \"fill\": \"tozeroy\",\n",
       "        \"yaxis\": \"y1\",\n",
       "        \"x\": [\n",
       "            3028.245492,\n",
       "            3076.945492,\n",
       "            3076.945492,\n",
       "            3028.245492,\n",
       "            3028.245492\n",
       "        ],\n",
       "        \"showlegend\": false,\n",
       "        \"mode\": \"lines\",\n",
       "        \"fillcolor\": \"rgba(221, 101, 182, 0.500)\",\n",
       "        \"name\": \"\",\n",
       "        \"legendgroup\": \"\",\n",
       "        \"line\": {\n",
       "            \"color\": \"rgba(0, 0, 0, 0.500)\",\n",
       "            \"dash\": \"solid\",\n",
       "            \"width\": 1\n",
       "        },\n",
       "        \"y\": [\n",
       "            0.0,\n",
       "            0.0,\n",
       "            40.2522,\n",
       "            40.2522,\n",
       "            0.0\n",
       "        ],\n",
       "        \"type\": \"scatter\"\n",
       "    },\n",
       "    {\n",
       "        \"xaxis\": \"x1\",\n",
       "        \"fill\": \"tozeroy\",\n",
       "        \"yaxis\": \"y1\",\n",
       "        \"x\": [\n",
       "            3076.945492,\n",
       "            3081.745492,\n",
       "            3081.745492,\n",
       "            3076.945492,\n",
       "            3076.945492\n",
       "        ],\n",
       "        \"showlegend\": false,\n",
       "        \"mode\": \"lines\",\n",
       "        \"fillcolor\": \"rgba(108, 159, 51, 0.500)\",\n",
       "        \"name\": \"\",\n",
       "        \"legendgroup\": \"\",\n",
       "        \"line\": {\n",
       "            \"color\": \"rgba(0, 0, 0, 0.500)\",\n",
       "            \"dash\": \"solid\",\n",
       "            \"width\": 1\n",
       "        },\n",
       "        \"y\": [\n",
       "            0.0,\n",
       "            0.0,\n",
       "            41.9741,\n",
       "            41.9741,\n",
       "            0.0\n",
       "        ],\n",
       "        \"type\": \"scatter\"\n",
       "    },\n",
       "    {\n",
       "        \"xaxis\": \"x1\",\n",
       "        \"fill\": \"tozeroy\",\n",
       "        \"yaxis\": \"y1\",\n",
       "        \"x\": [\n",
       "            3081.745492,\n",
       "            3099.045492,\n",
       "            3099.045492,\n",
       "            3081.745492,\n",
       "            3081.745492\n",
       "        ],\n",
       "        \"showlegend\": false,\n",
       "        \"mode\": \"lines\",\n",
       "        \"fillcolor\": \"rgba(0, 154, 250, 0.500)\",\n",
       "        \"name\": \"\",\n",
       "        \"legendgroup\": \"\",\n",
       "        \"line\": {\n",
       "            \"color\": \"rgba(0, 0, 0, 0.500)\",\n",
       "            \"dash\": \"solid\",\n",
       "            \"width\": 1\n",
       "        },\n",
       "        \"y\": [\n",
       "            0.0,\n",
       "            0.0,\n",
       "            45.674899999999994,\n",
       "            45.674899999999994,\n",
       "            0.0\n",
       "        ],\n",
       "        \"type\": \"scatter\"\n",
       "    },\n",
       "    {\n",
       "        \"xaxis\": \"x1\",\n",
       "        \"fill\": \"tozeroy\",\n",
       "        \"yaxis\": \"y1\",\n",
       "        \"x\": [\n",
       "            3099.045492,\n",
       "            3133.645492,\n",
       "            3133.645492,\n",
       "            3099.045492,\n",
       "            3099.045492\n",
       "        ],\n",
       "        \"showlegend\": false,\n",
       "        \"mode\": \"lines\",\n",
       "        \"fillcolor\": \"rgba(227, 111, 71, 0.500)\",\n",
       "        \"name\": \"\",\n",
       "        \"legendgroup\": \"\",\n",
       "        \"line\": {\n",
       "            \"color\": \"rgba(0, 0, 0, 0.500)\",\n",
       "            \"dash\": \"solid\",\n",
       "            \"width\": 1\n",
       "        },\n",
       "        \"y\": [\n",
       "            0.0,\n",
       "            0.0,\n",
       "            54.1302,\n",
       "            54.1302,\n",
       "            0.0\n",
       "        ],\n",
       "        \"type\": \"scatter\"\n",
       "    },\n",
       "    {\n",
       "        \"xaxis\": \"x\",\n",
       "        \"colorbar\": {\n",
       "            \"title\": \"\"\n",
       "        },\n",
       "        \"yaxis\": \"y\",\n",
       "        \"x\": [\n",
       "            2482.0,\n",
       "            2482.0\n",
       "        ],\n",
       "        \"showlegend\": true,\n",
       "        \"mode\": \"lines\",\n",
       "        \"name\": \"demand\",\n",
       "        \"zmin\": null,\n",
       "        \"legendgroup\": \"demand\",\n",
       "        \"zmax\": null,\n",
       "        \"line\": {\n",
       "            \"color\": \"rgba(0, 0, 0, 1.000)\",\n",
       "            \"shape\": \"linear\",\n",
       "            \"dash\": \"solid\",\n",
       "            \"width\": 5\n",
       "        },\n",
       "        \"y\": [\n",
       "            -5739.425106,\n",
       "            5793.555306\n",
       "        ],\n",
       "        \"type\": \"scatter\"\n",
       "    },\n",
       "    {\n",
       "        \"xaxis\": \"x\",\n",
       "        \"colorbar\": {\n",
       "            \"title\": \"\"\n",
       "        },\n",
       "        \"yaxis\": \"y\",\n",
       "        \"x\": [\n",
       "            -332260.43151676,\n",
       "            335394.07700876\n",
       "        ],\n",
       "        \"showlegend\": true,\n",
       "        \"mode\": \"lines\",\n",
       "        \"name\": \"SRMC\",\n",
       "        \"zmin\": null,\n",
       "        \"legendgroup\": \"SRMC\",\n",
       "        \"zmax\": null,\n",
       "        \"line\": {\n",
       "            \"color\": \"rgba(0, 0, 255, 1.000)\",\n",
       "            \"shape\": \"linear\",\n",
       "            \"dash\": \"solid\",\n",
       "            \"width\": 5\n",
       "        },\n",
       "        \"y\": [\n",
       "            37.785,\n",
       "            37.785\n",
       "        ],\n",
       "        \"type\": \"scatter\"\n",
       "    }\n",
       "]\n",
       ", {\n",
       "    \"showlegend\": true,\n",
       "    \"xaxis\": {\n",
       "        \"showticklabels\": true,\n",
       "        \"gridwidth\": 0.5,\n",
       "        \"tickvals\": [\n",
       "            0.0,\n",
       "            1000.0,\n",
       "            2000.0,\n",
       "            3000.0\n",
       "        ],\n",
       "        \"range\": [\n",
       "            -94.00936476,\n",
       "            3227.6548567600003\n",
       "        ],\n",
       "        \"domain\": [\n",
       "            0.061654272382618835,\n",
       "            0.9934383202099737\n",
       "        ],\n",
       "        \"mirror\": false,\n",
       "        \"tickangle\": 0,\n",
       "        \"showline\": true,\n",
       "        \"ticktext\": [\n",
       "            \"0\",\n",
       "            \"1000\",\n",
       "            \"2000\",\n",
       "            \"3000\"\n",
       "        ],\n",
       "        \"zeroline\": false,\n",
       "        \"tickfont\": {\n",
       "            \"color\": \"rgba(0, 0, 0, 1.000)\",\n",
       "            \"family\": \"sans-serif\",\n",
       "            \"size\": 11\n",
       "        },\n",
       "        \"zerolinecolor\": \"rgba(0, 0, 0, 1.000)\",\n",
       "        \"anchor\": \"y\",\n",
       "        \"visible\": true,\n",
       "        \"ticks\": \"inside\",\n",
       "        \"tickmode\": \"array\",\n",
       "        \"linecolor\": \"rgba(0, 0, 0, 1.000)\",\n",
       "        \"showgrid\": true,\n",
       "        \"title\": \"Capacity\",\n",
       "        \"gridcolor\": \"rgba(0, 0, 0, 0.100)\",\n",
       "        \"titlefont\": {\n",
       "            \"color\": \"rgba(0, 0, 0, 1.000)\",\n",
       "            \"family\": \"sans-serif\",\n",
       "            \"size\": 15\n",
       "        },\n",
       "        \"tickcolor\": \"rgb(0, 0, 0)\",\n",
       "        \"type\": \"-\"\n",
       "    },\n",
       "    \"paper_bgcolor\": \"rgba(255, 255, 255, 1.000)\",\n",
       "    \"annotations\": [\n",
       "        {\n",
       "            \"yanchor\": \"top\",\n",
       "            \"xanchor\": \"center\",\n",
       "            \"rotation\": -0.0,\n",
       "            \"y\": 1.0,\n",
       "            \"font\": {\n",
       "                \"color\": \"rgba(0, 0, 0, 1.000)\",\n",
       "                \"family\": \"sans-serif\",\n",
       "                \"size\": 20\n",
       "            },\n",
       "            \"yref\": \"paper\",\n",
       "            \"showarrow\": false,\n",
       "            \"text\": \"Supply and demand curves\",\n",
       "            \"xref\": \"paper\",\n",
       "            \"x\": 0.5275462962962963\n",
       "        }\n",
       "    ],\n",
       "    \"height\": 400,\n",
       "    \"margin\": {\n",
       "        \"l\": 0,\n",
       "        \"b\": 20,\n",
       "        \"r\": 0,\n",
       "        \"t\": 20\n",
       "    },\n",
       "    \"plot_bgcolor\": \"rgba(255, 255, 255, 1.000)\",\n",
       "    \"yaxis\": {\n",
       "        \"showticklabels\": true,\n",
       "        \"gridwidth\": 0.5,\n",
       "        \"tickvals\": [\n",
       "            0.0,\n",
       "            10.0,\n",
       "            20.0,\n",
       "            30.0,\n",
       "            40.0,\n",
       "            50.0\n",
       "        ],\n",
       "        \"range\": [\n",
       "            -1.623906,\n",
       "            55.754106\n",
       "        ],\n",
       "        \"domain\": [\n",
       "            0.07581474190726165,\n",
       "            0.9415463692038496\n",
       "        ],\n",
       "        \"mirror\": false,\n",
       "        \"tickangle\": 0,\n",
       "        \"showline\": true,\n",
       "        \"ticktext\": [\n",
       "            \"0\",\n",
       "            \"10\",\n",
       "            \"20\",\n",
       "            \"30\",\n",
       "            \"40\",\n",
       "            \"50\"\n",
       "        ],\n",
       "        \"zeroline\": false,\n",
       "        \"tickfont\": {\n",
       "            \"color\": \"rgba(0, 0, 0, 1.000)\",\n",
       "            \"family\": \"sans-serif\",\n",
       "            \"size\": 11\n",
       "        },\n",
       "        \"zerolinecolor\": \"rgba(0, 0, 0, 1.000)\",\n",
       "        \"anchor\": \"x\",\n",
       "        \"visible\": true,\n",
       "        \"ticks\": \"inside\",\n",
       "        \"tickmode\": \"array\",\n",
       "        \"linecolor\": \"rgba(0, 0, 0, 1.000)\",\n",
       "        \"showgrid\": true,\n",
       "        \"title\": \"Marginal cost\",\n",
       "        \"gridcolor\": \"rgba(0, 0, 0, 0.100)\",\n",
       "        \"titlefont\": {\n",
       "            \"color\": \"rgba(0, 0, 0, 1.000)\",\n",
       "            \"family\": \"sans-serif\",\n",
       "            \"size\": 15\n",
       "        },\n",
       "        \"tickcolor\": \"rgb(0, 0, 0)\",\n",
       "        \"type\": \"-\"\n",
       "    },\n",
       "    \"legend\": {\n",
       "        \"yanchor\": \"auto\",\n",
       "        \"xanchor\": \"auto\",\n",
       "        \"bordercolor\": \"rgba(0, 0, 0, 1.000)\",\n",
       "        \"bgcolor\": \"rgba(255, 255, 255, 1.000)\",\n",
       "        \"borderwidth\": 1,\n",
       "        \"tracegroupgap\": 0,\n",
       "        \"y\": 1.0,\n",
       "        \"font\": {\n",
       "            \"color\": \"rgba(0, 0, 0, 1.000)\",\n",
       "            \"family\": \"sans-serif\",\n",
       "            \"size\": 11\n",
       "        },\n",
       "        \"title\": {\n",
       "            \"font\": {\n",
       "                \"color\": \"rgba(0, 0, 0, 1.000)\",\n",
       "                \"family\": \"sans-serif\",\n",
       "                \"size\": 15\n",
       "            },\n",
       "            \"text\": \"\"\n",
       "        },\n",
       "        \"traceorder\": \"normal\",\n",
       "        \"x\": 1.0\n",
       "    },\n",
       "    \"width\": 600\n",
       "}\n",
       ");\n",
       "\n",
       "    });\n",
       "    </script>\n"
      ]
     },
     "execution_count": 17,
     "metadata": {},
     "output_type": "execute_result"
    }
   ],
   "source": [
    "rectangle(w, h, x, y) = Shape(x .+ [0,w,w,0], y .+ [0,0,h,h])\n",
    "\n",
    "p = plot(nrow(supply_curve))\n",
    "\n",
    "marg_gen = 0\n",
    "marg_price = 0\n",
    "x = 0\n",
    "for i in 1:nrow(supply_curve)\n",
    "    plot!(p, rectangle(supply_curve[i,:cap],\n",
    "            supply_curve[i,:varcost],x,0), opacity=.5, \n",
    "            label = \"\")\n",
    "    if (x < loads_single[1,:demand]) && (x + supply_curve[i,:cap] > loads_single[1,:demand])\n",
    "        marg_gen = i\n",
    "        marg_price = supply_curve[i,:varcost]\n",
    "    end\n",
    "    x = x + supply_curve[i,:cap]\n",
    "end \n",
    "vline!([loads_single[1,:demand]],linecolor=\"black\",linewidth=5,\n",
    "label = \"demand\")\n",
    "hline!([marg_price],linecolor=\"blue\",linewidth=5,\n",
    "label = \"SRMC\")\n",
    "title!(\"Supply and demand curves\")\n",
    "xlabel!(\"Capacity\")\n",
    "ylabel!(\"Marginal cost\")\n",
    "p"
   ]
  },
  {
   "cell_type": "markdown",
   "metadata": {},
   "source": [
    "In the above, everything to the left of demand is dispatched at full capacity, except for the last generator (the \"marginal generator\") where demand stops. Everything to the right is not dispatched (=0). We stored the marginal generator in `marg_gen`:"
   ]
  },
  {
   "cell_type": "code",
   "execution_count": null,
   "metadata": {},
   "outputs": [],
   "source": [
    "supply_curve[marg_gen,:]"
   ]
  },
  {
   "cell_type": "markdown",
   "metadata": {},
   "source": [
    "Which is generating $GEN_{marg\\_gen}=$"
   ]
  },
  {
   "cell_type": "code",
   "execution_count": null,
   "metadata": {},
   "outputs": [],
   "source": [
    "solution.solution[solution.solution.r_id .== supply_curve[marg_gen,:r_id],\n",
    "    :gen][1]"
   ]
  },
  {
   "cell_type": "markdown",
   "metadata": {},
   "source": [
    "**Combine by generation type**\n",
    "\n",
    "We are often interested in the total generation *by type*, not individual generators. We use `combine` and `groupby` methods to sum over resource:"
   ]
  },
  {
   "cell_type": "code",
   "execution_count": 20,
   "metadata": {},
   "outputs": [
    {
     "name": "stdout",
     "output_type": "stream",
     "text": [
      "┌──────────────────────────────────────┬──────────┐\n",
      "│\u001b[1m                             resource \u001b[0m│\u001b[1m  gen_sum \u001b[0m│\n",
      "│\u001b[90m                              String? \u001b[0m│\u001b[90m  Float64 \u001b[0m│\n",
      "├──────────────────────────────────────┼──────────┤\n",
      "│                              biomass │   21.400 │\n",
      "│         hydroelectric_pumped_storage │   42.000 │\n",
      "│     natural_gas_fired_combined_cycle │ 1928.500 │\n",
      "│ natural_gas_fired_combustion_turbine │  136.755 │\n",
      "│                 onshore_wind_turbine │   65.411 │\n",
      "│                  small_hydroelectric │    3.185 │\n",
      "│                   solar_photovoltaic │  284.750 │\n",
      "└──────────────────────────────────────┴──────────┘\n"
     ]
    }
   ],
   "source": [
    "sol_gen = combine(groupby(solution.solution, :resource), \n",
    "            :gen => sum)\n",
    "# We use the PrettyTable package here to round numbers when displaying\n",
    "pretty_table(sol_gen, formatters = ft_printf(\"%5.3f\")) "
   ]
  },
  {
   "cell_type": "markdown",
   "metadata": {},
   "source": [
    "Finally, let's add back the 600MW of behind-the-meter solar to get a full picture of all the electricity on the grid."
   ]
  },
  {
   "cell_type": "code",
   "execution_count": 21,
   "metadata": {},
   "outputs": [
    {
     "name": "stdout",
     "output_type": "stream",
     "text": [
      "┌──────────────────────────────────────┬──────────┐\n",
      "│\u001b[1m                             resource \u001b[0m│\u001b[1m  gen_sum \u001b[0m│\n",
      "│\u001b[90m                              String? \u001b[0m│\u001b[90m  Float64 \u001b[0m│\n",
      "├──────────────────────────────────────┼──────────┤\n",
      "│                              biomass │   21.400 │\n",
      "│         hydroelectric_pumped_storage │   42.000 │\n",
      "│     natural_gas_fired_combined_cycle │ 1928.500 │\n",
      "│ natural_gas_fired_combustion_turbine │  136.755 │\n",
      "│                 onshore_wind_turbine │   65.411 │\n",
      "│                  small_hydroelectric │    3.185 │\n",
      "│                   solar_photovoltaic │  284.750 │\n",
      "│               solar_photovoltaic_btm │  341.700 │\n",
      "└──────────────────────────────────────┴──────────┘\n"
     ]
    }
   ],
   "source": [
    "# we use the copy function to create a copy of the dataframe (as opposed to working with the original)\n",
    "sol_gen_btm = copy(sol_gen)\n",
    "\n",
    "# We'll use the same variability profile for BTM solar as the utility-scale solar here (in reality, they would probably differ)\n",
    "btm = DataFrame(resource = [\"solar_photovoltaic_btm\"], gen_sum = var_cf_single[var_cf_single.gen_full .== \"wec_sdge_solar_photovoltaic_1.0\",:cf] * 600)\n",
    "append!(sol_gen_btm, btm)\n",
    "pretty_table(sol_gen_btm, formatters = ft_printf(\"%5.3f\")) # We use the PrettyTable package to round numbers when displaying"
   ]
  },
  {
   "cell_type": "markdown",
   "metadata": {},
   "source": [
    "Hence, the majority of energy is being met by combined cycle natural gas turbines (CCGT), second by solar PV, and third by behind-the-meter solar."
   ]
  },
  {
   "cell_type": "markdown",
   "metadata": {},
   "source": [
    "## Multiple-time period, simple generator constraints\n",
    "\n",
    "We neglected the time dimension above and now we will add it back in. The key changes to the model arise from adding an additional index for time:\n",
    "\n",
    "$$\n",
    "\\begin{align}\n",
    "\\min \\ & \\sum_{g \\in G, t \\in T} VarCost_g \\times GEN_{g,t} & \\\\\n",
    "\\text{s.t.} & \\\\\n",
    " & \\sum_{g} GEN_{g,t} = Demand_t & \\forall \\quad t \\in T \\\\\n",
    " & GEN_{g,t} \\leq Pmax_{g,t} & \\forall \\quad g \\in G , t \\in T \\\\\n",
    " & GEN_{g,t} \\geq Pmin_{g,t} & \\forall \\quad g \\in G , t \\in T\n",
    "\\end{align}\n",
    "$$\n",
    "\n",
    "\n",
    "Note that for conventional generators, we often have $Pmax_{g,t} = Pmax_{g}$ and $Pmin_{g,t} = Pmin_{g}$ constant over time. (We will consider unit commitment later, which will alter this logic.)\n",
    "\n",
    "For variable renewable generators, it is natural that $Pmax_{g,t}$ varies with time (i.e., based on solar irradiation or wind speeds). $Pmin_{g,t}$ for wind and solar resources is usually 0, but for hydropower resources, minimum streamflow constraints can produce a time-variant parameter."
   ]
  },
  {
   "cell_type": "markdown",
   "metadata": {},
   "source": [
    "### 3. Create solver function\n",
    "\n",
    "(We reuse steps 1 and 2 above to load packages and data.)"
   ]
  },
  {
   "cell_type": "code",
   "execution_count": 22,
   "metadata": {},
   "outputs": [
    {
     "data": {
      "text/plain": [
       "economic_dispatch_multi (generic function with 1 method)"
      ]
     },
     "execution_count": 22,
     "metadata": {},
     "output_type": "execute_result"
    }
   ],
   "source": [
    "#=\n",
    "Function to solve economic dispatch problem (multi-time period, single-zone)\n",
    "Inputs:\n",
    "    gen_df -- dataframe with generator info\n",
    "    loads  -- load by time\n",
    "    gen_variable -- capacity factors of variable generators (in \"long\" format)\n",
    "=#\n",
    "function economic_dispatch_multi(gen_df, loads, gen_variable)\n",
    "    ED = Model(HiGHS.Optimizer)\n",
    "\n",
    "    # Define sets based on data\n",
    "    G_var = gen_df[gen_df[!,:is_variable] .== 1,:r_id] \n",
    "    G_nonvar = gen_df[gen_df[!,:is_variable] .== 0,:r_id]\n",
    "    G = gen_df.r_id\n",
    "    T = loads.hour\n",
    "\n",
    "    # Generator capacity factor time series for variable generators\n",
    "    gen_var_cf = innerjoin(gen_variable, \n",
    "                    gen_df[gen_df.is_variable .== 1 , \n",
    "                        [:r_id, :gen_full, :existing_cap_mw]], \n",
    "                    on = :gen_full)\n",
    "        \n",
    "    # Decision variables   \n",
    "    @variables(ED, begin\n",
    "        GEN[G, T]  >= 0     # generation\n",
    "        # Note: we assume Pmin = 0 for all resources for simplicty here\n",
    "    end)\n",
    "                \n",
    "    # Objective function\n",
    "    @objective(ED, Min, \n",
    "        sum( (gen_df[gen_df.r_id .== i,:heat_rate_mmbtu_per_mwh][1] * gen_df[gen_df.r_id .== i,:fuel_cost][1] +\n",
    "            gen_df[gen_df.r_id .== i,:var_om_cost_per_mwh][1]) * GEN[i,t] \n",
    "                        for i in G_nonvar for t in T) + \n",
    "        sum(gen_df[gen_df.r_id .== i,:var_om_cost_per_mwh][1] * GEN[i,t] \n",
    "                        for i in G_var for t in T)\n",
    "    )\n",
    "    \n",
    "    # Demand constraint\n",
    "    @constraint(ED, cDemand[t in T], \n",
    "        sum(GEN[i,t] for i in G) == loads[loads.hour .== t,:demand][1])\n",
    "\n",
    "    # Capacity constraints (non-variable generation)\n",
    "    @constraint(ED, Cap_nonvar[i in G_nonvar, t in T], \n",
    "        GEN[i,t] <= gen_df[gen_df.r_id .== i,:existing_cap_mw][1])\n",
    "\n",
    "    # Variable generation capacity constraints\n",
    "    @constraint(ED, Cap_var[i in 1:nrow(gen_var_cf)], \n",
    "            GEN[gen_var_cf[i,:r_id], gen_var_cf[i,:hour] ] <= \n",
    "                        gen_var_cf[i,:cf] *\n",
    "                        gen_var_cf[i,:existing_cap_mw])\n",
    "    \n",
    "    # Solve statement (! indicates runs in place)\n",
    "    optimize!(ED)\n",
    "\n",
    "    # Dataframe of optimal decision variables\n",
    "    # This requires a few extra steps because we are indexing decision variables over two sets: generator and time\n",
    "    solution = DataFrame(value.(GEN).data, :auto)  # :auto argument asks DataFrames to pick the variable names automatically\n",
    "    ax1 = value.(GEN).axes[1]\n",
    "    ax2 = value.(GEN).axes[2]\n",
    "    cols = names(solution)\n",
    "    insertcols!(solution, 1, :r_id => ax1)\n",
    "    solution = stack(solution, Not(:r_id), variable_name=:hour)\n",
    "    solution.hour = foldl(replace, [cols[i] => ax2[i] for i in 1:length(ax2)], init=solution.hour)\n",
    "    rename!(solution, :value => :gen)\n",
    "    solution.hour = convert.(Int64,solution.hour)\n",
    "    \n",
    "    # Return the solution and objective as named tuple\n",
    "    return (\n",
    "        solution = solution, \n",
    "        cost = objective_value(ED),\n",
    "        status = termination_status(ED)\n",
    "    )\n",
    "\n",
    "end"
   ]
  },
  {
   "cell_type": "markdown",
   "metadata": {},
   "source": [
    "### 4. Solve a day's economic dispatch\n",
    "\n",
    "We will subset our year-long dataset to a single spring day and solve."
   ]
  },
  {
   "cell_type": "code",
   "execution_count": 23,
   "metadata": {},
   "outputs": [
    {
     "name": "stdout",
     "output_type": "stream",
     "text": [
      "Presolving model\n",
      "24 rows, 583 cols, 583 nonzeros\n",
      "24 rows, 522 cols, 522 nonzeros\n",
      "Presolve : Reductions: rows 24(-600); columns 522(-78); elements 522(-678)\n",
      "Solving the presolved LP\n",
      "Using EKK dual simplex solver - serial\n",
      "  Iteration        Objective     Infeasibilities num(sum)\n",
      "          0     2.5048085200e+04 Pr: 24(53556.1) 0s\n",
      "         24     8.0339333085e+05 Pr: 0(0) 0s\n",
      "Solving the original LP from the solution after postsolve\n",
      "Model   status      : Optimal\n",
      "Simplex   iterations: 24\n",
      "Objective value     :  8.0339333085e+05\n",
      "HiGHS run time      :          0.00\n"
     ]
    }
   ],
   "source": [
    "n=100\n",
    "T_period = (n*24+1):((n+1)*24)\n",
    "\n",
    "loads_multi = loads[in.(loads.hour,Ref(T_period)),:]\n",
    "gen_variable_multi = gen_variable_long[in.(gen_variable_long.hour,Ref(T_period)),:]\n",
    "\n",
    "gen_df_sens = copy(gen_df)\n",
    "gen_df_sens[gen_df_sens.resource .== \"solar_photovoltaic\",\n",
    "    :existing_cap_mw] .= 3500\n",
    "\n",
    "solution = economic_dispatch_multi(gen_df_sens, loads_multi, gen_variable_multi);"
   ]
  },
  {
   "cell_type": "code",
   "execution_count": 24,
   "metadata": {},
   "outputs": [
    {
     "data": {
      "text/html": [
       "<div class=\"data-frame\"><p>8 rows × 2 columns</p><table class=\"data-frame\"><thead><tr><th></th><th>resource</th><th>gen_sum_sum</th></tr><tr><th></th><th title=\"Union{Missing, String}\">String?</th><th title=\"Float64\">Float64</th></tr></thead><tbody><tr><th>1</th><td>_onshore_wind_turbine</td><td>2314.42</td></tr><tr><th>2</th><td>_small_hydroelectric</td><td>76.4384</td></tr><tr><th>3</th><td>_solar_photovoltaic</td><td>20546.0</td></tr><tr><th>4</th><td>_solar_photovoltaic_btm</td><td>3522.18</td></tr><tr><th>5</th><td>biomass</td><td>513.6</td></tr><tr><th>6</th><td>hydroelectric_pumped_storage</td><td>1008.0</td></tr><tr><th>7</th><td>natural_gas_fired_combined_cycle</td><td>29749.6</td></tr><tr><th>8</th><td>natural_gas_fired_combustion_turbine</td><td>1224.89</td></tr></tbody></table></div>"
      ],
      "text/latex": [
       "\\begin{tabular}{r|cc}\n",
       "\t& resource & gen\\_sum\\_sum\\\\\n",
       "\t\\hline\n",
       "\t& String? & Float64\\\\\n",
       "\t\\hline\n",
       "\t1 & \\_onshore\\_wind\\_turbine & 2314.42 \\\\\n",
       "\t2 & \\_small\\_hydroelectric & 76.4384 \\\\\n",
       "\t3 & \\_solar\\_photovoltaic & 20546.0 \\\\\n",
       "\t4 & \\_solar\\_photovoltaic\\_btm & 3522.18 \\\\\n",
       "\t5 & biomass & 513.6 \\\\\n",
       "\t6 & hydroelectric\\_pumped\\_storage & 1008.0 \\\\\n",
       "\t7 & natural\\_gas\\_fired\\_combined\\_cycle & 29749.6 \\\\\n",
       "\t8 & natural\\_gas\\_fired\\_combustion\\_turbine & 1224.89 \\\\\n",
       "\\end{tabular}\n"
      ],
      "text/plain": [
       "\u001b[1m8×2 DataFrame\u001b[0m\n",
       "\u001b[1m Row \u001b[0m│\u001b[1m resource                          \u001b[0m\u001b[1m gen_sum_sum \u001b[0m\n",
       "\u001b[1m     \u001b[0m│\u001b[90m String?                           \u001b[0m\u001b[90m Float64     \u001b[0m\n",
       "─────┼────────────────────────────────────────────────\n",
       "   1 │ _onshore_wind_turbine                2314.42\n",
       "   2 │ _small_hydroelectric                   76.4384\n",
       "   3 │ _solar_photovoltaic                 20546.0\n",
       "   4 │ _solar_photovoltaic_btm              3522.18\n",
       "   5 │ biomass                               513.6\n",
       "   6 │ hydroelectric_pumped_storage         1008.0\n",
       "   7 │ natural_gas_fired_combined_cycle    29749.6\n",
       "   8 │ natural_gas_fired_combustion_tur…    1224.89"
      ]
     },
     "execution_count": 24,
     "metadata": {},
     "output_type": "execute_result"
    }
   ],
   "source": [
    "# **Add back in BTM solar and plot results**\n",
    "\n",
    "sol_gen = innerjoin(solution.solution, \n",
    "                    gen_df[!, [:r_id, :resource]], \n",
    "                    on = :r_id)\n",
    "sol_gen = combine(groupby(sol_gen, [:resource, :hour]), \n",
    "            :gen => sum)\n",
    "sol_gen_btm = copy(sol_gen)\n",
    "sol_gen_btm[sol_gen_btm.resource .== \"solar_photovoltaic\", :resource] .= \"_solar_photovoltaic\"\n",
    "sol_gen_btm[sol_gen_btm.resource .== \"onshore_wind_turbine\", :resource] .= \"_onshore_wind_turbine\"\n",
    "sol_gen_btm[sol_gen_btm.resource .== \"small_hydroelectric\", :resource] .= \"_small_hydroelectric\"\n",
    "\n",
    "btm = DataFrame(resource = repeat([\"_solar_photovoltaic_btm\"]; outer=length(T_period)), \n",
    "    hour = T_period,\n",
    "    gen_sum = gen_variable_multi[gen_variable_multi.gen_full .== \"wec_sdge_solar_photovoltaic_1.0\",:cf] * 600)\n",
    "append!(sol_gen_btm, btm)\n",
    "\n",
    "# Reorder resources\n",
    "sort!(sol_gen_btm, [:hour, :resource])\n",
    "\n",
    "#Write output\n",
    "  # Create a 'results' directory in your current working directory if one does not yet exist\n",
    "if !isdir(\"results\") \n",
    "    mkdir(\"results\")\n",
    "end\n",
    "  # Write the outputs to this folder\n",
    "CSV.write(\"results/sol_gen_btm.csv\",sol_gen_btm)\n",
    "\n",
    "sol_gen_sum = combine(groupby(sol_gen_btm, [:resource]), \n",
    "            :gen_sum => sum)"
   ]
  },
  {
   "cell_type": "markdown",
   "metadata": {},
   "source": [
    "**Plot charts**\n",
    "\n",
    "We use the [VegaLite](https://www.queryverse.org/VegaLite.jl/stable/) library to make some fancier plots.\n",
    "\n",
    "We also introduce the pipe operator `|>`, a helpful syntax that \"pipes\" the data on the left into the first argument of the function on the right. (Some more examples are [here](https://syl1.gitbook.io/julia-language-a-concise-tutorial/useful-packages/pipe).)"
   ]
  },
  {
   "cell_type": "code",
   "execution_count": 25,
   "metadata": {},
   "outputs": [
    {
     "data": {
      "application/vnd.vegalite.v4+json": {
       "data": {
        "values": [
         {
          "gen_sum": 163.3088,
          "hour": 2401,
          "resource": "_onshore_wind_turbine"
         },
         {
          "gen_sum": 3.184932,
          "hour": 2401,
          "resource": "_small_hydroelectric"
         },
         {
          "gen_sum": 0,
          "hour": 2401,
          "resource": "_solar_photovoltaic"
         },
         {
          "gen_sum": 0,
          "hour": 2401,
          "resource": "_solar_photovoltaic_btm"
         },
         {
          "gen_sum": 21.4,
          "hour": 2401,
          "resource": "biomass"
         },
         {
          "gen_sum": 42,
          "hour": 2401,
          "resource": "hydroelectric_pumped_storage"
         },
         {
          "gen_sum": 1385.106268,
          "hour": 2401,
          "resource": "natural_gas_fired_combined_cycle"
         },
         {
          "gen_sum": 0,
          "hour": 2401,
          "resource": "natural_gas_fired_combustion_turbine"
         },
         {
          "gen_sum": 169.79327999999998,
          "hour": 2402,
          "resource": "_onshore_wind_turbine"
         },
         {
          "gen_sum": 3.184932,
          "hour": 2402,
          "resource": "_small_hydroelectric"
         },
         {
          "gen_sum": 0,
          "hour": 2402,
          "resource": "_solar_photovoltaic"
         },
         {
          "gen_sum": 0,
          "hour": 2402,
          "resource": "_solar_photovoltaic_btm"
         },
         {
          "gen_sum": 21.4,
          "hour": 2402,
          "resource": "biomass"
         },
         {
          "gen_sum": 42,
          "hour": 2402,
          "resource": "hydroelectric_pumped_storage"
         },
         {
          "gen_sum": 1316.621788,
          "hour": 2402,
          "resource": "natural_gas_fired_combined_cycle"
         },
         {
          "gen_sum": 0,
          "hour": 2402,
          "resource": "natural_gas_fired_combustion_turbine"
         },
         {
          "gen_sum": 115.1104,
          "hour": 2403,
          "resource": "_onshore_wind_turbine"
         },
         {
          "gen_sum": 3.184932,
          "hour": 2403,
          "resource": "_small_hydroelectric"
         },
         {
          "gen_sum": 0,
          "hour": 2403,
          "resource": "_solar_photovoltaic"
         },
         {
          "gen_sum": 0,
          "hour": 2403,
          "resource": "_solar_photovoltaic_btm"
         },
         {
          "gen_sum": 21.4,
          "hour": 2403,
          "resource": "biomass"
         },
         {
          "gen_sum": 42,
          "hour": 2403,
          "resource": "hydroelectric_pumped_storage"
         },
         {
          "gen_sum": 1336.304668,
          "hour": 2403,
          "resource": "natural_gas_fired_combined_cycle"
         },
         {
          "gen_sum": 0,
          "hour": 2403,
          "resource": "natural_gas_fired_combustion_turbine"
         },
         {
          "gen_sum": 100.55296,
          "hour": 2404,
          "resource": "_onshore_wind_turbine"
         },
         {
          "gen_sum": 3.184932,
          "hour": 2404,
          "resource": "_small_hydroelectric"
         },
         {
          "gen_sum": 0,
          "hour": 2404,
          "resource": "_solar_photovoltaic"
         },
         {
          "gen_sum": 0,
          "hour": 2404,
          "resource": "_solar_photovoltaic_btm"
         },
         {
          "gen_sum": 21.4,
          "hour": 2404,
          "resource": "biomass"
         },
         {
          "gen_sum": 42,
          "hour": 2404,
          "resource": "hydroelectric_pumped_storage"
         },
         {
          "gen_sum": 1394.8621079999998,
          "hour": 2404,
          "resource": "natural_gas_fired_combined_cycle"
         },
         {
          "gen_sum": 0,
          "hour": 2404,
          "resource": "natural_gas_fired_combustion_turbine"
         },
         {
          "gen_sum": 80.57728,
          "hour": 2405,
          "resource": "_onshore_wind_turbine"
         },
         {
          "gen_sum": 3.184932,
          "hour": 2405,
          "resource": "_small_hydroelectric"
         },
         {
          "gen_sum": 0,
          "hour": 2405,
          "resource": "_solar_photovoltaic"
         },
         {
          "gen_sum": 0,
          "hour": 2405,
          "resource": "_solar_photovoltaic_btm"
         },
         {
          "gen_sum": 21.4,
          "hour": 2405,
          "resource": "biomass"
         },
         {
          "gen_sum": 42,
          "hour": 2405,
          "resource": "hydroelectric_pumped_storage"
         },
         {
          "gen_sum": 1585.837788,
          "hour": 2405,
          "resource": "natural_gas_fired_combined_cycle"
         },
         {
          "gen_sum": 0,
          "hour": 2405,
          "resource": "natural_gas_fired_combustion_turbine"
         },
         {
          "gen_sum": 139.17695999999998,
          "hour": 2406,
          "resource": "_onshore_wind_turbine"
         },
         {
          "gen_sum": 3.184932,
          "hour": 2406,
          "resource": "_small_hydroelectric"
         },
         {
          "gen_sum": 0,
          "hour": 2406,
          "resource": "_solar_photovoltaic"
         },
         {
          "gen_sum": 0,
          "hour": 2406,
          "resource": "_solar_photovoltaic_btm"
         },
         {
          "gen_sum": 21.4,
          "hour": 2406,
          "resource": "biomass"
         },
         {
          "gen_sum": 42,
          "hour": 2406,
          "resource": "hydroelectric_pumped_storage"
         },
         {
          "gen_sum": 1770.238108,
          "hour": 2406,
          "resource": "natural_gas_fired_combined_cycle"
         },
         {
          "gen_sum": 0,
          "hour": 2406,
          "resource": "natural_gas_fired_combustion_turbine"
         },
         {
          "gen_sum": 74.17984,
          "hour": 2407,
          "resource": "_onshore_wind_turbine"
         },
         {
          "gen_sum": 3.184932,
          "hour": 2407,
          "resource": "_small_hydroelectric"
         },
         {
          "gen_sum": 193.55,
          "hour": 2407,
          "resource": "_solar_photovoltaic"
         },
         {
          "gen_sum": 33.18,
          "hour": 2407,
          "resource": "_solar_photovoltaic_btm"
         },
         {
          "gen_sum": 21.4,
          "hour": 2407,
          "resource": "biomass"
         },
         {
          "gen_sum": 42,
          "hour": 2407,
          "resource": "hydroelectric_pumped_storage"
         },
         {
          "gen_sum": 1928.5,
          "hour": 2407,
          "resource": "natural_gas_fired_combined_cycle"
         },
         {
          "gen_sum": 11.185227999999896,
          "hour": 2407,
          "resource": "natural_gas_fired_combustion_turbine"
         },
         {
          "gen_sum": 49.373439999999995,
          "hour": 2408,
          "resource": "_onshore_wind_turbine"
         },
         {
          "gen_sum": 3.184932,
          "hour": 2408,
          "resource": "_small_hydroelectric"
         },
         {
          "gen_sum": 773.85,
          "hour": 2408,
          "resource": "_solar_photovoltaic"
         },
         {
          "gen_sum": 132.66,
          "hour": 2408,
          "resource": "_solar_photovoltaic_btm"
         },
         {
          "gen_sum": 21.4,
          "hour": 2408,
          "resource": "biomass"
         },
         {
          "gen_sum": 42,
          "hour": 2408,
          "resource": "hydroelectric_pumped_storage"
         },
         {
          "gen_sum": 1707.1916279999998,
          "hour": 2408,
          "resource": "natural_gas_fired_combined_cycle"
         },
         {
          "gen_sum": 0,
          "hour": 2408,
          "resource": "natural_gas_fired_combustion_turbine"
         },
         {
          "gen_sum": 167.35616,
          "hour": 2409,
          "resource": "_onshore_wind_turbine"
         },
         {
          "gen_sum": 3.184932,
          "hour": 2409,
          "resource": "_small_hydroelectric"
         },
         {
          "gen_sum": 1671.6000000000001,
          "hour": 2409,
          "resource": "_solar_photovoltaic"
         },
         {
          "gen_sum": 286.56,
          "hour": 2409,
          "resource": "_solar_photovoltaic_btm"
         },
         {
          "gen_sum": 21.4,
          "hour": 2409,
          "resource": "biomass"
         },
         {
          "gen_sum": 42,
          "hour": 2409,
          "resource": "hydroelectric_pumped_storage"
         },
         {
          "gen_sum": 932.4589079999998,
          "hour": 2409,
          "resource": "natural_gas_fired_combined_cycle"
         },
         {
          "gen_sum": 0,
          "hour": 2409,
          "resource": "natural_gas_fired_combustion_turbine"
         },
         {
          "gen_sum": 131.56096,
          "hour": 2410,
          "resource": "_onshore_wind_turbine"
         },
         {
          "gen_sum": 3.184932,
          "hour": 2410,
          "resource": "_small_hydroelectric"
         },
         {
          "gen_sum": 2014.95,
          "hour": 2410,
          "resource": "_solar_photovoltaic"
         },
         {
          "gen_sum": 345.42,
          "hour": 2410,
          "resource": "_solar_photovoltaic_btm"
         },
         {
          "gen_sum": 21.4,
          "hour": 2410,
          "resource": "biomass"
         },
         {
          "gen_sum": 42,
          "hour": 2410,
          "resource": "hydroelectric_pumped_storage"
         },
         {
          "gen_sum": 809.9041079999998,
          "hour": 2410,
          "resource": "natural_gas_fired_combined_cycle"
         },
         {
          "gen_sum": 0,
          "hour": 2410,
          "resource": "natural_gas_fired_combustion_turbine"
         },
         {
          "gen_sum": 111.1936,
          "hour": 2411,
          "resource": "_onshore_wind_turbine"
         },
         {
          "gen_sum": 3.184932,
          "hour": 2411,
          "resource": "_small_hydroelectric"
         },
         {
          "gen_sum": 2113.65,
          "hour": 2411,
          "resource": "_solar_photovoltaic"
         },
         {
          "gen_sum": 362.34,
          "hour": 2411,
          "resource": "_solar_photovoltaic_btm"
         },
         {
          "gen_sum": 21.4,
          "hour": 2411,
          "resource": "biomass"
         },
         {
          "gen_sum": 42,
          "hour": 2411,
          "resource": "hydroelectric_pumped_storage"
         },
         {
          "gen_sum": 833.5714679999999,
          "hour": 2411,
          "resource": "natural_gas_fired_combined_cycle"
         },
         {
          "gen_sum": 0,
          "hour": 2411,
          "resource": "natural_gas_fired_combustion_turbine"
         },
         {
          "gen_sum": 92.11008,
          "hour": 2412,
          "resource": "_onshore_wind_turbine"
         },
         {
          "gen_sum": 3.184932,
          "hour": 2412,
          "resource": "_small_hydroelectric"
         },
         {
          "gen_sum": 2148.65,
          "hour": 2412,
          "resource": "_solar_photovoltaic"
         },
         {
          "gen_sum": 368.34,
          "hour": 2412,
          "resource": "_solar_photovoltaic_btm"
         },
         {
          "gen_sum": 21.4,
          "hour": 2412,
          "resource": "biomass"
         },
         {
          "gen_sum": 42,
          "hour": 2412,
          "resource": "hydroelectric_pumped_storage"
         },
         {
          "gen_sum": 655.6549879999998,
          "hour": 2412,
          "resource": "natural_gas_fired_combined_cycle"
         },
         {
          "gen_sum": 0,
          "hour": 2412,
          "resource": "natural_gas_fired_combustion_turbine"
         },
         {
          "gen_sum": 52.09344,
          "hour": 2413,
          "resource": "_onshore_wind_turbine"
         },
         {
          "gen_sum": 3.184932,
          "hour": 2413,
          "resource": "_small_hydroelectric"
         },
         {
          "gen_sum": 2256.1,
          "hour": 2413,
          "resource": "_solar_photovoltaic"
         },
         {
          "gen_sum": 386.76,
          "hour": 2413,
          "resource": "_solar_photovoltaic_btm"
         },
         {
          "gen_sum": 21.4,
          "hour": 2413,
          "resource": "biomass"
         },
         {
          "gen_sum": 42,
          "hour": 2413,
          "resource": "hydroelectric_pumped_storage"
         },
         {
          "gen_sum": 368.221628,
          "hour": 2413,
          "resource": "natural_gas_fired_combined_cycle"
         },
         {
          "gen_sum": 0,
          "hour": 2413,
          "resource": "natural_gas_fired_combustion_turbine"
         },
         {
          "gen_sum": 64.69248,
          "hour": 2414,
          "resource": "_onshore_wind_turbine"
         },
         {
          "gen_sum": 3.184932,
          "hour": 2414,
          "resource": "_small_hydroelectric"
         },
         {
          "gen_sum": 2259.25,
          "hour": 2414,
          "resource": "_solar_photovoltaic"
         },
         {
          "gen_sum": 387.29999999999995,
          "hour": 2414,
          "resource": "_solar_photovoltaic_btm"
         },
         {
          "gen_sum": 21.4,
          "hour": 2414,
          "resource": "biomass"
         },
         {
          "gen_sum": 42,
          "hour": 2414,
          "resource": "hydroelectric_pumped_storage"
         },
         {
          "gen_sum": 275.4725879999999,
          "hour": 2414,
          "resource": "natural_gas_fired_combined_cycle"
         },
         {
          "gen_sum": 0,
          "hour": 2414,
          "resource": "natural_gas_fired_combustion_turbine"
         },
         {
          "gen_sum": 49.22112,
          "hour": 2415,
          "resource": "_onshore_wind_turbine"
         },
         {
          "gen_sum": 3.184932,
          "hour": 2415,
          "resource": "_small_hydroelectric"
         },
         {
          "gen_sum": 2184.35,
          "hour": 2415,
          "resource": "_solar_photovoltaic"
         },
         {
          "gen_sum": 374.46,
          "hour": 2415,
          "resource": "_solar_photovoltaic_btm"
         },
         {
          "gen_sum": 21.4,
          "hour": 2415,
          "resource": "biomass"
         },
         {
          "gen_sum": 42,
          "hour": 2415,
          "resource": "hydroelectric_pumped_storage"
         },
         {
          "gen_sum": 277.843948,
          "hour": 2415,
          "resource": "natural_gas_fired_combined_cycle"
         },
         {
          "gen_sum": 0,
          "hour": 2415,
          "resource": "natural_gas_fired_combustion_turbine"
         },
         {
          "gen_sum": 65.41055999999999,
          "hour": 2416,
          "resource": "_onshore_wind_turbine"
         },
         {
          "gen_sum": 3.184932,
          "hour": 2416,
          "resource": "_small_hydroelectric"
         },
         {
          "gen_sum": 1993.25,
          "hour": 2416,
          "resource": "_solar_photovoltaic"
         },
         {
          "gen_sum": 341.7,
          "hour": 2416,
          "resource": "_solar_photovoltaic_btm"
         },
         {
          "gen_sum": 21.4,
          "hour": 2416,
          "resource": "biomass"
         },
         {
          "gen_sum": 42,
          "hour": 2416,
          "resource": "hydroelectric_pumped_storage"
         },
         {
          "gen_sum": 356.75450799999993,
          "hour": 2416,
          "resource": "natural_gas_fired_combined_cycle"
         },
         {
          "gen_sum": 0,
          "hour": 2416,
          "resource": "natural_gas_fired_combustion_turbine"
         },
         {
          "gen_sum": 57.18527999999999,
          "hour": 2417,
          "resource": "_onshore_wind_turbine"
         },
         {
          "gen_sum": 3.184932,
          "hour": 2417,
          "resource": "_small_hydroelectric"
         },
         {
          "gen_sum": 1637.3,
          "hour": 2417,
          "resource": "_solar_photovoltaic"
         },
         {
          "gen_sum": 280.68,
          "hour": 2417,
          "resource": "_solar_photovoltaic_btm"
         },
         {
          "gen_sum": 21.4,
          "hour": 2417,
          "resource": "biomass"
         },
         {
          "gen_sum": 42,
          "hour": 2417,
          "resource": "hydroelectric_pumped_storage"
         },
         {
          "gen_sum": 660.9297879999999,
          "hour": 2417,
          "resource": "natural_gas_fired_combined_cycle"
         },
         {
          "gen_sum": 0,
          "hour": 2417,
          "resource": "natural_gas_fired_combustion_turbine"
         },
         {
          "gen_sum": 78.61888,
          "hour": 2418,
          "resource": "_onshore_wind_turbine"
         },
         {
          "gen_sum": 3.184932,
          "hour": 2418,
          "resource": "_small_hydroelectric"
         },
         {
          "gen_sum": 1132.6,
          "hour": 2418,
          "resource": "_solar_photovoltaic"
         },
         {
          "gen_sum": 194.16,
          "hour": 2418,
          "resource": "_solar_photovoltaic_btm"
         },
         {
          "gen_sum": 21.4,
          "hour": 2418,
          "resource": "biomass"
         },
         {
          "gen_sum": 42,
          "hour": 2418,
          "resource": "hydroelectric_pumped_storage"
         },
         {
          "gen_sum": 1096.1961880000001,
          "hour": 2418,
          "resource": "natural_gas_fired_combined_cycle"
         },
         {
          "gen_sum": 0,
          "hour": 2418,
          "resource": "natural_gas_fired_combustion_turbine"
         },
         {
          "gen_sum": 52.61568,
          "hour": 2419,
          "resource": "_onshore_wind_turbine"
         },
         {
          "gen_sum": 3.184932,
          "hour": 2419,
          "resource": "_small_hydroelectric"
         },
         {
          "gen_sum": 166.95,
          "hour": 2419,
          "resource": "_solar_photovoltaic"
         },
         {
          "gen_sum": 28.62,
          "hour": 2419,
          "resource": "_solar_photovoltaic_btm"
         },
         {
          "gen_sum": 21.4,
          "hour": 2419,
          "resource": "biomass"
         },
         {
          "gen_sum": 42,
          "hour": 2419,
          "resource": "hydroelectric_pumped_storage"
         },
         {
          "gen_sum": 1928.5,
          "hour": 2419,
          "resource": "natural_gas_fired_combined_cycle"
         },
         {
          "gen_sum": 163.34938799999992,
          "hour": 2419,
          "resource": "natural_gas_fired_combustion_turbine"
         },
         {
          "gen_sum": 61.42848,
          "hour": 2420,
          "resource": "_onshore_wind_turbine"
         },
         {
          "gen_sum": 3.184932,
          "hour": 2420,
          "resource": "_small_hydroelectric"
         },
         {
          "gen_sum": 0,
          "hour": 2420,
          "resource": "_solar_photovoltaic"
         },
         {
          "gen_sum": 0,
          "hour": 2420,
          "resource": "_solar_photovoltaic_btm"
         },
         {
          "gen_sum": 21.4,
          "hour": 2420,
          "resource": "biomass"
         },
         {
          "gen_sum": 42,
          "hour": 2420,
          "resource": "hydroelectric_pumped_storage"
         },
         {
          "gen_sum": 1928.5,
          "hour": 2420,
          "resource": "natural_gas_fired_combined_cycle"
         },
         {
          "gen_sum": 444.48658799999987,
          "hour": 2420,
          "resource": "natural_gas_fired_combustion_turbine"
         },
         {
          "gen_sum": 71.9168,
          "hour": 2421,
          "resource": "_onshore_wind_turbine"
         },
         {
          "gen_sum": 3.184932,
          "hour": 2421,
          "resource": "_small_hydroelectric"
         },
         {
          "gen_sum": 0,
          "hour": 2421,
          "resource": "_solar_photovoltaic"
         },
         {
          "gen_sum": 0,
          "hour": 2421,
          "resource": "_solar_photovoltaic_btm"
         },
         {
          "gen_sum": 21.4,
          "hour": 2421,
          "resource": "biomass"
         },
         {
          "gen_sum": 42,
          "hour": 2421,
          "resource": "hydroelectric_pumped_storage"
         },
         {
          "gen_sum": 1928.5,
          "hour": 2421,
          "resource": "natural_gas_fired_combined_cycle"
         },
         {
          "gen_sum": 438.99826799999994,
          "hour": 2421,
          "resource": "natural_gas_fired_combustion_turbine"
         },
         {
          "gen_sum": 96.04864,
          "hour": 2422,
          "resource": "_onshore_wind_turbine"
         },
         {
          "gen_sum": 3.184932,
          "hour": 2422,
          "resource": "_small_hydroelectric"
         },
         {
          "gen_sum": 0,
          "hour": 2422,
          "resource": "_solar_photovoltaic"
         },
         {
          "gen_sum": 0,
          "hour": 2422,
          "resource": "_solar_photovoltaic_btm"
         },
         {
          "gen_sum": 21.4,
          "hour": 2422,
          "resource": "biomass"
         },
         {
          "gen_sum": 42,
          "hour": 2422,
          "resource": "hydroelectric_pumped_storage"
         },
         {
          "gen_sum": 1928.5,
          "hour": 2422,
          "resource": "natural_gas_fired_combined_cycle"
         },
         {
          "gen_sum": 166.8664279999999,
          "hour": 2422,
          "resource": "natural_gas_fired_combustion_turbine"
         },
         {
          "gen_sum": 126.46912,
          "hour": 2423,
          "resource": "_onshore_wind_turbine"
         },
         {
          "gen_sum": 3.184932,
          "hour": 2423,
          "resource": "_small_hydroelectric"
         },
         {
          "gen_sum": 0,
          "hour": 2423,
          "resource": "_solar_photovoltaic"
         },
         {
          "gen_sum": 0,
          "hour": 2423,
          "resource": "_solar_photovoltaic_btm"
         },
         {
          "gen_sum": 21.4,
          "hour": 2423,
          "resource": "biomass"
         },
         {
          "gen_sum": 42,
          "hour": 2423,
          "resource": "hydroelectric_pumped_storage"
         },
         {
          "gen_sum": 1794.9459479999998,
          "hour": 2423,
          "resource": "natural_gas_fired_combined_cycle"
         },
         {
          "gen_sum": 0,
          "hour": 2423,
          "resource": "natural_gas_fired_combustion_turbine"
         },
         {
          "gen_sum": 144.42111999999997,
          "hour": 2424,
          "resource": "_onshore_wind_turbine"
         },
         {
          "gen_sum": 3.184932,
          "hour": 2424,
          "resource": "_small_hydroelectric"
         },
         {
          "gen_sum": 0,
          "hour": 2424,
          "resource": "_solar_photovoltaic"
         },
         {
          "gen_sum": 0,
          "hour": 2424,
          "resource": "_solar_photovoltaic_btm"
         },
         {
          "gen_sum": 21.4,
          "hour": 2424,
          "resource": "biomass"
         },
         {
          "gen_sum": 42,
          "hour": 2424,
          "resource": "hydroelectric_pumped_storage"
         },
         {
          "gen_sum": 1548.993948,
          "hour": 2424,
          "resource": "natural_gas_fired_combined_cycle"
         },
         {
          "gen_sum": 0,
          "hour": 2424,
          "resource": "natural_gas_fired_combustion_turbine"
         }
        ]
       },
       "encoding": {
        "color": {
         "field": "resource",
         "scale": {
          "scheme": "category20"
         },
         "type": "nominal"
        },
        "x": {
         "field": "hour",
         "type": "quantitative"
        },
        "y": {
         "field": "gen_sum",
         "type": "quantitative"
        }
       },
       "mark": "line"
      },
      "image/png": "[encoded data removed]",
      "image/svg+xml": [
       "<?xml version=\"1.0\" encoding=\"utf-8\"?>\n",
       "<!DOCTYPE svg PUBLIC \"-//W3C//DTD SVG 1.1//EN\" \"http://www.w3.org/Graphics/SVG/1.1/DTD/svg11.dtd\">\n",
       "<svg xmlns=\"http://www.w3.org/2000/svg\" xmlns:xlink=\"http://www.w3.org/1999/xlink\" version=\"1.1\" class=\"marks\" width=\"454\" height=\"242\" viewBox=\"0 0 454 242\"><rect width=\"454\" height=\"242\" fill=\"white\"/><g fill=\"none\" stroke-miterlimit=\"10\" transform=\"translate(54,5)\"><g class=\"mark-group role-frame root\" role=\"graphics-object\" aria-roledescription=\"group mark container\"><g transform=\"translate(0,0)\"><path class=\"background\" aria-hidden=\"true\" d=\"M0.5,0.5h200v200h-200Z\" stroke=\"#ddd\"/><g><g class=\"mark-group role-axis\" aria-hidden=\"true\"><g transform=\"translate(0.5,200.5)\"><path class=\"background\" aria-hidden=\"true\" d=\"M0,0h0v0h0Z\" pointer-events=\"none\"/><g><g class=\"mark-rule role-axis-grid\" pointer-events=\"none\"><line transform=\"translate(0,-200)\" x2=\"0\" y2=\"200\" stroke=\"#ddd\" stroke-width=\"1\" opacity=\"1\"/><line transform=\"translate(42,-200)\" x2=\"0\" y2=\"200\" stroke=\"#ddd\" stroke-width=\"1\" opacity=\"1\"/><line transform=\"translate(83,-200)\" x2=\"0\" y2=\"200\" stroke=\"#ddd\" stroke-width=\"1\" opacity=\"1\"/><line transform=\"translate(125,-200)\" x2=\"0\" y2=\"200\" stroke=\"#ddd\" stroke-width=\"1\" opacity=\"1\"/><line transform=\"translate(167,-200)\" x2=\"0\" y2=\"200\" stroke=\"#ddd\" stroke-width=\"1\" opacity=\"1\"/></g></g><path class=\"foreground\" aria-hidden=\"true\" d=\"\" pointer-events=\"none\" display=\"none\"/></g></g><g class=\"mark-group role-axis\" aria-hidden=\"true\"><g transform=\"translate(0.5,0.5)\"><path class=\"background\" aria-hidden=\"true\" d=\"M0,0h0v0h0Z\" pointer-events=\"none\"/><g><g class=\"mark-rule role-axis-grid\" pointer-events=\"none\"><line transform=\"translate(0,200)\" x2=\"200\" y2=\"0\" stroke=\"#ddd\" stroke-width=\"1\" opacity=\"1\"/><line transform=\"translate(0,158)\" x2=\"200\" y2=\"0\" stroke=\"#ddd\" stroke-width=\"1\" opacity=\"1\"/><line transform=\"translate(0,117)\" x2=\"200\" y2=\"0\" stroke=\"#ddd\" stroke-width=\"1\" opacity=\"1\"/><line transform=\"translate(0,75)\" x2=\"200\" y2=\"0\" stroke=\"#ddd\" stroke-width=\"1\" opacity=\"1\"/><line transform=\"translate(0,33)\" x2=\"200\" y2=\"0\" stroke=\"#ddd\" stroke-width=\"1\" opacity=\"1\"/></g></g><path class=\"foreground\" aria-hidden=\"true\" d=\"\" pointer-events=\"none\" display=\"none\"/></g></g><g class=\"mark-group role-axis\" role=\"graphics-symbol\" aria-roledescription=\"axis\" aria-label=\"X-axis titled 'hour' for a linear scale with values from 2,400 to 2,424\"><g transform=\"translate(0.5,200.5)\"><path class=\"background\" aria-hidden=\"true\" d=\"M0,0h0v0h0Z\" pointer-events=\"none\"/><g><g class=\"mark-rule role-axis-tick\" pointer-events=\"none\"><line transform=\"translate(0,0)\" x2=\"0\" y2=\"5\" stroke=\"#888\" stroke-width=\"1\" opacity=\"1\"/><line transform=\"translate(42,0)\" x2=\"0\" y2=\"5\" stroke=\"#888\" stroke-width=\"1\" opacity=\"1\"/><line transform=\"translate(83,0)\" x2=\"0\" y2=\"5\" stroke=\"#888\" stroke-width=\"1\" opacity=\"1\"/><line transform=\"translate(125,0)\" x2=\"0\" y2=\"5\" stroke=\"#888\" stroke-width=\"1\" opacity=\"1\"/><line transform=\"translate(167,0)\" x2=\"0\" y2=\"5\" stroke=\"#888\" stroke-width=\"1\" opacity=\"1\"/></g><g class=\"mark-text role-axis-label\" pointer-events=\"none\"><text text-anchor=\"start\" transform=\"translate(0,15)\" font-family=\"sans-serif\" font-size=\"10px\" fill=\"#000\" opacity=\"1\">2,400</text><text text-anchor=\"middle\" transform=\"translate(41.66666666666667,15)\" font-family=\"sans-serif\" font-size=\"10px\" fill=\"#000\" opacity=\"1\">2,405</text><text text-anchor=\"middle\" transform=\"translate(83.33333333333334,15)\" font-family=\"sans-serif\" font-size=\"10px\" fill=\"#000\" opacity=\"1\">2,410</text><text text-anchor=\"middle\" transform=\"translate(125,15)\" font-family=\"sans-serif\" font-size=\"10px\" fill=\"#000\" opacity=\"1\">2,415</text><text text-anchor=\"middle\" transform=\"translate(166.66666666666669,15)\" font-family=\"sans-serif\" font-size=\"10px\" fill=\"#000\" opacity=\"1\">2,420</text></g><g class=\"mark-rule role-axis-domain\" pointer-events=\"none\"><line transform=\"translate(0,0)\" x2=\"200\" y2=\"0\" stroke=\"#888\" stroke-width=\"1\" opacity=\"1\"/></g><g class=\"mark-text role-axis-title\" pointer-events=\"none\"><text text-anchor=\"middle\" transform=\"translate(100,30)\" font-family=\"sans-serif\" font-size=\"11px\" font-weight=\"bold\" fill=\"#000\" opacity=\"1\">hour</text></g></g><path class=\"foreground\" aria-hidden=\"true\" d=\"\" pointer-events=\"none\" display=\"none\"/></g></g><g class=\"mark-group role-axis\" role=\"graphics-symbol\" aria-roledescription=\"axis\" aria-label=\"Y-axis titled 'gen_sum' for a linear scale with values from 0 to 2,400\"><g transform=\"translate(0.5,0.5)\"><path class=\"background\" aria-hidden=\"true\" d=\"M0,0h0v0h0Z\" pointer-events=\"none\"/><g><g class=\"mark-rule role-axis-tick\" pointer-events=\"none\"><line transform=\"translate(0,200)\" x2=\"-5\" y2=\"0\" stroke=\"#888\" stroke-width=\"1\" opacity=\"1\"/><line transform=\"translate(0,158)\" x2=\"-5\" y2=\"0\" stroke=\"#888\" stroke-width=\"1\" opacity=\"1\"/><line transform=\"translate(0,117)\" x2=\"-5\" y2=\"0\" stroke=\"#888\" stroke-width=\"1\" opacity=\"1\"/><line transform=\"translate(0,75)\" x2=\"-5\" y2=\"0\" stroke=\"#888\" stroke-width=\"1\" opacity=\"1\"/><line transform=\"translate(0,33)\" x2=\"-5\" y2=\"0\" stroke=\"#888\" stroke-width=\"1\" opacity=\"1\"/></g><g class=\"mark-text role-axis-label\" pointer-events=\"none\"><text text-anchor=\"end\" transform=\"translate(-7,203)\" font-family=\"sans-serif\" font-size=\"10px\" fill=\"#000\" opacity=\"1\">0</text><text text-anchor=\"end\" transform=\"translate(-7,161.33333333333331)\" font-family=\"sans-serif\" font-size=\"10px\" fill=\"#000\" opacity=\"1\">500</text><text text-anchor=\"end\" transform=\"translate(-7,119.66666666666666)\" font-family=\"sans-serif\" font-size=\"10px\" fill=\"#000\" opacity=\"1\">1,000</text><text text-anchor=\"end\" transform=\"translate(-7,78)\" font-family=\"sans-serif\" font-size=\"10px\" fill=\"#000\" opacity=\"1\">1,500</text><text text-anchor=\"end\" transform=\"translate(-7,36.33333333333333)\" font-family=\"sans-serif\" font-size=\"10px\" fill=\"#000\" opacity=\"1\">2,000</text></g><g class=\"mark-rule role-axis-domain\" pointer-events=\"none\"><line transform=\"translate(0,200)\" x2=\"0\" y2=\"-200\" stroke=\"#888\" stroke-width=\"1\" opacity=\"1\"/></g><g class=\"mark-text role-axis-title\" pointer-events=\"none\"><text text-anchor=\"middle\" transform=\"translate(-38,100) rotate(-90) translate(0,-2)\" font-family=\"sans-serif\" font-size=\"11px\" font-weight=\"bold\" fill=\"#000\" opacity=\"1\">gen_sum</text></g></g><path class=\"foreground\" aria-hidden=\"true\" d=\"\" pointer-events=\"none\" display=\"none\"/></g></g><g class=\"mark-group role-scope pathgroup\" role=\"graphics-object\" aria-roledescription=\"group mark container\"><g transform=\"translate(0,0)\"><path class=\"background\" aria-hidden=\"true\" d=\"M0,0h200v200h-200Z\"/><g><g class=\"mark-line role-mark marks\" role=\"graphics-object\" aria-roledescription=\"line mark container\"><path aria-label=\"hour: 2401; gen_sum: 163.3088; resource: _onshore_wind_turbine\" role=\"graphics-symbol\" aria-roledescription=\"line mark\" d=\"M8.333333333333332,186.39093333333335L16.666666666666664,185.85056L25,190.40746666666666L33.33333333333333,191.62058666666667L41.66666666666667,193.2852266666667L50,188.40192L58.333333333333336,193.81834666666666L66.66666666666666,195.88554666666667L75,186.05365333333333L83.33333333333334,189.03658666666666L91.66666666666666,190.73386666666667L100,192.32416L108.33333333333333,195.65888L116.66666666666667,194.60896L125,195.89824L133.33333333333331,194.54912L141.66666666666669,195.23456L150,193.44842666666665L158.33333333333331,195.61535999999998L166.66666666666669,194.88096L175,194.00693333333334L183.33333333333331,191.99594666666667L191.66666666666669,189.46090666666666L200,187.96490666666668\" stroke=\"#1f77b4\" stroke-width=\"2\"/></g></g><path class=\"foreground\" aria-hidden=\"true\" d=\"\" display=\"none\"/></g><g transform=\"translate(0,0)\"><path class=\"background\" aria-hidden=\"true\" d=\"M0,0h200v200h-200Z\"/><g><g class=\"mark-line role-mark marks\" role=\"graphics-object\" aria-roledescription=\"line mark container\"><path aria-label=\"hour: 2401; gen_sum: 3.184932; resource: _small_hydroelectric\" role=\"graphics-symbol\" aria-roledescription=\"line mark\" d=\"M8.333333333333332,199.734589L16.666666666666664,199.734589L25,199.734589L33.33333333333333,199.734589L41.66666666666667,199.734589L50,199.734589L58.333333333333336,199.734589L66.66666666666666,199.734589L75,199.734589L83.33333333333334,199.734589L91.66666666666666,199.734589L100,199.734589L108.33333333333333,199.734589L116.66666666666667,199.734589L125,199.734589L133.33333333333331,199.734589L141.66666666666669,199.734589L150,199.734589L158.33333333333331,199.734589L166.66666666666669,199.734589L175,199.734589L183.33333333333331,199.734589L191.66666666666669,199.734589L200,199.734589\" stroke=\"#aec7e8\" stroke-width=\"2\"/></g></g><path class=\"foreground\" aria-hidden=\"true\" d=\"\" display=\"none\"/></g><g transform=\"translate(0,0)\"><path class=\"background\" aria-hidden=\"true\" d=\"M0,0h200v200h-200Z\"/><g><g class=\"mark-line role-mark marks\" role=\"graphics-object\" aria-roledescription=\"line mark container\"><path aria-label=\"hour: 2401; gen_sum: 0; resource: _solar_photovoltaic\" role=\"graphics-symbol\" aria-roledescription=\"line mark\" d=\"M8.333333333333332,200L16.666666666666664,200L25,200L33.33333333333333,200L41.66666666666667,200L50,200L58.333333333333336,183.87083333333334L66.66666666666666,135.51250000000002L75,60.699999999999996L83.33333333333334,32.087500000000006L91.66666666666666,23.862499999999986L100,20.94583333333333L108.33333333333333,11.991666666666667L116.66666666666667,11.729166666666657L125,17.970833333333335L133.33333333333331,33.89583333333333L141.66666666666669,63.55833333333334L150,105.61666666666667L158.33333333333331,186.0875L166.66666666666669,200L175,200L183.33333333333331,200L191.66666666666669,200L200,200\" stroke=\"#ff7f0e\" stroke-width=\"2\"/></g></g><path class=\"foreground\" aria-hidden=\"true\" d=\"\" display=\"none\"/></g><g transform=\"translate(0,0)\"><path class=\"background\" aria-hidden=\"true\" d=\"M0,0h200v200h-200Z\"/><g><g class=\"mark-line role-mark marks\" role=\"graphics-object\" aria-roledescription=\"line mark container\"><path aria-label=\"hour: 2401; gen_sum: 0; resource: _solar_photovoltaic_btm\" role=\"graphics-symbol\" aria-roledescription=\"line mark\" d=\"M8.333333333333332,200L16.666666666666664,200L25,200L33.33333333333333,200L41.66666666666667,200L50,200L58.333333333333336,197.235L66.66666666666666,188.945L75,176.12L83.33333333333334,171.215L91.66666666666666,169.805L100,169.305L108.33333333333333,167.77L116.66666666666667,167.725L125,168.79500000000002L133.33333333333331,171.525L141.66666666666669,176.61L150,183.82L158.33333333333331,197.615L166.66666666666669,200L175,200L183.33333333333331,200L191.66666666666669,200L200,200\" stroke=\"#ffbb78\" stroke-width=\"2\"/></g></g><path class=\"foreground\" aria-hidden=\"true\" d=\"\" display=\"none\"/></g><g transform=\"translate(0,0)\"><path class=\"background\" aria-hidden=\"true\" d=\"M0,0h200v200h-200Z\"/><g><g class=\"mark-line role-mark marks\" role=\"graphics-object\" aria-roledescription=\"line mark container\"><path aria-label=\"hour: 2401; gen_sum: 21.4; resource: biomass\" role=\"graphics-symbol\" aria-roledescription=\"line mark\" d=\"M8.333333333333332,198.21666666666667L16.666666666666664,198.21666666666667L25,198.21666666666667L33.33333333333333,198.21666666666667L41.66666666666667,198.21666666666667L50,198.21666666666667L58.333333333333336,198.21666666666667L66.66666666666666,198.21666666666667L75,198.21666666666667L83.33333333333334,198.21666666666667L91.66666666666666,198.21666666666667L100,198.21666666666667L108.33333333333333,198.21666666666667L116.66666666666667,198.21666666666667L125,198.21666666666667L133.33333333333331,198.21666666666667L141.66666666666669,198.21666666666667L150,198.21666666666667L158.33333333333331,198.21666666666667L166.66666666666669,198.21666666666667L175,198.21666666666667L183.33333333333331,198.21666666666667L191.66666666666669,198.21666666666667L200,198.21666666666667\" stroke=\"#2ca02c\" stroke-width=\"2\"/></g></g><path class=\"foreground\" aria-hidden=\"true\" d=\"\" display=\"none\"/></g><g transform=\"translate(0,0)\"><path class=\"background\" aria-hidden=\"true\" d=\"M0,0h200v200h-200Z\"/><g><g class=\"mark-line role-mark marks\" role=\"graphics-object\" aria-roledescription=\"line mark container\"><path aria-label=\"hour: 2401; gen_sum: 42; resource: hydroelectric_pumped_storage\" role=\"graphics-symbol\" aria-roledescription=\"line mark\" d=\"M8.333333333333332,196.5L16.666666666666664,196.5L25,196.5L33.33333333333333,196.5L41.66666666666667,196.5L50,196.5L58.333333333333336,196.5L66.66666666666666,196.5L75,196.5L83.33333333333334,196.5L91.66666666666666,196.5L100,196.5L108.33333333333333,196.5L116.66666666666667,196.5L125,196.5L133.33333333333331,196.5L141.66666666666669,196.5L150,196.5L158.33333333333331,196.5L166.66666666666669,196.5L175,196.5L183.33333333333331,196.5L191.66666666666669,196.5L200,196.5\" stroke=\"#98df8a\" stroke-width=\"2\"/></g></g><path class=\"foreground\" aria-hidden=\"true\" d=\"\" display=\"none\"/></g><g transform=\"translate(0,0)\"><path class=\"background\" aria-hidden=\"true\" d=\"M0,0h200v200h-200Z\"/><g><g class=\"mark-line role-mark marks\" role=\"graphics-object\" aria-roledescription=\"line mark container\"><path aria-label=\"hour: 2401; gen_sum: 1385.106268; resource: natural_gas_fired_combined_cycle\" role=\"graphics-symbol\" aria-roledescription=\"line mark\" d=\"M8.333333333333332,84.57447766666665L16.666666666666664,90.28151766666667L25,88.64127766666667L33.33333333333333,83.761491L41.66666666666667,67.84685099999999L50,52.48015766666667L58.333333333333336,39.29166666666666L66.66666666666666,57.73403100000001L75,122.29509100000003L83.33333333333334,132.507991L91.66666666666666,130.53571100000002L100,145.36208433333334L108.33333333333333,169.31486433333333L116.66666666666667,177.04395100000002L125,176.84633766666667L133.33333333333331,170.27045766666666L141.66666666666669,144.9225176666667L150,108.65031766666667L158.33333333333331,39.29166666666666L166.66666666666669,39.29166666666666L175,39.29166666666666L183.33333333333331,39.29166666666666L191.66666666666669,50.42117100000001L200,70.917171\" stroke=\"#d62728\" stroke-width=\"2\"/></g></g><path class=\"foreground\" aria-hidden=\"true\" d=\"\" display=\"none\"/></g><g transform=\"translate(0,0)\"><path class=\"background\" aria-hidden=\"true\" d=\"M0,0h200v200h-200Z\"/><g><g class=\"mark-line role-mark marks\" role=\"graphics-object\" aria-roledescription=\"line mark container\"><path aria-label=\"hour: 2401; gen_sum: 0; resource: natural_gas_fired_combustion_turbine\" role=\"graphics-symbol\" aria-roledescription=\"line mark\" d=\"M8.333333333333332,200L16.666666666666664,200L25,200L33.33333333333333,200L41.66666666666667,200L50,200L58.333333333333336,199.06789766666668L66.66666666666666,200L75,200L83.33333333333334,200L91.66666666666666,200L100,200L108.33333333333333,200L116.66666666666667,200L125,200L133.33333333333331,200L141.66666666666669,200L150,200L158.33333333333331,186.38755100000003L166.66666666666669,162.959451L175,163.416811L183.33333333333331,186.09446433333335L191.66666666666669,200L200,200\" stroke=\"#ff9896\" stroke-width=\"2\"/></g></g><path class=\"foreground\" aria-hidden=\"true\" d=\"\" display=\"none\"/></g></g><g class=\"mark-group role-legend\" role=\"graphics-symbol\" aria-roledescription=\"legend\" aria-label=\"Symbol legend titled 'resource' for stroke color with 8 values: _onshore_wind_turbine, _small_hydroelectric, _solar_photovoltaic, _solar_photovoltaic_btm, biomass, ending with natural_gas_fired_combustion_turbine\"><g transform=\"translate(220,0)\"><path class=\"background\" aria-hidden=\"true\" d=\"M0,0h175v118h-175Z\" pointer-events=\"none\"/><g><g class=\"mark-group role-legend-entry\"><g transform=\"translate(0,16)\"><path class=\"background\" aria-hidden=\"true\" d=\"M0,0h0v0h0Z\" pointer-events=\"none\"/><g><g class=\"mark-group role-scope\" role=\"graphics-object\" aria-roledescription=\"group mark container\"><g transform=\"translate(0,0)\"><path class=\"background\" aria-hidden=\"true\" d=\"M0,0h175v11h-175Z\" pointer-events=\"none\" opacity=\"1\"/><g><g class=\"mark-symbol role-legend-symbol\" pointer-events=\"none\"><path transform=\"translate(6,6)\" d=\"M-5,0L5,0\" stroke=\"#1f77b4\" stroke-width=\"1.5\" opacity=\"1\"/></g><g class=\"mark-text role-legend-label\" pointer-events=\"none\"><text text-anchor=\"start\" transform=\"translate(16,9)\" font-family=\"sans-serif\" font-size=\"10px\" fill=\"#000\" opacity=\"1\">_onshore_wind_turbine</text></g></g><path class=\"foreground\" aria-hidden=\"true\" d=\"\" pointer-events=\"none\" display=\"none\"/></g><g transform=\"translate(0,13)\"><path class=\"background\" aria-hidden=\"true\" d=\"M0,0h175v11h-175Z\" pointer-events=\"none\" opacity=\"1\"/><g><g class=\"mark-symbol role-legend-symbol\" pointer-events=\"none\"><path transform=\"translate(6,6)\" d=\"M-5,0L5,0\" stroke=\"#aec7e8\" stroke-width=\"1.5\" opacity=\"1\"/></g><g class=\"mark-text role-legend-label\" pointer-events=\"none\"><text text-anchor=\"start\" transform=\"translate(16,9)\" font-family=\"sans-serif\" font-size=\"10px\" fill=\"#000\" opacity=\"1\">_small_hydroelectric</text></g></g><path class=\"foreground\" aria-hidden=\"true\" d=\"\" pointer-events=\"none\" display=\"none\"/></g><g transform=\"translate(0,26)\"><path class=\"background\" aria-hidden=\"true\" d=\"M0,0h175v11h-175Z\" pointer-events=\"none\" opacity=\"1\"/><g><g class=\"mark-symbol role-legend-symbol\" pointer-events=\"none\"><path transform=\"translate(6,6)\" d=\"M-5,0L5,0\" stroke=\"#ff7f0e\" stroke-width=\"1.5\" opacity=\"1\"/></g><g class=\"mark-text role-legend-label\" pointer-events=\"none\"><text text-anchor=\"start\" transform=\"translate(16,9)\" font-family=\"sans-serif\" font-size=\"10px\" fill=\"#000\" opacity=\"1\">_solar_photovoltaic</text></g></g><path class=\"foreground\" aria-hidden=\"true\" d=\"\" pointer-events=\"none\" display=\"none\"/></g><g transform=\"translate(0,39)\"><path class=\"background\" aria-hidden=\"true\" d=\"M0,0h175v11h-175Z\" pointer-events=\"none\" opacity=\"1\"/><g><g class=\"mark-symbol role-legend-symbol\" pointer-events=\"none\"><path transform=\"translate(6,6)\" d=\"M-5,0L5,0\" stroke=\"#ffbb78\" stroke-width=\"1.5\" opacity=\"1\"/></g><g class=\"mark-text role-legend-label\" pointer-events=\"none\"><text text-anchor=\"start\" transform=\"translate(16,9)\" font-family=\"sans-serif\" font-size=\"10px\" fill=\"#000\" opacity=\"1\">_solar_photovoltaic_btm</text></g></g><path class=\"foreground\" aria-hidden=\"true\" d=\"\" pointer-events=\"none\" display=\"none\"/></g><g transform=\"translate(0,52)\"><path class=\"background\" aria-hidden=\"true\" d=\"M0,0h175v11h-175Z\" pointer-events=\"none\" opacity=\"1\"/><g><g class=\"mark-symbol role-legend-symbol\" pointer-events=\"none\"><path transform=\"translate(6,6)\" d=\"M-5,0L5,0\" stroke=\"#2ca02c\" stroke-width=\"1.5\" opacity=\"1\"/></g><g class=\"mark-text role-legend-label\" pointer-events=\"none\"><text text-anchor=\"start\" transform=\"translate(16,9)\" font-family=\"sans-serif\" font-size=\"10px\" fill=\"#000\" opacity=\"1\">biomass</text></g></g><path class=\"foreground\" aria-hidden=\"true\" d=\"\" pointer-events=\"none\" display=\"none\"/></g><g transform=\"translate(0,65)\"><path class=\"background\" aria-hidden=\"true\" d=\"M0,0h175v11h-175Z\" pointer-events=\"none\" opacity=\"1\"/><g><g class=\"mark-symbol role-legend-symbol\" pointer-events=\"none\"><path transform=\"translate(6,6)\" d=\"M-5,0L5,0\" stroke=\"#98df8a\" stroke-width=\"1.5\" opacity=\"1\"/></g><g class=\"mark-text role-legend-label\" pointer-events=\"none\"><text text-anchor=\"start\" transform=\"translate(16,9)\" font-family=\"sans-serif\" font-size=\"10px\" fill=\"#000\" opacity=\"1\">hydroelectric_pumped_storage</text></g></g><path class=\"foreground\" aria-hidden=\"true\" d=\"\" pointer-events=\"none\" display=\"none\"/></g><g transform=\"translate(0,78)\"><path class=\"background\" aria-hidden=\"true\" d=\"M0,0h175v11h-175Z\" pointer-events=\"none\" opacity=\"1\"/><g><g class=\"mark-symbol role-legend-symbol\" pointer-events=\"none\"><path transform=\"translate(6,6)\" d=\"M-5,0L5,0\" stroke=\"#d62728\" stroke-width=\"1.5\" opacity=\"1\"/></g><g class=\"mark-text role-legend-label\" pointer-events=\"none\"><text text-anchor=\"start\" transform=\"translate(16,9)\" font-family=\"sans-serif\" font-size=\"10px\" fill=\"#000\" opacity=\"1\">natural_gas_fired_combined_cy…</text></g></g><path class=\"foreground\" aria-hidden=\"true\" d=\"\" pointer-events=\"none\" display=\"none\"/></g><g transform=\"translate(0,91)\"><path class=\"background\" aria-hidden=\"true\" d=\"M0,0h175v11h-175Z\" pointer-events=\"none\" opacity=\"1\"/><g><g class=\"mark-symbol role-legend-symbol\" pointer-events=\"none\"><path transform=\"translate(6,6)\" d=\"M-5,0L5,0\" stroke=\"#ff9896\" stroke-width=\"1.5\" opacity=\"1\"/></g><g class=\"mark-text role-legend-label\" pointer-events=\"none\"><text text-anchor=\"start\" transform=\"translate(16,9)\" font-family=\"sans-serif\" font-size=\"10px\" fill=\"#000\" opacity=\"1\">natural_gas_fired_combustion_t…</text></g></g><path class=\"foreground\" aria-hidden=\"true\" d=\"\" pointer-events=\"none\" display=\"none\"/></g></g></g><path class=\"foreground\" aria-hidden=\"true\" d=\"\" pointer-events=\"none\" display=\"none\"/></g></g><g class=\"mark-text role-legend-title\" pointer-events=\"none\"><text text-anchor=\"start\" transform=\"translate(0,9)\" font-family=\"sans-serif\" font-size=\"11px\" font-weight=\"bold\" fill=\"#000\" opacity=\"1\">resource</text></g></g><path class=\"foreground\" aria-hidden=\"true\" d=\"\" pointer-events=\"none\" display=\"none\"/></g></g></g><path class=\"foreground\" aria-hidden=\"true\" d=\"\" display=\"none\"/></g></g></g></svg>\n"
      ],
      "text/plain": [
       "@vlplot(\n",
       "    mark=\"line\",\n",
       "    encoding={\n",
       "        x={\n",
       "            field=\"hour\"\n",
       "        },\n",
       "        y={\n",
       "            field=\"gen_sum\"\n",
       "        },\n",
       "        color={\n",
       "            scale={\n",
       "                scheme=\"category20\"\n",
       "            },\n",
       "            field=\"resource\",\n",
       "            type=\"nominal\"\n",
       "        }\n",
       "    },\n",
       "    data={\n",
       "        values=...\n",
       "    }\n",
       ")"
      ]
     },
     "execution_count": 25,
     "metadata": {},
     "output_type": "execute_result"
    }
   ],
   "source": [
    "# Plot hourly generation by each resource type\n",
    "sol_gen_btm |>\n",
    "@vlplot(:line, \n",
    "    x=:hour, y=:gen_sum, \n",
    "    color={\"resource:n\", scale={scheme=\"category20\"}})"
   ]
  },
  {
   "cell_type": "code",
   "execution_count": 26,
   "metadata": {},
   "outputs": [
    {
     "data": {
      "application/vnd.vegalite.v4+json": {
       "data": {
        "values": [
         {
          "gen_sum": 163.3088,
          "hour": 2401,
          "resource": "_onshore_wind_turbine"
         },
         {
          "gen_sum": 3.184932,
          "hour": 2401,
          "resource": "_small_hydroelectric"
         },
         {
          "gen_sum": 0,
          "hour": 2401,
          "resource": "_solar_photovoltaic"
         },
         {
          "gen_sum": 0,
          "hour": 2401,
          "resource": "_solar_photovoltaic_btm"
         },
         {
          "gen_sum": 21.4,
          "hour": 2401,
          "resource": "biomass"
         },
         {
          "gen_sum": 42,
          "hour": 2401,
          "resource": "hydroelectric_pumped_storage"
         },
         {
          "gen_sum": 1385.106268,
          "hour": 2401,
          "resource": "natural_gas_fired_combined_cycle"
         },
         {
          "gen_sum": 0,
          "hour": 2401,
          "resource": "natural_gas_fired_combustion_turbine"
         },
         {
          "gen_sum": 169.79327999999998,
          "hour": 2402,
          "resource": "_onshore_wind_turbine"
         },
         {
          "gen_sum": 3.184932,
          "hour": 2402,
          "resource": "_small_hydroelectric"
         },
         {
          "gen_sum": 0,
          "hour": 2402,
          "resource": "_solar_photovoltaic"
         },
         {
          "gen_sum": 0,
          "hour": 2402,
          "resource": "_solar_photovoltaic_btm"
         },
         {
          "gen_sum": 21.4,
          "hour": 2402,
          "resource": "biomass"
         },
         {
          "gen_sum": 42,
          "hour": 2402,
          "resource": "hydroelectric_pumped_storage"
         },
         {
          "gen_sum": 1316.621788,
          "hour": 2402,
          "resource": "natural_gas_fired_combined_cycle"
         },
         {
          "gen_sum": 0,
          "hour": 2402,
          "resource": "natural_gas_fired_combustion_turbine"
         },
         {
          "gen_sum": 115.1104,
          "hour": 2403,
          "resource": "_onshore_wind_turbine"
         },
         {
          "gen_sum": 3.184932,
          "hour": 2403,
          "resource": "_small_hydroelectric"
         },
         {
          "gen_sum": 0,
          "hour": 2403,
          "resource": "_solar_photovoltaic"
         },
         {
          "gen_sum": 0,
          "hour": 2403,
          "resource": "_solar_photovoltaic_btm"
         },
         {
          "gen_sum": 21.4,
          "hour": 2403,
          "resource": "biomass"
         },
         {
          "gen_sum": 42,
          "hour": 2403,
          "resource": "hydroelectric_pumped_storage"
         },
         {
          "gen_sum": 1336.304668,
          "hour": 2403,
          "resource": "natural_gas_fired_combined_cycle"
         },
         {
          "gen_sum": 0,
          "hour": 2403,
          "resource": "natural_gas_fired_combustion_turbine"
         },
         {
          "gen_sum": 100.55296,
          "hour": 2404,
          "resource": "_onshore_wind_turbine"
         },
         {
          "gen_sum": 3.184932,
          "hour": 2404,
          "resource": "_small_hydroelectric"
         },
         {
          "gen_sum": 0,
          "hour": 2404,
          "resource": "_solar_photovoltaic"
         },
         {
          "gen_sum": 0,
          "hour": 2404,
          "resource": "_solar_photovoltaic_btm"
         },
         {
          "gen_sum": 21.4,
          "hour": 2404,
          "resource": "biomass"
         },
         {
          "gen_sum": 42,
          "hour": 2404,
          "resource": "hydroelectric_pumped_storage"
         },
         {
          "gen_sum": 1394.8621079999998,
          "hour": 2404,
          "resource": "natural_gas_fired_combined_cycle"
         },
         {
          "gen_sum": 0,
          "hour": 2404,
          "resource": "natural_gas_fired_combustion_turbine"
         },
         {
          "gen_sum": 80.57728,
          "hour": 2405,
          "resource": "_onshore_wind_turbine"
         },
         {
          "gen_sum": 3.184932,
          "hour": 2405,
          "resource": "_small_hydroelectric"
         },
         {
          "gen_sum": 0,
          "hour": 2405,
          "resource": "_solar_photovoltaic"
         },
         {
          "gen_sum": 0,
          "hour": 2405,
          "resource": "_solar_photovoltaic_btm"
         },
         {
          "gen_sum": 21.4,
          "hour": 2405,
          "resource": "biomass"
         },
         {
          "gen_sum": 42,
          "hour": 2405,
          "resource": "hydroelectric_pumped_storage"
         },
         {
          "gen_sum": 1585.837788,
          "hour": 2405,
          "resource": "natural_gas_fired_combined_cycle"
         },
         {
          "gen_sum": 0,
          "hour": 2405,
          "resource": "natural_gas_fired_combustion_turbine"
         },
         {
          "gen_sum": 139.17695999999998,
          "hour": 2406,
          "resource": "_onshore_wind_turbine"
         },
         {
          "gen_sum": 3.184932,
          "hour": 2406,
          "resource": "_small_hydroelectric"
         },
         {
          "gen_sum": 0,
          "hour": 2406,
          "resource": "_solar_photovoltaic"
         },
         {
          "gen_sum": 0,
          "hour": 2406,
          "resource": "_solar_photovoltaic_btm"
         },
         {
          "gen_sum": 21.4,
          "hour": 2406,
          "resource": "biomass"
         },
         {
          "gen_sum": 42,
          "hour": 2406,
          "resource": "hydroelectric_pumped_storage"
         },
         {
          "gen_sum": 1770.238108,
          "hour": 2406,
          "resource": "natural_gas_fired_combined_cycle"
         },
         {
          "gen_sum": 0,
          "hour": 2406,
          "resource": "natural_gas_fired_combustion_turbine"
         },
         {
          "gen_sum": 74.17984,
          "hour": 2407,
          "resource": "_onshore_wind_turbine"
         },
         {
          "gen_sum": 3.184932,
          "hour": 2407,
          "resource": "_small_hydroelectric"
         },
         {
          "gen_sum": 193.55,
          "hour": 2407,
          "resource": "_solar_photovoltaic"
         },
         {
          "gen_sum": 33.18,
          "hour": 2407,
          "resource": "_solar_photovoltaic_btm"
         },
         {
          "gen_sum": 21.4,
          "hour": 2407,
          "resource": "biomass"
         },
         {
          "gen_sum": 42,
          "hour": 2407,
          "resource": "hydroelectric_pumped_storage"
         },
         {
          "gen_sum": 1928.5,
          "hour": 2407,
          "resource": "natural_gas_fired_combined_cycle"
         },
         {
          "gen_sum": 11.185227999999896,
          "hour": 2407,
          "resource": "natural_gas_fired_combustion_turbine"
         },
         {
          "gen_sum": 49.373439999999995,
          "hour": 2408,
          "resource": "_onshore_wind_turbine"
         },
         {
          "gen_sum": 3.184932,
          "hour": 2408,
          "resource": "_small_hydroelectric"
         },
         {
          "gen_sum": 773.85,
          "hour": 2408,
          "resource": "_solar_photovoltaic"
         },
         {
          "gen_sum": 132.66,
          "hour": 2408,
          "resource": "_solar_photovoltaic_btm"
         },
         {
          "gen_sum": 21.4,
          "hour": 2408,
          "resource": "biomass"
         },
         {
          "gen_sum": 42,
          "hour": 2408,
          "resource": "hydroelectric_pumped_storage"
         },
         {
          "gen_sum": 1707.1916279999998,
          "hour": 2408,
          "resource": "natural_gas_fired_combined_cycle"
         },
         {
          "gen_sum": 0,
          "hour": 2408,
          "resource": "natural_gas_fired_combustion_turbine"
         },
         {
          "gen_sum": 167.35616,
          "hour": 2409,
          "resource": "_onshore_wind_turbine"
         },
         {
          "gen_sum": 3.184932,
          "hour": 2409,
          "resource": "_small_hydroelectric"
         },
         {
          "gen_sum": 1671.6000000000001,
          "hour": 2409,
          "resource": "_solar_photovoltaic"
         },
         {
          "gen_sum": 286.56,
          "hour": 2409,
          "resource": "_solar_photovoltaic_btm"
         },
         {
          "gen_sum": 21.4,
          "hour": 2409,
          "resource": "biomass"
         },
         {
          "gen_sum": 42,
          "hour": 2409,
          "resource": "hydroelectric_pumped_storage"
         },
         {
          "gen_sum": 932.4589079999998,
          "hour": 2409,
          "resource": "natural_gas_fired_combined_cycle"
         },
         {
          "gen_sum": 0,
          "hour": 2409,
          "resource": "natural_gas_fired_combustion_turbine"
         },
         {
          "gen_sum": 131.56096,
          "hour": 2410,
          "resource": "_onshore_wind_turbine"
         },
         {
          "gen_sum": 3.184932,
          "hour": 2410,
          "resource": "_small_hydroelectric"
         },
         {
          "gen_sum": 2014.95,
          "hour": 2410,
          "resource": "_solar_photovoltaic"
         },
         {
          "gen_sum": 345.42,
          "hour": 2410,
          "resource": "_solar_photovoltaic_btm"
         },
         {
          "gen_sum": 21.4,
          "hour": 2410,
          "resource": "biomass"
         },
         {
          "gen_sum": 42,
          "hour": 2410,
          "resource": "hydroelectric_pumped_storage"
         },
         {
          "gen_sum": 809.9041079999998,
          "hour": 2410,
          "resource": "natural_gas_fired_combined_cycle"
         },
         {
          "gen_sum": 0,
          "hour": 2410,
          "resource": "natural_gas_fired_combustion_turbine"
         },
         {
          "gen_sum": 111.1936,
          "hour": 2411,
          "resource": "_onshore_wind_turbine"
         },
         {
          "gen_sum": 3.184932,
          "hour": 2411,
          "resource": "_small_hydroelectric"
         },
         {
          "gen_sum": 2113.65,
          "hour": 2411,
          "resource": "_solar_photovoltaic"
         },
         {
          "gen_sum": 362.34,
          "hour": 2411,
          "resource": "_solar_photovoltaic_btm"
         },
         {
          "gen_sum": 21.4,
          "hour": 2411,
          "resource": "biomass"
         },
         {
          "gen_sum": 42,
          "hour": 2411,
          "resource": "hydroelectric_pumped_storage"
         },
         {
          "gen_sum": 833.5714679999999,
          "hour": 2411,
          "resource": "natural_gas_fired_combined_cycle"
         },
         {
          "gen_sum": 0,
          "hour": 2411,
          "resource": "natural_gas_fired_combustion_turbine"
         },
         {
          "gen_sum": 92.11008,
          "hour": 2412,
          "resource": "_onshore_wind_turbine"
         },
         {
          "gen_sum": 3.184932,
          "hour": 2412,
          "resource": "_small_hydroelectric"
         },
         {
          "gen_sum": 2148.65,
          "hour": 2412,
          "resource": "_solar_photovoltaic"
         },
         {
          "gen_sum": 368.34,
          "hour": 2412,
          "resource": "_solar_photovoltaic_btm"
         },
         {
          "gen_sum": 21.4,
          "hour": 2412,
          "resource": "biomass"
         },
         {
          "gen_sum": 42,
          "hour": 2412,
          "resource": "hydroelectric_pumped_storage"
         },
         {
          "gen_sum": 655.6549879999998,
          "hour": 2412,
          "resource": "natural_gas_fired_combined_cycle"
         },
         {
          "gen_sum": 0,
          "hour": 2412,
          "resource": "natural_gas_fired_combustion_turbine"
         },
         {
          "gen_sum": 52.09344,
          "hour": 2413,
          "resource": "_onshore_wind_turbine"
         },
         {
          "gen_sum": 3.184932,
          "hour": 2413,
          "resource": "_small_hydroelectric"
         },
         {
          "gen_sum": 2256.1,
          "hour": 2413,
          "resource": "_solar_photovoltaic"
         },
         {
          "gen_sum": 386.76,
          "hour": 2413,
          "resource": "_solar_photovoltaic_btm"
         },
         {
          "gen_sum": 21.4,
          "hour": 2413,
          "resource": "biomass"
         },
         {
          "gen_sum": 42,
          "hour": 2413,
          "resource": "hydroelectric_pumped_storage"
         },
         {
          "gen_sum": 368.221628,
          "hour": 2413,
          "resource": "natural_gas_fired_combined_cycle"
         },
         {
          "gen_sum": 0,
          "hour": 2413,
          "resource": "natural_gas_fired_combustion_turbine"
         },
         {
          "gen_sum": 64.69248,
          "hour": 2414,
          "resource": "_onshore_wind_turbine"
         },
         {
          "gen_sum": 3.184932,
          "hour": 2414,
          "resource": "_small_hydroelectric"
         },
         {
          "gen_sum": 2259.25,
          "hour": 2414,
          "resource": "_solar_photovoltaic"
         },
         {
          "gen_sum": 387.29999999999995,
          "hour": 2414,
          "resource": "_solar_photovoltaic_btm"
         },
         {
          "gen_sum": 21.4,
          "hour": 2414,
          "resource": "biomass"
         },
         {
          "gen_sum": 42,
          "hour": 2414,
          "resource": "hydroelectric_pumped_storage"
         },
         {
          "gen_sum": 275.4725879999999,
          "hour": 2414,
          "resource": "natural_gas_fired_combined_cycle"
         },
         {
          "gen_sum": 0,
          "hour": 2414,
          "resource": "natural_gas_fired_combustion_turbine"
         },
         {
          "gen_sum": 49.22112,
          "hour": 2415,
          "resource": "_onshore_wind_turbine"
         },
         {
          "gen_sum": 3.184932,
          "hour": 2415,
          "resource": "_small_hydroelectric"
         },
         {
          "gen_sum": 2184.35,
          "hour": 2415,
          "resource": "_solar_photovoltaic"
         },
         {
          "gen_sum": 374.46,
          "hour": 2415,
          "resource": "_solar_photovoltaic_btm"
         },
         {
          "gen_sum": 21.4,
          "hour": 2415,
          "resource": "biomass"
         },
         {
          "gen_sum": 42,
          "hour": 2415,
          "resource": "hydroelectric_pumped_storage"
         },
         {
          "gen_sum": 277.843948,
          "hour": 2415,
          "resource": "natural_gas_fired_combined_cycle"
         },
         {
          "gen_sum": 0,
          "hour": 2415,
          "resource": "natural_gas_fired_combustion_turbine"
         },
         {
          "gen_sum": 65.41055999999999,
          "hour": 2416,
          "resource": "_onshore_wind_turbine"
         },
         {
          "gen_sum": 3.184932,
          "hour": 2416,
          "resource": "_small_hydroelectric"
         },
         {
          "gen_sum": 1993.25,
          "hour": 2416,
          "resource": "_solar_photovoltaic"
         },
         {
          "gen_sum": 341.7,
          "hour": 2416,
          "resource": "_solar_photovoltaic_btm"
         },
         {
          "gen_sum": 21.4,
          "hour": 2416,
          "resource": "biomass"
         },
         {
          "gen_sum": 42,
          "hour": 2416,
          "resource": "hydroelectric_pumped_storage"
         },
         {
          "gen_sum": 356.75450799999993,
          "hour": 2416,
          "resource": "natural_gas_fired_combined_cycle"
         },
         {
          "gen_sum": 0,
          "hour": 2416,
          "resource": "natural_gas_fired_combustion_turbine"
         },
         {
          "gen_sum": 57.18527999999999,
          "hour": 2417,
          "resource": "_onshore_wind_turbine"
         },
         {
          "gen_sum": 3.184932,
          "hour": 2417,
          "resource": "_small_hydroelectric"
         },
         {
          "gen_sum": 1637.3,
          "hour": 2417,
          "resource": "_solar_photovoltaic"
         },
         {
          "gen_sum": 280.68,
          "hour": 2417,
          "resource": "_solar_photovoltaic_btm"
         },
         {
          "gen_sum": 21.4,
          "hour": 2417,
          "resource": "biomass"
         },
         {
          "gen_sum": 42,
          "hour": 2417,
          "resource": "hydroelectric_pumped_storage"
         },
         {
          "gen_sum": 660.9297879999999,
          "hour": 2417,
          "resource": "natural_gas_fired_combined_cycle"
         },
         {
          "gen_sum": 0,
          "hour": 2417,
          "resource": "natural_gas_fired_combustion_turbine"
         },
         {
          "gen_sum": 78.61888,
          "hour": 2418,
          "resource": "_onshore_wind_turbine"
         },
         {
          "gen_sum": 3.184932,
          "hour": 2418,
          "resource": "_small_hydroelectric"
         },
         {
          "gen_sum": 1132.6,
          "hour": 2418,
          "resource": "_solar_photovoltaic"
         },
         {
          "gen_sum": 194.16,
          "hour": 2418,
          "resource": "_solar_photovoltaic_btm"
         },
         {
          "gen_sum": 21.4,
          "hour": 2418,
          "resource": "biomass"
         },
         {
          "gen_sum": 42,
          "hour": 2418,
          "resource": "hydroelectric_pumped_storage"
         },
         {
          "gen_sum": 1096.1961880000001,
          "hour": 2418,
          "resource": "natural_gas_fired_combined_cycle"
         },
         {
          "gen_sum": 0,
          "hour": 2418,
          "resource": "natural_gas_fired_combustion_turbine"
         },
         {
          "gen_sum": 52.61568,
          "hour": 2419,
          "resource": "_onshore_wind_turbine"
         },
         {
          "gen_sum": 3.184932,
          "hour": 2419,
          "resource": "_small_hydroelectric"
         },
         {
          "gen_sum": 166.95,
          "hour": 2419,
          "resource": "_solar_photovoltaic"
         },
         {
          "gen_sum": 28.62,
          "hour": 2419,
          "resource": "_solar_photovoltaic_btm"
         },
         {
          "gen_sum": 21.4,
          "hour": 2419,
          "resource": "biomass"
         },
         {
          "gen_sum": 42,
          "hour": 2419,
          "resource": "hydroelectric_pumped_storage"
         },
         {
          "gen_sum": 1928.5,
          "hour": 2419,
          "resource": "natural_gas_fired_combined_cycle"
         },
         {
          "gen_sum": 163.34938799999992,
          "hour": 2419,
          "resource": "natural_gas_fired_combustion_turbine"
         },
         {
          "gen_sum": 61.42848,
          "hour": 2420,
          "resource": "_onshore_wind_turbine"
         },
         {
          "gen_sum": 3.184932,
          "hour": 2420,
          "resource": "_small_hydroelectric"
         },
         {
          "gen_sum": 0,
          "hour": 2420,
          "resource": "_solar_photovoltaic"
         },
         {
          "gen_sum": 0,
          "hour": 2420,
          "resource": "_solar_photovoltaic_btm"
         },
         {
          "gen_sum": 21.4,
          "hour": 2420,
          "resource": "biomass"
         },
         {
          "gen_sum": 42,
          "hour": 2420,
          "resource": "hydroelectric_pumped_storage"
         },
         {
          "gen_sum": 1928.5,
          "hour": 2420,
          "resource": "natural_gas_fired_combined_cycle"
         },
         {
          "gen_sum": 444.48658799999987,
          "hour": 2420,
          "resource": "natural_gas_fired_combustion_turbine"
         },
         {
          "gen_sum": 71.9168,
          "hour": 2421,
          "resource": "_onshore_wind_turbine"
         },
         {
          "gen_sum": 3.184932,
          "hour": 2421,
          "resource": "_small_hydroelectric"
         },
         {
          "gen_sum": 0,
          "hour": 2421,
          "resource": "_solar_photovoltaic"
         },
         {
          "gen_sum": 0,
          "hour": 2421,
          "resource": "_solar_photovoltaic_btm"
         },
         {
          "gen_sum": 21.4,
          "hour": 2421,
          "resource": "biomass"
         },
         {
          "gen_sum": 42,
          "hour": 2421,
          "resource": "hydroelectric_pumped_storage"
         },
         {
          "gen_sum": 1928.5,
          "hour": 2421,
          "resource": "natural_gas_fired_combined_cycle"
         },
         {
          "gen_sum": 438.99826799999994,
          "hour": 2421,
          "resource": "natural_gas_fired_combustion_turbine"
         },
         {
          "gen_sum": 96.04864,
          "hour": 2422,
          "resource": "_onshore_wind_turbine"
         },
         {
          "gen_sum": 3.184932,
          "hour": 2422,
          "resource": "_small_hydroelectric"
         },
         {
          "gen_sum": 0,
          "hour": 2422,
          "resource": "_solar_photovoltaic"
         },
         {
          "gen_sum": 0,
          "hour": 2422,
          "resource": "_solar_photovoltaic_btm"
         },
         {
          "gen_sum": 21.4,
          "hour": 2422,
          "resource": "biomass"
         },
         {
          "gen_sum": 42,
          "hour": 2422,
          "resource": "hydroelectric_pumped_storage"
         },
         {
          "gen_sum": 1928.5,
          "hour": 2422,
          "resource": "natural_gas_fired_combined_cycle"
         },
         {
          "gen_sum": 166.8664279999999,
          "hour": 2422,
          "resource": "natural_gas_fired_combustion_turbine"
         },
         {
          "gen_sum": 126.46912,
          "hour": 2423,
          "resource": "_onshore_wind_turbine"
         },
         {
          "gen_sum": 3.184932,
          "hour": 2423,
          "resource": "_small_hydroelectric"
         },
         {
          "gen_sum": 0,
          "hour": 2423,
          "resource": "_solar_photovoltaic"
         },
         {
          "gen_sum": 0,
          "hour": 2423,
          "resource": "_solar_photovoltaic_btm"
         },
         {
          "gen_sum": 21.4,
          "hour": 2423,
          "resource": "biomass"
         },
         {
          "gen_sum": 42,
          "hour": 2423,
          "resource": "hydroelectric_pumped_storage"
         },
         {
          "gen_sum": 1794.9459479999998,
          "hour": 2423,
          "resource": "natural_gas_fired_combined_cycle"
         },
         {
          "gen_sum": 0,
          "hour": 2423,
          "resource": "natural_gas_fired_combustion_turbine"
         },
         {
          "gen_sum": 144.42111999999997,
          "hour": 2424,
          "resource": "_onshore_wind_turbine"
         },
         {
          "gen_sum": 3.184932,
          "hour": 2424,
          "resource": "_small_hydroelectric"
         },
         {
          "gen_sum": 0,
          "hour": 2424,
          "resource": "_solar_photovoltaic"
         },
         {
          "gen_sum": 0,
          "hour": 2424,
          "resource": "_solar_photovoltaic_btm"
         },
         {
          "gen_sum": 21.4,
          "hour": 2424,
          "resource": "biomass"
         },
         {
          "gen_sum": 42,
          "hour": 2424,
          "resource": "hydroelectric_pumped_storage"
         },
         {
          "gen_sum": 1548.993948,
          "hour": 2424,
          "resource": "natural_gas_fired_combined_cycle"
         },
         {
          "gen_sum": 0,
          "hour": 2424,
          "resource": "natural_gas_fired_combustion_turbine"
         }
        ]
       },
       "encoding": {
        "color": {
         "field": "resource",
         "scale": {
          "scheme": "category20"
         },
         "type": "nominal"
        },
        "x": {
         "field": "hour",
         "type": "quantitative"
        },
        "y": {
         "field": "gen_sum",
         "stack": "zero",
         "type": "quantitative"
        }
       },
       "height": 600,
       "mark": "area",
       "width": 600
      },
      "image/png": "[encoded data removed]",
      "image/svg+xml": [
       "<?xml version=\"1.0\" encoding=\"utf-8\"?>\n",
       "<!DOCTYPE svg PUBLIC \"-//W3C//DTD SVG 1.1//EN\" \"http://www.w3.org/Graphics/SVG/1.1/DTD/svg11.dtd\">\n",
       "<svg xmlns=\"http://www.w3.org/2000/svg\" xmlns:xlink=\"http://www.w3.org/1999/xlink\" version=\"1.1\" class=\"marks\" width=\"852\" height=\"642\" viewBox=\"0 0 852 642\"><rect width=\"852\" height=\"642\" fill=\"white\"/><g fill=\"none\" stroke-miterlimit=\"10\" transform=\"translate(54,5)\"><g class=\"mark-group role-frame root\" role=\"graphics-object\" aria-roledescription=\"group mark container\"><g transform=\"translate(0,0)\"><path class=\"background\" aria-hidden=\"true\" d=\"M0.5,0.5h600v600h-600Z\" stroke=\"#ddd\"/><g><g class=\"mark-group role-axis\" aria-hidden=\"true\"><g transform=\"translate(0.5,600.5)\"><path class=\"background\" aria-hidden=\"true\" d=\"M0,0h0v0h0Z\" pointer-events=\"none\"/><g><g class=\"mark-rule role-axis-grid\" pointer-events=\"none\"><line transform=\"translate(0,-600)\" x2=\"0\" y2=\"600\" stroke=\"#ddd\" stroke-width=\"1\" opacity=\"1\"/><line transform=\"translate(50,-600)\" x2=\"0\" y2=\"600\" stroke=\"#ddd\" stroke-width=\"1\" opacity=\"1\"/><line transform=\"translate(100,-600)\" x2=\"0\" y2=\"600\" stroke=\"#ddd\" stroke-width=\"1\" opacity=\"1\"/><line transform=\"translate(150,-600)\" x2=\"0\" y2=\"600\" stroke=\"#ddd\" stroke-width=\"1\" opacity=\"1\"/><line transform=\"translate(200,-600)\" x2=\"0\" y2=\"600\" stroke=\"#ddd\" stroke-width=\"1\" opacity=\"1\"/><line transform=\"translate(250,-600)\" x2=\"0\" y2=\"600\" stroke=\"#ddd\" stroke-width=\"1\" opacity=\"1\"/><line transform=\"translate(300,-600)\" x2=\"0\" y2=\"600\" stroke=\"#ddd\" stroke-width=\"1\" opacity=\"1\"/><line transform=\"translate(350,-600)\" x2=\"0\" y2=\"600\" stroke=\"#ddd\" stroke-width=\"1\" opacity=\"1\"/><line transform=\"translate(400,-600)\" x2=\"0\" y2=\"600\" stroke=\"#ddd\" stroke-width=\"1\" opacity=\"1\"/><line transform=\"translate(450,-600)\" x2=\"0\" y2=\"600\" stroke=\"#ddd\" stroke-width=\"1\" opacity=\"1\"/><line transform=\"translate(500,-600)\" x2=\"0\" y2=\"600\" stroke=\"#ddd\" stroke-width=\"1\" opacity=\"1\"/><line transform=\"translate(550,-600)\" x2=\"0\" y2=\"600\" stroke=\"#ddd\" stroke-width=\"1\" opacity=\"1\"/><line transform=\"translate(600,-600)\" x2=\"0\" y2=\"600\" stroke=\"#ddd\" stroke-width=\"1\" opacity=\"1\"/></g></g><path class=\"foreground\" aria-hidden=\"true\" d=\"\" pointer-events=\"none\" display=\"none\"/></g></g><g class=\"mark-group role-axis\" aria-hidden=\"true\"><g transform=\"translate(0.5,0.5)\"><path class=\"background\" aria-hidden=\"true\" d=\"M0,0h0v0h0Z\" pointer-events=\"none\"/><g><g class=\"mark-rule role-axis-grid\" pointer-events=\"none\"><line transform=\"translate(0,600)\" x2=\"600\" y2=\"0\" stroke=\"#ddd\" stroke-width=\"1\" opacity=\"1\"/><line transform=\"translate(0,566)\" x2=\"600\" y2=\"0\" stroke=\"#ddd\" stroke-width=\"1\" opacity=\"1\"/><line transform=\"translate(0,531)\" x2=\"600\" y2=\"0\" stroke=\"#ddd\" stroke-width=\"1\" opacity=\"1\"/><line transform=\"translate(0,497)\" x2=\"600\" y2=\"0\" stroke=\"#ddd\" stroke-width=\"1\" opacity=\"1\"/><line transform=\"translate(0,463)\" x2=\"600\" y2=\"0\" stroke=\"#ddd\" stroke-width=\"1\" opacity=\"1\"/><line transform=\"translate(0,429)\" x2=\"600\" y2=\"0\" stroke=\"#ddd\" stroke-width=\"1\" opacity=\"1\"/><line transform=\"translate(0,394)\" x2=\"600\" y2=\"0\" stroke=\"#ddd\" stroke-width=\"1\" opacity=\"1\"/><line transform=\"translate(0,360)\" x2=\"600\" y2=\"0\" stroke=\"#ddd\" stroke-width=\"1\" opacity=\"1\"/><line transform=\"translate(0,326)\" x2=\"600\" y2=\"0\" stroke=\"#ddd\" stroke-width=\"1\" opacity=\"1\"/><line transform=\"translate(0,291)\" x2=\"600\" y2=\"0\" stroke=\"#ddd\" stroke-width=\"1\" opacity=\"1\"/><line transform=\"translate(0,257)\" x2=\"600\" y2=\"0\" stroke=\"#ddd\" stroke-width=\"1\" opacity=\"1\"/><line transform=\"translate(0,223)\" x2=\"600\" y2=\"0\" stroke=\"#ddd\" stroke-width=\"1\" opacity=\"1\"/><line transform=\"translate(0,189)\" x2=\"600\" y2=\"0\" stroke=\"#ddd\" stroke-width=\"1\" opacity=\"1\"/><line transform=\"translate(0,154)\" x2=\"600\" y2=\"0\" stroke=\"#ddd\" stroke-width=\"1\" opacity=\"1\"/><line transform=\"translate(0,120)\" x2=\"600\" y2=\"0\" stroke=\"#ddd\" stroke-width=\"1\" opacity=\"1\"/><line transform=\"translate(0,86)\" x2=\"600\" y2=\"0\" stroke=\"#ddd\" stroke-width=\"1\" opacity=\"1\"/><line transform=\"translate(0,51)\" x2=\"600\" y2=\"0\" stroke=\"#ddd\" stroke-width=\"1\" opacity=\"1\"/><line transform=\"translate(0,17)\" x2=\"600\" y2=\"0\" stroke=\"#ddd\" stroke-width=\"1\" opacity=\"1\"/></g></g><path class=\"foreground\" aria-hidden=\"true\" d=\"\" pointer-events=\"none\" display=\"none\"/></g></g><g class=\"mark-group role-axis\" role=\"graphics-symbol\" aria-roledescription=\"axis\" aria-label=\"X-axis titled 'hour' for a linear scale with values from 2,400 to 2,424\"><g transform=\"translate(0.5,600.5)\"><path class=\"background\" aria-hidden=\"true\" d=\"M0,0h0v0h0Z\" pointer-events=\"none\"/><g><g class=\"mark-rule role-axis-tick\" pointer-events=\"none\"><line transform=\"translate(0,0)\" x2=\"0\" y2=\"5\" stroke=\"#888\" stroke-width=\"1\" opacity=\"1\"/><line transform=\"translate(50,0)\" x2=\"0\" y2=\"5\" stroke=\"#888\" stroke-width=\"1\" opacity=\"1\"/><line transform=\"translate(100,0)\" x2=\"0\" y2=\"5\" stroke=\"#888\" stroke-width=\"1\" opacity=\"1\"/><line transform=\"translate(150,0)\" x2=\"0\" y2=\"5\" stroke=\"#888\" stroke-width=\"1\" opacity=\"1\"/><line transform=\"translate(200,0)\" x2=\"0\" y2=\"5\" stroke=\"#888\" stroke-width=\"1\" opacity=\"1\"/><line transform=\"translate(250,0)\" x2=\"0\" y2=\"5\" stroke=\"#888\" stroke-width=\"1\" opacity=\"1\"/><line transform=\"translate(300,0)\" x2=\"0\" y2=\"5\" stroke=\"#888\" stroke-width=\"1\" opacity=\"1\"/><line transform=\"translate(350,0)\" x2=\"0\" y2=\"5\" stroke=\"#888\" stroke-width=\"1\" opacity=\"1\"/><line transform=\"translate(400,0)\" x2=\"0\" y2=\"5\" stroke=\"#888\" stroke-width=\"1\" opacity=\"1\"/><line transform=\"translate(450,0)\" x2=\"0\" y2=\"5\" stroke=\"#888\" stroke-width=\"1\" opacity=\"1\"/><line transform=\"translate(500,0)\" x2=\"0\" y2=\"5\" stroke=\"#888\" stroke-width=\"1\" opacity=\"1\"/><line transform=\"translate(550,0)\" x2=\"0\" y2=\"5\" stroke=\"#888\" stroke-width=\"1\" opacity=\"1\"/><line transform=\"translate(600,0)\" x2=\"0\" y2=\"5\" stroke=\"#888\" stroke-width=\"1\" opacity=\"1\"/></g><g class=\"mark-text role-axis-label\" pointer-events=\"none\"><text text-anchor=\"start\" transform=\"translate(0,15)\" font-family=\"sans-serif\" font-size=\"10px\" fill=\"#000\" opacity=\"1\">2,400</text><text text-anchor=\"middle\" transform=\"translate(50,15)\" font-family=\"sans-serif\" font-size=\"10px\" fill=\"#000\" opacity=\"1\">2,402</text><text text-anchor=\"middle\" transform=\"translate(100,15)\" font-family=\"sans-serif\" font-size=\"10px\" fill=\"#000\" opacity=\"1\">2,404</text><text text-anchor=\"middle\" transform=\"translate(150,15)\" font-family=\"sans-serif\" font-size=\"10px\" fill=\"#000\" opacity=\"1\">2,406</text><text text-anchor=\"middle\" transform=\"translate(200,15)\" font-family=\"sans-serif\" font-size=\"10px\" fill=\"#000\" opacity=\"1\">2,408</text><text text-anchor=\"middle\" transform=\"translate(250,15)\" font-family=\"sans-serif\" font-size=\"10px\" fill=\"#000\" opacity=\"1\">2,410</text><text text-anchor=\"middle\" transform=\"translate(300,15)\" font-family=\"sans-serif\" font-size=\"10px\" fill=\"#000\" opacity=\"1\">2,412</text><text text-anchor=\"middle\" transform=\"translate(350,15)\" font-family=\"sans-serif\" font-size=\"10px\" fill=\"#000\" opacity=\"1\">2,414</text><text text-anchor=\"middle\" transform=\"translate(400,15)\" font-family=\"sans-serif\" font-size=\"10px\" fill=\"#000\" opacity=\"1\">2,416</text><text text-anchor=\"middle\" transform=\"translate(450,15)\" font-family=\"sans-serif\" font-size=\"10px\" fill=\"#000\" opacity=\"1\">2,418</text><text text-anchor=\"middle\" transform=\"translate(500,15)\" font-family=\"sans-serif\" font-size=\"10px\" fill=\"#000\" opacity=\"1\">2,420</text><text text-anchor=\"middle\" transform=\"translate(550,15)\" font-family=\"sans-serif\" font-size=\"10px\" fill=\"#000\" opacity=\"1\">2,422</text><text text-anchor=\"end\" transform=\"translate(600,15)\" font-family=\"sans-serif\" font-size=\"10px\" fill=\"#000\" opacity=\"1\">2,424</text></g><g class=\"mark-rule role-axis-domain\" pointer-events=\"none\"><line transform=\"translate(0,0)\" x2=\"600\" y2=\"0\" stroke=\"#888\" stroke-width=\"1\" opacity=\"1\"/></g><g class=\"mark-text role-axis-title\" pointer-events=\"none\"><text text-anchor=\"middle\" transform=\"translate(300,30)\" font-family=\"sans-serif\" font-size=\"11px\" font-weight=\"bold\" fill=\"#000\" opacity=\"1\">hour</text></g></g><path class=\"foreground\" aria-hidden=\"true\" d=\"\" pointer-events=\"none\" display=\"none\"/></g></g><g class=\"mark-group role-axis\" role=\"graphics-symbol\" aria-roledescription=\"axis\" aria-label=\"Y-axis titled 'gen_sum' for a linear scale with values from 0 to 3,500\"><g transform=\"translate(0.5,0.5)\"><path class=\"background\" aria-hidden=\"true\" d=\"M0,0h0v0h0Z\" pointer-events=\"none\"/><g><g class=\"mark-rule role-axis-tick\" pointer-events=\"none\"><line transform=\"translate(0,600)\" x2=\"-5\" y2=\"0\" stroke=\"#888\" stroke-width=\"1\" opacity=\"1\"/><line transform=\"translate(0,566)\" x2=\"-5\" y2=\"0\" stroke=\"#888\" stroke-width=\"1\" opacity=\"1\"/><line transform=\"translate(0,531)\" x2=\"-5\" y2=\"0\" stroke=\"#888\" stroke-width=\"1\" opacity=\"1\"/><line transform=\"translate(0,497)\" x2=\"-5\" y2=\"0\" stroke=\"#888\" stroke-width=\"1\" opacity=\"1\"/><line transform=\"translate(0,463)\" x2=\"-5\" y2=\"0\" stroke=\"#888\" stroke-width=\"1\" opacity=\"1\"/><line transform=\"translate(0,429)\" x2=\"-5\" y2=\"0\" stroke=\"#888\" stroke-width=\"1\" opacity=\"1\"/><line transform=\"translate(0,394)\" x2=\"-5\" y2=\"0\" stroke=\"#888\" stroke-width=\"1\" opacity=\"1\"/><line transform=\"translate(0,360)\" x2=\"-5\" y2=\"0\" stroke=\"#888\" stroke-width=\"1\" opacity=\"1\"/><line transform=\"translate(0,326)\" x2=\"-5\" y2=\"0\" stroke=\"#888\" stroke-width=\"1\" opacity=\"1\"/><line transform=\"translate(0,291)\" x2=\"-5\" y2=\"0\" stroke=\"#888\" stroke-width=\"1\" opacity=\"1\"/><line transform=\"translate(0,257)\" x2=\"-5\" y2=\"0\" stroke=\"#888\" stroke-width=\"1\" opacity=\"1\"/><line transform=\"translate(0,223)\" x2=\"-5\" y2=\"0\" stroke=\"#888\" stroke-width=\"1\" opacity=\"1\"/><line transform=\"translate(0,189)\" x2=\"-5\" y2=\"0\" stroke=\"#888\" stroke-width=\"1\" opacity=\"1\"/><line transform=\"translate(0,154)\" x2=\"-5\" y2=\"0\" stroke=\"#888\" stroke-width=\"1\" opacity=\"1\"/><line transform=\"translate(0,120)\" x2=\"-5\" y2=\"0\" stroke=\"#888\" stroke-width=\"1\" opacity=\"1\"/><line transform=\"translate(0,86)\" x2=\"-5\" y2=\"0\" stroke=\"#888\" stroke-width=\"1\" opacity=\"1\"/><line transform=\"translate(0,51)\" x2=\"-5\" y2=\"0\" stroke=\"#888\" stroke-width=\"1\" opacity=\"1\"/><line transform=\"translate(0,17)\" x2=\"-5\" y2=\"0\" stroke=\"#888\" stroke-width=\"1\" opacity=\"1\"/></g><g class=\"mark-text role-axis-label\" pointer-events=\"none\"><text text-anchor=\"end\" transform=\"translate(-7,603)\" font-family=\"sans-serif\" font-size=\"10px\" fill=\"#000\" opacity=\"1\">0</text><text text-anchor=\"end\" transform=\"translate(-7,568.7142857142857)\" font-family=\"sans-serif\" font-size=\"10px\" fill=\"#000\" opacity=\"1\">200</text><text text-anchor=\"end\" transform=\"translate(-7,534.4285714285714)\" font-family=\"sans-serif\" font-size=\"10px\" fill=\"#000\" opacity=\"1\">400</text><text text-anchor=\"end\" transform=\"translate(-7,500.1428571428571)\" font-family=\"sans-serif\" font-size=\"10px\" fill=\"#000\" opacity=\"1\">600</text><text text-anchor=\"end\" transform=\"translate(-7,465.8571428571429)\" font-family=\"sans-serif\" font-size=\"10px\" fill=\"#000\" opacity=\"1\">800</text><text text-anchor=\"end\" transform=\"translate(-7,431.57142857142856)\" font-family=\"sans-serif\" font-size=\"10px\" fill=\"#000\" opacity=\"1\">1,000</text><text text-anchor=\"end\" transform=\"translate(-7,397.2857142857143)\" font-family=\"sans-serif\" font-size=\"10px\" fill=\"#000\" opacity=\"1\">1,200</text><text text-anchor=\"end\" transform=\"translate(-7,363)\" font-family=\"sans-serif\" font-size=\"10px\" fill=\"#000\" opacity=\"1\">1,400</text><text text-anchor=\"end\" transform=\"translate(-7,328.7142857142858)\" font-family=\"sans-serif\" font-size=\"10px\" fill=\"#000\" opacity=\"1\">1,600</text><text text-anchor=\"end\" transform=\"translate(-7,294.42857142857144)\" font-family=\"sans-serif\" font-size=\"10px\" fill=\"#000\" opacity=\"1\">1,800</text><text text-anchor=\"end\" transform=\"translate(-7,260.14285714285717)\" font-family=\"sans-serif\" font-size=\"10px\" fill=\"#000\" opacity=\"1\">2,000</text><text text-anchor=\"end\" transform=\"translate(-7,225.85714285714286)\" font-family=\"sans-serif\" font-size=\"10px\" fill=\"#000\" opacity=\"1\">2,200</text><text text-anchor=\"end\" transform=\"translate(-7,191.57142857142856)\" font-family=\"sans-serif\" font-size=\"10px\" fill=\"#000\" opacity=\"1\">2,400</text><text text-anchor=\"end\" transform=\"translate(-7,157.28571428571428)\" font-family=\"sans-serif\" font-size=\"10px\" fill=\"#000\" opacity=\"1\">2,600</text><text text-anchor=\"end\" transform=\"translate(-7,122.99999999999997)\" font-family=\"sans-serif\" font-size=\"10px\" fill=\"#000\" opacity=\"1\">2,800</text><text text-anchor=\"end\" transform=\"translate(-7,88.71428571428574)\" font-family=\"sans-serif\" font-size=\"10px\" fill=\"#000\" opacity=\"1\">3,000</text><text text-anchor=\"end\" transform=\"translate(-7,54.428571428571445)\" font-family=\"sans-serif\" font-size=\"10px\" fill=\"#000\" opacity=\"1\">3,200</text><text text-anchor=\"end\" transform=\"translate(-7,20.14285714285715)\" font-family=\"sans-serif\" font-size=\"10px\" fill=\"#000\" opacity=\"1\">3,400</text></g><g class=\"mark-rule role-axis-domain\" pointer-events=\"none\"><line transform=\"translate(0,600)\" x2=\"0\" y2=\"-600\" stroke=\"#888\" stroke-width=\"1\" opacity=\"1\"/></g><g class=\"mark-text role-axis-title\" pointer-events=\"none\"><text text-anchor=\"middle\" transform=\"translate(-38,300) rotate(-90) translate(0,-2)\" font-family=\"sans-serif\" font-size=\"11px\" font-weight=\"bold\" fill=\"#000\" opacity=\"1\">gen_sum</text></g></g><path class=\"foreground\" aria-hidden=\"true\" d=\"\" pointer-events=\"none\" display=\"none\"/></g></g><g class=\"mark-group role-scope pathgroup\" role=\"graphics-object\" aria-roledescription=\"group mark container\"><g transform=\"translate(0,0)\"><path class=\"background\" aria-hidden=\"true\" d=\"M0,0h600v600h-600Z\"/><g><g class=\"mark-area role-mark marks\" role=\"graphics-object\" aria-roledescription=\"area mark container\"><path aria-label=\"hour: 2401; gen_sum: 163.3088; resource: _onshore_wind_turbine\" role=\"graphics-symbol\" aria-roledescription=\"area mark\" d=\"M25,323.14285714285717L50,333.77142857142854L75,339.77142857142854L100,332.2285714285715L125,302.9142857142857L150,261.2571428571428L175,204.48342857142862L200,132.05828571428572L225,64.3611428571429L250,22.556571428571417L275,2.170285714285658L300,28.91314285714288L325,63.46971428571424L350,76.57714285714286L375,93.86400000000002L400,115.93714285714292L425,136.68342857142858L450,159.74399999999994L475,187.43657142857145L500,171.2571428571429L525,170.4L550,212.9142857142857L575,259.20000000000005L600,298.2857142857143L600,323.0436205714285L575,280.8804205714286L550,229.37976685714284L525,182.72859428571428L500,181.78773942857146L475,196.45640228571426L450,173.22152228571426L425,146.48661942857146L400,127.1503817142857L375,102.30190628571434L350,87.66728228571425L325,72.4000182857143L300,44.703442285714345L275,21.232045714285697L250,45.10987885714282L225,93.0507702857143L200,140.52230400000002L175,217.1999725714286L150,285.11605028571427L125,316.7275337142857L100,349.4662217142858L75,359.50464L50,362.878848L25,351.13865142857145Z\" fill=\"#1f77b4\"/></g></g><path class=\"foreground\" aria-hidden=\"true\" d=\"\" display=\"none\"/></g><g transform=\"translate(0,0)\"><path class=\"background\" aria-hidden=\"true\" d=\"M0,0h600v600h-600Z\"/><g><g class=\"mark-area role-mark marks\" role=\"graphics-object\" aria-roledescription=\"area mark container\"><path aria-label=\"hour: 2401; gen_sum: 3.184932; resource: _small_hydroelectric\" role=\"graphics-symbol\" aria-roledescription=\"area mark\" d=\"M25,351.13865142857145L50,362.878848L75,359.50464L100,349.4662217142858L125,316.7275337142857L150,285.11605028571427L175,217.1999725714286L200,140.52230400000002L225,93.0507702857143L250,45.10987885714282L275,21.232045714285697L300,44.703442285714345L325,72.4000182857143L350,87.66728228571425L375,102.30190628571434L400,127.1503817142857L425,146.48661942857146L450,173.22152228571426L475,196.45640228571426L500,181.78773942857146L525,182.72859428571428L550,229.37976685714284L575,280.8804205714286L600,323.0436205714285L600,323.58960891428563L575,281.42640891428573L550,229.92575520000003L525,183.2745826285714L500,182.33372777142858L475,197.00239062857145L450,173.7675106285714L425,147.03260777142867L400,127.6963700571429L375,102.84789462857147L350,88.21327062857145L325,72.94600662857142L300,45.249430628571474L275,21.778034057142893L250,45.655867199999946L225,93.59675862857142L200,141.06829234285715L175,217.74596091428572L150,285.6620386285714L125,317.2735220571428L100,350.0122100571429L75,360.0506283428571L50,363.42483634285713L25,351.6846397714286Z\" fill=\"#aec7e8\"/></g></g><path class=\"foreground\" aria-hidden=\"true\" d=\"\" display=\"none\"/></g><g transform=\"translate(0,0)\"><path class=\"background\" aria-hidden=\"true\" d=\"M0,0h600v600h-600Z\"/><g><g class=\"mark-area role-mark marks\" role=\"graphics-object\" aria-roledescription=\"area mark container\"><path aria-label=\"hour: 2401; gen_sum: 0; resource: _solar_photovoltaic\" role=\"graphics-symbol\" aria-roledescription=\"area mark\" d=\"M25,351.6846397714286L50,363.42483634285713L75,360.0506283428571L100,350.0122100571429L125,317.2735220571428L150,285.6620386285714L175,217.74596091428572L200,141.06829234285715L225,93.59675862857142L250,45.655867199999946L275,21.778034057142893L300,45.249430628571474L325,72.94600662857142L350,88.21327062857145L375,102.84789462857147L400,127.6963700571429L425,147.03260777142867L450,173.7675106285714L475,197.00239062857145L500,182.33372777142858L525,183.2745826285714L550,229.92575520000003L575,281.42640891428573L600,323.58960891428563L600,323.58960891428563L575,281.42640891428573L550,229.92575520000003L525,183.2745826285714L500,182.33372777142858L475,225.62239062857142L450,367.9275106285714L425,427.71260777142857L400,469.3963700571429L375,477.3078946285715L350,475.5132706285714L325,459.70600662857146L300,413.58943062857145L275,384.1180340571429L250,391.0758672L225,380.1567586285714L200,273.7282923428571L175,250.92596091428572L150,285.6620386285714L125,317.2735220571428L100,350.0122100571429L75,360.0506283428571L50,363.42483634285713L25,351.6846397714286Z\" fill=\"#ff7f0e\"/></g></g><path class=\"foreground\" aria-hidden=\"true\" d=\"\" display=\"none\"/></g><g transform=\"translate(0,0)\"><path class=\"background\" aria-hidden=\"true\" d=\"M0,0h600v600h-600Z\"/><g><g class=\"mark-area role-mark marks\" role=\"graphics-object\" aria-roledescription=\"area mark container\"><path aria-label=\"hour: 2401; gen_sum: 0; resource: _solar_photovoltaic_btm\" role=\"graphics-symbol\" aria-roledescription=\"area mark\" d=\"M25,351.6846397714286L50,363.42483634285713L75,360.0506283428571L100,350.0122100571429L125,317.2735220571428L150,285.6620386285714L175,250.92596091428572L200,273.7282923428571L225,380.1567586285714L250,391.0758672L275,384.1180340571429L300,413.58943062857145L325,459.70600662857146L350,475.51327062857143L375,477.3078946285715L400,469.3963700571429L425,427.71260777142857L450,367.9275106285714L475,225.62239062857142L500,182.33372777142858L525,183.2745826285714L550,229.92575520000003L575,281.42640891428573L600,323.58960891428563L600,323.58960891428563L575,281.42640891428573L550,229.92575520000003L525,183.2745826285714L500,182.33372777142858L475,230.5286763428571L450,401.2120820571428L425,475.82917920000006L400,527.9735129142857L375,541.5010374857143L350,541.9075563428572L325,526.0077209142858L300,476.73343062857145L275,446.23346262857143L250,450.2907243428572L225,429.28133005714284L200,296.4700066285714L175,256.61396091428577L150,285.6620386285714L125,317.2735220571428L100,350.0122100571429L75,360.0506283428571L50,363.42483634285713L25,351.6846397714286Z\" fill=\"#ffbb78\"/></g></g><path class=\"foreground\" aria-hidden=\"true\" d=\"\" display=\"none\"/></g><g transform=\"translate(0,0)\"><path class=\"background\" aria-hidden=\"true\" d=\"M0,0h600v600h-600Z\"/><g><g class=\"mark-area role-mark marks\" role=\"graphics-object\" aria-roledescription=\"area mark container\"><path aria-label=\"hour: 2401; gen_sum: 21.4; resource: biomass\" role=\"graphics-symbol\" aria-roledescription=\"area mark\" d=\"M25,351.6846397714286L50,363.42483634285713L75,360.0506283428571L100,350.0122100571429L125,317.2735220571428L150,285.6620386285714L175,256.61396091428577L200,296.4700066285714L225,429.28133005714284L250,450.2907243428572L275,446.23346262857143L300,476.73343062857145L325,526.0077209142858L350,541.9075563428572L375,541.5010374857143L400,527.9735129142857L425,475.82917920000006L450,401.2120820571428L475,230.5286763428571L500,182.33372777142858L525,183.2745826285714L550,229.92575520000003L575,281.42640891428573L600,323.58960891428563L600,327.2581803428571L575,285.0949803428572L550,233.59432662857148L525,186.94315405714286L500,186.0022992L475,234.19724777142855L450,404.8806534857142L425,479.49775062857145L400,531.6420843428572L375,545.1696089142857L350,545.5761277714286L325,529.6762923428571L300,480.4020020571429L275,449.9020340571429L250,453.95929577142863L225,432.9499014857143L200,300.1385780571429L175,260.28253234285717L150,289.33061005714285L125,320.9420934857143L100,353.68078148571436L75,363.7191997714286L50,367.0934077714286L25,355.35321120000003Z\" fill=\"#2ca02c\"/></g></g><path class=\"foreground\" aria-hidden=\"true\" d=\"\" display=\"none\"/></g><g transform=\"translate(0,0)\"><path class=\"background\" aria-hidden=\"true\" d=\"M0,0h600v600h-600Z\"/><g><g class=\"mark-area role-mark marks\" role=\"graphics-object\" aria-roledescription=\"area mark container\"><path aria-label=\"hour: 2401; gen_sum: 42; resource: hydroelectric_pumped_storage\" role=\"graphics-symbol\" aria-roledescription=\"area mark\" d=\"M25,355.35321120000003L50,367.0934077714286L75,363.7191997714286L100,353.68078148571436L125,320.9420934857143L150,289.33061005714285L175,260.28253234285717L200,300.1385780571429L225,432.9499014857143L250,453.95929577142863L275,449.9020340571429L300,480.4020020571429L325,529.6762923428571L350,545.5761277714286L375,545.1696089142857L400,531.6420843428572L425,479.49775062857145L450,404.8806534857142L475,234.19724777142855L500,186.0022992L525,186.94315405714286L550,233.59432662857148L575,285.0949803428572L600,327.2581803428571L600,334.4581803428571L575,292.2949803428572L550,240.79432662857147L525,194.14315405714285L500,193.20229920000003L475,241.39724777142854L450,412.08065348571427L425,486.69775062857144L400,538.8420843428572L375,552.3696089142857L350,552.7761277714286L325,536.8762923428571L300,487.60200205714284L275,457.1020340571429L250,461.15929577142856L225,440.1499014857143L200,307.3385780571429L175,267.4825323428572L150,296.53061005714284L125,328.14209348571427L100,360.88078148571435L75,370.91919977142857L50,374.2934077714286L25,362.5532112Z\" fill=\"#98df8a\"/></g></g><path class=\"foreground\" aria-hidden=\"true\" d=\"\" display=\"none\"/></g><g transform=\"translate(0,0)\"><path class=\"background\" aria-hidden=\"true\" d=\"M0,0h600v600h-600Z\"/><g><g class=\"mark-area role-mark marks\" role=\"graphics-object\" aria-roledescription=\"area mark container\"><path aria-label=\"hour: 2401; gen_sum: 1385.106268; resource: natural_gas_fired_combined_cycle\" role=\"graphics-symbol\" aria-roledescription=\"area mark\" d=\"M25,362.5532112L50,374.2934077714286L75,370.91919977142857L100,360.88078148571435L125,328.14209348571427L150,296.53061005714284L175,267.4825323428572L200,307.3385780571429L225,440.1499014857143L250,461.15929577142856L275,457.1020340571429L300,487.60200205714284L325,536.8762923428571L350,552.7761277714286L375,552.3696089142857L400,538.8420843428572L425,486.69775062857144L450,412.08065348571427L475,241.39724777142854L500,193.20229920000003L525,194.14315405714285L550,240.79432662857147L575,292.2949803428572L600,334.4581803428571L600,600L575,600L550,571.3943266285714L525,524.7431540571429L500,523.8022992L475,571.9972477714285L450,600L425,600L400,600L375,600L350,600L325,600L300,600L275,600L250,600L225,600L200,600L175,598.0825323428571L150,600L125,600L100,600L75,600L50,600L25,600Z\" fill=\"#d62728\"/></g></g><path class=\"foreground\" aria-hidden=\"true\" d=\"\" display=\"none\"/></g><g transform=\"translate(0,0)\"><path class=\"background\" aria-hidden=\"true\" d=\"M0,0h600v600h-600Z\"/><g><g class=\"mark-area role-mark marks\" role=\"graphics-object\" aria-roledescription=\"area mark container\"><path aria-label=\"hour: 2401; gen_sum: 0; resource: natural_gas_fired_combustion_turbine\" role=\"graphics-symbol\" aria-roledescription=\"area mark\" d=\"M25,600L50,600L75,600L100,600L125,600L150,600L175,598.0825323428571L200,600L225,600L250,600L275,600L300,600L325,600L350,600L375,600L400,600L425,600L450,600L475,571.9972477714285L500,523.8022992L525,524.7431540571429L550,571.3943266285714L575,600L600,600L600,600L575,600L550,600L525,600L500,600L475,600L450,600L425,600L400,600L375,600L350,600L325,600L300,600L275,600L250,600L225,600L200,600L175,600L150,600L125,600L100,600L75,600L50,600L25,600Z\" fill=\"#ff9896\"/></g></g><path class=\"foreground\" aria-hidden=\"true\" d=\"\" display=\"none\"/></g></g><g class=\"mark-group role-legend\" role=\"graphics-symbol\" aria-roledescription=\"legend\" aria-label=\"Symbol legend titled 'resource' for fill color with 8 values: _onshore_wind_turbine, _small_hydroelectric, _solar_photovoltaic, _solar_photovoltaic_btm, biomass, ending with natural_gas_fired_combustion_turbine\"><g transform=\"translate(618,0)\"><path class=\"background\" aria-hidden=\"true\" d=\"M0,0h175v118h-175Z\" pointer-events=\"none\"/><g><g class=\"mark-group role-legend-entry\"><g transform=\"translate(0,16)\"><path class=\"background\" aria-hidden=\"true\" d=\"M0,0h0v0h0Z\" pointer-events=\"none\"/><g><g class=\"mark-group role-scope\" role=\"graphics-object\" aria-roledescription=\"group mark container\"><g transform=\"translate(0,0)\"><path class=\"background\" aria-hidden=\"true\" d=\"M0,0h175v11h-175Z\" pointer-events=\"none\" opacity=\"1\"/><g><g class=\"mark-symbol role-legend-symbol\" pointer-events=\"none\"><path transform=\"translate(6,6)\" d=\"M5,0A5,5,0,1,1,-5,0A5,5,0,1,1,5,0\" fill=\"#1f77b4\" stroke-width=\"1.5\" opacity=\"1\"/></g><g class=\"mark-text role-legend-label\" pointer-events=\"none\"><text text-anchor=\"start\" transform=\"translate(16,9)\" font-family=\"sans-serif\" font-size=\"10px\" fill=\"#000\" opacity=\"1\">_onshore_wind_turbine</text></g></g><path class=\"foreground\" aria-hidden=\"true\" d=\"\" pointer-events=\"none\" display=\"none\"/></g><g transform=\"translate(0,13)\"><path class=\"background\" aria-hidden=\"true\" d=\"M0,0h175v11h-175Z\" pointer-events=\"none\" opacity=\"1\"/><g><g class=\"mark-symbol role-legend-symbol\" pointer-events=\"none\"><path transform=\"translate(6,6)\" d=\"M5,0A5,5,0,1,1,-5,0A5,5,0,1,1,5,0\" fill=\"#aec7e8\" stroke-width=\"1.5\" opacity=\"1\"/></g><g class=\"mark-text role-legend-label\" pointer-events=\"none\"><text text-anchor=\"start\" transform=\"translate(16,9)\" font-family=\"sans-serif\" font-size=\"10px\" fill=\"#000\" opacity=\"1\">_small_hydroelectric</text></g></g><path class=\"foreground\" aria-hidden=\"true\" d=\"\" pointer-events=\"none\" display=\"none\"/></g><g transform=\"translate(0,26)\"><path class=\"background\" aria-hidden=\"true\" d=\"M0,0h175v11h-175Z\" pointer-events=\"none\" opacity=\"1\"/><g><g class=\"mark-symbol role-legend-symbol\" pointer-events=\"none\"><path transform=\"translate(6,6)\" d=\"M5,0A5,5,0,1,1,-5,0A5,5,0,1,1,5,0\" fill=\"#ff7f0e\" stroke-width=\"1.5\" opacity=\"1\"/></g><g class=\"mark-text role-legend-label\" pointer-events=\"none\"><text text-anchor=\"start\" transform=\"translate(16,9)\" font-family=\"sans-serif\" font-size=\"10px\" fill=\"#000\" opacity=\"1\">_solar_photovoltaic</text></g></g><path class=\"foreground\" aria-hidden=\"true\" d=\"\" pointer-events=\"none\" display=\"none\"/></g><g transform=\"translate(0,39)\"><path class=\"background\" aria-hidden=\"true\" d=\"M0,0h175v11h-175Z\" pointer-events=\"none\" opacity=\"1\"/><g><g class=\"mark-symbol role-legend-symbol\" pointer-events=\"none\"><path transform=\"translate(6,6)\" d=\"M5,0A5,5,0,1,1,-5,0A5,5,0,1,1,5,0\" fill=\"#ffbb78\" stroke-width=\"1.5\" opacity=\"1\"/></g><g class=\"mark-text role-legend-label\" pointer-events=\"none\"><text text-anchor=\"start\" transform=\"translate(16,9)\" font-family=\"sans-serif\" font-size=\"10px\" fill=\"#000\" opacity=\"1\">_solar_photovoltaic_btm</text></g></g><path class=\"foreground\" aria-hidden=\"true\" d=\"\" pointer-events=\"none\" display=\"none\"/></g><g transform=\"translate(0,52)\"><path class=\"background\" aria-hidden=\"true\" d=\"M0,0h175v11h-175Z\" pointer-events=\"none\" opacity=\"1\"/><g><g class=\"mark-symbol role-legend-symbol\" pointer-events=\"none\"><path transform=\"translate(6,6)\" d=\"M5,0A5,5,0,1,1,-5,0A5,5,0,1,1,5,0\" fill=\"#2ca02c\" stroke-width=\"1.5\" opacity=\"1\"/></g><g class=\"mark-text role-legend-label\" pointer-events=\"none\"><text text-anchor=\"start\" transform=\"translate(16,9)\" font-family=\"sans-serif\" font-size=\"10px\" fill=\"#000\" opacity=\"1\">biomass</text></g></g><path class=\"foreground\" aria-hidden=\"true\" d=\"\" pointer-events=\"none\" display=\"none\"/></g><g transform=\"translate(0,65)\"><path class=\"background\" aria-hidden=\"true\" d=\"M0,0h175v11h-175Z\" pointer-events=\"none\" opacity=\"1\"/><g><g class=\"mark-symbol role-legend-symbol\" pointer-events=\"none\"><path transform=\"translate(6,6)\" d=\"M5,0A5,5,0,1,1,-5,0A5,5,0,1,1,5,0\" fill=\"#98df8a\" stroke-width=\"1.5\" opacity=\"1\"/></g><g class=\"mark-text role-legend-label\" pointer-events=\"none\"><text text-anchor=\"start\" transform=\"translate(16,9)\" font-family=\"sans-serif\" font-size=\"10px\" fill=\"#000\" opacity=\"1\">hydroelectric_pumped_storage</text></g></g><path class=\"foreground\" aria-hidden=\"true\" d=\"\" pointer-events=\"none\" display=\"none\"/></g><g transform=\"translate(0,78)\"><path class=\"background\" aria-hidden=\"true\" d=\"M0,0h175v11h-175Z\" pointer-events=\"none\" opacity=\"1\"/><g><g class=\"mark-symbol role-legend-symbol\" pointer-events=\"none\"><path transform=\"translate(6,6)\" d=\"M5,0A5,5,0,1,1,-5,0A5,5,0,1,1,5,0\" fill=\"#d62728\" stroke-width=\"1.5\" opacity=\"1\"/></g><g class=\"mark-text role-legend-label\" pointer-events=\"none\"><text text-anchor=\"start\" transform=\"translate(16,9)\" font-family=\"sans-serif\" font-size=\"10px\" fill=\"#000\" opacity=\"1\">natural_gas_fired_combined_cy…</text></g></g><path class=\"foreground\" aria-hidden=\"true\" d=\"\" pointer-events=\"none\" display=\"none\"/></g><g transform=\"translate(0,91)\"><path class=\"background\" aria-hidden=\"true\" d=\"M0,0h175v11h-175Z\" pointer-events=\"none\" opacity=\"1\"/><g><g class=\"mark-symbol role-legend-symbol\" pointer-events=\"none\"><path transform=\"translate(6,6)\" d=\"M5,0A5,5,0,1,1,-5,0A5,5,0,1,1,5,0\" fill=\"#ff9896\" stroke-width=\"1.5\" opacity=\"1\"/></g><g class=\"mark-text role-legend-label\" pointer-events=\"none\"><text text-anchor=\"start\" transform=\"translate(16,9)\" font-family=\"sans-serif\" font-size=\"10px\" fill=\"#000\" opacity=\"1\">natural_gas_fired_combustion_t…</text></g></g><path class=\"foreground\" aria-hidden=\"true\" d=\"\" pointer-events=\"none\" display=\"none\"/></g></g></g><path class=\"foreground\" aria-hidden=\"true\" d=\"\" pointer-events=\"none\" display=\"none\"/></g></g><g class=\"mark-text role-legend-title\" pointer-events=\"none\"><text text-anchor=\"start\" transform=\"translate(0,9)\" font-family=\"sans-serif\" font-size=\"11px\" font-weight=\"bold\" fill=\"#000\" opacity=\"1\">resource</text></g></g><path class=\"foreground\" aria-hidden=\"true\" d=\"\" pointer-events=\"none\" display=\"none\"/></g></g></g><path class=\"foreground\" aria-hidden=\"true\" d=\"\" display=\"none\"/></g></g></g></svg>\n"
      ],
      "text/plain": [
       "@vlplot(\n",
       "    width=600,\n",
       "    height=600,\n",
       "    mark=\"area\",\n",
       "    encoding={\n",
       "        x={\n",
       "            field=\"hour\"\n",
       "        },\n",
       "        y={\n",
       "            stack=\"zero\",\n",
       "            field=\"gen_sum\"\n",
       "        },\n",
       "        color={\n",
       "            scale={\n",
       "                scheme=\"category20\"\n",
       "            },\n",
       "            field=\"resource\",\n",
       "            type=\"nominal\"\n",
       "        }\n",
       "    },\n",
       "    data={\n",
       "        values=...\n",
       "    }\n",
       ")"
      ]
     },
     "execution_count": 26,
     "metadata": {},
     "output_type": "execute_result"
    }
   ],
   "source": [
    "# Plot stacked generation by each resource type\n",
    "g = sol_gen_btm |>\n",
    "@vlplot(:area, \n",
    "    x=:hour, y={:gen_sum, stack=:zero}, \n",
    "    color={\"resource:n\", scale={scheme=\"category20\"}},\n",
    "    width=600,height=600)"
   ]
  },
  {
   "cell_type": "code",
   "execution_count": null,
   "metadata": {},
   "outputs": [],
   "source": [
    "# Save this plot to file if you want to\n",
    "g |> FileIO.save(\"results/ED_multitime.png\")"
   ]
  },
  {
   "cell_type": "markdown",
   "metadata": {},
   "source": [
    "For reference, here is the load shape (after subtracting BTM solar) we are trying solve:"
   ]
  },
  {
   "cell_type": "code",
   "execution_count": 27,
   "metadata": {},
   "outputs": [
    {
     "data": {
      "application/vnd.vegalite.v4+json": {
       "data": {
        "values": [
         {
          "demand": 1615,
          "hour": 2401
         },
         {
          "demand": 1553,
          "hour": 2402
         },
         {
          "demand": 1518,
          "hour": 2403
         },
         {
          "demand": 1562,
          "hour": 2404
         },
         {
          "demand": 1733,
          "hour": 2405
         },
         {
          "demand": 1976,
          "hour": 2406
         },
         {
          "demand": 2274,
          "hour": 2407
         },
         {
          "demand": 2597,
          "hour": 2408
         },
         {
          "demand": 2838,
          "hour": 2409
         },
         {
          "demand": 3023,
          "hour": 2410
         },
         {
          "demand": 3125,
          "hour": 2411
         },
         {
          "demand": 2963,
          "hour": 2412
         },
         {
          "demand": 2743,
          "hour": 2413
         },
         {
          "demand": 2666,
          "hour": 2414
         },
         {
          "demand": 2578,
          "hour": 2415
         },
         {
          "demand": 2482,
          "hour": 2416
         },
         {
          "demand": 2422,
          "hour": 2417
         },
         {
          "demand": 2374,
          "hour": 2418
         },
         {
          "demand": 2378,
          "hour": 2419
         },
         {
          "demand": 2501,
          "hour": 2420
         },
         {
          "demand": 2506,
          "hour": 2421
         },
         {
          "demand": 2258,
          "hour": 2422
         },
         {
          "demand": 1988,
          "hour": 2423
         },
         {
          "demand": 1760,
          "hour": 2424
         }
        ]
       },
       "encoding": {
        "x": {
         "field": "hour",
         "type": "quantitative"
        },
        "y": {
         "field": "demand",
         "type": "quantitative"
        }
       },
       "mark": "line"
      },
      "image/png": "[encoded data removed]",
      "image/svg+xml": [
       "<?xml version=\"1.0\" encoding=\"utf-8\"?>\n",
       "<!DOCTYPE svg PUBLIC \"-//W3C//DTD SVG 1.1//EN\" \"http://www.w3.org/Graphics/SVG/1.1/DTD/svg11.dtd\">\n",
       "<svg xmlns=\"http://www.w3.org/2000/svg\" xmlns:xlink=\"http://www.w3.org/1999/xlink\" version=\"1.1\" class=\"marks\" width=\"261\" height=\"247\" viewBox=\"0 0 261 247\"><rect width=\"261\" height=\"247\" fill=\"white\"/><g fill=\"none\" stroke-miterlimit=\"10\" transform=\"translate(54,10)\"><g class=\"mark-group role-frame root\" role=\"graphics-object\" aria-roledescription=\"group mark container\"><g transform=\"translate(0,0)\"><path class=\"background\" aria-hidden=\"true\" d=\"M0.5,0.5h200v200h-200Z\" stroke=\"#ddd\"/><g><g class=\"mark-group role-axis\" aria-hidden=\"true\"><g transform=\"translate(0.5,200.5)\"><path class=\"background\" aria-hidden=\"true\" d=\"M0,0h0v0h0Z\" pointer-events=\"none\"/><g><g class=\"mark-rule role-axis-grid\" pointer-events=\"none\"><line transform=\"translate(0,-200)\" x2=\"0\" y2=\"200\" stroke=\"#ddd\" stroke-width=\"1\" opacity=\"1\"/><line transform=\"translate(42,-200)\" x2=\"0\" y2=\"200\" stroke=\"#ddd\" stroke-width=\"1\" opacity=\"1\"/><line transform=\"translate(83,-200)\" x2=\"0\" y2=\"200\" stroke=\"#ddd\" stroke-width=\"1\" opacity=\"1\"/><line transform=\"translate(125,-200)\" x2=\"0\" y2=\"200\" stroke=\"#ddd\" stroke-width=\"1\" opacity=\"1\"/><line transform=\"translate(167,-200)\" x2=\"0\" y2=\"200\" stroke=\"#ddd\" stroke-width=\"1\" opacity=\"1\"/></g></g><path class=\"foreground\" aria-hidden=\"true\" d=\"\" pointer-events=\"none\" display=\"none\"/></g></g><g class=\"mark-group role-axis\" aria-hidden=\"true\"><g transform=\"translate(0.5,0.5)\"><path class=\"background\" aria-hidden=\"true\" d=\"M0,0h0v0h0Z\" pointer-events=\"none\"/><g><g class=\"mark-rule role-axis-grid\" pointer-events=\"none\"><line transform=\"translate(0,200)\" x2=\"200\" y2=\"0\" stroke=\"#ddd\" stroke-width=\"1\" opacity=\"1\"/><line transform=\"translate(0,171)\" x2=\"200\" y2=\"0\" stroke=\"#ddd\" stroke-width=\"1\" opacity=\"1\"/><line transform=\"translate(0,143)\" x2=\"200\" y2=\"0\" stroke=\"#ddd\" stroke-width=\"1\" opacity=\"1\"/><line transform=\"translate(0,114)\" x2=\"200\" y2=\"0\" stroke=\"#ddd\" stroke-width=\"1\" opacity=\"1\"/><line transform=\"translate(0,86)\" x2=\"200\" y2=\"0\" stroke=\"#ddd\" stroke-width=\"1\" opacity=\"1\"/><line transform=\"translate(0,57)\" x2=\"200\" y2=\"0\" stroke=\"#ddd\" stroke-width=\"1\" opacity=\"1\"/><line transform=\"translate(0,29)\" x2=\"200\" y2=\"0\" stroke=\"#ddd\" stroke-width=\"1\" opacity=\"1\"/><line transform=\"translate(0,0)\" x2=\"200\" y2=\"0\" stroke=\"#ddd\" stroke-width=\"1\" opacity=\"1\"/></g></g><path class=\"foreground\" aria-hidden=\"true\" d=\"\" pointer-events=\"none\" display=\"none\"/></g></g><g class=\"mark-group role-axis\" role=\"graphics-symbol\" aria-roledescription=\"axis\" aria-label=\"X-axis titled 'hour' for a linear scale with values from 2,400 to 2,424\"><g transform=\"translate(0.5,200.5)\"><path class=\"background\" aria-hidden=\"true\" d=\"M0,0h0v0h0Z\" pointer-events=\"none\"/><g><g class=\"mark-rule role-axis-tick\" pointer-events=\"none\"><line transform=\"translate(0,0)\" x2=\"0\" y2=\"5\" stroke=\"#888\" stroke-width=\"1\" opacity=\"1\"/><line transform=\"translate(42,0)\" x2=\"0\" y2=\"5\" stroke=\"#888\" stroke-width=\"1\" opacity=\"1\"/><line transform=\"translate(83,0)\" x2=\"0\" y2=\"5\" stroke=\"#888\" stroke-width=\"1\" opacity=\"1\"/><line transform=\"translate(125,0)\" x2=\"0\" y2=\"5\" stroke=\"#888\" stroke-width=\"1\" opacity=\"1\"/><line transform=\"translate(167,0)\" x2=\"0\" y2=\"5\" stroke=\"#888\" stroke-width=\"1\" opacity=\"1\"/></g><g class=\"mark-text role-axis-label\" pointer-events=\"none\"><text text-anchor=\"start\" transform=\"translate(0,15)\" font-family=\"sans-serif\" font-size=\"10px\" fill=\"#000\" opacity=\"1\">2,400</text><text text-anchor=\"middle\" transform=\"translate(41.66666666666667,15)\" font-family=\"sans-serif\" font-size=\"10px\" fill=\"#000\" opacity=\"1\">2,405</text><text text-anchor=\"middle\" transform=\"translate(83.33333333333334,15)\" font-family=\"sans-serif\" font-size=\"10px\" fill=\"#000\" opacity=\"1\">2,410</text><text text-anchor=\"middle\" transform=\"translate(125,15)\" font-family=\"sans-serif\" font-size=\"10px\" fill=\"#000\" opacity=\"1\">2,415</text><text text-anchor=\"middle\" transform=\"translate(166.66666666666669,15)\" font-family=\"sans-serif\" font-size=\"10px\" fill=\"#000\" opacity=\"1\">2,420</text></g><g class=\"mark-rule role-axis-domain\" pointer-events=\"none\"><line transform=\"translate(0,0)\" x2=\"200\" y2=\"0\" stroke=\"#888\" stroke-width=\"1\" opacity=\"1\"/></g><g class=\"mark-text role-axis-title\" pointer-events=\"none\"><text text-anchor=\"middle\" transform=\"translate(100,30)\" font-family=\"sans-serif\" font-size=\"11px\" font-weight=\"bold\" fill=\"#000\" opacity=\"1\">hour</text></g></g><path class=\"foreground\" aria-hidden=\"true\" d=\"\" pointer-events=\"none\" display=\"none\"/></g></g><g class=\"mark-group role-axis\" role=\"graphics-symbol\" aria-roledescription=\"axis\" aria-label=\"Y-axis titled 'demand' for a linear scale with values from 0 to 3,500\"><g transform=\"translate(0.5,0.5)\"><path class=\"background\" aria-hidden=\"true\" d=\"M0,0h0v0h0Z\" pointer-events=\"none\"/><g><g class=\"mark-rule role-axis-tick\" pointer-events=\"none\"><line transform=\"translate(0,200)\" x2=\"-5\" y2=\"0\" stroke=\"#888\" stroke-width=\"1\" opacity=\"1\"/><line transform=\"translate(0,171)\" x2=\"-5\" y2=\"0\" stroke=\"#888\" stroke-width=\"1\" opacity=\"1\"/><line transform=\"translate(0,143)\" x2=\"-5\" y2=\"0\" stroke=\"#888\" stroke-width=\"1\" opacity=\"1\"/><line transform=\"translate(0,114)\" x2=\"-5\" y2=\"0\" stroke=\"#888\" stroke-width=\"1\" opacity=\"1\"/><line transform=\"translate(0,86)\" x2=\"-5\" y2=\"0\" stroke=\"#888\" stroke-width=\"1\" opacity=\"1\"/><line transform=\"translate(0,57)\" x2=\"-5\" y2=\"0\" stroke=\"#888\" stroke-width=\"1\" opacity=\"1\"/><line transform=\"translate(0,29)\" x2=\"-5\" y2=\"0\" stroke=\"#888\" stroke-width=\"1\" opacity=\"1\"/><line transform=\"translate(0,0)\" x2=\"-5\" y2=\"0\" stroke=\"#888\" stroke-width=\"1\" opacity=\"1\"/></g><g class=\"mark-text role-axis-label\" pointer-events=\"none\"><text text-anchor=\"end\" transform=\"translate(-7,203)\" font-family=\"sans-serif\" font-size=\"10px\" fill=\"#000\" opacity=\"1\">0</text><text text-anchor=\"end\" transform=\"translate(-7,174.42857142857144)\" font-family=\"sans-serif\" font-size=\"10px\" fill=\"#000\" opacity=\"1\">500</text><text text-anchor=\"end\" transform=\"translate(-7,145.85714285714286)\" font-family=\"sans-serif\" font-size=\"10px\" fill=\"#000\" opacity=\"1\">1,000</text><text text-anchor=\"end\" transform=\"translate(-7,117.28571428571428)\" font-family=\"sans-serif\" font-size=\"10px\" fill=\"#000\" opacity=\"1\">1,500</text><text text-anchor=\"end\" transform=\"translate(-7,88.71428571428572)\" font-family=\"sans-serif\" font-size=\"10px\" fill=\"#000\" opacity=\"1\">2,000</text><text text-anchor=\"end\" transform=\"translate(-7,60.14285714285714)\" font-family=\"sans-serif\" font-size=\"10px\" fill=\"#000\" opacity=\"1\">2,500</text><text text-anchor=\"end\" transform=\"translate(-7,31.57142857142858)\" font-family=\"sans-serif\" font-size=\"10px\" fill=\"#000\" opacity=\"1\">3,000</text><text text-anchor=\"end\" transform=\"translate(-7,3)\" font-family=\"sans-serif\" font-size=\"10px\" fill=\"#000\" opacity=\"1\">3,500</text></g><g class=\"mark-rule role-axis-domain\" pointer-events=\"none\"><line transform=\"translate(0,200)\" x2=\"0\" y2=\"-200\" stroke=\"#888\" stroke-width=\"1\" opacity=\"1\"/></g><g class=\"mark-text role-axis-title\" pointer-events=\"none\"><text text-anchor=\"middle\" transform=\"translate(-38,100) rotate(-90) translate(0,-2)\" font-family=\"sans-serif\" font-size=\"11px\" font-weight=\"bold\" fill=\"#000\" opacity=\"1\">demand</text></g></g><path class=\"foreground\" aria-hidden=\"true\" d=\"\" pointer-events=\"none\" display=\"none\"/></g></g><g class=\"mark-line role-mark marks\" role=\"graphics-object\" aria-roledescription=\"line mark container\"><path aria-label=\"hour: 2401; demand: 1615\" role=\"graphics-symbol\" aria-roledescription=\"line mark\" d=\"M8.333333333333332,107.71428571428572L16.666666666666664,111.25714285714285L25,113.25714285714285L33.33333333333333,110.74285714285715L41.66666666666667,100.97142857142858L50,87.08571428571427L58.333333333333336,70.05714285714286L66.66666666666666,51.6L75,37.828571428571436L83.33333333333334,27.257142857142846L91.66666666666666,21.42857142857142L100,30.685714285714294L108.33333333333333,43.25714285714286L116.66666666666667,47.657142857142865L125,52.68571428571429L133.33333333333331,58.171428571428564L141.66666666666669,61.60000000000001L150,64.34285714285714L158.33333333333331,64.11428571428573L166.66666666666669,57.085714285714296L175,56.800000000000004L183.33333333333331,70.97142857142858L191.66666666666669,86.4L200,99.42857142857142\" stroke=\"#4c78a8\" stroke-width=\"2\"/></g></g><path class=\"foreground\" aria-hidden=\"true\" d=\"\" display=\"none\"/></g></g></g></svg>\n"
      ],
      "text/plain": [
       "@vlplot(\n",
       "    mark=\"line\",\n",
       "    encoding={\n",
       "        x={\n",
       "            field=\"hour\"\n",
       "        },\n",
       "        y={\n",
       "            field=\"demand\"\n",
       "        }\n",
       "    },\n",
       "    data={\n",
       "        values=...\n",
       "    }\n",
       ")"
      ]
     },
     "execution_count": 27,
     "metadata": {},
     "output_type": "execute_result"
    }
   ],
   "source": [
    "loads_multi |>\n",
    "@vlplot(:line, \n",
    "    x=:hour, y=:demand)"
   ]
  },
  {
   "cell_type": "markdown",
   "metadata": {},
   "source": [
    "## Multiple-time period, complex generator constraints with time coupling\n",
    "\n",
    "The above problem did not include more than one time index per constraint. Hence, we could actually solve this each time period separately without regard to what is happening before or after. (These are known as \"separable\" problems.)\n",
    "\n",
    "We now introduce time coupling into the model, by considering ramp rates, which limit how much generators can change output from one period to the next (an engineering constraint).\n",
    "\n",
    "The new model:\n",
    "\n",
    "$$\n",
    "\\begin{align}\n",
    "\\min \\ & \\sum_{g \\in G, t \\in T} VarCost_g \\times GEN_{g,t} & \\\\\n",
    "\\text{s.t.} & \\\\\n",
    " & \\sum_{g} GEN_{g,t} = Demand_t & \\forall \\quad t \\in T \\\\\n",
    " & GEN_{g,t} \\leq Pmax_{g,t} & \\forall \\quad g \\in G , t \\in T \\\\\n",
    " & GEN_{g,t} \\geq Pmin_{g,t} & \\forall \\quad g \\in G , t \\in T \\\\\n",
    " & GEN_{g,t+1} - GEN_{g,t} \\leq RampUp_{g} & \\forall \\quad g \\in G , t = 1..T-1 \\\\\n",
    "  & GEN_{g,t} - GEN_{g,t+1} \\leq RampDn_{g} & \\forall \\quad g \\in G , t = 1..T-1\n",
    "\\end{align}\n",
    "$$\n",
    "\n"
   ]
  },
  {
   "cell_type": "markdown",
   "metadata": {},
   "source": [
    "### 3. Create solver function\n",
    "\n",
    "(We reuse steps 1 and 2 above to load packages and data.)\n",
    "\n",
    "First, we define a function to convert two-dimensional outputs from JuMP into easy-to-read dataframes."
   ]
  },
  {
   "cell_type": "code",
   "execution_count": 35,
   "metadata": {},
   "outputs": [
    {
     "data": {
      "text/plain": [
       "value_to_df_2dim (generic function with 1 method)"
      ]
     },
     "execution_count": 35,
     "metadata": {},
     "output_type": "execute_result"
    }
   ],
   "source": [
    "#=\n",
    "Function to convert JuMP outputs (technically, AxisArrays) with two-indexes to a dataframe\n",
    "Inputs:\n",
    "    var -- JuMP AxisArray (e.g., value.(GEN))\n",
    "Reference: https://jump.dev/JuMP.jl/v0.19/containers/\n",
    "=#\n",
    "function value_to_df_2dim(var)\n",
    "    solution = DataFrame(var.data, :auto)\n",
    "    ax1 = var.axes[1]\n",
    "    ax2 = var.axes[2]\n",
    "    cols = names(solution)\n",
    "    insertcols!(solution, 1, :r_id => ax1)\n",
    "    solution = stack(solution, Not(:r_id), variable_name=:hour)\n",
    "    solution.hour = foldl(replace, [cols[i] => ax2[i] for i in 1:length(ax2)], init=solution.hour)\n",
    "    rename!(solution, :value => :gen)\n",
    "    solution.hour = convert.(Int64,solution.hour)\n",
    "    return solution\n",
    "end"
   ]
  },
  {
   "cell_type": "code",
   "execution_count": 36,
   "metadata": {},
   "outputs": [
    {
     "data": {
      "text/plain": [
       "economic_dispatch_multi_time (generic function with 1 method)"
      ]
     },
     "execution_count": 36,
     "metadata": {},
     "output_type": "execute_result"
    }
   ],
   "source": [
    "#=\n",
    "Function to solve economic dispatch problem (multi-time period, single-zone)\n",
    "Inputs:\n",
    "    gen_df -- dataframe with generator info\n",
    "    loads  -- load by time\n",
    "    gen_variable -- capacity factors of variable generators (in \"long\" format)\n",
    "=#\n",
    "function economic_dispatch_multi_time(gen_df, loads, gen_variable)\n",
    "    ED = Model(HiGHS.Optimizer)\n",
    "\n",
    "    # Define sets based on data\n",
    "    G_var = gen_df[gen_df[!,:is_variable] .== 1,:r_id] \n",
    "    G_nonvar = gen_df[gen_df[!,:is_variable] .== 0,:r_id]\n",
    "    G = gen_df.r_id\n",
    "    T = loads.hour\n",
    "    T_red = loads.hour[1:end-1]  # time periods used for ramp constraints\n",
    "    \n",
    "    # Generator capacity factor time series for variable generators\n",
    "    gen_var_cf = innerjoin(gen_variable, \n",
    "                    gen_df[gen_df.is_variable .== 1 , \n",
    "                        [:r_id, :gen_full, :existing_cap_mw]], \n",
    "                    on = :gen_full)\n",
    "        \n",
    "    # Decision variables   \n",
    "    @variables(ED, begin\n",
    "        GEN[G, T]  >= 0     # generation\n",
    "        # Note: we assume Pmin = 0 for all resources for simplicty here\n",
    "    end)\n",
    "                \n",
    "    # Objective function\n",
    "    @objective(ED, Min, \n",
    "        sum( (gen_df[gen_df.r_id .== i,:heat_rate_mmbtu_per_mwh][1] * gen_df[gen_df.r_id .== i,:fuel_cost][1] +\n",
    "            gen_df[gen_df.r_id .== i,:var_om_cost_per_mwh][1]) * GEN[i,t] \n",
    "                        for i in G_nonvar for t in T) + \n",
    "        sum(gen_df[gen_df.r_id .== i,:var_om_cost_per_mwh][1] * GEN[i,t] \n",
    "                        for i in G_var for t in T)\n",
    "    )\n",
    "    \n",
    "    # Demand constraint\n",
    "    @constraint(ED, cDemand[t in T], \n",
    "        sum(GEN[i,t] for i in G) == loads[loads.hour .== t,:demand][1])\n",
    "\n",
    "    # Capacity constraints (non-variable generation)\n",
    "    @constraint(ED, Cap_nonvar[i in G_nonvar, t in T], \n",
    "        GEN[i,t] <= gen_df[gen_df.r_id .== i,:existing_cap_mw][1])\n",
    "\n",
    "    # Variable generation capacity constraints\n",
    "    @constraint(ED, Cap_var[i in 1:nrow(gen_var_cf)], \n",
    "            GEN[gen_var_cf[i,:r_id], gen_var_cf[i,:hour] ] <= \n",
    "                        gen_var_cf[i,:cf] *\n",
    "                        gen_var_cf[i,:existing_cap_mw])\n",
    "    \n",
    "    # Ramp up constraints\n",
    "    @constraint(ED, RampUp[i in G, t in T_red], \n",
    "        GEN[i,t+1] - GEN[i,t] <= gen_df[gen_df.r_id .== i,:existing_cap_mw][1] * \n",
    "                                 gen_df[gen_df.r_id .== i,:ramp_up_percentage][1] )\n",
    "\n",
    "    # Ramp down constraints\n",
    "    @constraint(ED, RampDn[i in G, t in T_red], \n",
    "        GEN[i,t] - GEN[i,t+1] <= gen_df[gen_df.r_id .== i,:existing_cap_mw][1] * \n",
    "                                 gen_df[gen_df.r_id .== i,:ramp_dn_percentage][1] )\n",
    "\n",
    "    \n",
    "    # Solve statement (! indicates runs in place)\n",
    "    optimize!(ED)\n",
    "\n",
    "    # Dataframe of optimal decision variables\n",
    "    solution = value_to_df_2dim(value.(GEN))\n",
    "    \n",
    "    # Dataframe of ramp up constraint marginal values \n",
    "    # (aka \"dual values\" of the ramp constraint)\n",
    "    # (to be used in solar sensitivity case)\n",
    "    marginals = value_to_df_2dim(dual.(RampUp))\n",
    "    \n",
    "    # Return the solution, objective, and marginals as named tuple\n",
    "    return (\n",
    "        solution = solution, \n",
    "        cost = objective_value(ED),\n",
    "        marginals = marginals\n",
    "    )\n",
    "\n",
    "end"
   ]
  },
  {
   "cell_type": "markdown",
   "metadata": {},
   "source": [
    "### 4. Solve a day's economic dispatch"
   ]
  },
  {
   "cell_type": "code",
   "execution_count": 37,
   "metadata": {},
   "outputs": [
    {
     "name": "stdout",
     "output_type": "stream",
     "text": [
      "Presolving model\n",
      "208 rows, 576 cols, 944 nonzeros\n",
      "112 rows, 509 cols, 685 nonzeros\n",
      "112 rows, 509 cols, 685 nonzeros\n",
      "Presolve : Reductions: rows 112(-1662); columns 509(-91); elements 685(-2815)\n",
      "Solving the presolved LP\n",
      "Using EKK dual simplex solver - serial\n",
      "  Iteration        Objective     Infeasibilities num(sum)\n",
      "          0     9.4597787940e+04 Pr: 24(50993.5) 0s\n",
      "         24     1.3740961015e+06 Pr: 0(0) 0s\n",
      "Solving the original LP from the solution after postsolve\n",
      "Model   status      : Optimal\n",
      "Simplex   iterations: 24\n",
      "Objective value     :  1.3740961015e+06\n",
      "HiGHS run time      :          0.00\n"
     ]
    },
    {
     "data": {
      "application/vnd.vegalite.v4+json": {
       "data": {
        "values": [
         {
          "gen_sum": 163.3088,
          "hour": 2401,
          "resource": "_onshore_wind_turbine"
         },
         {
          "gen_sum": 3.184932,
          "hour": 2401,
          "resource": "_small_hydroelectric"
         },
         {
          "gen_sum": 0,
          "hour": 2401,
          "resource": "_solar_photovoltaic"
         },
         {
          "gen_sum": 0,
          "hour": 2401,
          "resource": "_solar_photovoltaic_btm"
         },
         {
          "gen_sum": 21.4,
          "hour": 2401,
          "resource": "biomass"
         },
         {
          "gen_sum": 42,
          "hour": 2401,
          "resource": "hydroelectric_pumped_storage"
         },
         {
          "gen_sum": 1385.106268,
          "hour": 2401,
          "resource": "natural_gas_fired_combined_cycle"
         },
         {
          "gen_sum": 0,
          "hour": 2401,
          "resource": "natural_gas_fired_combustion_turbine"
         },
         {
          "gen_sum": 169.79327999999998,
          "hour": 2402,
          "resource": "_onshore_wind_turbine"
         },
         {
          "gen_sum": 3.184932,
          "hour": 2402,
          "resource": "_small_hydroelectric"
         },
         {
          "gen_sum": 0,
          "hour": 2402,
          "resource": "_solar_photovoltaic"
         },
         {
          "gen_sum": 0,
          "hour": 2402,
          "resource": "_solar_photovoltaic_btm"
         },
         {
          "gen_sum": 21.4,
          "hour": 2402,
          "resource": "biomass"
         },
         {
          "gen_sum": 42,
          "hour": 2402,
          "resource": "hydroelectric_pumped_storage"
         },
         {
          "gen_sum": 1316.621788,
          "hour": 2402,
          "resource": "natural_gas_fired_combined_cycle"
         },
         {
          "gen_sum": 0,
          "hour": 2402,
          "resource": "natural_gas_fired_combustion_turbine"
         },
         {
          "gen_sum": 115.1104,
          "hour": 2403,
          "resource": "_onshore_wind_turbine"
         },
         {
          "gen_sum": 3.184932,
          "hour": 2403,
          "resource": "_small_hydroelectric"
         },
         {
          "gen_sum": 0,
          "hour": 2403,
          "resource": "_solar_photovoltaic"
         },
         {
          "gen_sum": 0,
          "hour": 2403,
          "resource": "_solar_photovoltaic_btm"
         },
         {
          "gen_sum": 21.4,
          "hour": 2403,
          "resource": "biomass"
         },
         {
          "gen_sum": 42,
          "hour": 2403,
          "resource": "hydroelectric_pumped_storage"
         },
         {
          "gen_sum": 1336.304668,
          "hour": 2403,
          "resource": "natural_gas_fired_combined_cycle"
         },
         {
          "gen_sum": 0,
          "hour": 2403,
          "resource": "natural_gas_fired_combustion_turbine"
         },
         {
          "gen_sum": 100.55296,
          "hour": 2404,
          "resource": "_onshore_wind_turbine"
         },
         {
          "gen_sum": 3.184932,
          "hour": 2404,
          "resource": "_small_hydroelectric"
         },
         {
          "gen_sum": 0,
          "hour": 2404,
          "resource": "_solar_photovoltaic"
         },
         {
          "gen_sum": 0,
          "hour": 2404,
          "resource": "_solar_photovoltaic_btm"
         },
         {
          "gen_sum": 21.4,
          "hour": 2404,
          "resource": "biomass"
         },
         {
          "gen_sum": 42,
          "hour": 2404,
          "resource": "hydroelectric_pumped_storage"
         },
         {
          "gen_sum": 1394.8621079999998,
          "hour": 2404,
          "resource": "natural_gas_fired_combined_cycle"
         },
         {
          "gen_sum": 0,
          "hour": 2404,
          "resource": "natural_gas_fired_combustion_turbine"
         },
         {
          "gen_sum": 80.57728,
          "hour": 2405,
          "resource": "_onshore_wind_turbine"
         },
         {
          "gen_sum": 3.184932,
          "hour": 2405,
          "resource": "_small_hydroelectric"
         },
         {
          "gen_sum": 0,
          "hour": 2405,
          "resource": "_solar_photovoltaic"
         },
         {
          "gen_sum": 0,
          "hour": 2405,
          "resource": "_solar_photovoltaic_btm"
         },
         {
          "gen_sum": 21.4,
          "hour": 2405,
          "resource": "biomass"
         },
         {
          "gen_sum": 42,
          "hour": 2405,
          "resource": "hydroelectric_pumped_storage"
         },
         {
          "gen_sum": 1585.837788,
          "hour": 2405,
          "resource": "natural_gas_fired_combined_cycle"
         },
         {
          "gen_sum": 0,
          "hour": 2405,
          "resource": "natural_gas_fired_combustion_turbine"
         },
         {
          "gen_sum": 139.17695999999998,
          "hour": 2406,
          "resource": "_onshore_wind_turbine"
         },
         {
          "gen_sum": 3.184932,
          "hour": 2406,
          "resource": "_small_hydroelectric"
         },
         {
          "gen_sum": 0,
          "hour": 2406,
          "resource": "_solar_photovoltaic"
         },
         {
          "gen_sum": 0,
          "hour": 2406,
          "resource": "_solar_photovoltaic_btm"
         },
         {
          "gen_sum": 21.4,
          "hour": 2406,
          "resource": "biomass"
         },
         {
          "gen_sum": 42,
          "hour": 2406,
          "resource": "hydroelectric_pumped_storage"
         },
         {
          "gen_sum": 1770.238108,
          "hour": 2406,
          "resource": "natural_gas_fired_combined_cycle"
         },
         {
          "gen_sum": 0,
          "hour": 2406,
          "resource": "natural_gas_fired_combustion_turbine"
         },
         {
          "gen_sum": 74.17984,
          "hour": 2407,
          "resource": "_onshore_wind_turbine"
         },
         {
          "gen_sum": 3.184932,
          "hour": 2407,
          "resource": "_small_hydroelectric"
         },
         {
          "gen_sum": 27.650000000000002,
          "hour": 2407,
          "resource": "_solar_photovoltaic"
         },
         {
          "gen_sum": 33.18,
          "hour": 2407,
          "resource": "_solar_photovoltaic_btm"
         },
         {
          "gen_sum": 21.4,
          "hour": 2407,
          "resource": "biomass"
         },
         {
          "gen_sum": 42,
          "hour": 2407,
          "resource": "hydroelectric_pumped_storage"
         },
         {
          "gen_sum": 1928.5,
          "hour": 2407,
          "resource": "natural_gas_fired_combined_cycle"
         },
         {
          "gen_sum": 177.08522799999992,
          "hour": 2407,
          "resource": "natural_gas_fired_combustion_turbine"
         },
         {
          "gen_sum": 49.373439999999995,
          "hour": 2408,
          "resource": "_onshore_wind_turbine"
         },
         {
          "gen_sum": 3.184932,
          "hour": 2408,
          "resource": "_small_hydroelectric"
         },
         {
          "gen_sum": 110.55,
          "hour": 2408,
          "resource": "_solar_photovoltaic"
         },
         {
          "gen_sum": 132.66,
          "hour": 2408,
          "resource": "_solar_photovoltaic_btm"
         },
         {
          "gen_sum": 21.4,
          "hour": 2408,
          "resource": "biomass"
         },
         {
          "gen_sum": 42,
          "hour": 2408,
          "resource": "hydroelectric_pumped_storage"
         },
         {
          "gen_sum": 1928.5,
          "hour": 2408,
          "resource": "natural_gas_fired_combined_cycle"
         },
         {
          "gen_sum": 441.9916279999999,
          "hour": 2408,
          "resource": "natural_gas_fired_combustion_turbine"
         },
         {
          "gen_sum": 167.35616,
          "hour": 2409,
          "resource": "_onshore_wind_turbine"
         },
         {
          "gen_sum": 3.184932,
          "hour": 2409,
          "resource": "_small_hydroelectric"
         },
         {
          "gen_sum": 238.8,
          "hour": 2409,
          "resource": "_solar_photovoltaic"
         },
         {
          "gen_sum": 286.56,
          "hour": 2409,
          "resource": "_solar_photovoltaic_btm"
         },
         {
          "gen_sum": 21.4,
          "hour": 2409,
          "resource": "biomass"
         },
         {
          "gen_sum": 42,
          "hour": 2409,
          "resource": "hydroelectric_pumped_storage"
         },
         {
          "gen_sum": 1928.5,
          "hour": 2409,
          "resource": "natural_gas_fired_combined_cycle"
         },
         {
          "gen_sum": 436.7589079999999,
          "hour": 2409,
          "resource": "natural_gas_fired_combustion_turbine"
         },
         {
          "gen_sum": 131.56096,
          "hour": 2410,
          "resource": "_onshore_wind_turbine"
         },
         {
          "gen_sum": 3.184932,
          "hour": 2410,
          "resource": "_small_hydroelectric"
         },
         {
          "gen_sum": 287.85,
          "hour": 2410,
          "resource": "_solar_photovoltaic"
         },
         {
          "gen_sum": 345.42,
          "hour": 2410,
          "resource": "_solar_photovoltaic_btm"
         },
         {
          "gen_sum": 21.4,
          "hour": 2410,
          "resource": "biomass"
         },
         {
          "gen_sum": 42,
          "hour": 2410,
          "resource": "hydroelectric_pumped_storage"
         },
         {
          "gen_sum": 1928.5,
          "hour": 2410,
          "resource": "natural_gas_fired_combined_cycle"
         },
         {
          "gen_sum": 608.5041079999996,
          "hour": 2410,
          "resource": "natural_gas_fired_combustion_turbine"
         },
         {
          "gen_sum": 111.1936,
          "hour": 2411,
          "resource": "_onshore_wind_turbine"
         },
         {
          "gen_sum": 3.184932,
          "hour": 2411,
          "resource": "_small_hydroelectric"
         },
         {
          "gen_sum": 301.95,
          "hour": 2411,
          "resource": "_solar_photovoltaic"
         },
         {
          "gen_sum": 362.34,
          "hour": 2411,
          "resource": "_solar_photovoltaic_btm"
         },
         {
          "gen_sum": 21.4,
          "hour": 2411,
          "resource": "biomass"
         },
         {
          "gen_sum": 42,
          "hour": 2411,
          "resource": "hydroelectric_pumped_storage"
         },
         {
          "gen_sum": 1928.5,
          "hour": 2411,
          "resource": "natural_gas_fired_combined_cycle"
         },
         {
          "gen_sum": 716.7714679999999,
          "hour": 2411,
          "resource": "natural_gas_fired_combustion_turbine"
         },
         {
          "gen_sum": 92.11008,
          "hour": 2412,
          "resource": "_onshore_wind_turbine"
         },
         {
          "gen_sum": 3.184932,
          "hour": 2412,
          "resource": "_small_hydroelectric"
         },
         {
          "gen_sum": 306.95,
          "hour": 2412,
          "resource": "_solar_photovoltaic"
         },
         {
          "gen_sum": 368.34,
          "hour": 2412,
          "resource": "_solar_photovoltaic_btm"
         },
         {
          "gen_sum": 21.4,
          "hour": 2412,
          "resource": "biomass"
         },
         {
          "gen_sum": 42,
          "hour": 2412,
          "resource": "hydroelectric_pumped_storage"
         },
         {
          "gen_sum": 1928.5,
          "hour": 2412,
          "resource": "natural_gas_fired_combined_cycle"
         },
         {
          "gen_sum": 568.8549879999997,
          "hour": 2412,
          "resource": "natural_gas_fired_combustion_turbine"
         },
         {
          "gen_sum": 52.09344,
          "hour": 2413,
          "resource": "_onshore_wind_turbine"
         },
         {
          "gen_sum": 3.184932,
          "hour": 2413,
          "resource": "_small_hydroelectric"
         },
         {
          "gen_sum": 322.29999999999995,
          "hour": 2413,
          "resource": "_solar_photovoltaic"
         },
         {
          "gen_sum": 386.76,
          "hour": 2413,
          "resource": "_solar_photovoltaic_btm"
         },
         {
          "gen_sum": 21.4,
          "hour": 2413,
          "resource": "biomass"
         },
         {
          "gen_sum": 42,
          "hour": 2413,
          "resource": "hydroelectric_pumped_storage"
         },
         {
          "gen_sum": 1928.5,
          "hour": 2413,
          "resource": "natural_gas_fired_combined_cycle"
         },
         {
          "gen_sum": 373.5216279999999,
          "hour": 2413,
          "resource": "natural_gas_fired_combustion_turbine"
         },
         {
          "gen_sum": 64.69248,
          "hour": 2414,
          "resource": "_onshore_wind_turbine"
         },
         {
          "gen_sum": 3.184932,
          "hour": 2414,
          "resource": "_small_hydroelectric"
         },
         {
          "gen_sum": 322.75,
          "hour": 2414,
          "resource": "_solar_photovoltaic"
         },
         {
          "gen_sum": 387.29999999999995,
          "hour": 2414,
          "resource": "_solar_photovoltaic_btm"
         },
         {
          "gen_sum": 21.4,
          "hour": 2414,
          "resource": "biomass"
         },
         {
          "gen_sum": 42,
          "hour": 2414,
          "resource": "hydroelectric_pumped_storage"
         },
         {
          "gen_sum": 1928.5,
          "hour": 2414,
          "resource": "natural_gas_fired_combined_cycle"
         },
         {
          "gen_sum": 283.4725879999999,
          "hour": 2414,
          "resource": "natural_gas_fired_combustion_turbine"
         },
         {
          "gen_sum": 49.22112,
          "hour": 2415,
          "resource": "_onshore_wind_turbine"
         },
         {
          "gen_sum": 3.184932,
          "hour": 2415,
          "resource": "_small_hydroelectric"
         },
         {
          "gen_sum": 312.05,
          "hour": 2415,
          "resource": "_solar_photovoltaic"
         },
         {
          "gen_sum": 374.46,
          "hour": 2415,
          "resource": "_solar_photovoltaic_btm"
         },
         {
          "gen_sum": 21.4,
          "hour": 2415,
          "resource": "biomass"
         },
         {
          "gen_sum": 42,
          "hour": 2415,
          "resource": "hydroelectric_pumped_storage"
         },
         {
          "gen_sum": 1928.5,
          "hour": 2415,
          "resource": "natural_gas_fired_combined_cycle"
         },
         {
          "gen_sum": 221.6439479999999,
          "hour": 2415,
          "resource": "natural_gas_fired_combustion_turbine"
         },
         {
          "gen_sum": 65.41055999999999,
          "hour": 2416,
          "resource": "_onshore_wind_turbine"
         },
         {
          "gen_sum": 3.184932,
          "hour": 2416,
          "resource": "_small_hydroelectric"
         },
         {
          "gen_sum": 284.75,
          "hour": 2416,
          "resource": "_solar_photovoltaic"
         },
         {
          "gen_sum": 341.7,
          "hour": 2416,
          "resource": "_solar_photovoltaic_btm"
         },
         {
          "gen_sum": 21.4,
          "hour": 2416,
          "resource": "biomass"
         },
         {
          "gen_sum": 42,
          "hour": 2416,
          "resource": "hydroelectric_pumped_storage"
         },
         {
          "gen_sum": 1928.5,
          "hour": 2416,
          "resource": "natural_gas_fired_combined_cycle"
         },
         {
          "gen_sum": 136.75450799999993,
          "hour": 2416,
          "resource": "natural_gas_fired_combustion_turbine"
         },
         {
          "gen_sum": 57.18527999999999,
          "hour": 2417,
          "resource": "_onshore_wind_turbine"
         },
         {
          "gen_sum": 3.184932,
          "hour": 2417,
          "resource": "_small_hydroelectric"
         },
         {
          "gen_sum": 233.9,
          "hour": 2417,
          "resource": "_solar_photovoltaic"
         },
         {
          "gen_sum": 280.68,
          "hour": 2417,
          "resource": "_solar_photovoltaic_btm"
         },
         {
          "gen_sum": 21.4,
          "hour": 2417,
          "resource": "biomass"
         },
         {
          "gen_sum": 42,
          "hour": 2417,
          "resource": "hydroelectric_pumped_storage"
         },
         {
          "gen_sum": 1928.5,
          "hour": 2417,
          "resource": "natural_gas_fired_combined_cycle"
         },
         {
          "gen_sum": 135.82978799999992,
          "hour": 2417,
          "resource": "natural_gas_fired_combustion_turbine"
         },
         {
          "gen_sum": 78.61888,
          "hour": 2418,
          "resource": "_onshore_wind_turbine"
         },
         {
          "gen_sum": 3.184932,
          "hour": 2418,
          "resource": "_small_hydroelectric"
         },
         {
          "gen_sum": 161.8,
          "hour": 2418,
          "resource": "_solar_photovoltaic"
         },
         {
          "gen_sum": 194.16,
          "hour": 2418,
          "resource": "_solar_photovoltaic_btm"
         },
         {
          "gen_sum": 21.4,
          "hour": 2418,
          "resource": "biomass"
         },
         {
          "gen_sum": 42,
          "hour": 2418,
          "resource": "hydroelectric_pumped_storage"
         },
         {
          "gen_sum": 1928.5,
          "hour": 2418,
          "resource": "natural_gas_fired_combined_cycle"
         },
         {
          "gen_sum": 138.4961879999999,
          "hour": 2418,
          "resource": "natural_gas_fired_combustion_turbine"
         },
         {
          "gen_sum": 52.61568,
          "hour": 2419,
          "resource": "_onshore_wind_turbine"
         },
         {
          "gen_sum": 3.184932,
          "hour": 2419,
          "resource": "_small_hydroelectric"
         },
         {
          "gen_sum": 23.85,
          "hour": 2419,
          "resource": "_solar_photovoltaic"
         },
         {
          "gen_sum": 28.62,
          "hour": 2419,
          "resource": "_solar_photovoltaic_btm"
         },
         {
          "gen_sum": 21.4,
          "hour": 2419,
          "resource": "biomass"
         },
         {
          "gen_sum": 42,
          "hour": 2419,
          "resource": "hydroelectric_pumped_storage"
         },
         {
          "gen_sum": 1928.5,
          "hour": 2419,
          "resource": "natural_gas_fired_combined_cycle"
         },
         {
          "gen_sum": 306.4493879999999,
          "hour": 2419,
          "resource": "natural_gas_fired_combustion_turbine"
         },
         {
          "gen_sum": 61.42848,
          "hour": 2420,
          "resource": "_onshore_wind_turbine"
         },
         {
          "gen_sum": 3.184932,
          "hour": 2420,
          "resource": "_small_hydroelectric"
         },
         {
          "gen_sum": 0,
          "hour": 2420,
          "resource": "_solar_photovoltaic"
         },
         {
          "gen_sum": 0,
          "hour": 2420,
          "resource": "_solar_photovoltaic_btm"
         },
         {
          "gen_sum": 21.4,
          "hour": 2420,
          "resource": "biomass"
         },
         {
          "gen_sum": 42,
          "hour": 2420,
          "resource": "hydroelectric_pumped_storage"
         },
         {
          "gen_sum": 1928.5,
          "hour": 2420,
          "resource": "natural_gas_fired_combined_cycle"
         },
         {
          "gen_sum": 444.48658799999987,
          "hour": 2420,
          "resource": "natural_gas_fired_combustion_turbine"
         },
         {
          "gen_sum": 71.9168,
          "hour": 2421,
          "resource": "_onshore_wind_turbine"
         },
         {
          "gen_sum": 3.184932,
          "hour": 2421,
          "resource": "_small_hydroelectric"
         },
         {
          "gen_sum": 0,
          "hour": 2421,
          "resource": "_solar_photovoltaic"
         },
         {
          "gen_sum": 0,
          "hour": 2421,
          "resource": "_solar_photovoltaic_btm"
         },
         {
          "gen_sum": 21.4,
          "hour": 2421,
          "resource": "biomass"
         },
         {
          "gen_sum": 42,
          "hour": 2421,
          "resource": "hydroelectric_pumped_storage"
         },
         {
          "gen_sum": 1928.5,
          "hour": 2421,
          "resource": "natural_gas_fired_combined_cycle"
         },
         {
          "gen_sum": 438.99826799999994,
          "hour": 2421,
          "resource": "natural_gas_fired_combustion_turbine"
         },
         {
          "gen_sum": 96.04864,
          "hour": 2422,
          "resource": "_onshore_wind_turbine"
         },
         {
          "gen_sum": 3.184932,
          "hour": 2422,
          "resource": "_small_hydroelectric"
         },
         {
          "gen_sum": 0,
          "hour": 2422,
          "resource": "_solar_photovoltaic"
         },
         {
          "gen_sum": 0,
          "hour": 2422,
          "resource": "_solar_photovoltaic_btm"
         },
         {
          "gen_sum": 21.4,
          "hour": 2422,
          "resource": "biomass"
         },
         {
          "gen_sum": 42,
          "hour": 2422,
          "resource": "hydroelectric_pumped_storage"
         },
         {
          "gen_sum": 1928.5,
          "hour": 2422,
          "resource": "natural_gas_fired_combined_cycle"
         },
         {
          "gen_sum": 166.8664279999999,
          "hour": 2422,
          "resource": "natural_gas_fired_combustion_turbine"
         },
         {
          "gen_sum": 126.46912,
          "hour": 2423,
          "resource": "_onshore_wind_turbine"
         },
         {
          "gen_sum": 3.184932,
          "hour": 2423,
          "resource": "_small_hydroelectric"
         },
         {
          "gen_sum": 0,
          "hour": 2423,
          "resource": "_solar_photovoltaic"
         },
         {
          "gen_sum": 0,
          "hour": 2423,
          "resource": "_solar_photovoltaic_btm"
         },
         {
          "gen_sum": 21.4,
          "hour": 2423,
          "resource": "biomass"
         },
         {
          "gen_sum": 42,
          "hour": 2423,
          "resource": "hydroelectric_pumped_storage"
         },
         {
          "gen_sum": 1794.9459479999998,
          "hour": 2423,
          "resource": "natural_gas_fired_combined_cycle"
         },
         {
          "gen_sum": 0,
          "hour": 2423,
          "resource": "natural_gas_fired_combustion_turbine"
         },
         {
          "gen_sum": 144.42111999999997,
          "hour": 2424,
          "resource": "_onshore_wind_turbine"
         },
         {
          "gen_sum": 3.184932,
          "hour": 2424,
          "resource": "_small_hydroelectric"
         },
         {
          "gen_sum": 0,
          "hour": 2424,
          "resource": "_solar_photovoltaic"
         },
         {
          "gen_sum": 0,
          "hour": 2424,
          "resource": "_solar_photovoltaic_btm"
         },
         {
          "gen_sum": 21.4,
          "hour": 2424,
          "resource": "biomass"
         },
         {
          "gen_sum": 42,
          "hour": 2424,
          "resource": "hydroelectric_pumped_storage"
         },
         {
          "gen_sum": 1548.993948,
          "hour": 2424,
          "resource": "natural_gas_fired_combined_cycle"
         },
         {
          "gen_sum": 0,
          "hour": 2424,
          "resource": "natural_gas_fired_combustion_turbine"
         }
        ]
       },
       "encoding": {
        "color": {
         "field": "resource",
         "scale": {
          "scheme": "category20"
         },
         "type": "nominal"
        },
        "x": {
         "field": "hour",
         "type": "quantitative"
        },
        "y": {
         "field": "gen_sum",
         "stack": "zero",
         "type": "quantitative"
        }
       },
       "height": 600,
       "mark": "area",
       "width": 600
      },
      "image/png": "[encoded data removed]",
      "image/svg+xml": [
       "<?xml version=\"1.0\" encoding=\"utf-8\"?>\n",
       "<!DOCTYPE svg PUBLIC \"-//W3C//DTD SVG 1.1//EN\" \"http://www.w3.org/Graphics/SVG/1.1/DTD/svg11.dtd\">\n",
       "<svg xmlns=\"http://www.w3.org/2000/svg\" xmlns:xlink=\"http://www.w3.org/1999/xlink\" version=\"1.1\" class=\"marks\" width=\"852\" height=\"642\" viewBox=\"0 0 852 642\"><rect width=\"852\" height=\"642\" fill=\"white\"/><g fill=\"none\" stroke-miterlimit=\"10\" transform=\"translate(54,5)\"><g class=\"mark-group role-frame root\" role=\"graphics-object\" aria-roledescription=\"group mark container\"><g transform=\"translate(0,0)\"><path class=\"background\" aria-hidden=\"true\" d=\"M0.5,0.5h600v600h-600Z\" stroke=\"#ddd\"/><g><g class=\"mark-group role-axis\" aria-hidden=\"true\"><g transform=\"translate(0.5,600.5)\"><path class=\"background\" aria-hidden=\"true\" d=\"M0,0h0v0h0Z\" pointer-events=\"none\"/><g><g class=\"mark-rule role-axis-grid\" pointer-events=\"none\"><line transform=\"translate(0,-600)\" x2=\"0\" y2=\"600\" stroke=\"#ddd\" stroke-width=\"1\" opacity=\"1\"/><line transform=\"translate(50,-600)\" x2=\"0\" y2=\"600\" stroke=\"#ddd\" stroke-width=\"1\" opacity=\"1\"/><line transform=\"translate(100,-600)\" x2=\"0\" y2=\"600\" stroke=\"#ddd\" stroke-width=\"1\" opacity=\"1\"/><line transform=\"translate(150,-600)\" x2=\"0\" y2=\"600\" stroke=\"#ddd\" stroke-width=\"1\" opacity=\"1\"/><line transform=\"translate(200,-600)\" x2=\"0\" y2=\"600\" stroke=\"#ddd\" stroke-width=\"1\" opacity=\"1\"/><line transform=\"translate(250,-600)\" x2=\"0\" y2=\"600\" stroke=\"#ddd\" stroke-width=\"1\" opacity=\"1\"/><line transform=\"translate(300,-600)\" x2=\"0\" y2=\"600\" stroke=\"#ddd\" stroke-width=\"1\" opacity=\"1\"/><line transform=\"translate(350,-600)\" x2=\"0\" y2=\"600\" stroke=\"#ddd\" stroke-width=\"1\" opacity=\"1\"/><line transform=\"translate(400,-600)\" x2=\"0\" y2=\"600\" stroke=\"#ddd\" stroke-width=\"1\" opacity=\"1\"/><line transform=\"translate(450,-600)\" x2=\"0\" y2=\"600\" stroke=\"#ddd\" stroke-width=\"1\" opacity=\"1\"/><line transform=\"translate(500,-600)\" x2=\"0\" y2=\"600\" stroke=\"#ddd\" stroke-width=\"1\" opacity=\"1\"/><line transform=\"translate(550,-600)\" x2=\"0\" y2=\"600\" stroke=\"#ddd\" stroke-width=\"1\" opacity=\"1\"/><line transform=\"translate(600,-600)\" x2=\"0\" y2=\"600\" stroke=\"#ddd\" stroke-width=\"1\" opacity=\"1\"/></g></g><path class=\"foreground\" aria-hidden=\"true\" d=\"\" pointer-events=\"none\" display=\"none\"/></g></g><g class=\"mark-group role-axis\" aria-hidden=\"true\"><g transform=\"translate(0.5,0.5)\"><path class=\"background\" aria-hidden=\"true\" d=\"M0,0h0v0h0Z\" pointer-events=\"none\"/><g><g class=\"mark-rule role-axis-grid\" pointer-events=\"none\"><line transform=\"translate(0,600)\" x2=\"600\" y2=\"0\" stroke=\"#ddd\" stroke-width=\"1\" opacity=\"1\"/><line transform=\"translate(0,566)\" x2=\"600\" y2=\"0\" stroke=\"#ddd\" stroke-width=\"1\" opacity=\"1\"/><line transform=\"translate(0,531)\" x2=\"600\" y2=\"0\" stroke=\"#ddd\" stroke-width=\"1\" opacity=\"1\"/><line transform=\"translate(0,497)\" x2=\"600\" y2=\"0\" stroke=\"#ddd\" stroke-width=\"1\" opacity=\"1\"/><line transform=\"translate(0,463)\" x2=\"600\" y2=\"0\" stroke=\"#ddd\" stroke-width=\"1\" opacity=\"1\"/><line transform=\"translate(0,429)\" x2=\"600\" y2=\"0\" stroke=\"#ddd\" stroke-width=\"1\" opacity=\"1\"/><line transform=\"translate(0,394)\" x2=\"600\" y2=\"0\" stroke=\"#ddd\" stroke-width=\"1\" opacity=\"1\"/><line transform=\"translate(0,360)\" x2=\"600\" y2=\"0\" stroke=\"#ddd\" stroke-width=\"1\" opacity=\"1\"/><line transform=\"translate(0,326)\" x2=\"600\" y2=\"0\" stroke=\"#ddd\" stroke-width=\"1\" opacity=\"1\"/><line transform=\"translate(0,291)\" x2=\"600\" y2=\"0\" stroke=\"#ddd\" stroke-width=\"1\" opacity=\"1\"/><line transform=\"translate(0,257)\" x2=\"600\" y2=\"0\" stroke=\"#ddd\" stroke-width=\"1\" opacity=\"1\"/><line transform=\"translate(0,223)\" x2=\"600\" y2=\"0\" stroke=\"#ddd\" stroke-width=\"1\" opacity=\"1\"/><line transform=\"translate(0,189)\" x2=\"600\" y2=\"0\" stroke=\"#ddd\" stroke-width=\"1\" opacity=\"1\"/><line transform=\"translate(0,154)\" x2=\"600\" y2=\"0\" stroke=\"#ddd\" stroke-width=\"1\" opacity=\"1\"/><line transform=\"translate(0,120)\" x2=\"600\" y2=\"0\" stroke=\"#ddd\" stroke-width=\"1\" opacity=\"1\"/><line transform=\"translate(0,86)\" x2=\"600\" y2=\"0\" stroke=\"#ddd\" stroke-width=\"1\" opacity=\"1\"/><line transform=\"translate(0,51)\" x2=\"600\" y2=\"0\" stroke=\"#ddd\" stroke-width=\"1\" opacity=\"1\"/><line transform=\"translate(0,17)\" x2=\"600\" y2=\"0\" stroke=\"#ddd\" stroke-width=\"1\" opacity=\"1\"/></g></g><path class=\"foreground\" aria-hidden=\"true\" d=\"\" pointer-events=\"none\" display=\"none\"/></g></g><g class=\"mark-group role-axis\" role=\"graphics-symbol\" aria-roledescription=\"axis\" aria-label=\"X-axis titled 'hour' for a linear scale with values from 2,400 to 2,424\"><g transform=\"translate(0.5,600.5)\"><path class=\"background\" aria-hidden=\"true\" d=\"M0,0h0v0h0Z\" pointer-events=\"none\"/><g><g class=\"mark-rule role-axis-tick\" pointer-events=\"none\"><line transform=\"translate(0,0)\" x2=\"0\" y2=\"5\" stroke=\"#888\" stroke-width=\"1\" opacity=\"1\"/><line transform=\"translate(50,0)\" x2=\"0\" y2=\"5\" stroke=\"#888\" stroke-width=\"1\" opacity=\"1\"/><line transform=\"translate(100,0)\" x2=\"0\" y2=\"5\" stroke=\"#888\" stroke-width=\"1\" opacity=\"1\"/><line transform=\"translate(150,0)\" x2=\"0\" y2=\"5\" stroke=\"#888\" stroke-width=\"1\" opacity=\"1\"/><line transform=\"translate(200,0)\" x2=\"0\" y2=\"5\" stroke=\"#888\" stroke-width=\"1\" opacity=\"1\"/><line transform=\"translate(250,0)\" x2=\"0\" y2=\"5\" stroke=\"#888\" stroke-width=\"1\" opacity=\"1\"/><line transform=\"translate(300,0)\" x2=\"0\" y2=\"5\" stroke=\"#888\" stroke-width=\"1\" opacity=\"1\"/><line transform=\"translate(350,0)\" x2=\"0\" y2=\"5\" stroke=\"#888\" stroke-width=\"1\" opacity=\"1\"/><line transform=\"translate(400,0)\" x2=\"0\" y2=\"5\" stroke=\"#888\" stroke-width=\"1\" opacity=\"1\"/><line transform=\"translate(450,0)\" x2=\"0\" y2=\"5\" stroke=\"#888\" stroke-width=\"1\" opacity=\"1\"/><line transform=\"translate(500,0)\" x2=\"0\" y2=\"5\" stroke=\"#888\" stroke-width=\"1\" opacity=\"1\"/><line transform=\"translate(550,0)\" x2=\"0\" y2=\"5\" stroke=\"#888\" stroke-width=\"1\" opacity=\"1\"/><line transform=\"translate(600,0)\" x2=\"0\" y2=\"5\" stroke=\"#888\" stroke-width=\"1\" opacity=\"1\"/></g><g class=\"mark-text role-axis-label\" pointer-events=\"none\"><text text-anchor=\"start\" transform=\"translate(0,15)\" font-family=\"sans-serif\" font-size=\"10px\" fill=\"#000\" opacity=\"1\">2,400</text><text text-anchor=\"middle\" transform=\"translate(50,15)\" font-family=\"sans-serif\" font-size=\"10px\" fill=\"#000\" opacity=\"1\">2,402</text><text text-anchor=\"middle\" transform=\"translate(100,15)\" font-family=\"sans-serif\" font-size=\"10px\" fill=\"#000\" opacity=\"1\">2,404</text><text text-anchor=\"middle\" transform=\"translate(150,15)\" font-family=\"sans-serif\" font-size=\"10px\" fill=\"#000\" opacity=\"1\">2,406</text><text text-anchor=\"middle\" transform=\"translate(200,15)\" font-family=\"sans-serif\" font-size=\"10px\" fill=\"#000\" opacity=\"1\">2,408</text><text text-anchor=\"middle\" transform=\"translate(250,15)\" font-family=\"sans-serif\" font-size=\"10px\" fill=\"#000\" opacity=\"1\">2,410</text><text text-anchor=\"middle\" transform=\"translate(300,15)\" font-family=\"sans-serif\" font-size=\"10px\" fill=\"#000\" opacity=\"1\">2,412</text><text text-anchor=\"middle\" transform=\"translate(350,15)\" font-family=\"sans-serif\" font-size=\"10px\" fill=\"#000\" opacity=\"1\">2,414</text><text text-anchor=\"middle\" transform=\"translate(400,15)\" font-family=\"sans-serif\" font-size=\"10px\" fill=\"#000\" opacity=\"1\">2,416</text><text text-anchor=\"middle\" transform=\"translate(450,15)\" font-family=\"sans-serif\" font-size=\"10px\" fill=\"#000\" opacity=\"1\">2,418</text><text text-anchor=\"middle\" transform=\"translate(500,15)\" font-family=\"sans-serif\" font-size=\"10px\" fill=\"#000\" opacity=\"1\">2,420</text><text text-anchor=\"middle\" transform=\"translate(550,15)\" font-family=\"sans-serif\" font-size=\"10px\" fill=\"#000\" opacity=\"1\">2,422</text><text text-anchor=\"end\" transform=\"translate(600,15)\" font-family=\"sans-serif\" font-size=\"10px\" fill=\"#000\" opacity=\"1\">2,424</text></g><g class=\"mark-rule role-axis-domain\" pointer-events=\"none\"><line transform=\"translate(0,0)\" x2=\"600\" y2=\"0\" stroke=\"#888\" stroke-width=\"1\" opacity=\"1\"/></g><g class=\"mark-text role-axis-title\" pointer-events=\"none\"><text text-anchor=\"middle\" transform=\"translate(300,30)\" font-family=\"sans-serif\" font-size=\"11px\" font-weight=\"bold\" fill=\"#000\" opacity=\"1\">hour</text></g></g><path class=\"foreground\" aria-hidden=\"true\" d=\"\" pointer-events=\"none\" display=\"none\"/></g></g><g class=\"mark-group role-axis\" role=\"graphics-symbol\" aria-roledescription=\"axis\" aria-label=\"Y-axis titled 'gen_sum' for a linear scale with values from 0 to 3,500\"><g transform=\"translate(0.5,0.5)\"><path class=\"background\" aria-hidden=\"true\" d=\"M0,0h0v0h0Z\" pointer-events=\"none\"/><g><g class=\"mark-rule role-axis-tick\" pointer-events=\"none\"><line transform=\"translate(0,600)\" x2=\"-5\" y2=\"0\" stroke=\"#888\" stroke-width=\"1\" opacity=\"1\"/><line transform=\"translate(0,566)\" x2=\"-5\" y2=\"0\" stroke=\"#888\" stroke-width=\"1\" opacity=\"1\"/><line transform=\"translate(0,531)\" x2=\"-5\" y2=\"0\" stroke=\"#888\" stroke-width=\"1\" opacity=\"1\"/><line transform=\"translate(0,497)\" x2=\"-5\" y2=\"0\" stroke=\"#888\" stroke-width=\"1\" opacity=\"1\"/><line transform=\"translate(0,463)\" x2=\"-5\" y2=\"0\" stroke=\"#888\" stroke-width=\"1\" opacity=\"1\"/><line transform=\"translate(0,429)\" x2=\"-5\" y2=\"0\" stroke=\"#888\" stroke-width=\"1\" opacity=\"1\"/><line transform=\"translate(0,394)\" x2=\"-5\" y2=\"0\" stroke=\"#888\" stroke-width=\"1\" opacity=\"1\"/><line transform=\"translate(0,360)\" x2=\"-5\" y2=\"0\" stroke=\"#888\" stroke-width=\"1\" opacity=\"1\"/><line transform=\"translate(0,326)\" x2=\"-5\" y2=\"0\" stroke=\"#888\" stroke-width=\"1\" opacity=\"1\"/><line transform=\"translate(0,291)\" x2=\"-5\" y2=\"0\" stroke=\"#888\" stroke-width=\"1\" opacity=\"1\"/><line transform=\"translate(0,257)\" x2=\"-5\" y2=\"0\" stroke=\"#888\" stroke-width=\"1\" opacity=\"1\"/><line transform=\"translate(0,223)\" x2=\"-5\" y2=\"0\" stroke=\"#888\" stroke-width=\"1\" opacity=\"1\"/><line transform=\"translate(0,189)\" x2=\"-5\" y2=\"0\" stroke=\"#888\" stroke-width=\"1\" opacity=\"1\"/><line transform=\"translate(0,154)\" x2=\"-5\" y2=\"0\" stroke=\"#888\" stroke-width=\"1\" opacity=\"1\"/><line transform=\"translate(0,120)\" x2=\"-5\" y2=\"0\" stroke=\"#888\" stroke-width=\"1\" opacity=\"1\"/><line transform=\"translate(0,86)\" x2=\"-5\" y2=\"0\" stroke=\"#888\" stroke-width=\"1\" opacity=\"1\"/><line transform=\"translate(0,51)\" x2=\"-5\" y2=\"0\" stroke=\"#888\" stroke-width=\"1\" opacity=\"1\"/><line transform=\"translate(0,17)\" x2=\"-5\" y2=\"0\" stroke=\"#888\" stroke-width=\"1\" opacity=\"1\"/></g><g class=\"mark-text role-axis-label\" pointer-events=\"none\"><text text-anchor=\"end\" transform=\"translate(-7,603)\" font-family=\"sans-serif\" font-size=\"10px\" fill=\"#000\" opacity=\"1\">0</text><text text-anchor=\"end\" transform=\"translate(-7,568.7142857142857)\" font-family=\"sans-serif\" font-size=\"10px\" fill=\"#000\" opacity=\"1\">200</text><text text-anchor=\"end\" transform=\"translate(-7,534.4285714285714)\" font-family=\"sans-serif\" font-size=\"10px\" fill=\"#000\" opacity=\"1\">400</text><text text-anchor=\"end\" transform=\"translate(-7,500.1428571428571)\" font-family=\"sans-serif\" font-size=\"10px\" fill=\"#000\" opacity=\"1\">600</text><text text-anchor=\"end\" transform=\"translate(-7,465.8571428571429)\" font-family=\"sans-serif\" font-size=\"10px\" fill=\"#000\" opacity=\"1\">800</text><text text-anchor=\"end\" transform=\"translate(-7,431.57142857142856)\" font-family=\"sans-serif\" font-size=\"10px\" fill=\"#000\" opacity=\"1\">1,000</text><text text-anchor=\"end\" transform=\"translate(-7,397.2857142857143)\" font-family=\"sans-serif\" font-size=\"10px\" fill=\"#000\" opacity=\"1\">1,200</text><text text-anchor=\"end\" transform=\"translate(-7,363)\" font-family=\"sans-serif\" font-size=\"10px\" fill=\"#000\" opacity=\"1\">1,400</text><text text-anchor=\"end\" transform=\"translate(-7,328.7142857142858)\" font-family=\"sans-serif\" font-size=\"10px\" fill=\"#000\" opacity=\"1\">1,600</text><text text-anchor=\"end\" transform=\"translate(-7,294.42857142857144)\" font-family=\"sans-serif\" font-size=\"10px\" fill=\"#000\" opacity=\"1\">1,800</text><text text-anchor=\"end\" transform=\"translate(-7,260.14285714285717)\" font-family=\"sans-serif\" font-size=\"10px\" fill=\"#000\" opacity=\"1\">2,000</text><text text-anchor=\"end\" transform=\"translate(-7,225.85714285714286)\" font-family=\"sans-serif\" font-size=\"10px\" fill=\"#000\" opacity=\"1\">2,200</text><text text-anchor=\"end\" transform=\"translate(-7,191.57142857142856)\" font-family=\"sans-serif\" font-size=\"10px\" fill=\"#000\" opacity=\"1\">2,400</text><text text-anchor=\"end\" transform=\"translate(-7,157.28571428571428)\" font-family=\"sans-serif\" font-size=\"10px\" fill=\"#000\" opacity=\"1\">2,600</text><text text-anchor=\"end\" transform=\"translate(-7,122.99999999999997)\" font-family=\"sans-serif\" font-size=\"10px\" fill=\"#000\" opacity=\"1\">2,800</text><text text-anchor=\"end\" transform=\"translate(-7,88.71428571428574)\" font-family=\"sans-serif\" font-size=\"10px\" fill=\"#000\" opacity=\"1\">3,000</text><text text-anchor=\"end\" transform=\"translate(-7,54.428571428571445)\" font-family=\"sans-serif\" font-size=\"10px\" fill=\"#000\" opacity=\"1\">3,200</text><text text-anchor=\"end\" transform=\"translate(-7,20.14285714285715)\" font-family=\"sans-serif\" font-size=\"10px\" fill=\"#000\" opacity=\"1\">3,400</text></g><g class=\"mark-rule role-axis-domain\" pointer-events=\"none\"><line transform=\"translate(0,600)\" x2=\"0\" y2=\"-600\" stroke=\"#888\" stroke-width=\"1\" opacity=\"1\"/></g><g class=\"mark-text role-axis-title\" pointer-events=\"none\"><text text-anchor=\"middle\" transform=\"translate(-38,300) rotate(-90) translate(0,-2)\" font-family=\"sans-serif\" font-size=\"11px\" font-weight=\"bold\" fill=\"#000\" opacity=\"1\">gen_sum</text></g></g><path class=\"foreground\" aria-hidden=\"true\" d=\"\" pointer-events=\"none\" display=\"none\"/></g></g><g class=\"mark-group role-scope pathgroup\" role=\"graphics-object\" aria-roledescription=\"group mark container\"><g transform=\"translate(0,0)\"><path class=\"background\" aria-hidden=\"true\" d=\"M0,0h600v600h-600Z\"/><g><g class=\"mark-area role-mark marks\" role=\"graphics-object\" aria-roledescription=\"area mark container\"><path aria-label=\"hour: 2401; gen_sum: 163.3088; resource: _onshore_wind_turbine\" role=\"graphics-symbol\" aria-roledescription=\"area mark\" d=\"M25,323.14285714285717L50,333.77142857142854L75,339.77142857142854L100,332.2285714285715L125,302.9142857142857L150,261.2571428571428L175,204.48342857142862L200,132.05828571428572L225,64.3611428571429L250,22.55657142857148L275,2.170285714285658L300,28.91314285714288L325,63.469714285714176L350,76.57714285714272L375,93.86399999999995L400,115.93714285714292L425,136.6834285714285L450,159.74399999999994L475,187.43657142857145L500,171.2571428571429L525,170.4L550,212.9142857142857L575,259.20000000000005L600,298.2857142857143L600,323.0436205714285L575,280.8804205714286L550,229.37976685714284L525,182.72859428571428L500,181.78773942857146L475,196.45640228571426L450,173.22152228571426L425,146.4866194285714L400,127.1503817142857L375,102.30190628571421L350,87.6672822857142L325,72.40001828571417L300,44.703442285714345L275,21.232045714285697L250,45.10987885714288L225,93.0507702857143L200,140.52230400000002L175,217.1999725714286L150,285.11605028571427L125,316.7275337142857L100,349.4662217142858L75,359.50464L50,362.878848L25,351.13865142857145Z\" fill=\"#1f77b4\"/></g></g><path class=\"foreground\" aria-hidden=\"true\" d=\"\" display=\"none\"/></g><g transform=\"translate(0,0)\"><path class=\"background\" aria-hidden=\"true\" d=\"M0,0h600v600h-600Z\"/><g><g class=\"mark-area role-mark marks\" role=\"graphics-object\" aria-roledescription=\"area mark container\"><path aria-label=\"hour: 2401; gen_sum: 3.184932; resource: _small_hydroelectric\" role=\"graphics-symbol\" aria-roledescription=\"area mark\" d=\"M25,351.13865142857145L50,362.878848L75,359.50464L100,349.4662217142858L125,316.7275337142857L150,285.11605028571427L175,217.1999725714286L200,140.52230400000002L225,93.0507702857143L250,45.10987885714288L275,21.232045714285697L300,44.703442285714345L325,72.40001828571417L350,87.6672822857142L375,102.30190628571421L400,127.1503817142857L425,146.4866194285714L450,173.22152228571426L475,196.45640228571426L500,181.78773942857146L525,182.72859428571428L550,229.37976685714284L575,280.8804205714286L600,323.0436205714285L600,323.58960891428563L575,281.42640891428573L550,229.92575520000003L525,183.2745826285714L500,182.33372777142858L475,197.00239062857145L450,173.7675106285714L425,147.0326077714286L400,127.6963700571429L375,102.8478946285714L350,88.21327062857138L325,72.94600662857135L300,45.249430628571474L275,21.778034057142893L250,45.655867200000074L225,93.59675862857142L200,141.06829234285715L175,217.74596091428572L150,285.6620386285714L125,317.2735220571428L100,350.0122100571429L75,360.0506283428571L50,363.42483634285713L25,351.6846397714286Z\" fill=\"#aec7e8\"/></g></g><path class=\"foreground\" aria-hidden=\"true\" d=\"\" display=\"none\"/></g><g transform=\"translate(0,0)\"><path class=\"background\" aria-hidden=\"true\" d=\"M0,0h600v600h-600Z\"/><g><g class=\"mark-area role-mark marks\" role=\"graphics-object\" aria-roledescription=\"area mark container\"><path aria-label=\"hour: 2401; gen_sum: 0; resource: _solar_photovoltaic\" role=\"graphics-symbol\" aria-roledescription=\"area mark\" d=\"M25,351.6846397714286L50,363.42483634285713L75,360.0506283428571L100,350.0122100571429L125,317.2735220571428L150,285.6620386285714L175,217.74596091428572L200,141.06829234285715L225,93.59675862857142L250,45.655867200000074L275,21.778034057142893L300,45.249430628571474L325,72.94600662857135L350,88.21327062857138L375,102.8478946285714L400,127.6963700571429L425,147.0326077714286L450,173.7675106285714L475,197.00239062857145L500,182.33372777142858L525,183.2745826285714L550,229.92575520000003L575,281.42640891428573L600,323.58960891428563L600,323.58960891428563L575,281.42640891428573L550,229.92575520000003L525,183.2745826285714L500,182.33372777142858L475,201.09096205714286L450,201.5046534857143L425,187.12975062857146L400,176.51065577142856L375,156.34218034285715L350,143.5418420571428L325,128.19743519999994L300,97.86943062857148L275,73.54089119999996L250,95.00158148571431L225,134.53390148571432L200,160.01972091428576L175,222.48596091428573L150,285.6620386285714L125,317.2735220571428L100,350.0122100571429L75,360.0506283428571L50,363.42483634285713L25,351.6846397714286Z\" fill=\"#ff7f0e\"/></g></g><path class=\"foreground\" aria-hidden=\"true\" d=\"\" display=\"none\"/></g><g transform=\"translate(0,0)\"><path class=\"background\" aria-hidden=\"true\" d=\"M0,0h600v600h-600Z\"/><g><g class=\"mark-area role-mark marks\" role=\"graphics-object\" aria-roledescription=\"area mark container\"><path aria-label=\"hour: 2401; gen_sum: 0; resource: _solar_photovoltaic_btm\" role=\"graphics-symbol\" aria-roledescription=\"area mark\" d=\"M25,351.6846397714286L50,363.42483634285713L75,360.0506283428571L100,350.0122100571429L125,317.2735220571428L150,285.6620386285714L175,222.48596091428573L200,160.01972091428576L225,134.53390148571432L250,95.00158148571431L275,73.54089119999996L300,97.86943062857148L325,128.19743519999994L350,143.5418420571428L375,156.34218034285715L400,176.51065577142856L425,187.12975062857146L450,201.5046534857143L475,201.09096205714286L500,182.33372777142858L525,183.2745826285714L550,229.92575520000003L575,281.42640891428573L600,323.58960891428563L600,323.58960891428563L575,281.42640891428573L550,229.92575520000003L525,183.2745826285714L500,182.33372777142858L475,205.9972477714286L450,234.7892249142857L425,235.24632205714286L400,235.08779862857142L375,220.53532320000002L350,209.93612777142854L325,194.4991494857143L300,161.01343062857148L275,135.65631977142857L250,154.2164386285715L225,183.65847291428574L200,182.76143520000002L175,228.17396091428574L150,285.6620386285714L125,317.2735220571428L100,350.0122100571429L75,360.0506283428571L50,363.42483634285713L25,351.6846397714286Z\" fill=\"#ffbb78\"/></g></g><path class=\"foreground\" aria-hidden=\"true\" d=\"\" display=\"none\"/></g><g transform=\"translate(0,0)\"><path class=\"background\" aria-hidden=\"true\" d=\"M0,0h600v600h-600Z\"/><g><g class=\"mark-area role-mark marks\" role=\"graphics-object\" aria-roledescription=\"area mark container\"><path aria-label=\"hour: 2401; gen_sum: 21.4; resource: biomass\" role=\"graphics-symbol\" aria-roledescription=\"area mark\" d=\"M25,351.6846397714286L50,363.42483634285713L75,360.0506283428571L100,350.0122100571429L125,317.2735220571428L150,285.6620386285714L175,228.17396091428574L200,182.76143520000002L225,183.65847291428574L250,154.2164386285715L275,135.65631977142857L300,161.01343062857148L325,194.4991494857143L350,209.93612777142854L375,220.53532320000002L400,235.08779862857142L425,235.24632205714286L450,234.7892249142857L475,205.9972477714286L500,182.33372777142858L525,183.2745826285714L550,229.92575520000003L575,281.42640891428573L600,323.58960891428563L600,327.2581803428571L575,285.0949803428572L550,233.59432662857148L525,186.94315405714286L500,186.0022992L475,209.66581920000002L450,238.45779634285716L425,238.91489348571432L400,238.75637005714285L375,224.20389462857148L350,213.60469919999997L325,198.16772091428575L300,164.6820020571429L275,139.3248912L250,157.88501005714295L225,187.3270443428572L200,186.43000662857148L175,231.8425323428572L150,289.33061005714285L125,320.9420934857143L100,353.68078148571436L75,363.7191997714286L50,367.0934077714286L25,355.35321120000003Z\" fill=\"#2ca02c\"/></g></g><path class=\"foreground\" aria-hidden=\"true\" d=\"\" display=\"none\"/></g><g transform=\"translate(0,0)\"><path class=\"background\" aria-hidden=\"true\" d=\"M0,0h600v600h-600Z\"/><g><g class=\"mark-area role-mark marks\" role=\"graphics-object\" aria-roledescription=\"area mark container\"><path aria-label=\"hour: 2401; gen_sum: 42; resource: hydroelectric_pumped_storage\" role=\"graphics-symbol\" aria-roledescription=\"area mark\" d=\"M25,355.35321120000003L50,367.0934077714286L75,363.7191997714286L100,353.68078148571436L125,320.9420934857143L150,289.33061005714285L175,231.8425323428572L200,186.43000662857148L225,187.3270443428572L250,157.88501005714295L275,139.3248912L300,164.6820020571429L325,198.16772091428575L350,213.60469919999997L375,224.20389462857148L400,238.75637005714285L425,238.91489348571432L450,238.45779634285716L475,209.66581920000002L500,186.0022992L525,186.94315405714286L550,233.59432662857148L575,285.0949803428572L600,327.2581803428571L600,334.4581803428571L575,292.2949803428572L550,240.79432662857147L525,194.14315405714285L500,193.20229920000003L475,216.86581920000003L450,245.65779634285715L425,246.1148934857143L400,245.95637005714286L375,231.40389462857146L350,220.8046992L325,205.36772091428574L300,171.88200205714293L275,146.5248912L250,165.08501005714288L225,194.52704434285718L200,193.6300066285715L175,239.04253234285713L150,296.53061005714284L125,328.14209348571427L100,360.88078148571435L75,370.91919977142857L50,374.2934077714286L25,362.5532112Z\" fill=\"#98df8a\"/></g></g><path class=\"foreground\" aria-hidden=\"true\" d=\"\" display=\"none\"/></g><g transform=\"translate(0,0)\"><path class=\"background\" aria-hidden=\"true\" d=\"M0,0h600v600h-600Z\"/><g><g class=\"mark-area role-mark marks\" role=\"graphics-object\" aria-roledescription=\"area mark container\"><path aria-label=\"hour: 2401; gen_sum: 1385.106268; resource: natural_gas_fired_combined_cycle\" role=\"graphics-symbol\" aria-roledescription=\"area mark\" d=\"M25,362.5532112L50,374.2934077714286L75,370.91919977142857L100,360.88078148571435L125,328.14209348571427L150,296.53061005714284L175,239.04253234285713L200,193.6300066285715L225,194.52704434285718L250,165.08501005714288L275,146.5248912L300,171.88200205714293L325,205.36772091428574L350,220.8046992L375,231.40389462857146L400,245.95637005714286L425,246.1148934857143L450,245.65779634285715L475,216.86581920000003L500,193.20229920000003L525,194.14315405714285L550,240.79432662857147L575,292.2949803428572L600,334.4581803428571L600,600L575,600L550,571.3943266285714L525,524.7431540571429L500,523.8022992L475,547.4658191999999L450,576.2577963428572L425,576.7148934857142L400,576.5563700571429L375,562.0038946285714L350,551.4046992L325,535.9677209142857L300,502.4820020571429L275,477.12489120000004L250,495.6850100571429L225,525.1270443428572L200,524.2300066285715L175,569.6425323428572L150,600L125,600L100,600L75,600L50,600L25,600Z\" fill=\"#d62728\"/></g></g><path class=\"foreground\" aria-hidden=\"true\" d=\"\" display=\"none\"/></g><g transform=\"translate(0,0)\"><path class=\"background\" aria-hidden=\"true\" d=\"M0,0h600v600h-600Z\"/><g><g class=\"mark-area role-mark marks\" role=\"graphics-object\" aria-roledescription=\"area mark container\"><path aria-label=\"hour: 2401; gen_sum: 0; resource: natural_gas_fired_combustion_turbine\" role=\"graphics-symbol\" aria-roledescription=\"area mark\" d=\"M25,600L50,600L75,600L100,600L125,600L150,600L175,569.6425323428572L200,524.2300066285715L225,525.1270443428572L250,495.6850100571429L275,477.12489120000004L300,502.4820020571429L325,535.9677209142857L350,551.4046992L375,562.0038946285714L400,576.5563700571429L425,576.7148934857142L450,576.2577963428572L475,547.4658191999999L500,523.8022992L525,524.7431540571429L550,571.3943266285714L575,600L600,600L600,600L575,600L550,600L525,600L500,600L475,600L450,600L425,600L400,600L375,600L350,600L325,600L300,600L275,600L250,600L225,600L200,600L175,600L150,600L125,600L100,600L75,600L50,600L25,600Z\" fill=\"#ff9896\"/></g></g><path class=\"foreground\" aria-hidden=\"true\" d=\"\" display=\"none\"/></g></g><g class=\"mark-group role-legend\" role=\"graphics-symbol\" aria-roledescription=\"legend\" aria-label=\"Symbol legend titled 'resource' for fill color with 8 values: _onshore_wind_turbine, _small_hydroelectric, _solar_photovoltaic, _solar_photovoltaic_btm, biomass, ending with natural_gas_fired_combustion_turbine\"><g transform=\"translate(618,0)\"><path class=\"background\" aria-hidden=\"true\" d=\"M0,0h175v118h-175Z\" pointer-events=\"none\"/><g><g class=\"mark-group role-legend-entry\"><g transform=\"translate(0,16)\"><path class=\"background\" aria-hidden=\"true\" d=\"M0,0h0v0h0Z\" pointer-events=\"none\"/><g><g class=\"mark-group role-scope\" role=\"graphics-object\" aria-roledescription=\"group mark container\"><g transform=\"translate(0,0)\"><path class=\"background\" aria-hidden=\"true\" d=\"M0,0h175v11h-175Z\" pointer-events=\"none\" opacity=\"1\"/><g><g class=\"mark-symbol role-legend-symbol\" pointer-events=\"none\"><path transform=\"translate(6,6)\" d=\"M5,0A5,5,0,1,1,-5,0A5,5,0,1,1,5,0\" fill=\"#1f77b4\" stroke-width=\"1.5\" opacity=\"1\"/></g><g class=\"mark-text role-legend-label\" pointer-events=\"none\"><text text-anchor=\"start\" transform=\"translate(16,9)\" font-family=\"sans-serif\" font-size=\"10px\" fill=\"#000\" opacity=\"1\">_onshore_wind_turbine</text></g></g><path class=\"foreground\" aria-hidden=\"true\" d=\"\" pointer-events=\"none\" display=\"none\"/></g><g transform=\"translate(0,13)\"><path class=\"background\" aria-hidden=\"true\" d=\"M0,0h175v11h-175Z\" pointer-events=\"none\" opacity=\"1\"/><g><g class=\"mark-symbol role-legend-symbol\" pointer-events=\"none\"><path transform=\"translate(6,6)\" d=\"M5,0A5,5,0,1,1,-5,0A5,5,0,1,1,5,0\" fill=\"#aec7e8\" stroke-width=\"1.5\" opacity=\"1\"/></g><g class=\"mark-text role-legend-label\" pointer-events=\"none\"><text text-anchor=\"start\" transform=\"translate(16,9)\" font-family=\"sans-serif\" font-size=\"10px\" fill=\"#000\" opacity=\"1\">_small_hydroelectric</text></g></g><path class=\"foreground\" aria-hidden=\"true\" d=\"\" pointer-events=\"none\" display=\"none\"/></g><g transform=\"translate(0,26)\"><path class=\"background\" aria-hidden=\"true\" d=\"M0,0h175v11h-175Z\" pointer-events=\"none\" opacity=\"1\"/><g><g class=\"mark-symbol role-legend-symbol\" pointer-events=\"none\"><path transform=\"translate(6,6)\" d=\"M5,0A5,5,0,1,1,-5,0A5,5,0,1,1,5,0\" fill=\"#ff7f0e\" stroke-width=\"1.5\" opacity=\"1\"/></g><g class=\"mark-text role-legend-label\" pointer-events=\"none\"><text text-anchor=\"start\" transform=\"translate(16,9)\" font-family=\"sans-serif\" font-size=\"10px\" fill=\"#000\" opacity=\"1\">_solar_photovoltaic</text></g></g><path class=\"foreground\" aria-hidden=\"true\" d=\"\" pointer-events=\"none\" display=\"none\"/></g><g transform=\"translate(0,39)\"><path class=\"background\" aria-hidden=\"true\" d=\"M0,0h175v11h-175Z\" pointer-events=\"none\" opacity=\"1\"/><g><g class=\"mark-symbol role-legend-symbol\" pointer-events=\"none\"><path transform=\"translate(6,6)\" d=\"M5,0A5,5,0,1,1,-5,0A5,5,0,1,1,5,0\" fill=\"#ffbb78\" stroke-width=\"1.5\" opacity=\"1\"/></g><g class=\"mark-text role-legend-label\" pointer-events=\"none\"><text text-anchor=\"start\" transform=\"translate(16,9)\" font-family=\"sans-serif\" font-size=\"10px\" fill=\"#000\" opacity=\"1\">_solar_photovoltaic_btm</text></g></g><path class=\"foreground\" aria-hidden=\"true\" d=\"\" pointer-events=\"none\" display=\"none\"/></g><g transform=\"translate(0,52)\"><path class=\"background\" aria-hidden=\"true\" d=\"M0,0h175v11h-175Z\" pointer-events=\"none\" opacity=\"1\"/><g><g class=\"mark-symbol role-legend-symbol\" pointer-events=\"none\"><path transform=\"translate(6,6)\" d=\"M5,0A5,5,0,1,1,-5,0A5,5,0,1,1,5,0\" fill=\"#2ca02c\" stroke-width=\"1.5\" opacity=\"1\"/></g><g class=\"mark-text role-legend-label\" pointer-events=\"none\"><text text-anchor=\"start\" transform=\"translate(16,9)\" font-family=\"sans-serif\" font-size=\"10px\" fill=\"#000\" opacity=\"1\">biomass</text></g></g><path class=\"foreground\" aria-hidden=\"true\" d=\"\" pointer-events=\"none\" display=\"none\"/></g><g transform=\"translate(0,65)\"><path class=\"background\" aria-hidden=\"true\" d=\"M0,0h175v11h-175Z\" pointer-events=\"none\" opacity=\"1\"/><g><g class=\"mark-symbol role-legend-symbol\" pointer-events=\"none\"><path transform=\"translate(6,6)\" d=\"M5,0A5,5,0,1,1,-5,0A5,5,0,1,1,5,0\" fill=\"#98df8a\" stroke-width=\"1.5\" opacity=\"1\"/></g><g class=\"mark-text role-legend-label\" pointer-events=\"none\"><text text-anchor=\"start\" transform=\"translate(16,9)\" font-family=\"sans-serif\" font-size=\"10px\" fill=\"#000\" opacity=\"1\">hydroelectric_pumped_storage</text></g></g><path class=\"foreground\" aria-hidden=\"true\" d=\"\" pointer-events=\"none\" display=\"none\"/></g><g transform=\"translate(0,78)\"><path class=\"background\" aria-hidden=\"true\" d=\"M0,0h175v11h-175Z\" pointer-events=\"none\" opacity=\"1\"/><g><g class=\"mark-symbol role-legend-symbol\" pointer-events=\"none\"><path transform=\"translate(6,6)\" d=\"M5,0A5,5,0,1,1,-5,0A5,5,0,1,1,5,0\" fill=\"#d62728\" stroke-width=\"1.5\" opacity=\"1\"/></g><g class=\"mark-text role-legend-label\" pointer-events=\"none\"><text text-anchor=\"start\" transform=\"translate(16,9)\" font-family=\"sans-serif\" font-size=\"10px\" fill=\"#000\" opacity=\"1\">natural_gas_fired_combined_cy…</text></g></g><path class=\"foreground\" aria-hidden=\"true\" d=\"\" pointer-events=\"none\" display=\"none\"/></g><g transform=\"translate(0,91)\"><path class=\"background\" aria-hidden=\"true\" d=\"M0,0h175v11h-175Z\" pointer-events=\"none\" opacity=\"1\"/><g><g class=\"mark-symbol role-legend-symbol\" pointer-events=\"none\"><path transform=\"translate(6,6)\" d=\"M5,0A5,5,0,1,1,-5,0A5,5,0,1,1,5,0\" fill=\"#ff9896\" stroke-width=\"1.5\" opacity=\"1\"/></g><g class=\"mark-text role-legend-label\" pointer-events=\"none\"><text text-anchor=\"start\" transform=\"translate(16,9)\" font-family=\"sans-serif\" font-size=\"10px\" fill=\"#000\" opacity=\"1\">natural_gas_fired_combustion_t…</text></g></g><path class=\"foreground\" aria-hidden=\"true\" d=\"\" pointer-events=\"none\" display=\"none\"/></g></g></g><path class=\"foreground\" aria-hidden=\"true\" d=\"\" pointer-events=\"none\" display=\"none\"/></g></g><g class=\"mark-text role-legend-title\" pointer-events=\"none\"><text text-anchor=\"start\" transform=\"translate(0,9)\" font-family=\"sans-serif\" font-size=\"11px\" font-weight=\"bold\" fill=\"#000\" opacity=\"1\">resource</text></g></g><path class=\"foreground\" aria-hidden=\"true\" d=\"\" pointer-events=\"none\" display=\"none\"/></g></g></g><path class=\"foreground\" aria-hidden=\"true\" d=\"\" display=\"none\"/></g></g></g></svg>\n"
      ],
      "text/plain": [
       "@vlplot(\n",
       "    width=600,\n",
       "    height=600,\n",
       "    mark=\"area\",\n",
       "    encoding={\n",
       "        x={\n",
       "            field=\"hour\"\n",
       "        },\n",
       "        y={\n",
       "            stack=\"zero\",\n",
       "            field=\"gen_sum\"\n",
       "        },\n",
       "        color={\n",
       "            scale={\n",
       "                scheme=\"category20\"\n",
       "            },\n",
       "            field=\"resource\",\n",
       "            type=\"nominal\"\n",
       "        }\n",
       "    },\n",
       "    data={\n",
       "        values=...\n",
       "    }\n",
       ")"
      ]
     },
     "execution_count": 37,
     "metadata": {},
     "output_type": "execute_result"
    }
   ],
   "source": [
    "solution = economic_dispatch_multi_time(gen_df, loads_multi, gen_variable_multi);\n",
    "\n",
    "sol_gen = innerjoin(solution.solution, \n",
    "                    gen_df[!, [:r_id, :resource]], \n",
    "                    on = :r_id)\n",
    "sol_gen = combine(groupby(sol_gen, [:resource, :hour]), \n",
    "            :gen => sum)\n",
    "sol_gen_btm = sol_gen\n",
    "sol_gen_btm[sol_gen_btm.resource .== \"solar_photovoltaic\", :resource] .= \"_solar_photovoltaic\"\n",
    "sol_gen_btm[sol_gen_btm.resource .== \"onshore_wind_turbine\", :resource] .= \"_onshore_wind_turbine\"\n",
    "sol_gen_btm[sol_gen_btm.resource .== \"small_hydroelectric\", :resource] .= \"_small_hydroelectric\"\n",
    "\n",
    "btm = DataFrame(resource = repeat([\"_solar_photovoltaic_btm\"]; outer=length(T_period)), \n",
    "    hour = T_period,\n",
    "    gen_sum = gen_variable_multi[gen_variable_multi.gen_full .== \"wec_sdge_solar_photovoltaic_1.0\",:cf] * 600)\n",
    "append!(sol_gen_btm, btm)\n",
    "\n",
    "# Reorder resources\n",
    "sort!(sol_gen_btm, [:hour, :resource])\n",
    "\n",
    "sol_gen_btm |>\n",
    "@vlplot(:area, \n",
    "    x=:hour, y={:gen_sum, stack=:zero}, \n",
    "    color={\"resource:n\", scale={scheme=\"category20\"}},\n",
    "    width=600,height=600)"
   ]
  },
  {
   "cell_type": "code",
   "execution_count": 31,
   "metadata": {},
   "outputs": [
    {
     "name": "stdout",
     "output_type": "stream",
     "text": [
      "All errors:\n",
      "===========================================\n",
      "ArgumentError: Package ImageIO [82e4d734-157c-48bb-816b-45c225c6df19] is required but does not seem to be installed:\n",
      " - Run `Pkg.instantiate()` to install all recorded dependencies.\n",
      "\n",
      "===========================================\n",
      "ArgumentError: Package QuartzImageIO [dca85d43-d64c-5e67-8c65-017450d5d020] is required but does not seem to be installed:\n",
      " - Run `Pkg.instantiate()` to install all recorded dependencies.\n",
      "\n",
      "===========================================\n",
      "ArgumentError: Package ImageMagick [6218d12a-5da1-5696-b52f-db25d2ecc6d1] is required but does not seem to be installed:\n",
      " - Run `Pkg.instantiate()` to install all recorded dependencies.\n",
      "\n",
      "===========================================\n",
      "ArgumentError: Argument does not support conversion to png.\n",
      "===========================================\n"
     ]
    },
    {
     "name": "stderr",
     "output_type": "stream",
     "text": [
      "Errors encountered while save File{DataFormat{:PNG}, String}(\"results/ED_moderate.png\").\n",
      "\n",
      "Fatal error:\n"
     ]
    },
    {
     "ename": "LoadError",
     "evalue": "ArgumentError: Package ImageIO [82e4d734-157c-48bb-816b-45c225c6df19] is required but does not seem to be installed:\n - Run `Pkg.instantiate()` to install all recorded dependencies.\n\nStacktrace:\n  [1] \u001b[0m\u001b[1m_require\u001b[22m\u001b[0m\u001b[1m(\u001b[22m\u001b[90mpkg\u001b[39m::\u001b[0mBase.PkgId\u001b[0m\u001b[1m)\u001b[22m\n\u001b[90m    @ \u001b[39m\u001b[90mBase\u001b[39m \u001b[90m./\u001b[39m\u001b[90m\u001b[4mloading.jl:1306\u001b[24m\u001b[39m\n  [2] \u001b[0m\u001b[1m_require_prelocked\u001b[22m\u001b[0m\u001b[1m(\u001b[22m\u001b[90muuidkey\u001b[39m::\u001b[0mBase.PkgId\u001b[0m\u001b[1m)\u001b[22m\n\u001b[90m    @ \u001b[39m\u001b[90mBase\u001b[39m \u001b[90m./\u001b[39m\u001b[90m\u001b[4mloading.jl:1200\u001b[24m\u001b[39m\n  [3] \u001b[0m\u001b[1mmacro expansion\u001b[22m\n\u001b[90m    @ \u001b[39m\u001b[90m./\u001b[39m\u001b[90m\u001b[4mlock.jl:223\u001b[24m\u001b[39m\u001b[90m [inlined]\u001b[39m\n  [4] \u001b[0m\u001b[1mrequire\u001b[22m\u001b[0m\u001b[1m(\u001b[22m\u001b[90muuidkey\u001b[39m::\u001b[0mBase.PkgId\u001b[0m\u001b[1m)\u001b[22m\n\u001b[90m    @ \u001b[39m\u001b[90mBase\u001b[39m \u001b[90m./\u001b[39m\u001b[90m\u001b[4mloading.jl:1195\u001b[24m\u001b[39m\n  [5] \u001b[0m\u001b[1m#34\u001b[22m\n\u001b[90m    @ \u001b[39m\u001b[90m~/.julia/packages/FileIO/DtNtF/src/\u001b[39m\u001b[90m\u001b[4mloadsave.jl:203\u001b[24m\u001b[39m\u001b[90m [inlined]\u001b[39m\n  [6] \u001b[0m\u001b[1mlock\u001b[22m\u001b[0m\u001b[1m(\u001b[22m\u001b[90mf\u001b[39m::\u001b[0mFileIO.var\"#34#35\"\u001b[90m{Base.PkgId}\u001b[39m, \u001b[90ml\u001b[39m::\u001b[0mReentrantLock\u001b[0m\u001b[1m)\u001b[22m\n\u001b[90m    @ \u001b[39m\u001b[90mBase\u001b[39m \u001b[90m./\u001b[39m\u001b[90m\u001b[4mlock.jl:185\u001b[24m\u001b[39m\n  [7] \u001b[0m\u001b[1maction\u001b[22m\u001b[0m\u001b[1m(\u001b[22m\u001b[90mcall\u001b[39m::\u001b[0mSymbol, \u001b[90mlibraries\u001b[39m::\u001b[0mVector\u001b[90m{Union{Base.PkgId, Module}}\u001b[39m, \u001b[90mfile\u001b[39m::\u001b[0mFileIO.Formatted, \u001b[90margs\u001b[39m::\u001b[0mDataFrame; \u001b[90moptions\u001b[39m::\u001b[0mBase.Pairs\u001b[90m{Symbol, Union{}, Tuple{}, NamedTuple{(), Tuple{}}}\u001b[39m\u001b[0m\u001b[1m)\u001b[22m\n\u001b[90m    @ \u001b[39m\u001b[35mFileIO\u001b[39m \u001b[90m~/.julia/packages/FileIO/DtNtF/src/\u001b[39m\u001b[90m\u001b[4mloadsave.jl:203\u001b[24m\u001b[39m\n  [8] \u001b[0m\u001b[1maction\u001b[22m\n\u001b[90m    @ \u001b[39m\u001b[90m~/.julia/packages/FileIO/DtNtF/src/\u001b[39m\u001b[90m\u001b[4mloadsave.jl:196\u001b[24m\u001b[39m\u001b[90m [inlined]\u001b[39m\n  [9] \u001b[0m\u001b[1maction\u001b[22m\u001b[0m\u001b[1m(\u001b[22m\u001b[90mcall\u001b[39m::\u001b[0mSymbol, \u001b[90mlibraries\u001b[39m::\u001b[0mVector\u001b[90m{Union{Base.PkgId, Module}}\u001b[39m, \u001b[90msym\u001b[39m::\u001b[0mSymbol, \u001b[90mfile\u001b[39m::\u001b[0mString, \u001b[90margs\u001b[39m::\u001b[0mDataFrame; \u001b[90moptions\u001b[39m::\u001b[0mBase.Pairs\u001b[90m{Symbol, Union{}, Tuple{}, NamedTuple{(), Tuple{}}}\u001b[39m\u001b[0m\u001b[1m)\u001b[22m\n\u001b[90m    @ \u001b[39m\u001b[35mFileIO\u001b[39m \u001b[90m~/.julia/packages/FileIO/DtNtF/src/\u001b[39m\u001b[90m\u001b[4mloadsave.jl:185\u001b[24m\u001b[39m\n [10] \u001b[0m\u001b[1maction\u001b[22m\n\u001b[90m    @ \u001b[39m\u001b[90m~/.julia/packages/FileIO/DtNtF/src/\u001b[39m\u001b[90m\u001b[4mloadsave.jl:185\u001b[24m\u001b[39m\u001b[90m [inlined]\u001b[39m\n [11] \u001b[0m\u001b[1m#27\u001b[22m\n\u001b[90m    @ \u001b[39m\u001b[90m~/.julia/packages/FileIO/DtNtF/src/\u001b[39m\u001b[90m\u001b[4mloadsave.jl:149\u001b[24m\u001b[39m\u001b[90m [inlined]\u001b[39m\n [12] \u001b[0m\u001b[1m|>\u001b[22m\u001b[0m\u001b[1m(\u001b[22m\u001b[90mx\u001b[39m::\u001b[0mDataFrame, \u001b[90mf\u001b[39m::\u001b[0mFileIO.var\"#27#28\"\u001b[90m{Base.Pairs{Symbol, Union{}, Tuple{}, NamedTuple{(), Tuple{}}}, String, Vector{Union{Base.PkgId, Module}}, Symbol}\u001b[39m\u001b[0m\u001b[1m)\u001b[22m\n\u001b[90m    @ \u001b[39m\u001b[90mBase\u001b[39m \u001b[90m./\u001b[39m\u001b[90m\u001b[4moperators.jl:911\u001b[24m\u001b[39m\n [13] top-level scope\n\u001b[90m    @ \u001b[39m\u001b[90m\u001b[4mIn[31]:2\u001b[24m\u001b[39m",
     "output_type": "error",
     "traceback": [
      "ArgumentError: Package ImageIO [82e4d734-157c-48bb-816b-45c225c6df19] is required but does not seem to be installed:\n - Run `Pkg.instantiate()` to install all recorded dependencies.\n\nStacktrace:\n  [1] \u001b[0m\u001b[1m_require\u001b[22m\u001b[0m\u001b[1m(\u001b[22m\u001b[90mpkg\u001b[39m::\u001b[0mBase.PkgId\u001b[0m\u001b[1m)\u001b[22m\n\u001b[90m    @ \u001b[39m\u001b[90mBase\u001b[39m \u001b[90m./\u001b[39m\u001b[90m\u001b[4mloading.jl:1306\u001b[24m\u001b[39m\n  [2] \u001b[0m\u001b[1m_require_prelocked\u001b[22m\u001b[0m\u001b[1m(\u001b[22m\u001b[90muuidkey\u001b[39m::\u001b[0mBase.PkgId\u001b[0m\u001b[1m)\u001b[22m\n\u001b[90m    @ \u001b[39m\u001b[90mBase\u001b[39m \u001b[90m./\u001b[39m\u001b[90m\u001b[4mloading.jl:1200\u001b[24m\u001b[39m\n  [3] \u001b[0m\u001b[1mmacro expansion\u001b[22m\n\u001b[90m    @ \u001b[39m\u001b[90m./\u001b[39m\u001b[90m\u001b[4mlock.jl:223\u001b[24m\u001b[39m\u001b[90m [inlined]\u001b[39m\n  [4] \u001b[0m\u001b[1mrequire\u001b[22m\u001b[0m\u001b[1m(\u001b[22m\u001b[90muuidkey\u001b[39m::\u001b[0mBase.PkgId\u001b[0m\u001b[1m)\u001b[22m\n\u001b[90m    @ \u001b[39m\u001b[90mBase\u001b[39m \u001b[90m./\u001b[39m\u001b[90m\u001b[4mloading.jl:1195\u001b[24m\u001b[39m\n  [5] \u001b[0m\u001b[1m#34\u001b[22m\n\u001b[90m    @ \u001b[39m\u001b[90m~/.julia/packages/FileIO/DtNtF/src/\u001b[39m\u001b[90m\u001b[4mloadsave.jl:203\u001b[24m\u001b[39m\u001b[90m [inlined]\u001b[39m\n  [6] \u001b[0m\u001b[1mlock\u001b[22m\u001b[0m\u001b[1m(\u001b[22m\u001b[90mf\u001b[39m::\u001b[0mFileIO.var\"#34#35\"\u001b[90m{Base.PkgId}\u001b[39m, \u001b[90ml\u001b[39m::\u001b[0mReentrantLock\u001b[0m\u001b[1m)\u001b[22m\n\u001b[90m    @ \u001b[39m\u001b[90mBase\u001b[39m \u001b[90m./\u001b[39m\u001b[90m\u001b[4mlock.jl:185\u001b[24m\u001b[39m\n  [7] \u001b[0m\u001b[1maction\u001b[22m\u001b[0m\u001b[1m(\u001b[22m\u001b[90mcall\u001b[39m::\u001b[0mSymbol, \u001b[90mlibraries\u001b[39m::\u001b[0mVector\u001b[90m{Union{Base.PkgId, Module}}\u001b[39m, \u001b[90mfile\u001b[39m::\u001b[0mFileIO.Formatted, \u001b[90margs\u001b[39m::\u001b[0mDataFrame; \u001b[90moptions\u001b[39m::\u001b[0mBase.Pairs\u001b[90m{Symbol, Union{}, Tuple{}, NamedTuple{(), Tuple{}}}\u001b[39m\u001b[0m\u001b[1m)\u001b[22m\n\u001b[90m    @ \u001b[39m\u001b[35mFileIO\u001b[39m \u001b[90m~/.julia/packages/FileIO/DtNtF/src/\u001b[39m\u001b[90m\u001b[4mloadsave.jl:203\u001b[24m\u001b[39m\n  [8] \u001b[0m\u001b[1maction\u001b[22m\n\u001b[90m    @ \u001b[39m\u001b[90m~/.julia/packages/FileIO/DtNtF/src/\u001b[39m\u001b[90m\u001b[4mloadsave.jl:196\u001b[24m\u001b[39m\u001b[90m [inlined]\u001b[39m\n  [9] \u001b[0m\u001b[1maction\u001b[22m\u001b[0m\u001b[1m(\u001b[22m\u001b[90mcall\u001b[39m::\u001b[0mSymbol, \u001b[90mlibraries\u001b[39m::\u001b[0mVector\u001b[90m{Union{Base.PkgId, Module}}\u001b[39m, \u001b[90msym\u001b[39m::\u001b[0mSymbol, \u001b[90mfile\u001b[39m::\u001b[0mString, \u001b[90margs\u001b[39m::\u001b[0mDataFrame; \u001b[90moptions\u001b[39m::\u001b[0mBase.Pairs\u001b[90m{Symbol, Union{}, Tuple{}, NamedTuple{(), Tuple{}}}\u001b[39m\u001b[0m\u001b[1m)\u001b[22m\n\u001b[90m    @ \u001b[39m\u001b[35mFileIO\u001b[39m \u001b[90m~/.julia/packages/FileIO/DtNtF/src/\u001b[39m\u001b[90m\u001b[4mloadsave.jl:185\u001b[24m\u001b[39m\n [10] \u001b[0m\u001b[1maction\u001b[22m\n\u001b[90m    @ \u001b[39m\u001b[90m~/.julia/packages/FileIO/DtNtF/src/\u001b[39m\u001b[90m\u001b[4mloadsave.jl:185\u001b[24m\u001b[39m\u001b[90m [inlined]\u001b[39m\n [11] \u001b[0m\u001b[1m#27\u001b[22m\n\u001b[90m    @ \u001b[39m\u001b[90m~/.julia/packages/FileIO/DtNtF/src/\u001b[39m\u001b[90m\u001b[4mloadsave.jl:149\u001b[24m\u001b[39m\u001b[90m [inlined]\u001b[39m\n [12] \u001b[0m\u001b[1m|>\u001b[22m\u001b[0m\u001b[1m(\u001b[22m\u001b[90mx\u001b[39m::\u001b[0mDataFrame, \u001b[90mf\u001b[39m::\u001b[0mFileIO.var\"#27#28\"\u001b[90m{Base.Pairs{Symbol, Union{}, Tuple{}, NamedTuple{(), Tuple{}}}, String, Vector{Union{Base.PkgId, Module}}, Symbol}\u001b[39m\u001b[0m\u001b[1m)\u001b[22m\n\u001b[90m    @ \u001b[39m\u001b[90mBase\u001b[39m \u001b[90m./\u001b[39m\u001b[90m\u001b[4moperators.jl:911\u001b[24m\u001b[39m\n [13] top-level scope\n\u001b[90m    @ \u001b[39m\u001b[90m\u001b[4mIn[31]:2\u001b[24m\u001b[39m",
      "",
      "Stacktrace:",
      "  [1] handle_error(e::ArgumentError, q::Base.PkgId, bt::Vector{Union{Ptr{Nothing}, Base.InterpreterIP}})",
      "    @ FileIO ~/.julia/packages/FileIO/DtNtF/src/error_handling.jl:61",
      "  [2] handle_exceptions(exceptions::Vector{Tuple{Any, Union{Base.PkgId, Module}, Vector}}, action::String)",
      "    @ FileIO ~/.julia/packages/FileIO/DtNtF/src/error_handling.jl:56",
      "  [3] action(call::Symbol, libraries::Vector{Union{Base.PkgId, Module}}, file::FileIO.Formatted, args::DataFrame; options::Base.Pairs{Symbol, Union{}, Tuple{}, NamedTuple{(), Tuple{}}})",
      "    @ FileIO ~/.julia/packages/FileIO/DtNtF/src/loadsave.jl:228",
      "  [4] action",
      "    @ ~/.julia/packages/FileIO/DtNtF/src/loadsave.jl:196 [inlined]",
      "  [5] action(call::Symbol, libraries::Vector{Union{Base.PkgId, Module}}, sym::Symbol, file::String, args::DataFrame; options::Base.Pairs{Symbol, Union{}, Tuple{}, NamedTuple{(), Tuple{}}})",
      "    @ FileIO ~/.julia/packages/FileIO/DtNtF/src/loadsave.jl:185",
      "  [6] action",
      "    @ ~/.julia/packages/FileIO/DtNtF/src/loadsave.jl:185 [inlined]",
      "  [7] #27",
      "    @ ~/.julia/packages/FileIO/DtNtF/src/loadsave.jl:149 [inlined]",
      "  [8] |>(x::DataFrame, f::FileIO.var\"#27#28\"{Base.Pairs{Symbol, Union{}, Tuple{}, NamedTuple{(), Tuple{}}}, String, Vector{Union{Base.PkgId, Module}}, Symbol})",
      "    @ Base ./operators.jl:911",
      "  [9] top-level scope",
      "    @ In[31]:2",
      " [10] eval",
      "    @ ./boot.jl:368 [inlined]",
      " [11] include_string(mapexpr::typeof(REPL.softscope), mod::Module, code::String, filename::String)",
      "    @ Base ./loading.jl:1428"
     ]
    }
   ],
   "source": [
    "# Save this stacked dispatch plot to file if you want to\n",
    "sol_gen_btm |> FileIO.save(\"results/ED_moderate.png\")"
   ]
  },
  {
   "cell_type": "markdown",
   "metadata": {},
   "source": [
    "### 5. Run sensitivity on solar capacity\n",
    "\n",
    "Let's now examine what happens if we increase utility solar capacity from the current 500MW up to 3,500MW."
   ]
  },
  {
   "cell_type": "markdown",
   "metadata": {},
   "source": [
    "The large reduction in net load during the day and the loss of solar (orange) in the late afternoon timed with the rise in the evening peak is sometimes called the **\"duck curve\"** because of their passing resemblance to a duck's belly and head. Squint at it and then examine this (https://www.energy.gov/eere/articles/confronting-duck-curve-how-address-over-generation-solar-energy):\n",
    "\n",
    "<img src=\"https://www.energy.gov/sites/prod/files/styles/borealis_photo_gallery_large_respondmedium/public/CAISO_DuckCurve_720_469_80.jpg?itok=99uYAxGo\" style=\"width: 450px; height: auto\" align=\"left\">"
   ]
  },
  {
   "cell_type": "code",
   "execution_count": 38,
   "metadata": {},
   "outputs": [
    {
     "name": "stdout",
     "output_type": "stream",
     "text": [
      "Presolving model\n",
      "208 rows, 589 cols, 957 nonzeros\n",
      "116 rows, 528 cols, 712 nonzeros\n",
      "116 rows, 528 cols, 712 nonzeros\n",
      "Presolve : Reductions: rows 116(-1658); columns 528(-72); elements 712(-2788)\n",
      "Solving the presolved LP\n",
      "Using EKK dual simplex solver - serial\n",
      "  Iteration        Objective     Infeasibilities num(sum)\n",
      "          0     0.0000000000e+00 Pr: 24(54962.6) 0s\n",
      "         35     8.0426374437e+05 Pr: 0(0) 0s\n",
      "Solving the original LP from the solution after postsolve\n",
      "Model   status      : Optimal\n",
      "Simplex   iterations: 35\n",
      "Objective value     :  8.0426374437e+05\n",
      "HiGHS run time      :          0.00\n"
     ]
    },
    {
     "data": {
      "application/vnd.vegalite.v4+json": {
       "data": {
        "values": [
         {
          "gen_sum": 163.3088,
          "hour": 2401,
          "resource": "_onshore_wind_turbine"
         },
         {
          "gen_sum": 3.184932,
          "hour": 2401,
          "resource": "_small_hydroelectric"
         },
         {
          "gen_sum": 0,
          "hour": 2401,
          "resource": "_solar_photovoltaic"
         },
         {
          "gen_sum": 0,
          "hour": 2401,
          "resource": "_solar_photovoltaic_btm"
         },
         {
          "gen_sum": 21.4,
          "hour": 2401,
          "resource": "biomass"
         },
         {
          "gen_sum": 42,
          "hour": 2401,
          "resource": "hydroelectric_pumped_storage"
         },
         {
          "gen_sum": 1385.106268,
          "hour": 2401,
          "resource": "natural_gas_fired_combined_cycle"
         },
         {
          "gen_sum": 0,
          "hour": 2401,
          "resource": "natural_gas_fired_combustion_turbine"
         },
         {
          "gen_sum": 169.79327999999998,
          "hour": 2402,
          "resource": "_onshore_wind_turbine"
         },
         {
          "gen_sum": 3.184932,
          "hour": 2402,
          "resource": "_small_hydroelectric"
         },
         {
          "gen_sum": 0,
          "hour": 2402,
          "resource": "_solar_photovoltaic"
         },
         {
          "gen_sum": 0,
          "hour": 2402,
          "resource": "_solar_photovoltaic_btm"
         },
         {
          "gen_sum": 21.4,
          "hour": 2402,
          "resource": "biomass"
         },
         {
          "gen_sum": 42,
          "hour": 2402,
          "resource": "hydroelectric_pumped_storage"
         },
         {
          "gen_sum": 1316.621788,
          "hour": 2402,
          "resource": "natural_gas_fired_combined_cycle"
         },
         {
          "gen_sum": 0,
          "hour": 2402,
          "resource": "natural_gas_fired_combustion_turbine"
         },
         {
          "gen_sum": 115.1104,
          "hour": 2403,
          "resource": "_onshore_wind_turbine"
         },
         {
          "gen_sum": 3.184932,
          "hour": 2403,
          "resource": "_small_hydroelectric"
         },
         {
          "gen_sum": 0,
          "hour": 2403,
          "resource": "_solar_photovoltaic"
         },
         {
          "gen_sum": 0,
          "hour": 2403,
          "resource": "_solar_photovoltaic_btm"
         },
         {
          "gen_sum": 21.4,
          "hour": 2403,
          "resource": "biomass"
         },
         {
          "gen_sum": 42,
          "hour": 2403,
          "resource": "hydroelectric_pumped_storage"
         },
         {
          "gen_sum": 1336.304668,
          "hour": 2403,
          "resource": "natural_gas_fired_combined_cycle"
         },
         {
          "gen_sum": 0,
          "hour": 2403,
          "resource": "natural_gas_fired_combustion_turbine"
         },
         {
          "gen_sum": 100.55296,
          "hour": 2404,
          "resource": "_onshore_wind_turbine"
         },
         {
          "gen_sum": 3.184932,
          "hour": 2404,
          "resource": "_small_hydroelectric"
         },
         {
          "gen_sum": 0,
          "hour": 2404,
          "resource": "_solar_photovoltaic"
         },
         {
          "gen_sum": 0,
          "hour": 2404,
          "resource": "_solar_photovoltaic_btm"
         },
         {
          "gen_sum": 21.4,
          "hour": 2404,
          "resource": "biomass"
         },
         {
          "gen_sum": 42,
          "hour": 2404,
          "resource": "hydroelectric_pumped_storage"
         },
         {
          "gen_sum": 1394.8621079999998,
          "hour": 2404,
          "resource": "natural_gas_fired_combined_cycle"
         },
         {
          "gen_sum": 0,
          "hour": 2404,
          "resource": "natural_gas_fired_combustion_turbine"
         },
         {
          "gen_sum": 80.57728,
          "hour": 2405,
          "resource": "_onshore_wind_turbine"
         },
         {
          "gen_sum": 3.184932,
          "hour": 2405,
          "resource": "_small_hydroelectric"
         },
         {
          "gen_sum": 0,
          "hour": 2405,
          "resource": "_solar_photovoltaic"
         },
         {
          "gen_sum": 0,
          "hour": 2405,
          "resource": "_solar_photovoltaic_btm"
         },
         {
          "gen_sum": 21.4,
          "hour": 2405,
          "resource": "biomass"
         },
         {
          "gen_sum": 42,
          "hour": 2405,
          "resource": "hydroelectric_pumped_storage"
         },
         {
          "gen_sum": 1585.837788,
          "hour": 2405,
          "resource": "natural_gas_fired_combined_cycle"
         },
         {
          "gen_sum": 0,
          "hour": 2405,
          "resource": "natural_gas_fired_combustion_turbine"
         },
         {
          "gen_sum": 139.17695999999998,
          "hour": 2406,
          "resource": "_onshore_wind_turbine"
         },
         {
          "gen_sum": 3.184932,
          "hour": 2406,
          "resource": "_small_hydroelectric"
         },
         {
          "gen_sum": 0,
          "hour": 2406,
          "resource": "_solar_photovoltaic"
         },
         {
          "gen_sum": 0,
          "hour": 2406,
          "resource": "_solar_photovoltaic_btm"
         },
         {
          "gen_sum": 21.4,
          "hour": 2406,
          "resource": "biomass"
         },
         {
          "gen_sum": 42,
          "hour": 2406,
          "resource": "hydroelectric_pumped_storage"
         },
         {
          "gen_sum": 1770.238108,
          "hour": 2406,
          "resource": "natural_gas_fired_combined_cycle"
         },
         {
          "gen_sum": 0,
          "hour": 2406,
          "resource": "natural_gas_fired_combustion_turbine"
         },
         {
          "gen_sum": 74.17984,
          "hour": 2407,
          "resource": "_onshore_wind_turbine"
         },
         {
          "gen_sum": 3.184932,
          "hour": 2407,
          "resource": "_small_hydroelectric"
         },
         {
          "gen_sum": 193.55,
          "hour": 2407,
          "resource": "_solar_photovoltaic"
         },
         {
          "gen_sum": 33.18,
          "hour": 2407,
          "resource": "_solar_photovoltaic_btm"
         },
         {
          "gen_sum": 21.4,
          "hour": 2407,
          "resource": "biomass"
         },
         {
          "gen_sum": 42,
          "hour": 2407,
          "resource": "hydroelectric_pumped_storage"
         },
         {
          "gen_sum": 1928.5,
          "hour": 2407,
          "resource": "natural_gas_fired_combined_cycle"
         },
         {
          "gen_sum": 11.185227999999896,
          "hour": 2407,
          "resource": "natural_gas_fired_combustion_turbine"
         },
         {
          "gen_sum": 49.373439999999995,
          "hour": 2408,
          "resource": "_onshore_wind_turbine"
         },
         {
          "gen_sum": 3.184932,
          "hour": 2408,
          "resource": "_small_hydroelectric"
         },
         {
          "gen_sum": 773.85,
          "hour": 2408,
          "resource": "_solar_photovoltaic"
         },
         {
          "gen_sum": 132.66,
          "hour": 2408,
          "resource": "_solar_photovoltaic_btm"
         },
         {
          "gen_sum": 21.4,
          "hour": 2408,
          "resource": "biomass"
         },
         {
          "gen_sum": 42,
          "hour": 2408,
          "resource": "hydroelectric_pumped_storage"
         },
         {
          "gen_sum": 1707.1916279999998,
          "hour": 2408,
          "resource": "natural_gas_fired_combined_cycle"
         },
         {
          "gen_sum": 0,
          "hour": 2408,
          "resource": "natural_gas_fired_combustion_turbine"
         },
         {
          "gen_sum": 167.35616,
          "hour": 2409,
          "resource": "_onshore_wind_turbine"
         },
         {
          "gen_sum": 3.184932,
          "hour": 2409,
          "resource": "_small_hydroelectric"
         },
         {
          "gen_sum": 1671.6000000000001,
          "hour": 2409,
          "resource": "_solar_photovoltaic"
         },
         {
          "gen_sum": 286.56,
          "hour": 2409,
          "resource": "_solar_photovoltaic_btm"
         },
         {
          "gen_sum": 21.4,
          "hour": 2409,
          "resource": "biomass"
         },
         {
          "gen_sum": 42,
          "hour": 2409,
          "resource": "hydroelectric_pumped_storage"
         },
         {
          "gen_sum": 932.458908,
          "hour": 2409,
          "resource": "natural_gas_fired_combined_cycle"
         },
         {
          "gen_sum": 0,
          "hour": 2409,
          "resource": "natural_gas_fired_combustion_turbine"
         },
         {
          "gen_sum": 131.56096,
          "hour": 2410,
          "resource": "_onshore_wind_turbine"
         },
         {
          "gen_sum": 3.184932,
          "hour": 2410,
          "resource": "_small_hydroelectric"
         },
         {
          "gen_sum": 2014.95,
          "hour": 2410,
          "resource": "_solar_photovoltaic"
         },
         {
          "gen_sum": 345.42,
          "hour": 2410,
          "resource": "_solar_photovoltaic_btm"
         },
         {
          "gen_sum": 21.4,
          "hour": 2410,
          "resource": "biomass"
         },
         {
          "gen_sum": 42,
          "hour": 2410,
          "resource": "hydroelectric_pumped_storage"
         },
         {
          "gen_sum": 809.9041079999998,
          "hour": 2410,
          "resource": "natural_gas_fired_combined_cycle"
         },
         {
          "gen_sum": 0,
          "hour": 2410,
          "resource": "natural_gas_fired_combustion_turbine"
         },
         {
          "gen_sum": 111.1936,
          "hour": 2411,
          "resource": "_onshore_wind_turbine"
         },
         {
          "gen_sum": 3.184932,
          "hour": 2411,
          "resource": "_small_hydroelectric"
         },
         {
          "gen_sum": 2113.65,
          "hour": 2411,
          "resource": "_solar_photovoltaic"
         },
         {
          "gen_sum": 362.34,
          "hour": 2411,
          "resource": "_solar_photovoltaic_btm"
         },
         {
          "gen_sum": 21.4,
          "hour": 2411,
          "resource": "biomass"
         },
         {
          "gen_sum": 42,
          "hour": 2411,
          "resource": "hydroelectric_pumped_storage"
         },
         {
          "gen_sum": 833.5714679999999,
          "hour": 2411,
          "resource": "natural_gas_fired_combined_cycle"
         },
         {
          "gen_sum": 0,
          "hour": 2411,
          "resource": "natural_gas_fired_combustion_turbine"
         },
         {
          "gen_sum": 92.11008,
          "hour": 2412,
          "resource": "_onshore_wind_turbine"
         },
         {
          "gen_sum": 3.184932,
          "hour": 2412,
          "resource": "_small_hydroelectric"
         },
         {
          "gen_sum": 2148.65,
          "hour": 2412,
          "resource": "_solar_photovoltaic"
         },
         {
          "gen_sum": 368.34,
          "hour": 2412,
          "resource": "_solar_photovoltaic_btm"
         },
         {
          "gen_sum": 21.4,
          "hour": 2412,
          "resource": "biomass"
         },
         {
          "gen_sum": 42,
          "hour": 2412,
          "resource": "hydroelectric_pumped_storage"
         },
         {
          "gen_sum": 655.6549879999998,
          "hour": 2412,
          "resource": "natural_gas_fired_combined_cycle"
         },
         {
          "gen_sum": 0,
          "hour": 2412,
          "resource": "natural_gas_fired_combustion_turbine"
         },
         {
          "gen_sum": 52.09344,
          "hour": 2413,
          "resource": "_onshore_wind_turbine"
         },
         {
          "gen_sum": 3.184932,
          "hour": 2413,
          "resource": "_small_hydroelectric"
         },
         {
          "gen_sum": 2256.1,
          "hour": 2413,
          "resource": "_solar_photovoltaic"
         },
         {
          "gen_sum": 386.76,
          "hour": 2413,
          "resource": "_solar_photovoltaic_btm"
         },
         {
          "gen_sum": 21.4,
          "hour": 2413,
          "resource": "biomass"
         },
         {
          "gen_sum": 42,
          "hour": 2413,
          "resource": "hydroelectric_pumped_storage"
         },
         {
          "gen_sum": 368.221628,
          "hour": 2413,
          "resource": "natural_gas_fired_combined_cycle"
         },
         {
          "gen_sum": 0,
          "hour": 2413,
          "resource": "natural_gas_fired_combustion_turbine"
         },
         {
          "gen_sum": 64.69248,
          "hour": 2414,
          "resource": "_onshore_wind_turbine"
         },
         {
          "gen_sum": 3.184932,
          "hour": 2414,
          "resource": "_small_hydroelectric"
         },
         {
          "gen_sum": 2259.25,
          "hour": 2414,
          "resource": "_solar_photovoltaic"
         },
         {
          "gen_sum": 387.29999999999995,
          "hour": 2414,
          "resource": "_solar_photovoltaic_btm"
         },
         {
          "gen_sum": 21.4,
          "hour": 2414,
          "resource": "biomass"
         },
         {
          "gen_sum": 42,
          "hour": 2414,
          "resource": "hydroelectric_pumped_storage"
         },
         {
          "gen_sum": 275.4725879999999,
          "hour": 2414,
          "resource": "natural_gas_fired_combined_cycle"
         },
         {
          "gen_sum": 0,
          "hour": 2414,
          "resource": "natural_gas_fired_combustion_turbine"
         },
         {
          "gen_sum": 49.22112,
          "hour": 2415,
          "resource": "_onshore_wind_turbine"
         },
         {
          "gen_sum": 3.184932,
          "hour": 2415,
          "resource": "_small_hydroelectric"
         },
         {
          "gen_sum": 2184.35,
          "hour": 2415,
          "resource": "_solar_photovoltaic"
         },
         {
          "gen_sum": 374.46,
          "hour": 2415,
          "resource": "_solar_photovoltaic_btm"
         },
         {
          "gen_sum": 21.4,
          "hour": 2415,
          "resource": "biomass"
         },
         {
          "gen_sum": 42,
          "hour": 2415,
          "resource": "hydroelectric_pumped_storage"
         },
         {
          "gen_sum": 277.843948,
          "hour": 2415,
          "resource": "natural_gas_fired_combined_cycle"
         },
         {
          "gen_sum": 0,
          "hour": 2415,
          "resource": "natural_gas_fired_combustion_turbine"
         },
         {
          "gen_sum": 65.41055999999999,
          "hour": 2416,
          "resource": "_onshore_wind_turbine"
         },
         {
          "gen_sum": 3.184932,
          "hour": 2416,
          "resource": "_small_hydroelectric"
         },
         {
          "gen_sum": 1993.25,
          "hour": 2416,
          "resource": "_solar_photovoltaic"
         },
         {
          "gen_sum": 341.7,
          "hour": 2416,
          "resource": "_solar_photovoltaic_btm"
         },
         {
          "gen_sum": 21.4,
          "hour": 2416,
          "resource": "biomass"
         },
         {
          "gen_sum": 42,
          "hour": 2416,
          "resource": "hydroelectric_pumped_storage"
         },
         {
          "gen_sum": 356.75450799999993,
          "hour": 2416,
          "resource": "natural_gas_fired_combined_cycle"
         },
         {
          "gen_sum": 0,
          "hour": 2416,
          "resource": "natural_gas_fired_combustion_turbine"
         },
         {
          "gen_sum": 57.18527999999999,
          "hour": 2417,
          "resource": "_onshore_wind_turbine"
         },
         {
          "gen_sum": 3.184932,
          "hour": 2417,
          "resource": "_small_hydroelectric"
         },
         {
          "gen_sum": 1637.3,
          "hour": 2417,
          "resource": "_solar_photovoltaic"
         },
         {
          "gen_sum": 280.68,
          "hour": 2417,
          "resource": "_solar_photovoltaic_btm"
         },
         {
          "gen_sum": 21.4,
          "hour": 2417,
          "resource": "biomass"
         },
         {
          "gen_sum": 42,
          "hour": 2417,
          "resource": "hydroelectric_pumped_storage"
         },
         {
          "gen_sum": 660.9297879999999,
          "hour": 2417,
          "resource": "natural_gas_fired_combined_cycle"
         },
         {
          "gen_sum": 0,
          "hour": 2417,
          "resource": "natural_gas_fired_combustion_turbine"
         },
         {
          "gen_sum": 78.61888,
          "hour": 2418,
          "resource": "_onshore_wind_turbine"
         },
         {
          "gen_sum": 3.184932,
          "hour": 2418,
          "resource": "_small_hydroelectric"
         },
         {
          "gen_sum": 1132.6,
          "hour": 2418,
          "resource": "_solar_photovoltaic"
         },
         {
          "gen_sum": 194.16,
          "hour": 2418,
          "resource": "_solar_photovoltaic_btm"
         },
         {
          "gen_sum": 21.4,
          "hour": 2418,
          "resource": "biomass"
         },
         {
          "gen_sum": 42,
          "hour": 2418,
          "resource": "hydroelectric_pumped_storage"
         },
         {
          "gen_sum": 1096.196188,
          "hour": 2418,
          "resource": "natural_gas_fired_combined_cycle"
         },
         {
          "gen_sum": 0,
          "hour": 2418,
          "resource": "natural_gas_fired_combustion_turbine"
         },
         {
          "gen_sum": 52.61568,
          "hour": 2419,
          "resource": "_onshore_wind_turbine"
         },
         {
          "gen_sum": 3.184932,
          "hour": 2419,
          "resource": "_small_hydroelectric"
         },
         {
          "gen_sum": 166.95,
          "hour": 2419,
          "resource": "_solar_photovoltaic"
         },
         {
          "gen_sum": 28.62,
          "hour": 2419,
          "resource": "_solar_photovoltaic_btm"
         },
         {
          "gen_sum": 21.4,
          "hour": 2419,
          "resource": "biomass"
         },
         {
          "gen_sum": 42,
          "hour": 2419,
          "resource": "hydroelectric_pumped_storage"
         },
         {
          "gen_sum": 1912.62,
          "hour": 2419,
          "resource": "natural_gas_fired_combined_cycle"
         },
         {
          "gen_sum": 179.22938800000003,
          "hour": 2419,
          "resource": "natural_gas_fired_combustion_turbine"
         },
         {
          "gen_sum": 61.42848,
          "hour": 2420,
          "resource": "_onshore_wind_turbine"
         },
         {
          "gen_sum": 3.184932,
          "hour": 2420,
          "resource": "_small_hydroelectric"
         },
         {
          "gen_sum": 0,
          "hour": 2420,
          "resource": "_solar_photovoltaic"
         },
         {
          "gen_sum": 0,
          "hour": 2420,
          "resource": "_solar_photovoltaic_btm"
         },
         {
          "gen_sum": 21.4,
          "hour": 2420,
          "resource": "biomass"
         },
         {
          "gen_sum": 42,
          "hour": 2420,
          "resource": "hydroelectric_pumped_storage"
         },
         {
          "gen_sum": 1928.5,
          "hour": 2420,
          "resource": "natural_gas_fired_combined_cycle"
         },
         {
          "gen_sum": 444.48658799999987,
          "hour": 2420,
          "resource": "natural_gas_fired_combustion_turbine"
         },
         {
          "gen_sum": 71.9168,
          "hour": 2421,
          "resource": "_onshore_wind_turbine"
         },
         {
          "gen_sum": 3.184932,
          "hour": 2421,
          "resource": "_small_hydroelectric"
         },
         {
          "gen_sum": 0,
          "hour": 2421,
          "resource": "_solar_photovoltaic"
         },
         {
          "gen_sum": 0,
          "hour": 2421,
          "resource": "_solar_photovoltaic_btm"
         },
         {
          "gen_sum": 21.4,
          "hour": 2421,
          "resource": "biomass"
         },
         {
          "gen_sum": 42,
          "hour": 2421,
          "resource": "hydroelectric_pumped_storage"
         },
         {
          "gen_sum": 1928.5,
          "hour": 2421,
          "resource": "natural_gas_fired_combined_cycle"
         },
         {
          "gen_sum": 438.99826799999994,
          "hour": 2421,
          "resource": "natural_gas_fired_combustion_turbine"
         },
         {
          "gen_sum": 96.04864,
          "hour": 2422,
          "resource": "_onshore_wind_turbine"
         },
         {
          "gen_sum": 3.184932,
          "hour": 2422,
          "resource": "_small_hydroelectric"
         },
         {
          "gen_sum": 0,
          "hour": 2422,
          "resource": "_solar_photovoltaic"
         },
         {
          "gen_sum": 0,
          "hour": 2422,
          "resource": "_solar_photovoltaic_btm"
         },
         {
          "gen_sum": 21.4,
          "hour": 2422,
          "resource": "biomass"
         },
         {
          "gen_sum": 42,
          "hour": 2422,
          "resource": "hydroelectric_pumped_storage"
         },
         {
          "gen_sum": 1928.5,
          "hour": 2422,
          "resource": "natural_gas_fired_combined_cycle"
         },
         {
          "gen_sum": 166.8664279999999,
          "hour": 2422,
          "resource": "natural_gas_fired_combustion_turbine"
         },
         {
          "gen_sum": 126.46912,
          "hour": 2423,
          "resource": "_onshore_wind_turbine"
         },
         {
          "gen_sum": 3.184932,
          "hour": 2423,
          "resource": "_small_hydroelectric"
         },
         {
          "gen_sum": 0,
          "hour": 2423,
          "resource": "_solar_photovoltaic"
         },
         {
          "gen_sum": 0,
          "hour": 2423,
          "resource": "_solar_photovoltaic_btm"
         },
         {
          "gen_sum": 21.4,
          "hour": 2423,
          "resource": "biomass"
         },
         {
          "gen_sum": 42,
          "hour": 2423,
          "resource": "hydroelectric_pumped_storage"
         },
         {
          "gen_sum": 1794.9459479999998,
          "hour": 2423,
          "resource": "natural_gas_fired_combined_cycle"
         },
         {
          "gen_sum": 0,
          "hour": 2423,
          "resource": "natural_gas_fired_combustion_turbine"
         },
         {
          "gen_sum": 144.42111999999997,
          "hour": 2424,
          "resource": "_onshore_wind_turbine"
         },
         {
          "gen_sum": 3.184932,
          "hour": 2424,
          "resource": "_small_hydroelectric"
         },
         {
          "gen_sum": 0,
          "hour": 2424,
          "resource": "_solar_photovoltaic"
         },
         {
          "gen_sum": 0,
          "hour": 2424,
          "resource": "_solar_photovoltaic_btm"
         },
         {
          "gen_sum": 21.4,
          "hour": 2424,
          "resource": "biomass"
         },
         {
          "gen_sum": 42,
          "hour": 2424,
          "resource": "hydroelectric_pumped_storage"
         },
         {
          "gen_sum": 1548.993948,
          "hour": 2424,
          "resource": "natural_gas_fired_combined_cycle"
         },
         {
          "gen_sum": 0,
          "hour": 2424,
          "resource": "natural_gas_fired_combustion_turbine"
         }
        ]
       },
       "encoding": {
        "color": {
         "field": "resource",
         "scale": {
          "scheme": "category20"
         },
         "type": "nominal"
        },
        "x": {
         "field": "hour",
         "type": "quantitative"
        },
        "y": {
         "field": "gen_sum",
         "stack": "zero",
         "type": "quantitative"
        }
       },
       "height": 600,
       "mark": "area",
       "width": 600
      },
      "image/png": "[encoded data removed]",
      "image/svg+xml": [
       "<?xml version=\"1.0\" encoding=\"utf-8\"?>\n",
       "<!DOCTYPE svg PUBLIC \"-//W3C//DTD SVG 1.1//EN\" \"http://www.w3.org/Graphics/SVG/1.1/DTD/svg11.dtd\">\n",
       "<svg xmlns=\"http://www.w3.org/2000/svg\" xmlns:xlink=\"http://www.w3.org/1999/xlink\" version=\"1.1\" class=\"marks\" width=\"852\" height=\"642\" viewBox=\"0 0 852 642\"><rect width=\"852\" height=\"642\" fill=\"white\"/><g fill=\"none\" stroke-miterlimit=\"10\" transform=\"translate(54,5)\"><g class=\"mark-group role-frame root\" role=\"graphics-object\" aria-roledescription=\"group mark container\"><g transform=\"translate(0,0)\"><path class=\"background\" aria-hidden=\"true\" d=\"M0.5,0.5h600v600h-600Z\" stroke=\"#ddd\"/><g><g class=\"mark-group role-axis\" aria-hidden=\"true\"><g transform=\"translate(0.5,600.5)\"><path class=\"background\" aria-hidden=\"true\" d=\"M0,0h0v0h0Z\" pointer-events=\"none\"/><g><g class=\"mark-rule role-axis-grid\" pointer-events=\"none\"><line transform=\"translate(0,-600)\" x2=\"0\" y2=\"600\" stroke=\"#ddd\" stroke-width=\"1\" opacity=\"1\"/><line transform=\"translate(50,-600)\" x2=\"0\" y2=\"600\" stroke=\"#ddd\" stroke-width=\"1\" opacity=\"1\"/><line transform=\"translate(100,-600)\" x2=\"0\" y2=\"600\" stroke=\"#ddd\" stroke-width=\"1\" opacity=\"1\"/><line transform=\"translate(150,-600)\" x2=\"0\" y2=\"600\" stroke=\"#ddd\" stroke-width=\"1\" opacity=\"1\"/><line transform=\"translate(200,-600)\" x2=\"0\" y2=\"600\" stroke=\"#ddd\" stroke-width=\"1\" opacity=\"1\"/><line transform=\"translate(250,-600)\" x2=\"0\" y2=\"600\" stroke=\"#ddd\" stroke-width=\"1\" opacity=\"1\"/><line transform=\"translate(300,-600)\" x2=\"0\" y2=\"600\" stroke=\"#ddd\" stroke-width=\"1\" opacity=\"1\"/><line transform=\"translate(350,-600)\" x2=\"0\" y2=\"600\" stroke=\"#ddd\" stroke-width=\"1\" opacity=\"1\"/><line transform=\"translate(400,-600)\" x2=\"0\" y2=\"600\" stroke=\"#ddd\" stroke-width=\"1\" opacity=\"1\"/><line transform=\"translate(450,-600)\" x2=\"0\" y2=\"600\" stroke=\"#ddd\" stroke-width=\"1\" opacity=\"1\"/><line transform=\"translate(500,-600)\" x2=\"0\" y2=\"600\" stroke=\"#ddd\" stroke-width=\"1\" opacity=\"1\"/><line transform=\"translate(550,-600)\" x2=\"0\" y2=\"600\" stroke=\"#ddd\" stroke-width=\"1\" opacity=\"1\"/><line transform=\"translate(600,-600)\" x2=\"0\" y2=\"600\" stroke=\"#ddd\" stroke-width=\"1\" opacity=\"1\"/></g></g><path class=\"foreground\" aria-hidden=\"true\" d=\"\" pointer-events=\"none\" display=\"none\"/></g></g><g class=\"mark-group role-axis\" aria-hidden=\"true\"><g transform=\"translate(0.5,0.5)\"><path class=\"background\" aria-hidden=\"true\" d=\"M0,0h0v0h0Z\" pointer-events=\"none\"/><g><g class=\"mark-rule role-axis-grid\" pointer-events=\"none\"><line transform=\"translate(0,600)\" x2=\"600\" y2=\"0\" stroke=\"#ddd\" stroke-width=\"1\" opacity=\"1\"/><line transform=\"translate(0,566)\" x2=\"600\" y2=\"0\" stroke=\"#ddd\" stroke-width=\"1\" opacity=\"1\"/><line transform=\"translate(0,531)\" x2=\"600\" y2=\"0\" stroke=\"#ddd\" stroke-width=\"1\" opacity=\"1\"/><line transform=\"translate(0,497)\" x2=\"600\" y2=\"0\" stroke=\"#ddd\" stroke-width=\"1\" opacity=\"1\"/><line transform=\"translate(0,463)\" x2=\"600\" y2=\"0\" stroke=\"#ddd\" stroke-width=\"1\" opacity=\"1\"/><line transform=\"translate(0,429)\" x2=\"600\" y2=\"0\" stroke=\"#ddd\" stroke-width=\"1\" opacity=\"1\"/><line transform=\"translate(0,394)\" x2=\"600\" y2=\"0\" stroke=\"#ddd\" stroke-width=\"1\" opacity=\"1\"/><line transform=\"translate(0,360)\" x2=\"600\" y2=\"0\" stroke=\"#ddd\" stroke-width=\"1\" opacity=\"1\"/><line transform=\"translate(0,326)\" x2=\"600\" y2=\"0\" stroke=\"#ddd\" stroke-width=\"1\" opacity=\"1\"/><line transform=\"translate(0,291)\" x2=\"600\" y2=\"0\" stroke=\"#ddd\" stroke-width=\"1\" opacity=\"1\"/><line transform=\"translate(0,257)\" x2=\"600\" y2=\"0\" stroke=\"#ddd\" stroke-width=\"1\" opacity=\"1\"/><line transform=\"translate(0,223)\" x2=\"600\" y2=\"0\" stroke=\"#ddd\" stroke-width=\"1\" opacity=\"1\"/><line transform=\"translate(0,189)\" x2=\"600\" y2=\"0\" stroke=\"#ddd\" stroke-width=\"1\" opacity=\"1\"/><line transform=\"translate(0,154)\" x2=\"600\" y2=\"0\" stroke=\"#ddd\" stroke-width=\"1\" opacity=\"1\"/><line transform=\"translate(0,120)\" x2=\"600\" y2=\"0\" stroke=\"#ddd\" stroke-width=\"1\" opacity=\"1\"/><line transform=\"translate(0,86)\" x2=\"600\" y2=\"0\" stroke=\"#ddd\" stroke-width=\"1\" opacity=\"1\"/><line transform=\"translate(0,51)\" x2=\"600\" y2=\"0\" stroke=\"#ddd\" stroke-width=\"1\" opacity=\"1\"/><line transform=\"translate(0,17)\" x2=\"600\" y2=\"0\" stroke=\"#ddd\" stroke-width=\"1\" opacity=\"1\"/></g></g><path class=\"foreground\" aria-hidden=\"true\" d=\"\" pointer-events=\"none\" display=\"none\"/></g></g><g class=\"mark-group role-axis\" role=\"graphics-symbol\" aria-roledescription=\"axis\" aria-label=\"X-axis titled 'hour' for a linear scale with values from 2,400 to 2,424\"><g transform=\"translate(0.5,600.5)\"><path class=\"background\" aria-hidden=\"true\" d=\"M0,0h0v0h0Z\" pointer-events=\"none\"/><g><g class=\"mark-rule role-axis-tick\" pointer-events=\"none\"><line transform=\"translate(0,0)\" x2=\"0\" y2=\"5\" stroke=\"#888\" stroke-width=\"1\" opacity=\"1\"/><line transform=\"translate(50,0)\" x2=\"0\" y2=\"5\" stroke=\"#888\" stroke-width=\"1\" opacity=\"1\"/><line transform=\"translate(100,0)\" x2=\"0\" y2=\"5\" stroke=\"#888\" stroke-width=\"1\" opacity=\"1\"/><line transform=\"translate(150,0)\" x2=\"0\" y2=\"5\" stroke=\"#888\" stroke-width=\"1\" opacity=\"1\"/><line transform=\"translate(200,0)\" x2=\"0\" y2=\"5\" stroke=\"#888\" stroke-width=\"1\" opacity=\"1\"/><line transform=\"translate(250,0)\" x2=\"0\" y2=\"5\" stroke=\"#888\" stroke-width=\"1\" opacity=\"1\"/><line transform=\"translate(300,0)\" x2=\"0\" y2=\"5\" stroke=\"#888\" stroke-width=\"1\" opacity=\"1\"/><line transform=\"translate(350,0)\" x2=\"0\" y2=\"5\" stroke=\"#888\" stroke-width=\"1\" opacity=\"1\"/><line transform=\"translate(400,0)\" x2=\"0\" y2=\"5\" stroke=\"#888\" stroke-width=\"1\" opacity=\"1\"/><line transform=\"translate(450,0)\" x2=\"0\" y2=\"5\" stroke=\"#888\" stroke-width=\"1\" opacity=\"1\"/><line transform=\"translate(500,0)\" x2=\"0\" y2=\"5\" stroke=\"#888\" stroke-width=\"1\" opacity=\"1\"/><line transform=\"translate(550,0)\" x2=\"0\" y2=\"5\" stroke=\"#888\" stroke-width=\"1\" opacity=\"1\"/><line transform=\"translate(600,0)\" x2=\"0\" y2=\"5\" stroke=\"#888\" stroke-width=\"1\" opacity=\"1\"/></g><g class=\"mark-text role-axis-label\" pointer-events=\"none\"><text text-anchor=\"start\" transform=\"translate(0,15)\" font-family=\"sans-serif\" font-size=\"10px\" fill=\"#000\" opacity=\"1\">2,400</text><text text-anchor=\"middle\" transform=\"translate(50,15)\" font-family=\"sans-serif\" font-size=\"10px\" fill=\"#000\" opacity=\"1\">2,402</text><text text-anchor=\"middle\" transform=\"translate(100,15)\" font-family=\"sans-serif\" font-size=\"10px\" fill=\"#000\" opacity=\"1\">2,404</text><text text-anchor=\"middle\" transform=\"translate(150,15)\" font-family=\"sans-serif\" font-size=\"10px\" fill=\"#000\" opacity=\"1\">2,406</text><text text-anchor=\"middle\" transform=\"translate(200,15)\" font-family=\"sans-serif\" font-size=\"10px\" fill=\"#000\" opacity=\"1\">2,408</text><text text-anchor=\"middle\" transform=\"translate(250,15)\" font-family=\"sans-serif\" font-size=\"10px\" fill=\"#000\" opacity=\"1\">2,410</text><text text-anchor=\"middle\" transform=\"translate(300,15)\" font-family=\"sans-serif\" font-size=\"10px\" fill=\"#000\" opacity=\"1\">2,412</text><text text-anchor=\"middle\" transform=\"translate(350,15)\" font-family=\"sans-serif\" font-size=\"10px\" fill=\"#000\" opacity=\"1\">2,414</text><text text-anchor=\"middle\" transform=\"translate(400,15)\" font-family=\"sans-serif\" font-size=\"10px\" fill=\"#000\" opacity=\"1\">2,416</text><text text-anchor=\"middle\" transform=\"translate(450,15)\" font-family=\"sans-serif\" font-size=\"10px\" fill=\"#000\" opacity=\"1\">2,418</text><text text-anchor=\"middle\" transform=\"translate(500,15)\" font-family=\"sans-serif\" font-size=\"10px\" fill=\"#000\" opacity=\"1\">2,420</text><text text-anchor=\"middle\" transform=\"translate(550,15)\" font-family=\"sans-serif\" font-size=\"10px\" fill=\"#000\" opacity=\"1\">2,422</text><text text-anchor=\"end\" transform=\"translate(600,15)\" font-family=\"sans-serif\" font-size=\"10px\" fill=\"#000\" opacity=\"1\">2,424</text></g><g class=\"mark-rule role-axis-domain\" pointer-events=\"none\"><line transform=\"translate(0,0)\" x2=\"600\" y2=\"0\" stroke=\"#888\" stroke-width=\"1\" opacity=\"1\"/></g><g class=\"mark-text role-axis-title\" pointer-events=\"none\"><text text-anchor=\"middle\" transform=\"translate(300,30)\" font-family=\"sans-serif\" font-size=\"11px\" font-weight=\"bold\" fill=\"#000\" opacity=\"1\">hour</text></g></g><path class=\"foreground\" aria-hidden=\"true\" d=\"\" pointer-events=\"none\" display=\"none\"/></g></g><g class=\"mark-group role-axis\" role=\"graphics-symbol\" aria-roledescription=\"axis\" aria-label=\"Y-axis titled 'gen_sum' for a linear scale with values from 0 to 3,500\"><g transform=\"translate(0.5,0.5)\"><path class=\"background\" aria-hidden=\"true\" d=\"M0,0h0v0h0Z\" pointer-events=\"none\"/><g><g class=\"mark-rule role-axis-tick\" pointer-events=\"none\"><line transform=\"translate(0,600)\" x2=\"-5\" y2=\"0\" stroke=\"#888\" stroke-width=\"1\" opacity=\"1\"/><line transform=\"translate(0,566)\" x2=\"-5\" y2=\"0\" stroke=\"#888\" stroke-width=\"1\" opacity=\"1\"/><line transform=\"translate(0,531)\" x2=\"-5\" y2=\"0\" stroke=\"#888\" stroke-width=\"1\" opacity=\"1\"/><line transform=\"translate(0,497)\" x2=\"-5\" y2=\"0\" stroke=\"#888\" stroke-width=\"1\" opacity=\"1\"/><line transform=\"translate(0,463)\" x2=\"-5\" y2=\"0\" stroke=\"#888\" stroke-width=\"1\" opacity=\"1\"/><line transform=\"translate(0,429)\" x2=\"-5\" y2=\"0\" stroke=\"#888\" stroke-width=\"1\" opacity=\"1\"/><line transform=\"translate(0,394)\" x2=\"-5\" y2=\"0\" stroke=\"#888\" stroke-width=\"1\" opacity=\"1\"/><line transform=\"translate(0,360)\" x2=\"-5\" y2=\"0\" stroke=\"#888\" stroke-width=\"1\" opacity=\"1\"/><line transform=\"translate(0,326)\" x2=\"-5\" y2=\"0\" stroke=\"#888\" stroke-width=\"1\" opacity=\"1\"/><line transform=\"translate(0,291)\" x2=\"-5\" y2=\"0\" stroke=\"#888\" stroke-width=\"1\" opacity=\"1\"/><line transform=\"translate(0,257)\" x2=\"-5\" y2=\"0\" stroke=\"#888\" stroke-width=\"1\" opacity=\"1\"/><line transform=\"translate(0,223)\" x2=\"-5\" y2=\"0\" stroke=\"#888\" stroke-width=\"1\" opacity=\"1\"/><line transform=\"translate(0,189)\" x2=\"-5\" y2=\"0\" stroke=\"#888\" stroke-width=\"1\" opacity=\"1\"/><line transform=\"translate(0,154)\" x2=\"-5\" y2=\"0\" stroke=\"#888\" stroke-width=\"1\" opacity=\"1\"/><line transform=\"translate(0,120)\" x2=\"-5\" y2=\"0\" stroke=\"#888\" stroke-width=\"1\" opacity=\"1\"/><line transform=\"translate(0,86)\" x2=\"-5\" y2=\"0\" stroke=\"#888\" stroke-width=\"1\" opacity=\"1\"/><line transform=\"translate(0,51)\" x2=\"-5\" y2=\"0\" stroke=\"#888\" stroke-width=\"1\" opacity=\"1\"/><line transform=\"translate(0,17)\" x2=\"-5\" y2=\"0\" stroke=\"#888\" stroke-width=\"1\" opacity=\"1\"/></g><g class=\"mark-text role-axis-label\" pointer-events=\"none\"><text text-anchor=\"end\" transform=\"translate(-7,603)\" font-family=\"sans-serif\" font-size=\"10px\" fill=\"#000\" opacity=\"1\">0</text><text text-anchor=\"end\" transform=\"translate(-7,568.7142857142857)\" font-family=\"sans-serif\" font-size=\"10px\" fill=\"#000\" opacity=\"1\">200</text><text text-anchor=\"end\" transform=\"translate(-7,534.4285714285714)\" font-family=\"sans-serif\" font-size=\"10px\" fill=\"#000\" opacity=\"1\">400</text><text text-anchor=\"end\" transform=\"translate(-7,500.1428571428571)\" font-family=\"sans-serif\" font-size=\"10px\" fill=\"#000\" opacity=\"1\">600</text><text text-anchor=\"end\" transform=\"translate(-7,465.8571428571429)\" font-family=\"sans-serif\" font-size=\"10px\" fill=\"#000\" opacity=\"1\">800</text><text text-anchor=\"end\" transform=\"translate(-7,431.57142857142856)\" font-family=\"sans-serif\" font-size=\"10px\" fill=\"#000\" opacity=\"1\">1,000</text><text text-anchor=\"end\" transform=\"translate(-7,397.2857142857143)\" font-family=\"sans-serif\" font-size=\"10px\" fill=\"#000\" opacity=\"1\">1,200</text><text text-anchor=\"end\" transform=\"translate(-7,363)\" font-family=\"sans-serif\" font-size=\"10px\" fill=\"#000\" opacity=\"1\">1,400</text><text text-anchor=\"end\" transform=\"translate(-7,328.7142857142858)\" font-family=\"sans-serif\" font-size=\"10px\" fill=\"#000\" opacity=\"1\">1,600</text><text text-anchor=\"end\" transform=\"translate(-7,294.42857142857144)\" font-family=\"sans-serif\" font-size=\"10px\" fill=\"#000\" opacity=\"1\">1,800</text><text text-anchor=\"end\" transform=\"translate(-7,260.14285714285717)\" font-family=\"sans-serif\" font-size=\"10px\" fill=\"#000\" opacity=\"1\">2,000</text><text text-anchor=\"end\" transform=\"translate(-7,225.85714285714286)\" font-family=\"sans-serif\" font-size=\"10px\" fill=\"#000\" opacity=\"1\">2,200</text><text text-anchor=\"end\" transform=\"translate(-7,191.57142857142856)\" font-family=\"sans-serif\" font-size=\"10px\" fill=\"#000\" opacity=\"1\">2,400</text><text text-anchor=\"end\" transform=\"translate(-7,157.28571428571428)\" font-family=\"sans-serif\" font-size=\"10px\" fill=\"#000\" opacity=\"1\">2,600</text><text text-anchor=\"end\" transform=\"translate(-7,122.99999999999997)\" font-family=\"sans-serif\" font-size=\"10px\" fill=\"#000\" opacity=\"1\">2,800</text><text text-anchor=\"end\" transform=\"translate(-7,88.71428571428574)\" font-family=\"sans-serif\" font-size=\"10px\" fill=\"#000\" opacity=\"1\">3,000</text><text text-anchor=\"end\" transform=\"translate(-7,54.428571428571445)\" font-family=\"sans-serif\" font-size=\"10px\" fill=\"#000\" opacity=\"1\">3,200</text><text text-anchor=\"end\" transform=\"translate(-7,20.14285714285715)\" font-family=\"sans-serif\" font-size=\"10px\" fill=\"#000\" opacity=\"1\">3,400</text></g><g class=\"mark-rule role-axis-domain\" pointer-events=\"none\"><line transform=\"translate(0,600)\" x2=\"0\" y2=\"-600\" stroke=\"#888\" stroke-width=\"1\" opacity=\"1\"/></g><g class=\"mark-text role-axis-title\" pointer-events=\"none\"><text text-anchor=\"middle\" transform=\"translate(-38,300) rotate(-90) translate(0,-2)\" font-family=\"sans-serif\" font-size=\"11px\" font-weight=\"bold\" fill=\"#000\" opacity=\"1\">gen_sum</text></g></g><path class=\"foreground\" aria-hidden=\"true\" d=\"\" pointer-events=\"none\" display=\"none\"/></g></g><g class=\"mark-group role-scope pathgroup\" role=\"graphics-object\" aria-roledescription=\"group mark container\"><g transform=\"translate(0,0)\"><path class=\"background\" aria-hidden=\"true\" d=\"M0,0h600v600h-600Z\"/><g><g class=\"mark-area role-mark marks\" role=\"graphics-object\" aria-roledescription=\"area mark container\"><path aria-label=\"hour: 2401; gen_sum: 163.3088; resource: _onshore_wind_turbine\" role=\"graphics-symbol\" aria-roledescription=\"area mark\" d=\"M25,323.14285714285717L50,333.77142857142854L75,339.77142857142854L100,332.2285714285715L125,302.9142857142857L150,261.2571428571428L175,204.48342857142862L200,132.05828571428572L225,64.3611428571429L250,22.556571428571417L275,2.170285714285658L300,28.91314285714288L325,63.46971428571424L350,76.57714285714286L375,93.86400000000002L400,115.93714285714292L425,136.68342857142858L450,159.74400000000003L475,187.43657142857145L500,171.2571428571429L525,170.4L550,212.9142857142857L575,259.20000000000005L600,298.2857142857143L600,323.0436205714285L575,280.8804205714286L550,229.37976685714284L525,182.72859428571428L500,181.78773942857146L475,196.45640228571426L450,173.22152228571431L425,146.48661942857146L400,127.1503817142857L375,102.30190628571434L350,87.66728228571425L325,72.4000182857143L300,44.703442285714345L275,21.232045714285697L250,45.10987885714282L225,93.0507702857143L200,140.52230400000002L175,217.1999725714286L150,285.11605028571427L125,316.7275337142857L100,349.4662217142858L75,359.50464L50,362.878848L25,351.13865142857145Z\" fill=\"#1f77b4\"/></g></g><path class=\"foreground\" aria-hidden=\"true\" d=\"\" display=\"none\"/></g><g transform=\"translate(0,0)\"><path class=\"background\" aria-hidden=\"true\" d=\"M0,0h600v600h-600Z\"/><g><g class=\"mark-area role-mark marks\" role=\"graphics-object\" aria-roledescription=\"area mark container\"><path aria-label=\"hour: 2401; gen_sum: 3.184932; resource: _small_hydroelectric\" role=\"graphics-symbol\" aria-roledescription=\"area mark\" d=\"M25,351.13865142857145L50,362.878848L75,359.50464L100,349.4662217142858L125,316.7275337142857L150,285.11605028571427L175,217.1999725714286L200,140.52230400000002L225,93.0507702857143L250,45.10987885714282L275,21.232045714285697L300,44.703442285714345L325,72.4000182857143L350,87.66728228571425L375,102.30190628571434L400,127.1503817142857L425,146.48661942857146L450,173.22152228571431L475,196.45640228571426L500,181.78773942857146L525,182.72859428571428L550,229.37976685714284L575,280.8804205714286L600,323.0436205714285L600,323.58960891428563L575,281.42640891428573L550,229.92575520000003L525,183.2745826285714L500,182.33372777142858L475,197.00239062857145L450,173.76751062857144L425,147.03260777142867L400,127.6963700571429L375,102.84789462857147L350,88.21327062857145L325,72.94600662857142L300,45.249430628571474L275,21.778034057142893L250,45.655867199999946L225,93.59675862857142L200,141.06829234285715L175,217.74596091428572L150,285.6620386285714L125,317.2735220571428L100,350.0122100571429L75,360.0506283428571L50,363.42483634285713L25,351.6846397714286Z\" fill=\"#aec7e8\"/></g></g><path class=\"foreground\" aria-hidden=\"true\" d=\"\" display=\"none\"/></g><g transform=\"translate(0,0)\"><path class=\"background\" aria-hidden=\"true\" d=\"M0,0h600v600h-600Z\"/><g><g class=\"mark-area role-mark marks\" role=\"graphics-object\" aria-roledescription=\"area mark container\"><path aria-label=\"hour: 2401; gen_sum: 0; resource: _solar_photovoltaic\" role=\"graphics-symbol\" aria-roledescription=\"area mark\" d=\"M25,351.6846397714286L50,363.42483634285713L75,360.0506283428571L100,350.0122100571429L125,317.2735220571428L150,285.6620386285714L175,217.74596091428572L200,141.06829234285715L225,93.59675862857142L250,45.655867199999946L275,21.778034057142893L300,45.249430628571474L325,72.94600662857142L350,88.21327062857145L375,102.84789462857147L400,127.6963700571429L425,147.03260777142867L450,173.76751062857144L475,197.00239062857145L500,182.33372777142858L525,183.2745826285714L550,229.92575520000003L575,281.42640891428573L600,323.58960891428563L600,323.58960891428563L575,281.42640891428573L550,229.92575520000003L525,183.2745826285714L500,182.33372777142858L475,225.62239062857142L450,367.92751062857144L425,427.71260777142857L400,469.3963700571429L375,477.3078946285715L350,475.5132706285714L325,459.70600662857146L300,413.58943062857145L275,384.1180340571429L250,391.0758672L225,380.1567586285714L200,273.7282923428571L175,250.92596091428572L150,285.6620386285714L125,317.2735220571428L100,350.0122100571429L75,360.0506283428571L50,363.42483634285713L25,351.6846397714286Z\" fill=\"#ff7f0e\"/></g></g><path class=\"foreground\" aria-hidden=\"true\" d=\"\" display=\"none\"/></g><g transform=\"translate(0,0)\"><path class=\"background\" aria-hidden=\"true\" d=\"M0,0h600v600h-600Z\"/><g><g class=\"mark-area role-mark marks\" role=\"graphics-object\" aria-roledescription=\"area mark container\"><path aria-label=\"hour: 2401; gen_sum: 0; resource: _solar_photovoltaic_btm\" role=\"graphics-symbol\" aria-roledescription=\"area mark\" d=\"M25,351.6846397714286L50,363.42483634285713L75,360.0506283428571L100,350.0122100571429L125,317.2735220571428L150,285.6620386285714L175,250.92596091428572L200,273.7282923428571L225,380.1567586285714L250,391.0758672L275,384.1180340571429L300,413.58943062857145L325,459.70600662857146L350,475.51327062857143L375,477.3078946285715L400,469.3963700571429L425,427.71260777142857L450,367.92751062857144L475,225.62239062857142L500,182.33372777142858L525,183.2745826285714L550,229.92575520000003L575,281.42640891428573L600,323.58960891428563L600,323.58960891428563L575,281.42640891428573L550,229.92575520000003L525,183.2745826285714L500,182.33372777142858L475,230.5286763428571L450,401.2120820571429L425,475.82917920000006L400,527.9735129142857L375,541.5010374857143L350,541.9075563428572L325,526.0077209142858L300,476.73343062857145L275,446.23346262857143L250,450.2907243428572L225,429.28133005714284L200,296.4700066285714L175,256.61396091428577L150,285.6620386285714L125,317.2735220571428L100,350.0122100571429L75,360.0506283428571L50,363.42483634285713L25,351.6846397714286Z\" fill=\"#ffbb78\"/></g></g><path class=\"foreground\" aria-hidden=\"true\" d=\"\" display=\"none\"/></g><g transform=\"translate(0,0)\"><path class=\"background\" aria-hidden=\"true\" d=\"M0,0h600v600h-600Z\"/><g><g class=\"mark-area role-mark marks\" role=\"graphics-object\" aria-roledescription=\"area mark container\"><path aria-label=\"hour: 2401; gen_sum: 21.4; resource: biomass\" role=\"graphics-symbol\" aria-roledescription=\"area mark\" d=\"M25,351.6846397714286L50,363.42483634285713L75,360.0506283428571L100,350.0122100571429L125,317.2735220571428L150,285.6620386285714L175,256.61396091428577L200,296.4700066285714L225,429.28133005714284L250,450.2907243428572L275,446.23346262857143L300,476.73343062857145L325,526.0077209142858L350,541.9075563428572L375,541.5010374857143L400,527.9735129142857L425,475.82917920000006L450,401.2120820571429L475,230.5286763428571L500,182.33372777142858L525,183.2745826285714L550,229.92575520000003L575,281.42640891428573L600,323.58960891428563L600,327.2581803428571L575,285.0949803428572L550,233.59432662857148L525,186.94315405714286L500,186.0022992L475,234.19724777142855L450,404.88065348571433L425,479.49775062857145L400,531.6420843428572L375,545.1696089142857L350,545.5761277714286L325,529.6762923428571L300,480.4020020571429L275,449.9020340571429L250,453.95929577142863L225,432.9499014857143L200,300.1385780571429L175,260.28253234285717L150,289.33061005714285L125,320.9420934857143L100,353.68078148571436L75,363.7191997714286L50,367.0934077714286L25,355.35321120000003Z\" fill=\"#2ca02c\"/></g></g><path class=\"foreground\" aria-hidden=\"true\" d=\"\" display=\"none\"/></g><g transform=\"translate(0,0)\"><path class=\"background\" aria-hidden=\"true\" d=\"M0,0h600v600h-600Z\"/><g><g class=\"mark-area role-mark marks\" role=\"graphics-object\" aria-roledescription=\"area mark container\"><path aria-label=\"hour: 2401; gen_sum: 42; resource: hydroelectric_pumped_storage\" role=\"graphics-symbol\" aria-roledescription=\"area mark\" d=\"M25,355.35321120000003L50,367.0934077714286L75,363.7191997714286L100,353.68078148571436L125,320.9420934857143L150,289.33061005714285L175,260.28253234285717L200,300.1385780571429L225,432.9499014857143L250,453.95929577142863L275,449.9020340571429L300,480.4020020571429L325,529.6762923428571L350,545.5761277714286L375,545.1696089142857L400,531.6420843428572L425,479.49775062857145L450,404.88065348571433L475,234.19724777142855L500,186.0022992L525,186.94315405714286L550,233.59432662857148L575,285.0949803428572L600,327.2581803428571L600,334.4581803428571L575,292.2949803428572L550,240.79432662857147L525,194.14315405714285L500,193.20229920000003L475,241.39724777142854L450,412.08065348571427L425,486.69775062857144L400,538.8420843428572L375,552.3696089142857L350,552.7761277714286L325,536.8762923428571L300,487.60200205714284L275,457.1020340571429L250,461.15929577142856L225,440.1499014857143L200,307.3385780571429L175,267.4825323428572L150,296.53061005714284L125,328.14209348571427L100,360.88078148571435L75,370.91919977142857L50,374.2934077714286L25,362.5532112Z\" fill=\"#98df8a\"/></g></g><path class=\"foreground\" aria-hidden=\"true\" d=\"\" display=\"none\"/></g><g transform=\"translate(0,0)\"><path class=\"background\" aria-hidden=\"true\" d=\"M0,0h600v600h-600Z\"/><g><g class=\"mark-area role-mark marks\" role=\"graphics-object\" aria-roledescription=\"area mark container\"><path aria-label=\"hour: 2401; gen_sum: 1385.106268; resource: natural_gas_fired_combined_cycle\" role=\"graphics-symbol\" aria-roledescription=\"area mark\" d=\"M25,362.5532112L50,374.2934077714286L75,370.91919977142857L100,360.88078148571435L125,328.14209348571427L150,296.53061005714284L175,267.4825323428572L200,307.3385780571429L225,440.1499014857143L250,461.15929577142856L275,457.1020340571429L300,487.60200205714284L325,536.8762923428571L350,552.7761277714286L375,552.3696089142857L400,538.8420843428572L425,486.69775062857144L450,412.08065348571427L475,241.39724777142854L500,193.20229920000003L525,194.14315405714285L550,240.79432662857147L575,292.2949803428572L600,334.4581803428571L600,600L575,600L550,571.3943266285714L525,524.7431540571429L500,523.8022992L475,569.2749620571428L450,600L425,600L400,600L375,600L350,600L325,600L300,600L275,600L250,600L225,600L200,600L175,598.0825323428571L150,600L125,600L100,600L75,600L50,600L25,600Z\" fill=\"#d62728\"/></g></g><path class=\"foreground\" aria-hidden=\"true\" d=\"\" display=\"none\"/></g><g transform=\"translate(0,0)\"><path class=\"background\" aria-hidden=\"true\" d=\"M0,0h600v600h-600Z\"/><g><g class=\"mark-area role-mark marks\" role=\"graphics-object\" aria-roledescription=\"area mark container\"><path aria-label=\"hour: 2401; gen_sum: 0; resource: natural_gas_fired_combustion_turbine\" role=\"graphics-symbol\" aria-roledescription=\"area mark\" d=\"M25,600L50,600L75,600L100,600L125,600L150,600L175,598.0825323428571L200,600L225,600L250,600L275,600L300,600L325,600L350,600L375,600L400,600L425,600L450,600L475,569.2749620571428L500,523.8022992L525,524.7431540571429L550,571.3943266285714L575,600L600,600L600,600L575,600L550,600L525,600L500,600L475,600L450,600L425,600L400,600L375,600L350,600L325,600L300,600L275,600L250,600L225,600L200,600L175,600L150,600L125,600L100,600L75,600L50,600L25,600Z\" fill=\"#ff9896\"/></g></g><path class=\"foreground\" aria-hidden=\"true\" d=\"\" display=\"none\"/></g></g><g class=\"mark-group role-legend\" role=\"graphics-symbol\" aria-roledescription=\"legend\" aria-label=\"Symbol legend titled 'resource' for fill color with 8 values: _onshore_wind_turbine, _small_hydroelectric, _solar_photovoltaic, _solar_photovoltaic_btm, biomass, ending with natural_gas_fired_combustion_turbine\"><g transform=\"translate(618,0)\"><path class=\"background\" aria-hidden=\"true\" d=\"M0,0h175v118h-175Z\" pointer-events=\"none\"/><g><g class=\"mark-group role-legend-entry\"><g transform=\"translate(0,16)\"><path class=\"background\" aria-hidden=\"true\" d=\"M0,0h0v0h0Z\" pointer-events=\"none\"/><g><g class=\"mark-group role-scope\" role=\"graphics-object\" aria-roledescription=\"group mark container\"><g transform=\"translate(0,0)\"><path class=\"background\" aria-hidden=\"true\" d=\"M0,0h175v11h-175Z\" pointer-events=\"none\" opacity=\"1\"/><g><g class=\"mark-symbol role-legend-symbol\" pointer-events=\"none\"><path transform=\"translate(6,6)\" d=\"M5,0A5,5,0,1,1,-5,0A5,5,0,1,1,5,0\" fill=\"#1f77b4\" stroke-width=\"1.5\" opacity=\"1\"/></g><g class=\"mark-text role-legend-label\" pointer-events=\"none\"><text text-anchor=\"start\" transform=\"translate(16,9)\" font-family=\"sans-serif\" font-size=\"10px\" fill=\"#000\" opacity=\"1\">_onshore_wind_turbine</text></g></g><path class=\"foreground\" aria-hidden=\"true\" d=\"\" pointer-events=\"none\" display=\"none\"/></g><g transform=\"translate(0,13)\"><path class=\"background\" aria-hidden=\"true\" d=\"M0,0h175v11h-175Z\" pointer-events=\"none\" opacity=\"1\"/><g><g class=\"mark-symbol role-legend-symbol\" pointer-events=\"none\"><path transform=\"translate(6,6)\" d=\"M5,0A5,5,0,1,1,-5,0A5,5,0,1,1,5,0\" fill=\"#aec7e8\" stroke-width=\"1.5\" opacity=\"1\"/></g><g class=\"mark-text role-legend-label\" pointer-events=\"none\"><text text-anchor=\"start\" transform=\"translate(16,9)\" font-family=\"sans-serif\" font-size=\"10px\" fill=\"#000\" opacity=\"1\">_small_hydroelectric</text></g></g><path class=\"foreground\" aria-hidden=\"true\" d=\"\" pointer-events=\"none\" display=\"none\"/></g><g transform=\"translate(0,26)\"><path class=\"background\" aria-hidden=\"true\" d=\"M0,0h175v11h-175Z\" pointer-events=\"none\" opacity=\"1\"/><g><g class=\"mark-symbol role-legend-symbol\" pointer-events=\"none\"><path transform=\"translate(6,6)\" d=\"M5,0A5,5,0,1,1,-5,0A5,5,0,1,1,5,0\" fill=\"#ff7f0e\" stroke-width=\"1.5\" opacity=\"1\"/></g><g class=\"mark-text role-legend-label\" pointer-events=\"none\"><text text-anchor=\"start\" transform=\"translate(16,9)\" font-family=\"sans-serif\" font-size=\"10px\" fill=\"#000\" opacity=\"1\">_solar_photovoltaic</text></g></g><path class=\"foreground\" aria-hidden=\"true\" d=\"\" pointer-events=\"none\" display=\"none\"/></g><g transform=\"translate(0,39)\"><path class=\"background\" aria-hidden=\"true\" d=\"M0,0h175v11h-175Z\" pointer-events=\"none\" opacity=\"1\"/><g><g class=\"mark-symbol role-legend-symbol\" pointer-events=\"none\"><path transform=\"translate(6,6)\" d=\"M5,0A5,5,0,1,1,-5,0A5,5,0,1,1,5,0\" fill=\"#ffbb78\" stroke-width=\"1.5\" opacity=\"1\"/></g><g class=\"mark-text role-legend-label\" pointer-events=\"none\"><text text-anchor=\"start\" transform=\"translate(16,9)\" font-family=\"sans-serif\" font-size=\"10px\" fill=\"#000\" opacity=\"1\">_solar_photovoltaic_btm</text></g></g><path class=\"foreground\" aria-hidden=\"true\" d=\"\" pointer-events=\"none\" display=\"none\"/></g><g transform=\"translate(0,52)\"><path class=\"background\" aria-hidden=\"true\" d=\"M0,0h175v11h-175Z\" pointer-events=\"none\" opacity=\"1\"/><g><g class=\"mark-symbol role-legend-symbol\" pointer-events=\"none\"><path transform=\"translate(6,6)\" d=\"M5,0A5,5,0,1,1,-5,0A5,5,0,1,1,5,0\" fill=\"#2ca02c\" stroke-width=\"1.5\" opacity=\"1\"/></g><g class=\"mark-text role-legend-label\" pointer-events=\"none\"><text text-anchor=\"start\" transform=\"translate(16,9)\" font-family=\"sans-serif\" font-size=\"10px\" fill=\"#000\" opacity=\"1\">biomass</text></g></g><path class=\"foreground\" aria-hidden=\"true\" d=\"\" pointer-events=\"none\" display=\"none\"/></g><g transform=\"translate(0,65)\"><path class=\"background\" aria-hidden=\"true\" d=\"M0,0h175v11h-175Z\" pointer-events=\"none\" opacity=\"1\"/><g><g class=\"mark-symbol role-legend-symbol\" pointer-events=\"none\"><path transform=\"translate(6,6)\" d=\"M5,0A5,5,0,1,1,-5,0A5,5,0,1,1,5,0\" fill=\"#98df8a\" stroke-width=\"1.5\" opacity=\"1\"/></g><g class=\"mark-text role-legend-label\" pointer-events=\"none\"><text text-anchor=\"start\" transform=\"translate(16,9)\" font-family=\"sans-serif\" font-size=\"10px\" fill=\"#000\" opacity=\"1\">hydroelectric_pumped_storage</text></g></g><path class=\"foreground\" aria-hidden=\"true\" d=\"\" pointer-events=\"none\" display=\"none\"/></g><g transform=\"translate(0,78)\"><path class=\"background\" aria-hidden=\"true\" d=\"M0,0h175v11h-175Z\" pointer-events=\"none\" opacity=\"1\"/><g><g class=\"mark-symbol role-legend-symbol\" pointer-events=\"none\"><path transform=\"translate(6,6)\" d=\"M5,0A5,5,0,1,1,-5,0A5,5,0,1,1,5,0\" fill=\"#d62728\" stroke-width=\"1.5\" opacity=\"1\"/></g><g class=\"mark-text role-legend-label\" pointer-events=\"none\"><text text-anchor=\"start\" transform=\"translate(16,9)\" font-family=\"sans-serif\" font-size=\"10px\" fill=\"#000\" opacity=\"1\">natural_gas_fired_combined_cy…</text></g></g><path class=\"foreground\" aria-hidden=\"true\" d=\"\" pointer-events=\"none\" display=\"none\"/></g><g transform=\"translate(0,91)\"><path class=\"background\" aria-hidden=\"true\" d=\"M0,0h175v11h-175Z\" pointer-events=\"none\" opacity=\"1\"/><g><g class=\"mark-symbol role-legend-symbol\" pointer-events=\"none\"><path transform=\"translate(6,6)\" d=\"M5,0A5,5,0,1,1,-5,0A5,5,0,1,1,5,0\" fill=\"#ff9896\" stroke-width=\"1.5\" opacity=\"1\"/></g><g class=\"mark-text role-legend-label\" pointer-events=\"none\"><text text-anchor=\"start\" transform=\"translate(16,9)\" font-family=\"sans-serif\" font-size=\"10px\" fill=\"#000\" opacity=\"1\">natural_gas_fired_combustion_t…</text></g></g><path class=\"foreground\" aria-hidden=\"true\" d=\"\" pointer-events=\"none\" display=\"none\"/></g></g></g><path class=\"foreground\" aria-hidden=\"true\" d=\"\" pointer-events=\"none\" display=\"none\"/></g></g><g class=\"mark-text role-legend-title\" pointer-events=\"none\"><text text-anchor=\"start\" transform=\"translate(0,9)\" font-family=\"sans-serif\" font-size=\"11px\" font-weight=\"bold\" fill=\"#000\" opacity=\"1\">resource</text></g></g><path class=\"foreground\" aria-hidden=\"true\" d=\"\" pointer-events=\"none\" display=\"none\"/></g></g></g><path class=\"foreground\" aria-hidden=\"true\" d=\"\" display=\"none\"/></g></g></g></svg>\n"
      ],
      "text/plain": [
       "@vlplot(\n",
       "    width=600,\n",
       "    height=600,\n",
       "    mark=\"area\",\n",
       "    encoding={\n",
       "        x={\n",
       "            field=\"hour\"\n",
       "        },\n",
       "        y={\n",
       "            stack=\"zero\",\n",
       "            field=\"gen_sum\"\n",
       "        },\n",
       "        color={\n",
       "            scale={\n",
       "                scheme=\"category20\"\n",
       "            },\n",
       "            field=\"resource\",\n",
       "            type=\"nominal\"\n",
       "        }\n",
       "    },\n",
       "    data={\n",
       "        values=...\n",
       "    }\n",
       ")"
      ]
     },
     "execution_count": 38,
     "metadata": {},
     "output_type": "execute_result"
    }
   ],
   "source": [
    "# Increase solar photovoltaic capacity\n",
    "gen_df_sens = copy(gen_df)\n",
    "gen_df_sens[gen_df_sens.resource .== \"solar_photovoltaic\",\n",
    "    :existing_cap_mw] .= 3500\n",
    "\n",
    "solution = economic_dispatch_multi_time(gen_df_sens, loads_multi, gen_variable_multi);\n",
    "\n",
    "sol_gen = innerjoin(solution.solution, \n",
    "                    gen_df[!, [:r_id, :resource]], \n",
    "                    on = :r_id)\n",
    "\n",
    "sol_gen = combine(groupby(sol_gen, [:resource, :hour]), \n",
    "            :gen => sum)\n",
    "sol_gen_btm = copy(sol_gen)\n",
    "sol_gen_btm[sol_gen_btm.resource .== \"solar_photovoltaic\", :resource] .= \"_solar_photovoltaic\"\n",
    "sol_gen_btm[sol_gen_btm.resource .== \"onshore_wind_turbine\", :resource] .= \"_onshore_wind_turbine\"\n",
    "sol_gen_btm[sol_gen_btm.resource .== \"small_hydroelectric\", :resource] .= \"_small_hydroelectric\"\n",
    "\n",
    "btm = DataFrame(resource = repeat([\"_solar_photovoltaic_btm\"]; outer=length(T_period)), \n",
    "    hour = T_period,\n",
    "    gen_sum = gen_variable_multi[gen_variable_multi.gen_full .== \"wec_sdge_solar_photovoltaic_1.0\",:cf] * 600)\n",
    "append!(sol_gen_btm, btm)\n",
    "\n",
    "# Reorder resources\n",
    "sort!(sol_gen_btm, [:hour, :resource])\n",
    "\n",
    "# Plot and save the resulting generation figure\n",
    "p = sol_gen_btm |>\n",
    "@vlplot(:area, \n",
    "    x=:hour, y={:gen_sum, stack=:zero}, \n",
    "    color={\"resource:n\", scale={scheme=\"category20\"}},\n",
    "    width=600,height=600)\n",
    "save(\"results/sol_gen_btm.png\",p)\n",
    "p"
   ]
  },
  {
   "cell_type": "markdown",
   "metadata": {},
   "source": [
    "You may notice that the model still uses combustion turbines (light pink above) during hours when there is sufficient capacity of combined cycle plants, which are more efficient. This is because of ramp limits, which we will examine now.\n",
    "\n",
    "All constraints (in a linear program) have a **\"marginal value\"** (also known as \"shadow price\" or \"dual value\") which is how much the objective would change if the right-hand-side (RHS) of the constraint were increased by one unit. Let's examine the marginal value/dual of the ramp up constraint for the combined cycle plants using the values from the new equation we added to `economic_dispatch_multi_time` (line 72)."
   ]
  },
  {
   "cell_type": "code",
   "execution_count": 39,
   "metadata": {},
   "outputs": [
    {
     "data": {
      "application/vnd.vegalite.v4+json": {
       "data": {
        "values": [
         {
          "gen": 0,
          "hour": 2401,
          "r_id": 3,
          "resource": "natural_gas_fired_combined_cycle"
         },
         {
          "gen": 0,
          "hour": 2401,
          "r_id": 4,
          "resource": "natural_gas_fired_combined_cycle"
         },
         {
          "gen": 0,
          "hour": 2401,
          "r_id": 5,
          "resource": "natural_gas_fired_combined_cycle"
         },
         {
          "gen": 0,
          "hour": 2401,
          "r_id": 6,
          "resource": "natural_gas_fired_combined_cycle"
         },
         {
          "gen": 0,
          "hour": 2401,
          "r_id": 7,
          "resource": "natural_gas_fired_combined_cycle"
         },
         {
          "gen": 0,
          "hour": 2401,
          "r_id": 8,
          "resource": "natural_gas_fired_combined_cycle"
         },
         {
          "gen": 0,
          "hour": 2402,
          "r_id": 3,
          "resource": "natural_gas_fired_combined_cycle"
         },
         {
          "gen": 0,
          "hour": 2402,
          "r_id": 4,
          "resource": "natural_gas_fired_combined_cycle"
         },
         {
          "gen": 0,
          "hour": 2402,
          "r_id": 5,
          "resource": "natural_gas_fired_combined_cycle"
         },
         {
          "gen": 0,
          "hour": 2402,
          "r_id": 6,
          "resource": "natural_gas_fired_combined_cycle"
         },
         {
          "gen": 0,
          "hour": 2402,
          "r_id": 7,
          "resource": "natural_gas_fired_combined_cycle"
         },
         {
          "gen": 0,
          "hour": 2402,
          "r_id": 8,
          "resource": "natural_gas_fired_combined_cycle"
         },
         {
          "gen": 0,
          "hour": 2403,
          "r_id": 3,
          "resource": "natural_gas_fired_combined_cycle"
         },
         {
          "gen": 0,
          "hour": 2403,
          "r_id": 4,
          "resource": "natural_gas_fired_combined_cycle"
         },
         {
          "gen": 0,
          "hour": 2403,
          "r_id": 5,
          "resource": "natural_gas_fired_combined_cycle"
         },
         {
          "gen": 0,
          "hour": 2403,
          "r_id": 6,
          "resource": "natural_gas_fired_combined_cycle"
         },
         {
          "gen": 0,
          "hour": 2403,
          "r_id": 7,
          "resource": "natural_gas_fired_combined_cycle"
         },
         {
          "gen": 0,
          "hour": 2403,
          "r_id": 8,
          "resource": "natural_gas_fired_combined_cycle"
         },
         {
          "gen": 0,
          "hour": 2404,
          "r_id": 3,
          "resource": "natural_gas_fired_combined_cycle"
         },
         {
          "gen": 0,
          "hour": 2404,
          "r_id": 4,
          "resource": "natural_gas_fired_combined_cycle"
         },
         {
          "gen": 0,
          "hour": 2404,
          "r_id": 5,
          "resource": "natural_gas_fired_combined_cycle"
         },
         {
          "gen": 0,
          "hour": 2404,
          "r_id": 6,
          "resource": "natural_gas_fired_combined_cycle"
         },
         {
          "gen": 0,
          "hour": 2404,
          "r_id": 7,
          "resource": "natural_gas_fired_combined_cycle"
         },
         {
          "gen": 0,
          "hour": 2404,
          "r_id": 8,
          "resource": "natural_gas_fired_combined_cycle"
         },
         {
          "gen": 0,
          "hour": 2405,
          "r_id": 3,
          "resource": "natural_gas_fired_combined_cycle"
         },
         {
          "gen": 0,
          "hour": 2405,
          "r_id": 4,
          "resource": "natural_gas_fired_combined_cycle"
         },
         {
          "gen": 0,
          "hour": 2405,
          "r_id": 5,
          "resource": "natural_gas_fired_combined_cycle"
         },
         {
          "gen": 0,
          "hour": 2405,
          "r_id": 6,
          "resource": "natural_gas_fired_combined_cycle"
         },
         {
          "gen": 0,
          "hour": 2405,
          "r_id": 7,
          "resource": "natural_gas_fired_combined_cycle"
         },
         {
          "gen": 0,
          "hour": 2405,
          "r_id": 8,
          "resource": "natural_gas_fired_combined_cycle"
         },
         {
          "gen": 0,
          "hour": 2406,
          "r_id": 3,
          "resource": "natural_gas_fired_combined_cycle"
         },
         {
          "gen": 0,
          "hour": 2406,
          "r_id": 4,
          "resource": "natural_gas_fired_combined_cycle"
         },
         {
          "gen": 0,
          "hour": 2406,
          "r_id": 5,
          "resource": "natural_gas_fired_combined_cycle"
         },
         {
          "gen": 0,
          "hour": 2406,
          "r_id": 6,
          "resource": "natural_gas_fired_combined_cycle"
         },
         {
          "gen": 0,
          "hour": 2406,
          "r_id": 7,
          "resource": "natural_gas_fired_combined_cycle"
         },
         {
          "gen": 0,
          "hour": 2406,
          "r_id": 8,
          "resource": "natural_gas_fired_combined_cycle"
         },
         {
          "gen": 0,
          "hour": 2407,
          "r_id": 3,
          "resource": "natural_gas_fired_combined_cycle"
         },
         {
          "gen": 0,
          "hour": 2407,
          "r_id": 4,
          "resource": "natural_gas_fired_combined_cycle"
         },
         {
          "gen": 0,
          "hour": 2407,
          "r_id": 5,
          "resource": "natural_gas_fired_combined_cycle"
         },
         {
          "gen": 0,
          "hour": 2407,
          "r_id": 6,
          "resource": "natural_gas_fired_combined_cycle"
         },
         {
          "gen": 0,
          "hour": 2407,
          "r_id": 7,
          "resource": "natural_gas_fired_combined_cycle"
         },
         {
          "gen": 0,
          "hour": 2407,
          "r_id": 8,
          "resource": "natural_gas_fired_combined_cycle"
         },
         {
          "gen": 0,
          "hour": 2408,
          "r_id": 3,
          "resource": "natural_gas_fired_combined_cycle"
         },
         {
          "gen": 0,
          "hour": 2408,
          "r_id": 4,
          "resource": "natural_gas_fired_combined_cycle"
         },
         {
          "gen": 0,
          "hour": 2408,
          "r_id": 5,
          "resource": "natural_gas_fired_combined_cycle"
         },
         {
          "gen": 0,
          "hour": 2408,
          "r_id": 6,
          "resource": "natural_gas_fired_combined_cycle"
         },
         {
          "gen": 0,
          "hour": 2408,
          "r_id": 7,
          "resource": "natural_gas_fired_combined_cycle"
         },
         {
          "gen": 0,
          "hour": 2408,
          "r_id": 8,
          "resource": "natural_gas_fired_combined_cycle"
         },
         {
          "gen": 0,
          "hour": 2409,
          "r_id": 3,
          "resource": "natural_gas_fired_combined_cycle"
         },
         {
          "gen": 0,
          "hour": 2409,
          "r_id": 4,
          "resource": "natural_gas_fired_combined_cycle"
         },
         {
          "gen": 0,
          "hour": 2409,
          "r_id": 5,
          "resource": "natural_gas_fired_combined_cycle"
         },
         {
          "gen": 0,
          "hour": 2409,
          "r_id": 6,
          "resource": "natural_gas_fired_combined_cycle"
         },
         {
          "gen": 0,
          "hour": 2409,
          "r_id": 7,
          "resource": "natural_gas_fired_combined_cycle"
         },
         {
          "gen": 0,
          "hour": 2409,
          "r_id": 8,
          "resource": "natural_gas_fired_combined_cycle"
         },
         {
          "gen": 0,
          "hour": 2410,
          "r_id": 3,
          "resource": "natural_gas_fired_combined_cycle"
         },
         {
          "gen": 0,
          "hour": 2410,
          "r_id": 4,
          "resource": "natural_gas_fired_combined_cycle"
         },
         {
          "gen": 0,
          "hour": 2410,
          "r_id": 5,
          "resource": "natural_gas_fired_combined_cycle"
         },
         {
          "gen": 0,
          "hour": 2410,
          "r_id": 6,
          "resource": "natural_gas_fired_combined_cycle"
         },
         {
          "gen": 0,
          "hour": 2410,
          "r_id": 7,
          "resource": "natural_gas_fired_combined_cycle"
         },
         {
          "gen": 0,
          "hour": 2410,
          "r_id": 8,
          "resource": "natural_gas_fired_combined_cycle"
         },
         {
          "gen": 0,
          "hour": 2411,
          "r_id": 3,
          "resource": "natural_gas_fired_combined_cycle"
         },
         {
          "gen": 0,
          "hour": 2411,
          "r_id": 4,
          "resource": "natural_gas_fired_combined_cycle"
         },
         {
          "gen": 0,
          "hour": 2411,
          "r_id": 5,
          "resource": "natural_gas_fired_combined_cycle"
         },
         {
          "gen": 0,
          "hour": 2411,
          "r_id": 6,
          "resource": "natural_gas_fired_combined_cycle"
         },
         {
          "gen": 0,
          "hour": 2411,
          "r_id": 7,
          "resource": "natural_gas_fired_combined_cycle"
         },
         {
          "gen": 0,
          "hour": 2411,
          "r_id": 8,
          "resource": "natural_gas_fired_combined_cycle"
         },
         {
          "gen": 0,
          "hour": 2412,
          "r_id": 3,
          "resource": "natural_gas_fired_combined_cycle"
         },
         {
          "gen": 0,
          "hour": 2412,
          "r_id": 4,
          "resource": "natural_gas_fired_combined_cycle"
         },
         {
          "gen": 0,
          "hour": 2412,
          "r_id": 5,
          "resource": "natural_gas_fired_combined_cycle"
         },
         {
          "gen": 0,
          "hour": 2412,
          "r_id": 6,
          "resource": "natural_gas_fired_combined_cycle"
         },
         {
          "gen": 0,
          "hour": 2412,
          "r_id": 7,
          "resource": "natural_gas_fired_combined_cycle"
         },
         {
          "gen": 0,
          "hour": 2412,
          "r_id": 8,
          "resource": "natural_gas_fired_combined_cycle"
         },
         {
          "gen": 0,
          "hour": 2413,
          "r_id": 3,
          "resource": "natural_gas_fired_combined_cycle"
         },
         {
          "gen": 0,
          "hour": 2413,
          "r_id": 4,
          "resource": "natural_gas_fired_combined_cycle"
         },
         {
          "gen": 0,
          "hour": 2413,
          "r_id": 5,
          "resource": "natural_gas_fired_combined_cycle"
         },
         {
          "gen": 0,
          "hour": 2413,
          "r_id": 6,
          "resource": "natural_gas_fired_combined_cycle"
         },
         {
          "gen": 0,
          "hour": 2413,
          "r_id": 7,
          "resource": "natural_gas_fired_combined_cycle"
         },
         {
          "gen": 0,
          "hour": 2413,
          "r_id": 8,
          "resource": "natural_gas_fired_combined_cycle"
         },
         {
          "gen": 0,
          "hour": 2414,
          "r_id": 3,
          "resource": "natural_gas_fired_combined_cycle"
         },
         {
          "gen": 0,
          "hour": 2414,
          "r_id": 4,
          "resource": "natural_gas_fired_combined_cycle"
         },
         {
          "gen": 0,
          "hour": 2414,
          "r_id": 5,
          "resource": "natural_gas_fired_combined_cycle"
         },
         {
          "gen": 0,
          "hour": 2414,
          "r_id": 6,
          "resource": "natural_gas_fired_combined_cycle"
         },
         {
          "gen": 0,
          "hour": 2414,
          "r_id": 7,
          "resource": "natural_gas_fired_combined_cycle"
         },
         {
          "gen": 0,
          "hour": 2414,
          "r_id": 8,
          "resource": "natural_gas_fired_combined_cycle"
         },
         {
          "gen": 0,
          "hour": 2415,
          "r_id": 3,
          "resource": "natural_gas_fired_combined_cycle"
         },
         {
          "gen": 0,
          "hour": 2415,
          "r_id": 4,
          "resource": "natural_gas_fired_combined_cycle"
         },
         {
          "gen": 0,
          "hour": 2415,
          "r_id": 5,
          "resource": "natural_gas_fired_combined_cycle"
         },
         {
          "gen": 0,
          "hour": 2415,
          "r_id": 6,
          "resource": "natural_gas_fired_combined_cycle"
         },
         {
          "gen": 0,
          "hour": 2415,
          "r_id": 7,
          "resource": "natural_gas_fired_combined_cycle"
         },
         {
          "gen": 0,
          "hour": 2415,
          "r_id": 8,
          "resource": "natural_gas_fired_combined_cycle"
         },
         {
          "gen": -0.9508999999999972,
          "hour": 2416,
          "r_id": 3,
          "resource": "natural_gas_fired_combined_cycle"
         },
         {
          "gen": 0,
          "hour": 2416,
          "r_id": 4,
          "resource": "natural_gas_fired_combined_cycle"
         },
         {
          "gen": 0,
          "hour": 2416,
          "r_id": 5,
          "resource": "natural_gas_fired_combined_cycle"
         },
         {
          "gen": 0,
          "hour": 2416,
          "r_id": 6,
          "resource": "natural_gas_fired_combined_cycle"
         },
         {
          "gen": 0,
          "hour": 2416,
          "r_id": 7,
          "resource": "natural_gas_fired_combined_cycle"
         },
         {
          "gen": 0,
          "hour": 2416,
          "r_id": 8,
          "resource": "natural_gas_fired_combined_cycle"
         },
         {
          "gen": -1.9017999999999944,
          "hour": 2417,
          "r_id": 3,
          "resource": "natural_gas_fired_combined_cycle"
         },
         {
          "gen": -2.644499999999983,
          "hour": 2417,
          "r_id": 4,
          "resource": "natural_gas_fired_combined_cycle"
         },
         {
          "gen": -4.289299999999987,
          "hour": 2417,
          "r_id": 5,
          "resource": "natural_gas_fired_combined_cycle"
         },
         {
          "gen": 0,
          "hour": 2417,
          "r_id": 6,
          "resource": "natural_gas_fired_combined_cycle"
         },
         {
          "gen": 0,
          "hour": 2417,
          "r_id": 7,
          "resource": "natural_gas_fired_combined_cycle"
         },
         {
          "gen": 0,
          "hour": 2417,
          "r_id": 8,
          "resource": "natural_gas_fired_combined_cycle"
         },
         {
          "gen": 0,
          "hour": 2418,
          "r_id": 3,
          "resource": "natural_gas_fired_combined_cycle"
         },
         {
          "gen": -8.144799999999996,
          "hour": 2418,
          "r_id": 4,
          "resource": "natural_gas_fired_combined_cycle"
         },
         {
          "gen": -8.967199999999998,
          "hour": 2418,
          "r_id": 5,
          "resource": "natural_gas_fired_combined_cycle"
         },
         {
          "gen": 0,
          "hour": 2418,
          "r_id": 6,
          "resource": "natural_gas_fired_combined_cycle"
         },
         {
          "gen": 0,
          "hour": 2418,
          "r_id": 7,
          "resource": "natural_gas_fired_combined_cycle"
         },
         {
          "gen": 0,
          "hour": 2418,
          "r_id": 8,
          "resource": "natural_gas_fired_combined_cycle"
         },
         {
          "gen": 0,
          "hour": 2419,
          "r_id": 3,
          "resource": "natural_gas_fired_combined_cycle"
         },
         {
          "gen": 0,
          "hour": 2419,
          "r_id": 4,
          "resource": "natural_gas_fired_combined_cycle"
         },
         {
          "gen": 0,
          "hour": 2419,
          "r_id": 5,
          "resource": "natural_gas_fired_combined_cycle"
         },
         {
          "gen": 0,
          "hour": 2419,
          "r_id": 6,
          "resource": "natural_gas_fired_combined_cycle"
         },
         {
          "gen": 0,
          "hour": 2419,
          "r_id": 7,
          "resource": "natural_gas_fired_combined_cycle"
         },
         {
          "gen": 0,
          "hour": 2419,
          "r_id": 8,
          "resource": "natural_gas_fired_combined_cycle"
         },
         {
          "gen": 0,
          "hour": 2420,
          "r_id": 3,
          "resource": "natural_gas_fired_combined_cycle"
         },
         {
          "gen": 0,
          "hour": 2420,
          "r_id": 4,
          "resource": "natural_gas_fired_combined_cycle"
         },
         {
          "gen": 0,
          "hour": 2420,
          "r_id": 5,
          "resource": "natural_gas_fired_combined_cycle"
         },
         {
          "gen": 0,
          "hour": 2420,
          "r_id": 6,
          "resource": "natural_gas_fired_combined_cycle"
         },
         {
          "gen": 0,
          "hour": 2420,
          "r_id": 7,
          "resource": "natural_gas_fired_combined_cycle"
         },
         {
          "gen": 0,
          "hour": 2420,
          "r_id": 8,
          "resource": "natural_gas_fired_combined_cycle"
         },
         {
          "gen": 0,
          "hour": 2421,
          "r_id": 3,
          "resource": "natural_gas_fired_combined_cycle"
         },
         {
          "gen": 0,
          "hour": 2421,
          "r_id": 4,
          "resource": "natural_gas_fired_combined_cycle"
         },
         {
          "gen": 0,
          "hour": 2421,
          "r_id": 5,
          "resource": "natural_gas_fired_combined_cycle"
         },
         {
          "gen": 0,
          "hour": 2421,
          "r_id": 6,
          "resource": "natural_gas_fired_combined_cycle"
         },
         {
          "gen": 0,
          "hour": 2421,
          "r_id": 7,
          "resource": "natural_gas_fired_combined_cycle"
         },
         {
          "gen": 0,
          "hour": 2421,
          "r_id": 8,
          "resource": "natural_gas_fired_combined_cycle"
         },
         {
          "gen": 0,
          "hour": 2422,
          "r_id": 3,
          "resource": "natural_gas_fired_combined_cycle"
         },
         {
          "gen": 0,
          "hour": 2422,
          "r_id": 4,
          "resource": "natural_gas_fired_combined_cycle"
         },
         {
          "gen": 0,
          "hour": 2422,
          "r_id": 5,
          "resource": "natural_gas_fired_combined_cycle"
         },
         {
          "gen": 0,
          "hour": 2422,
          "r_id": 6,
          "resource": "natural_gas_fired_combined_cycle"
         },
         {
          "gen": 0,
          "hour": 2422,
          "r_id": 7,
          "resource": "natural_gas_fired_combined_cycle"
         },
         {
          "gen": 0,
          "hour": 2422,
          "r_id": 8,
          "resource": "natural_gas_fired_combined_cycle"
         },
         {
          "gen": 0,
          "hour": 2423,
          "r_id": 3,
          "resource": "natural_gas_fired_combined_cycle"
         },
         {
          "gen": 0,
          "hour": 2423,
          "r_id": 4,
          "resource": "natural_gas_fired_combined_cycle"
         },
         {
          "gen": 0,
          "hour": 2423,
          "r_id": 5,
          "resource": "natural_gas_fired_combined_cycle"
         },
         {
          "gen": 0,
          "hour": 2423,
          "r_id": 6,
          "resource": "natural_gas_fired_combined_cycle"
         },
         {
          "gen": 0,
          "hour": 2423,
          "r_id": 7,
          "resource": "natural_gas_fired_combined_cycle"
         },
         {
          "gen": 0,
          "hour": 2423,
          "r_id": 8,
          "resource": "natural_gas_fired_combined_cycle"
         }
        ]
       },
       "encoding": {
        "color": {
         "field": "r_id",
         "scale": {
          "scheme": "category20"
         },
         "type": "nominal"
        },
        "x": {
         "field": "hour",
         "type": "quantitative"
        },
        "y": {
         "field": "gen",
         "title": "Marginal",
         "type": "quantitative"
        }
       },
       "mark": "line"
      },
      "image/png": "[encoded data removed]",
      "image/svg+xml": [
       "<?xml version=\"1.0\" encoding=\"utf-8\"?>\n",
       "<!DOCTYPE svg PUBLIC \"-//W3C//DTD SVG 1.1//EN\" \"http://www.w3.org/Graphics/SVG/1.1/DTD/svg11.dtd\">\n",
       "<svg xmlns=\"http://www.w3.org/2000/svg\" xmlns:xlink=\"http://www.w3.org/1999/xlink\" version=\"1.1\" class=\"marks\" width=\"284\" height=\"247\" viewBox=\"0 0 284 247\"><rect width=\"284\" height=\"247\" fill=\"white\"/><g fill=\"none\" stroke-miterlimit=\"10\" transform=\"translate(39,10)\"><g class=\"mark-group role-frame root\" role=\"graphics-object\" aria-roledescription=\"group mark container\"><g transform=\"translate(0,0)\"><path class=\"background\" aria-hidden=\"true\" d=\"M0.5,0.5h200v200h-200Z\" stroke=\"#ddd\"/><g><g class=\"mark-group role-axis\" aria-hidden=\"true\"><g transform=\"translate(0.5,200.5)\"><path class=\"background\" aria-hidden=\"true\" d=\"M0,0h0v0h0Z\" pointer-events=\"none\"/><g><g class=\"mark-rule role-axis-grid\" pointer-events=\"none\"><line transform=\"translate(0,-200)\" x2=\"0\" y2=\"200\" stroke=\"#ddd\" stroke-width=\"1\" opacity=\"1\"/><line transform=\"translate(42,-200)\" x2=\"0\" y2=\"200\" stroke=\"#ddd\" stroke-width=\"1\" opacity=\"1\"/><line transform=\"translate(83,-200)\" x2=\"0\" y2=\"200\" stroke=\"#ddd\" stroke-width=\"1\" opacity=\"1\"/><line transform=\"translate(125,-200)\" x2=\"0\" y2=\"200\" stroke=\"#ddd\" stroke-width=\"1\" opacity=\"1\"/><line transform=\"translate(167,-200)\" x2=\"0\" y2=\"200\" stroke=\"#ddd\" stroke-width=\"1\" opacity=\"1\"/></g></g><path class=\"foreground\" aria-hidden=\"true\" d=\"\" pointer-events=\"none\" display=\"none\"/></g></g><g class=\"mark-group role-axis\" aria-hidden=\"true\"><g transform=\"translate(0.5,0.5)\"><path class=\"background\" aria-hidden=\"true\" d=\"M0,0h0v0h0Z\" pointer-events=\"none\"/><g><g class=\"mark-rule role-axis-grid\" pointer-events=\"none\"><line transform=\"translate(0,178)\" x2=\"200\" y2=\"0\" stroke=\"#ddd\" stroke-width=\"1\" opacity=\"1\"/><line transform=\"translate(0,133)\" x2=\"200\" y2=\"0\" stroke=\"#ddd\" stroke-width=\"1\" opacity=\"1\"/><line transform=\"translate(0,89)\" x2=\"200\" y2=\"0\" stroke=\"#ddd\" stroke-width=\"1\" opacity=\"1\"/><line transform=\"translate(0,44)\" x2=\"200\" y2=\"0\" stroke=\"#ddd\" stroke-width=\"1\" opacity=\"1\"/><line transform=\"translate(0,0)\" x2=\"200\" y2=\"0\" stroke=\"#ddd\" stroke-width=\"1\" opacity=\"1\"/></g></g><path class=\"foreground\" aria-hidden=\"true\" d=\"\" pointer-events=\"none\" display=\"none\"/></g></g><g class=\"mark-group role-axis\" role=\"graphics-symbol\" aria-roledescription=\"axis\" aria-label=\"X-axis titled 'hour' for a linear scale with values from 2,400 to 2,424\"><g transform=\"translate(0.5,200.5)\"><path class=\"background\" aria-hidden=\"true\" d=\"M0,0h0v0h0Z\" pointer-events=\"none\"/><g><g class=\"mark-rule role-axis-tick\" pointer-events=\"none\"><line transform=\"translate(0,0)\" x2=\"0\" y2=\"5\" stroke=\"#888\" stroke-width=\"1\" opacity=\"1\"/><line transform=\"translate(42,0)\" x2=\"0\" y2=\"5\" stroke=\"#888\" stroke-width=\"1\" opacity=\"1\"/><line transform=\"translate(83,0)\" x2=\"0\" y2=\"5\" stroke=\"#888\" stroke-width=\"1\" opacity=\"1\"/><line transform=\"translate(125,0)\" x2=\"0\" y2=\"5\" stroke=\"#888\" stroke-width=\"1\" opacity=\"1\"/><line transform=\"translate(167,0)\" x2=\"0\" y2=\"5\" stroke=\"#888\" stroke-width=\"1\" opacity=\"1\"/></g><g class=\"mark-text role-axis-label\" pointer-events=\"none\"><text text-anchor=\"start\" transform=\"translate(0,15)\" font-family=\"sans-serif\" font-size=\"10px\" fill=\"#000\" opacity=\"1\">2,400</text><text text-anchor=\"middle\" transform=\"translate(41.66666666666667,15)\" font-family=\"sans-serif\" font-size=\"10px\" fill=\"#000\" opacity=\"1\">2,405</text><text text-anchor=\"middle\" transform=\"translate(83.33333333333334,15)\" font-family=\"sans-serif\" font-size=\"10px\" fill=\"#000\" opacity=\"1\">2,410</text><text text-anchor=\"middle\" transform=\"translate(125,15)\" font-family=\"sans-serif\" font-size=\"10px\" fill=\"#000\" opacity=\"1\">2,415</text><text text-anchor=\"middle\" transform=\"translate(166.66666666666669,15)\" font-family=\"sans-serif\" font-size=\"10px\" fill=\"#000\" opacity=\"1\">2,420</text></g><g class=\"mark-rule role-axis-domain\" pointer-events=\"none\"><line transform=\"translate(0,0)\" x2=\"200\" y2=\"0\" stroke=\"#888\" stroke-width=\"1\" opacity=\"1\"/></g><g class=\"mark-text role-axis-title\" pointer-events=\"none\"><text text-anchor=\"middle\" transform=\"translate(100,30)\" font-family=\"sans-serif\" font-size=\"11px\" font-weight=\"bold\" fill=\"#000\" opacity=\"1\">hour</text></g></g><path class=\"foreground\" aria-hidden=\"true\" d=\"\" pointer-events=\"none\" display=\"none\"/></g></g><g class=\"mark-group role-axis\" role=\"graphics-symbol\" aria-roledescription=\"axis\" aria-label=\"Y-axis titled 'Marginal' for a linear scale with values from −9 to 0\"><g transform=\"translate(0.5,0.5)\"><path class=\"background\" aria-hidden=\"true\" d=\"M0,0h0v0h0Z\" pointer-events=\"none\"/><g><g class=\"mark-rule role-axis-tick\" pointer-events=\"none\"><line transform=\"translate(0,178)\" x2=\"-5\" y2=\"0\" stroke=\"#888\" stroke-width=\"1\" opacity=\"1\"/><line transform=\"translate(0,133)\" x2=\"-5\" y2=\"0\" stroke=\"#888\" stroke-width=\"1\" opacity=\"1\"/><line transform=\"translate(0,89)\" x2=\"-5\" y2=\"0\" stroke=\"#888\" stroke-width=\"1\" opacity=\"1\"/><line transform=\"translate(0,44)\" x2=\"-5\" y2=\"0\" stroke=\"#888\" stroke-width=\"1\" opacity=\"1\"/><line transform=\"translate(0,0)\" x2=\"-5\" y2=\"0\" stroke=\"#888\" stroke-width=\"1\" opacity=\"1\"/></g><g class=\"mark-text role-axis-label\" pointer-events=\"none\"><text text-anchor=\"end\" transform=\"translate(-7,180.77777777777777)\" font-family=\"sans-serif\" font-size=\"10px\" fill=\"#000\" opacity=\"1\">−8</text><text text-anchor=\"end\" transform=\"translate(-7,136.33333333333334)\" font-family=\"sans-serif\" font-size=\"10px\" fill=\"#000\" opacity=\"1\">−6</text><text text-anchor=\"end\" transform=\"translate(-7,91.88888888888889)\" font-family=\"sans-serif\" font-size=\"10px\" fill=\"#000\" opacity=\"1\">−4</text><text text-anchor=\"end\" transform=\"translate(-7,47.44444444444444)\" font-family=\"sans-serif\" font-size=\"10px\" fill=\"#000\" opacity=\"1\">−2</text><text text-anchor=\"end\" transform=\"translate(-7,3)\" font-family=\"sans-serif\" font-size=\"10px\" fill=\"#000\" opacity=\"1\">0</text></g><g class=\"mark-rule role-axis-domain\" pointer-events=\"none\"><line transform=\"translate(0,200)\" x2=\"0\" y2=\"-200\" stroke=\"#888\" stroke-width=\"1\" opacity=\"1\"/></g><g class=\"mark-text role-axis-title\" pointer-events=\"none\"><text text-anchor=\"middle\" transform=\"translate(-23,100) rotate(-90) translate(0,-2)\" font-family=\"sans-serif\" font-size=\"11px\" font-weight=\"bold\" fill=\"#000\" opacity=\"1\">Marginal</text></g></g><path class=\"foreground\" aria-hidden=\"true\" d=\"\" pointer-events=\"none\" display=\"none\"/></g></g><g class=\"mark-group role-scope pathgroup\" role=\"graphics-object\" aria-roledescription=\"group mark container\"><g transform=\"translate(0,0)\"><path class=\"background\" aria-hidden=\"true\" d=\"M0,0h200v200h-200Z\"/><g><g class=\"mark-line role-mark marks\" role=\"graphics-object\" aria-roledescription=\"line mark container\"><path aria-label=\"hour: 2401; Marginal: 0; r_id: 3\" role=\"graphics-symbol\" aria-roledescription=\"line mark\" d=\"M8.333333333333332,0L16.666666666666664,0L25,0L33.33333333333333,0L41.66666666666667,0L50,0L58.333333333333336,0L66.66666666666666,0L75,0L83.33333333333334,0L91.66666666666666,0L100,0L108.33333333333333,0L116.66666666666667,0L125,0L133.33333333333331,21.131111111111057L141.66666666666669,42.26222222222209L150,0L158.33333333333331,0L166.66666666666669,0L175,0L183.33333333333331,0L191.66666666666669,0\" stroke=\"#1f77b4\" stroke-width=\"2\"/></g></g><path class=\"foreground\" aria-hidden=\"true\" d=\"\" display=\"none\"/></g><g transform=\"translate(0,0)\"><path class=\"background\" aria-hidden=\"true\" d=\"M0,0h200v200h-200Z\"/><g><g class=\"mark-line role-mark marks\" role=\"graphics-object\" aria-roledescription=\"line mark container\"><path aria-label=\"hour: 2401; Marginal: 0; r_id: 4\" role=\"graphics-symbol\" aria-roledescription=\"line mark\" d=\"M8.333333333333332,0L16.666666666666664,0L25,0L33.33333333333333,0L41.66666666666667,0L50,0L58.333333333333336,0L66.66666666666666,0L75,0L83.33333333333334,0L91.66666666666666,0L100,0L108.33333333333333,0L116.66666666666667,0L125,0L133.33333333333331,0L141.66666666666669,58.76666666666628L150,180.99555555555548L158.33333333333331,0L166.66666666666669,0L175,0L183.33333333333331,0L191.66666666666669,0\" stroke=\"#aec7e8\" stroke-width=\"2\"/></g></g><path class=\"foreground\" aria-hidden=\"true\" d=\"\" display=\"none\"/></g><g transform=\"translate(0,0)\"><path class=\"background\" aria-hidden=\"true\" d=\"M0,0h200v200h-200Z\"/><g><g class=\"mark-line role-mark marks\" role=\"graphics-object\" aria-roledescription=\"line mark container\"><path aria-label=\"hour: 2401; Marginal: 0; r_id: 5\" role=\"graphics-symbol\" aria-roledescription=\"line mark\" d=\"M8.333333333333332,0L16.666666666666664,0L25,0L33.33333333333333,0L41.66666666666667,0L50,0L58.333333333333336,0L66.66666666666666,0L75,0L83.33333333333334,0L91.66666666666666,0L100,0L108.33333333333333,0L116.66666666666667,0L125,0L133.33333333333331,0L141.66666666666669,95.31777777777748L150,199.27111111111105L158.33333333333331,0L166.66666666666669,0L175,0L183.33333333333331,0L191.66666666666669,0\" stroke=\"#ff7f0e\" stroke-width=\"2\"/></g></g><path class=\"foreground\" aria-hidden=\"true\" d=\"\" display=\"none\"/></g><g transform=\"translate(0,0)\"><path class=\"background\" aria-hidden=\"true\" d=\"M0,0h200v200h-200Z\"/><g><g class=\"mark-line role-mark marks\" role=\"graphics-object\" aria-roledescription=\"line mark container\"><path aria-label=\"hour: 2401; Marginal: 0; r_id: 6\" role=\"graphics-symbol\" aria-roledescription=\"line mark\" d=\"M8.333333333333332,0L16.666666666666664,0L25,0L33.33333333333333,0L41.66666666666667,0L50,0L58.333333333333336,0L66.66666666666666,0L75,0L83.33333333333334,0L91.66666666666666,0L100,0L108.33333333333333,0L116.66666666666667,0L125,0L133.33333333333331,0L141.66666666666669,0L150,0L158.33333333333331,0L166.66666666666669,0L175,0L183.33333333333331,0L191.66666666666669,0\" stroke=\"#ffbb78\" stroke-width=\"2\"/></g></g><path class=\"foreground\" aria-hidden=\"true\" d=\"\" display=\"none\"/></g><g transform=\"translate(0,0)\"><path class=\"background\" aria-hidden=\"true\" d=\"M0,0h200v200h-200Z\"/><g><g class=\"mark-line role-mark marks\" role=\"graphics-object\" aria-roledescription=\"line mark container\"><path aria-label=\"hour: 2401; Marginal: 0; r_id: 7\" role=\"graphics-symbol\" aria-roledescription=\"line mark\" d=\"M8.333333333333332,0L16.666666666666664,0L25,0L33.33333333333333,0L41.66666666666667,0L50,0L58.333333333333336,0L66.66666666666666,0L75,0L83.33333333333334,0L91.66666666666666,0L100,0L108.33333333333333,0L116.66666666666667,0L125,0L133.33333333333331,0L141.66666666666669,0L150,0L158.33333333333331,0L166.66666666666669,0L175,0L183.33333333333331,0L191.66666666666669,0\" stroke=\"#2ca02c\" stroke-width=\"2\"/></g></g><path class=\"foreground\" aria-hidden=\"true\" d=\"\" display=\"none\"/></g><g transform=\"translate(0,0)\"><path class=\"background\" aria-hidden=\"true\" d=\"M0,0h200v200h-200Z\"/><g><g class=\"mark-line role-mark marks\" role=\"graphics-object\" aria-roledescription=\"line mark container\"><path aria-label=\"hour: 2401; Marginal: 0; r_id: 8\" role=\"graphics-symbol\" aria-roledescription=\"line mark\" d=\"M8.333333333333332,0L16.666666666666664,0L25,0L33.33333333333333,0L41.66666666666667,0L50,0L58.333333333333336,0L66.66666666666666,0L75,0L83.33333333333334,0L91.66666666666666,0L100,0L108.33333333333333,0L116.66666666666667,0L125,0L133.33333333333331,0L141.66666666666669,0L150,0L158.33333333333331,0L166.66666666666669,0L175,0L183.33333333333331,0L191.66666666666669,0\" stroke=\"#98df8a\" stroke-width=\"2\"/></g></g><path class=\"foreground\" aria-hidden=\"true\" d=\"\" display=\"none\"/></g></g><g class=\"mark-group role-legend\" role=\"graphics-symbol\" aria-roledescription=\"legend\" aria-label=\"Symbol legend titled 'r_id' for stroke color with 6 values: 3, 4, 5, 6, 7, 8\"><g transform=\"translate(218,0)\"><path class=\"background\" aria-hidden=\"true\" d=\"M0,0h22v92h-22Z\" pointer-events=\"none\"/><g><g class=\"mark-group role-legend-entry\"><g transform=\"translate(0,16)\"><path class=\"background\" aria-hidden=\"true\" d=\"M0,0h0v0h0Z\" pointer-events=\"none\"/><g><g class=\"mark-group role-scope\" role=\"graphics-object\" aria-roledescription=\"group mark container\"><g transform=\"translate(0,0)\"><path class=\"background\" aria-hidden=\"true\" d=\"M0,0h22v11h-22Z\" pointer-events=\"none\" opacity=\"1\"/><g><g class=\"mark-symbol role-legend-symbol\" pointer-events=\"none\"><path transform=\"translate(6,6)\" d=\"M-5,0L5,0\" stroke=\"#1f77b4\" stroke-width=\"1.5\" opacity=\"1\"/></g><g class=\"mark-text role-legend-label\" pointer-events=\"none\"><text text-anchor=\"start\" transform=\"translate(16,9)\" font-family=\"sans-serif\" font-size=\"10px\" fill=\"#000\" opacity=\"1\">3</text></g></g><path class=\"foreground\" aria-hidden=\"true\" d=\"\" pointer-events=\"none\" display=\"none\"/></g><g transform=\"translate(0,13)\"><path class=\"background\" aria-hidden=\"true\" d=\"M0,0h22v11h-22Z\" pointer-events=\"none\" opacity=\"1\"/><g><g class=\"mark-symbol role-legend-symbol\" pointer-events=\"none\"><path transform=\"translate(6,6)\" d=\"M-5,0L5,0\" stroke=\"#aec7e8\" stroke-width=\"1.5\" opacity=\"1\"/></g><g class=\"mark-text role-legend-label\" pointer-events=\"none\"><text text-anchor=\"start\" transform=\"translate(16,9)\" font-family=\"sans-serif\" font-size=\"10px\" fill=\"#000\" opacity=\"1\">4</text></g></g><path class=\"foreground\" aria-hidden=\"true\" d=\"\" pointer-events=\"none\" display=\"none\"/></g><g transform=\"translate(0,26)\"><path class=\"background\" aria-hidden=\"true\" d=\"M0,0h22v11h-22Z\" pointer-events=\"none\" opacity=\"1\"/><g><g class=\"mark-symbol role-legend-symbol\" pointer-events=\"none\"><path transform=\"translate(6,6)\" d=\"M-5,0L5,0\" stroke=\"#ff7f0e\" stroke-width=\"1.5\" opacity=\"1\"/></g><g class=\"mark-text role-legend-label\" pointer-events=\"none\"><text text-anchor=\"start\" transform=\"translate(16,9)\" font-family=\"sans-serif\" font-size=\"10px\" fill=\"#000\" opacity=\"1\">5</text></g></g><path class=\"foreground\" aria-hidden=\"true\" d=\"\" pointer-events=\"none\" display=\"none\"/></g><g transform=\"translate(0,39)\"><path class=\"background\" aria-hidden=\"true\" d=\"M0,0h22v11h-22Z\" pointer-events=\"none\" opacity=\"1\"/><g><g class=\"mark-symbol role-legend-symbol\" pointer-events=\"none\"><path transform=\"translate(6,6)\" d=\"M-5,0L5,0\" stroke=\"#ffbb78\" stroke-width=\"1.5\" opacity=\"1\"/></g><g class=\"mark-text role-legend-label\" pointer-events=\"none\"><text text-anchor=\"start\" transform=\"translate(16,9)\" font-family=\"sans-serif\" font-size=\"10px\" fill=\"#000\" opacity=\"1\">6</text></g></g><path class=\"foreground\" aria-hidden=\"true\" d=\"\" pointer-events=\"none\" display=\"none\"/></g><g transform=\"translate(0,52)\"><path class=\"background\" aria-hidden=\"true\" d=\"M0,0h22v11h-22Z\" pointer-events=\"none\" opacity=\"1\"/><g><g class=\"mark-symbol role-legend-symbol\" pointer-events=\"none\"><path transform=\"translate(6,6)\" d=\"M-5,0L5,0\" stroke=\"#2ca02c\" stroke-width=\"1.5\" opacity=\"1\"/></g><g class=\"mark-text role-legend-label\" pointer-events=\"none\"><text text-anchor=\"start\" transform=\"translate(16,9)\" font-family=\"sans-serif\" font-size=\"10px\" fill=\"#000\" opacity=\"1\">7</text></g></g><path class=\"foreground\" aria-hidden=\"true\" d=\"\" pointer-events=\"none\" display=\"none\"/></g><g transform=\"translate(0,65)\"><path class=\"background\" aria-hidden=\"true\" d=\"M0,0h22v11h-22Z\" pointer-events=\"none\" opacity=\"1\"/><g><g class=\"mark-symbol role-legend-symbol\" pointer-events=\"none\"><path transform=\"translate(6,6)\" d=\"M-5,0L5,0\" stroke=\"#98df8a\" stroke-width=\"1.5\" opacity=\"1\"/></g><g class=\"mark-text role-legend-label\" pointer-events=\"none\"><text text-anchor=\"start\" transform=\"translate(16,9)\" font-family=\"sans-serif\" font-size=\"10px\" fill=\"#000\" opacity=\"1\">8</text></g></g><path class=\"foreground\" aria-hidden=\"true\" d=\"\" pointer-events=\"none\" display=\"none\"/></g></g></g><path class=\"foreground\" aria-hidden=\"true\" d=\"\" pointer-events=\"none\" display=\"none\"/></g></g><g class=\"mark-text role-legend-title\" pointer-events=\"none\"><text text-anchor=\"start\" transform=\"translate(0,9)\" font-family=\"sans-serif\" font-size=\"11px\" font-weight=\"bold\" fill=\"#000\" opacity=\"1\">r_id</text></g></g><path class=\"foreground\" aria-hidden=\"true\" d=\"\" pointer-events=\"none\" display=\"none\"/></g></g></g><path class=\"foreground\" aria-hidden=\"true\" d=\"\" display=\"none\"/></g></g></g></svg>\n"
      ],
      "text/plain": [
       "@vlplot(\n",
       "    mark=\"line\",\n",
       "    encoding={\n",
       "        x={\n",
       "            field=\"hour\"\n",
       "        },\n",
       "        y={\n",
       "            title=\"Marginal\",\n",
       "            field=\"gen\"\n",
       "        },\n",
       "        color={\n",
       "            scale={\n",
       "                scheme=\"category20\"\n",
       "            },\n",
       "            field=\"r_id\",\n",
       "            type=\"nominal\"\n",
       "        }\n",
       "    },\n",
       "    data={\n",
       "        values=...\n",
       "    }\n",
       ")"
      ]
     },
     "execution_count": 39,
     "metadata": {},
     "output_type": "execute_result"
    }
   ],
   "source": [
    "marg_gen = innerjoin(solution.marginals, \n",
    "                    gen_df[!, [:r_id, :resource]], \n",
    "                    on = :r_id)\n",
    "marg_gen[marg_gen.resource .== \"natural_gas_fired_combined_cycle\",:] |>\n",
    "@vlplot(:line, \n",
    "    x=:hour, y={:gen, title=\"Marginal\"}, \n",
    "    color={\"r_id:n\", scale={scheme=\"category20\"}})\n"
   ]
  },
  {
   "cell_type": "markdown",
   "metadata": {},
   "source": [
    "Thus, during the ramp hours, the marginal value becomes negative&mdash;in this case, reaching ~ -9 for the combined cycle plant with `r_id=5`. This is the interpretation:\n",
    "\n",
    "**If the RHS of the RampUp constraint for `r_id=5` combined cycle plant were increased by 1 unit, the problem objective would reduce by about 9.** \n",
    "\n",
    "The precise value of the largest magnitude ramp marginal is:"
   ]
  },
  {
   "cell_type": "code",
   "execution_count": 40,
   "metadata": {},
   "outputs": [
    {
     "data": {
      "text/html": [
       "<p>DataFrameRow (4 columns)</p><div class=\"data-frame\"><table class=\"data-frame\"><thead><tr><th></th><th>r_id</th><th>hour</th><th>gen</th><th>resource</th></tr><tr><th></th><th title=\"Union{Missing, Int64}\">Int64?</th><th title=\"Int64\">Int64</th><th title=\"Float64\">Float64</th><th title=\"Union{Missing, String}\">String?</th></tr></thead><tbody><tr><th>430</th><td>5</td><td>2418</td><td>-8.9672</td><td>natural_gas_fired_combined_cycle</td></tr></tbody></table></div>"
      ],
      "text/latex": [
       "\\begin{tabular}{r|cccc}\n",
       "\t& r\\_id & hour & gen & resource\\\\\n",
       "\t\\hline\n",
       "\t& Int64? & Int64 & Float64 & String?\\\\\n",
       "\t\\hline\n",
       "\t430 & 5 & 2418 & -8.9672 & natural\\_gas\\_fired\\_combined\\_cycle \\\\\n",
       "\\end{tabular}\n"
      ],
      "text/plain": [
       "\u001b[1mDataFrameRow\u001b[0m\n",
       "\u001b[1m Row \u001b[0m│\u001b[1m r_id   \u001b[0m\u001b[1m hour  \u001b[0m\u001b[1m gen     \u001b[0m\u001b[1m resource                         \u001b[0m\n",
       "\u001b[1m     \u001b[0m│\u001b[90m Int64? \u001b[0m\u001b[90m Int64 \u001b[0m\u001b[90m Float64 \u001b[0m\u001b[90m String?                          \u001b[0m\n",
       "─────┼──────────────────────────────────────────────────────────\n",
       " 430 │      5   2418  -8.9672  natural_gas_fired_combined_cycle"
      ]
     },
     "execution_count": 40,
     "metadata": {},
     "output_type": "execute_result"
    }
   ],
   "source": [
    "marg_gen[argmin(marg_gen.gen),:]"
   ]
  },
  {
   "cell_type": "markdown",
   "metadata": {},
   "source": [
    "**Why is this the case?** Due to the ramp constraint, we have to substitute some generation from `r_id=5` with a more expensive unit, in this case the more flexible `r_id=9` combustion turbine. \n",
    "\n",
    "We can, in fact, recover this marginal value by re-examining the variable costs of these generators at the top of the notebook:"
   ]
  },
  {
   "cell_type": "code",
   "execution_count": 41,
   "metadata": {},
   "outputs": [
    {
     "data": {
      "text/html": [
       "<div class=\"data-frame\"><p>2 rows × 2 columns</p><table class=\"data-frame\"><thead><tr><th></th><th>r_id</th><th>varcost</th></tr><tr><th></th><th title=\"Union{Missing, Int64}\">Int64?</th><th title=\"Float64\">Float64</th></tr></thead><tbody><tr><th>1</th><td>5</td><td>29.3061</td></tr><tr><th>2</th><td>9</td><td>38.2733</td></tr></tbody></table></div>"
      ],
      "text/latex": [
       "\\begin{tabular}{r|cc}\n",
       "\t& r\\_id & varcost\\\\\n",
       "\t\\hline\n",
       "\t& Int64? & Float64\\\\\n",
       "\t\\hline\n",
       "\t1 & 5 & 29.3061 \\\\\n",
       "\t2 & 9 & 38.2733 \\\\\n",
       "\\end{tabular}\n"
      ],
      "text/plain": [
       "\u001b[1m2×2 DataFrame\u001b[0m\n",
       "\u001b[1m Row \u001b[0m│\u001b[1m r_id   \u001b[0m\u001b[1m varcost \u001b[0m\n",
       "\u001b[1m     \u001b[0m│\u001b[90m Int64? \u001b[0m\u001b[90m Float64 \u001b[0m\n",
       "─────┼─────────────────\n",
       "   1 │      5  29.3061\n",
       "   2 │      9  38.2733"
      ]
     },
     "execution_count": 41,
     "metadata": {},
     "output_type": "execute_result"
    }
   ],
   "source": [
    "varcost_comp = supply_curve[in.(supply_curve.r_id,Ref([5,9])),[:r_id,:varcost]]\n",
    "varcost_comp"
   ]
  },
  {
   "cell_type": "markdown",
   "metadata": {},
   "source": [
    "If our guess is true, the difference between these should be our marginal value, and voila:"
   ]
  },
  {
   "cell_type": "code",
   "execution_count": 42,
   "metadata": {},
   "outputs": [
    {
     "data": {
      "text/plain": [
       "8.967199999999998"
      ]
     },
     "execution_count": 42,
     "metadata": {},
     "output_type": "execute_result"
    }
   ],
   "source": [
    "varcost_comp[2,2] - varcost_comp[1,2]"
   ]
  },
  {
   "cell_type": "markdown",
   "metadata": {},
   "source": [
    "Also notice that the marginals are zero for most of the day. Recalling from Notebook 1 our discussion on \"binding\" constraints, this is because the RampUp constraint is **not binding** during these hours. Alternatively, changing the RHS of the RampUp constraint does not affect the problem objective."
   ]
  }
 ],
 "metadata": {
  "@webio": {
   "lastCommId": null,
   "lastKernelId": null
  },
  "kernelspec": {
   "display_name": "Julia 1.8.1",
   "language": "julia",
   "name": "julia-1.8"
  },
  "language_info": {
   "file_extension": ".jl",
   "mimetype": "application/julia",
   "name": "julia",
   "version": "1.8.1"
  }
 },
 "nbformat": 4,
 "nbformat_minor": 2
}
